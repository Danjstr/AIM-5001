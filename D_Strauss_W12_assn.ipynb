{
  "nbformat": 4,
  "nbformat_minor": 0,
  "metadata": {
    "colab": {
      "name": "D_Strauss_W12_assn.ipynb",
      "provenance": [],
      "authorship_tag": "ABX9TyP1Hql7+dViVNB9jX0NyzSK",
      "include_colab_link": true
    },
    "kernelspec": {
      "name": "python3",
      "display_name": "Python 3"
    }
  },
  "cells": [
    {
      "cell_type": "markdown",
      "metadata": {
        "id": "view-in-github",
        "colab_type": "text"
      },
      "source": [
        "<a href=\"https://colab.research.google.com/github/Danjstr/AIM-5001/blob/master/D_Strauss_W12_assn.ipynb\" target=\"_parent\"><img src=\"https://colab.research.google.com/assets/colab-badge.svg\" alt=\"Open In Colab\"/></a>"
      ]
    },
    {
      "cell_type": "code",
      "metadata": {
        "id": "sbZMtK_nO4Ms"
      },
      "source": [
        "# import pandas\n",
        "import pandas as pd"
      ],
      "execution_count": null,
      "outputs": []
    },
    {
      "cell_type": "markdown",
      "metadata": {
        "id": "u908futUPQ0l"
      },
      "source": [
        "[\n",
        "  {\n",
        "    \"title\": \"Python Crash Course, 2nd Edition\",\n",
        "    \"authors\": [\"Eric Matthes\"],\n",
        "    \"price\": 39.95,\n",
        "    \"discount_price\": 23.99,\n",
        "    \"publish_date\": \"May 21, 2019\"\n",
        "  },\n",
        "  {\n",
        "    \"title\": \"Hands-On Machine Learning with Scikit-Learn, Keras, and TensorFlow\",\n",
        "    \"authors\": [\"Aurélien Géron\"],\n",
        "    \"price\": 63.99,\n",
        "    \"discount_price\": 37.49,\n",
        "    \"publish_date\": \"Sep 5, 2019\"\n",
        "  },\n",
        "  {\n",
        "    \"title\": \"Software Engineering at Google\",\n",
        "    \"authors\": [\"Titus Winters\", \"Tom Manshreck\", \"Hyrum Wright\"],\n",
        "    \"price\": 50.99,\n",
        "    \"discount_price\": 34.25,\n",
        "    \"publish_date\": \"Feb 28, 2020\"\n",
        "  }\n",
        "]"
      ]
    },
    {
      "cell_type": "markdown",
      "metadata": {
        "id": "khAO9bMsWKxC"
      },
      "source": [
        "JSON"
      ]
    },
    {
      "cell_type": "code",
      "metadata": {
        "id": "PEain8urPFt7"
      },
      "source": [
        "# load json file, transfer to pandas data frame\n",
        "json_df = pd.read_json(\"https://raw.githubusercontent.com/Yuehao-Wang/AIM-5001/master/data/W12_Json.json\")\n",
        "json_df"
      ],
      "execution_count": null,
      "outputs": []
    },
    {
      "cell_type": "markdown",
      "metadata": {
        "id": "9KNE624yU-fA"
      },
      "source": [
        "In the dataframe, there is a list of [Titus Winters, Tom Manshreck, Hyrum Wright]. I will convert list to string.\n",
        "\n",
        "For example:\n",
        "\n",
        "[Titus Winters, Tom Manshreck, Hyrum Wright]\n",
        "\n",
        "convert to\n",
        "\n",
        "Titus Winters, Tom Manshreck, Hyrum Wright"
      ]
    },
    {
      "cell_type": "code",
      "metadata": {
        "id": "FRpauNU1U4Jk"
      },
      "source": [
        "# True if x % 2 == 0 else False\n",
        "def convert_lst_to_str(s):\n",
        "    if isinstance(s, list):\n",
        "        return ', '.join(s)\n",
        "    else:\n",
        "        return s\n",
        "\n",
        "json_df['authors'] = json_df['authors'].apply(lambda x: convert_lst_to_str(x))\n",
        "json_df"
      ],
      "execution_count": null,
      "outputs": []
    },
    {
      "cell_type": "markdown",
      "metadata": {
        "id": "Cy-Pc93wVTFa"
      },
      "source": [
        "<table>\n",
        "<thead>\n",
        "<tr>\n",
        "<td>title</td>\n",
        "<td>authors</td>\n",
        "<td>price</td>\n",
        "<td>discount_price</td>\n",
        "<td>publish_date</td>\n",
        "</tr>\n",
        "</thead>\n",
        "<tbody>\n",
        "<tr>\n",
        "<td>Python Crash Course, 2nd Edition</td>\n",
        "<td>Eric Matthes</td>\n",
        "<td>39.95</td>\n",
        "<td>23.99</td>\n",
        "<td>May 21, 2019</td>\n",
        "</tr>\n",
        "<tr>\n",
        "<td>Hands-On Machine Learning with Scikit-Learn, Keras, and TensorFlow</td>\n",
        "<td>Aurélien Géron</td>\n",
        "<td>63.99</td>\n",
        "<td>37.49</td>\n",
        "<td>Sep 5, 2019</td>\n",
        "</tr>\n",
        "<tr>\n",
        "<td>Software Engineering at Google</td>\n",
        "<td>Titus Winters, Tom Manshreck, Hyrum Wright</td>\n",
        "<td>50.99</td>\n",
        "<td>34.25</td>\n",
        "<td>Feb 28, 2020</td>\n",
        "</tr>\n",
        "</tbody>\n",
        "</table>"
      ]
    },
    {
      "cell_type": "markdown",
      "metadata": {
        "id": "Py5zFoLYWNnX"
      },
      "source": [
        "HTML"
      ]
    },
    {
      "cell_type": "code",
      "metadata": {
        "id": "BM4sKWQ0VIj2"
      },
      "source": [
        "# load html file, transfer to pandas data frame\n",
        "html_tables = pd.read_html(\"https://raw.githubusercontent.com/Yuehao-Wang/AIM-5001/master/data/W12_HTML.html\")\n",
        "html_tables"
      ],
      "execution_count": null,
      "outputs": []
    },
    {
      "cell_type": "code",
      "metadata": {
        "id": "O2-ju5SXVhEa"
      },
      "source": [
        "# get the 1st table\n",
        "html_df = html_tables[0]\n",
        "html_df"
      ],
      "execution_count": null,
      "outputs": []
    },
    {
      "cell_type": "markdown",
      "metadata": {
        "id": "4pJCdc6EWXRe"
      },
      "source": [
        "Xml"
      ]
    },
    {
      "cell_type": "code",
      "metadata": {
        "id": "I-89pPvdVqCf"
      },
      "source": [
        "# import urllib.request\n",
        "import urllib.request\n",
        "\n",
        "# load the objectify() function from the lxml library\n",
        "from lxml import objectify"
      ],
      "execution_count": null,
      "outputs": []
    },
    {
      "cell_type": "markdown",
      "metadata": {
        "id": "pLFxLgh1Vy-e"
      },
      "source": [
        "<?xml version=\"1.0\" encoding=\"UTF-8\" ?>\n",
        "<books>\n",
        "    <book>\n",
        "        <title>Python Crash Course, 2nd Edition</title>\n",
        "        <authors>Eric Matthes</authors>\n",
        "        <price>39.95</price>\n",
        "        <discount_price>23.99</discount_price>\n",
        "        <publish_date>May 21, 2019</publish_date>\n",
        "    </book>\n",
        "    <book>\n",
        "        <title>Hands-On Machine Learning with Scikit-Learn, Keras, and TensorFlow</title>\n",
        "        <authors>Aurélien Géron</authors>\n",
        "        <price>63.99</price>\n",
        "        <discount_price>37.49</discount_price>\n",
        "        <publish_date>Sep 5, 2019</publish_date>\n",
        "    </book>\n",
        "    <book>\n",
        "        <title>Software Engineering at Google</title>\n",
        "        <authors>Titus Winters, Tom Manshreck, Hyrum Wright</authors>\n",
        "        <price>50.99</price>\n",
        "        <discount_price>34.25</discount_price>\n",
        "        <publish_date>Feb 28, 2020</publish_date>\n",
        "    </book>\n",
        "</books>"
      ]
    },
    {
      "cell_type": "code",
      "metadata": {
        "id": "DTzSnt-_VyZ_"
      },
      "source": [
        "# open the web page containing the data set: be sure to capture the \n",
        "# header info separately from the path\n",
        "path, headers = urllib.request.urlretrieve('https://raw.githubusercontent.com/Yuehao-Wang/AIM-5001/master/data/W12_XML.xml')\n",
        "\n",
        "# objectify() is then used to parse the web page\n",
        "parsed = objectify.parse(open(path))\n",
        "\n",
        "# now get a reference to the root node of the XML file\n",
        "root = parsed.getroot()"
      ],
      "execution_count": null,
      "outputs": []
    },
    {
      "cell_type": "code",
      "metadata": {
        "id": "3xfXgxa0V9Ln"
      },
      "source": [
        "# define an empty list that will be used to store the parsed data\n",
        "data = []\n",
        "\n",
        "# root.book is a generator that we use to extract each <book>\n",
        "# element from the XML data\n",
        "for elt in root.book:\n",
        "     # for each record, create a dict of tag names (e.g., 'title')\n",
        "    el_data = {}\n",
        "    for child in elt.getchildren():\n",
        "        el_data[child.tag] = child.pyval\n",
        "        \n",
        "    data.append(el_data)"
      ],
      "execution_count": null,
      "outputs": []
    },
    {
      "cell_type": "code",
      "metadata": {
        "id": "PFHaLg1FWBTB"
      },
      "source": [
        "# now check the results\n",
        "perf = pd.DataFrame(data)\n",
        "perf.head()"
      ],
      "execution_count": null,
      "outputs": []
    },
    {
      "cell_type": "markdown",
      "metadata": {
        "id": "8ddCEZDPWd4P"
      },
      "source": [
        "API"
      ]
    },
    {
      "cell_type": "code",
      "metadata": {
        "id": "55z2xrc8WiLa"
      },
      "source": [
        "# import requests\n",
        "import requests"
      ],
      "execution_count": null,
      "outputs": []
    },
    {
      "cell_type": "markdown",
      "metadata": {
        "id": "I1WlG7XTWt4O"
      },
      "source": [
        "New York Times Movie Reviewers API\n",
        "https://api.nytimes.com/svc/movies/v2/critics/{reviewer}.json\n",
        "\n",
        "Path Parameters reviewer (required) string\n",
        "\n",
        "Reviewer name or \"all\" for all reviewers, \"full-time\" for full-time reviewers, or \"part-time\" for part-time reviewers."
      ]
    },
    {
      "cell_type": "code",
      "metadata": {
        "id": "zN00lln2WpYg"
      },
      "source": [
        "def my_nyt_movie_reviews(s = 'all'):\n",
        "    \"\"\"\n",
        "    Query new york times movie reviewers\n",
        "\n",
        "    Args:\n",
        "      s: aLL, full-time, part-time.\n",
        "\n",
        "\n",
        "    Returns:\n",
        "      json\n",
        "\n",
        "    Raises:\n",
        "      none\n",
        "\n",
        "    Sample:\n",
        "    >>> s = 'all'\n",
        "    >>> my_nyt_movie_reviews(s)\n",
        "    {'A0': 'a', 'A1': 'b'}\n",
        "    \n",
        "    >>> lst = ['a', 'b', 'c']\n",
        "    >>> makedict(lst, 10)\n",
        "    {'A0': 'a', 'A1': 'b', 'A2': 'c'}\n",
        "\n",
        "    >>> lst = []\n",
        "    >>> makedict(lst, 3)\n",
        "    {'status': 'OK',\n",
        "     'copyright': '...'\n",
        "     ...\n",
        "    }\n",
        "    \"\"\"\n",
        "    \n",
        "    # my new york times developer key\n",
        "    nyt_key = \"FjuDAqGEpWJae33FcbQBfwWG8KRswWo6\"\n",
        "\n",
        "    # url, Movie Reviews API\n",
        "    # I choose all.json. Then I add my developer key\n",
        "    url = 'https://api.nytimes.com/svc/movies/v2/critics/' + s + '.json?api-key=' + nyt_key\n",
        "\n",
        "    # sent a request\n",
        "    r = requests.get(url)\n",
        "\n",
        "    # get response and get a json data\n",
        "    json_data = r.json()\n",
        "    \n",
        "    return json_data\n",
        "\n",
        "# show\n",
        "json_data = my_nyt_movie_reviews('all')\n",
        "\n",
        "json_data"
      ],
      "execution_count": null,
      "outputs": []
    },
    {
      "cell_type": "code",
      "metadata": {
        "id": "zO2edZT9XCkE"
      },
      "source": [
        "# Transfer to pandas dataframe, and choose 4 columns\n",
        "issues = pd.DataFrame(json_data['results'], columns=['display_name', 'sort_name',\n",
        "                                     'status', 'seo_name'])\n",
        "issues"
      ],
      "execution_count": null,
      "outputs": []
    }
  ]
}