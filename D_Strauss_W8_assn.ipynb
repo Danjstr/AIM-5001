{
  "nbformat": 4,
  "nbformat_minor": 0,
  "metadata": {
    "colab": {
      "name": "D_Strauss_W8_assn.ipynb",
      "provenance": [],
      "authorship_tag": "ABX9TyPljE53FispjTpt8d8v6Fwa",
      "include_colab_link": true
    },
    "kernelspec": {
      "name": "python3",
      "display_name": "Python 3"
    }
  },
  "cells": [
    {
      "cell_type": "markdown",
      "metadata": {
        "id": "view-in-github",
        "colab_type": "text"
      },
      "source": [
        "<a href=\"https://colab.research.google.com/github/Danjstr/AIM-5001/blob/master/D_Strauss_W8_assn.ipynb\" target=\"_parent\"><img src=\"https://colab.research.google.com/assets/colab-badge.svg\" alt=\"Open In Colab\"/></a>"
      ]
    },
    {
      "cell_type": "code",
      "metadata": {
        "id": "hYz6a3X6lrAf"
      },
      "source": [
        "#Import regular expresions\n",
        "import re\n",
        "#Import Pandas as pd\n",
        "import pandas as pd\n",
        "# Save our string as text\n",
        "text ='''555-1239Moe Szyslak(636) 555-0113Burns, C. Montgomery555 -6542Rev. Timothy Lovejoy555 89 04Ned Flanders636-555-3226Simpson, Homer5553642Dr. Julius Hibbert'''"
      ],
      "execution_count": 1,
      "outputs": []
    },
    {
      "cell_type": "markdown",
      "metadata": {
        "id": "ccmei4fF8uMo"
      },
      "source": [
        "1. We are compiling the pattern of our regular expression. All names start with a Capital letter [A-Z]. Plus any other letters in the name, commas, and or periods [a-zA-Z\\s,.]+. Next, we show the results in a pandas dataframe so it is easier to read than with a normal print."
      ]
    },
    {
      "cell_type": "code",
      "metadata": {
        "id": "Nr9u_RvHmuaU",
        "outputId": "8b6bb97b-99bb-4244-f0f6-a4cf7293950e",
        "colab": {
          "base_uri": "https://localhost:8080/",
          "height": 233
        }
      },
      "source": [
        "#Compile The pattern for our regular expression.\n",
        "pattern=re.compile('[A-Z][a-zA-Z\\s\\,\\.]+')\n",
        "# First names are capitalized [A-Z]\n",
        "# We are including , and . in peoples names [a-zA-Z\\s\\,\\.]\n",
        "\n",
        "#Create the variable Simpson_char with our text passed into it with our regular expression.\n",
        "Simpson_char = pattern.findall(text)\n",
        "#Turn the result into a pandas dataframe then show it.\n",
        "Simp_char=pd.DataFrame(Simpson_char)\n",
        "Simp_char"
      ],
      "execution_count": 2,
      "outputs": [
        {
          "output_type": "execute_result",
          "data": {
            "text/html": [
              "<div>\n",
              "<style scoped>\n",
              "    .dataframe tbody tr th:only-of-type {\n",
              "        vertical-align: middle;\n",
              "    }\n",
              "\n",
              "    .dataframe tbody tr th {\n",
              "        vertical-align: top;\n",
              "    }\n",
              "\n",
              "    .dataframe thead th {\n",
              "        text-align: right;\n",
              "    }\n",
              "</style>\n",
              "<table border=\"1\" class=\"dataframe\">\n",
              "  <thead>\n",
              "    <tr style=\"text-align: right;\">\n",
              "      <th></th>\n",
              "      <th>0</th>\n",
              "    </tr>\n",
              "  </thead>\n",
              "  <tbody>\n",
              "    <tr>\n",
              "      <th>0</th>\n",
              "      <td>Moe Szyslak</td>\n",
              "    </tr>\n",
              "    <tr>\n",
              "      <th>1</th>\n",
              "      <td>Burns, C. Montgomery</td>\n",
              "    </tr>\n",
              "    <tr>\n",
              "      <th>2</th>\n",
              "      <td>Rev. Timothy Lovejoy</td>\n",
              "    </tr>\n",
              "    <tr>\n",
              "      <th>3</th>\n",
              "      <td>Ned Flanders</td>\n",
              "    </tr>\n",
              "    <tr>\n",
              "      <th>4</th>\n",
              "      <td>Simpson, Homer</td>\n",
              "    </tr>\n",
              "    <tr>\n",
              "      <th>5</th>\n",
              "      <td>Dr. Julius Hibbert</td>\n",
              "    </tr>\n",
              "  </tbody>\n",
              "</table>\n",
              "</div>"
            ],
            "text/plain": [
              "                      0\n",
              "0           Moe Szyslak\n",
              "1  Burns, C. Montgomery\n",
              "2  Rev. Timothy Lovejoy\n",
              "3          Ned Flanders\n",
              "4        Simpson, Homer\n",
              "5    Dr. Julius Hibbert"
            ]
          },
          "metadata": {
            "tags": []
          },
          "execution_count": 2
        }
      ]
    },
    {
      "cell_type": "markdown",
      "metadata": {
        "id": "9HfPEFKe9BUQ"
      },
      "source": [
        "2a. Use your regex skills to rearrange the vector so that all elements conform to the standard “firstname lastname”, preserving any titles (e.g., “Rev.”, “Dr.”, etc) or middle/second names."
      ]
    },
    {
      "cell_type": "code",
      "metadata": {
        "id": "UtDy0iaMxwX7"
      },
      "source": [
        "#I was having some difficulty with this one."
      ],
      "execution_count": 3,
      "outputs": []
    },
    {
      "cell_type": "markdown",
      "metadata": {
        "id": "CqZsAVJV9DTx"
      },
      "source": [
        "2b. We create an empty dataframe. Then pass the boolean search of if our character names contain DR. or Rev. into the first column of the dataframe. While passing the names themselves into the second column of the data frame for comparison. Then we show the results."
      ]
    },
    {
      "cell_type": "code",
      "metadata": {
        "id": "iIGa8sKyy8AP",
        "outputId": "3dfd02d9-c95c-4d94-f10f-c8bf6909d942",
        "colab": {
          "base_uri": "https://localhost:8080/",
          "height": 233
        }
      },
      "source": [
        "#Create an empty dataframe\n",
        "df = pd.DataFrame()\n",
        "#Turn our regular expression of our text into a pandas series called Titles\n",
        "Titles = pd.Series(Simpson_char)\n",
        "#Make the boolean search for contains Dr. or Rev the first column of our dataframe\n",
        "df[0]=Titles.str.contains('Dr.|Rev.')\n",
        "#Make the character the second column of the dataframe\n",
        "df[1]=Titles\n",
        "#Show them side by side\n",
        "df\n"
      ],
      "execution_count": 4,
      "outputs": [
        {
          "output_type": "execute_result",
          "data": {
            "text/html": [
              "<div>\n",
              "<style scoped>\n",
              "    .dataframe tbody tr th:only-of-type {\n",
              "        vertical-align: middle;\n",
              "    }\n",
              "\n",
              "    .dataframe tbody tr th {\n",
              "        vertical-align: top;\n",
              "    }\n",
              "\n",
              "    .dataframe thead th {\n",
              "        text-align: right;\n",
              "    }\n",
              "</style>\n",
              "<table border=\"1\" class=\"dataframe\">\n",
              "  <thead>\n",
              "    <tr style=\"text-align: right;\">\n",
              "      <th></th>\n",
              "      <th>0</th>\n",
              "      <th>1</th>\n",
              "    </tr>\n",
              "  </thead>\n",
              "  <tbody>\n",
              "    <tr>\n",
              "      <th>0</th>\n",
              "      <td>False</td>\n",
              "      <td>Moe Szyslak</td>\n",
              "    </tr>\n",
              "    <tr>\n",
              "      <th>1</th>\n",
              "      <td>False</td>\n",
              "      <td>Burns, C. Montgomery</td>\n",
              "    </tr>\n",
              "    <tr>\n",
              "      <th>2</th>\n",
              "      <td>True</td>\n",
              "      <td>Rev. Timothy Lovejoy</td>\n",
              "    </tr>\n",
              "    <tr>\n",
              "      <th>3</th>\n",
              "      <td>False</td>\n",
              "      <td>Ned Flanders</td>\n",
              "    </tr>\n",
              "    <tr>\n",
              "      <th>4</th>\n",
              "      <td>False</td>\n",
              "      <td>Simpson, Homer</td>\n",
              "    </tr>\n",
              "    <tr>\n",
              "      <th>5</th>\n",
              "      <td>True</td>\n",
              "      <td>Dr. Julius Hibbert</td>\n",
              "    </tr>\n",
              "  </tbody>\n",
              "</table>\n",
              "</div>"
            ],
            "text/plain": [
              "       0                     1\n",
              "0  False           Moe Szyslak\n",
              "1  False  Burns, C. Montgomery\n",
              "2   True  Rev. Timothy Lovejoy\n",
              "3  False          Ned Flanders\n",
              "4  False        Simpson, Homer\n",
              "5   True    Dr. Julius Hibbert"
            ]
          },
          "metadata": {
            "tags": []
          },
          "execution_count": 4
        }
      ]
    },
    {
      "cell_type": "markdown",
      "metadata": {
        "id": "Jrjp3yn-9F3L"
      },
      "source": [
        "2c. We create another empty dataframe. Then pass the boolean search of if we have middle names into the first column of the dataframe. While passing the names themselves into the second column of the data frame for comparison. Then we show the results."
      ]
    },
    {
      "cell_type": "code",
      "metadata": {
        "id": "aWttZpza1jqk",
        "outputId": "05879eb2-a885-41a4-e691-3b70797314e2",
        "colab": {
          "base_uri": "https://localhost:8080/",
          "height": 233
        }
      },
      "source": [
        "#Create an empty dataframe\n",
        "df1 = pd.DataFrame()\n",
        "#Make the boolean search for if a character has a middle name the first column of our dataframe\n",
        "df1[0]=Titles.str.contains(r' [A-z]{1}\\. ')\n",
        "#Make the character the second column of the dataframe\n",
        "df1[1]=Simpson_char\n",
        "#Show them side by side\n",
        "df1"
      ],
      "execution_count": 5,
      "outputs": [
        {
          "output_type": "execute_result",
          "data": {
            "text/html": [
              "<div>\n",
              "<style scoped>\n",
              "    .dataframe tbody tr th:only-of-type {\n",
              "        vertical-align: middle;\n",
              "    }\n",
              "\n",
              "    .dataframe tbody tr th {\n",
              "        vertical-align: top;\n",
              "    }\n",
              "\n",
              "    .dataframe thead th {\n",
              "        text-align: right;\n",
              "    }\n",
              "</style>\n",
              "<table border=\"1\" class=\"dataframe\">\n",
              "  <thead>\n",
              "    <tr style=\"text-align: right;\">\n",
              "      <th></th>\n",
              "      <th>0</th>\n",
              "      <th>1</th>\n",
              "    </tr>\n",
              "  </thead>\n",
              "  <tbody>\n",
              "    <tr>\n",
              "      <th>0</th>\n",
              "      <td>False</td>\n",
              "      <td>Moe Szyslak</td>\n",
              "    </tr>\n",
              "    <tr>\n",
              "      <th>1</th>\n",
              "      <td>True</td>\n",
              "      <td>Burns, C. Montgomery</td>\n",
              "    </tr>\n",
              "    <tr>\n",
              "      <th>2</th>\n",
              "      <td>False</td>\n",
              "      <td>Rev. Timothy Lovejoy</td>\n",
              "    </tr>\n",
              "    <tr>\n",
              "      <th>3</th>\n",
              "      <td>False</td>\n",
              "      <td>Ned Flanders</td>\n",
              "    </tr>\n",
              "    <tr>\n",
              "      <th>4</th>\n",
              "      <td>False</td>\n",
              "      <td>Simpson, Homer</td>\n",
              "    </tr>\n",
              "    <tr>\n",
              "      <th>5</th>\n",
              "      <td>False</td>\n",
              "      <td>Dr. Julius Hibbert</td>\n",
              "    </tr>\n",
              "  </tbody>\n",
              "</table>\n",
              "</div>"
            ],
            "text/plain": [
              "       0                     1\n",
              "0  False           Moe Szyslak\n",
              "1   True  Burns, C. Montgomery\n",
              "2  False  Rev. Timothy Lovejoy\n",
              "3  False          Ned Flanders\n",
              "4  False        Simpson, Homer\n",
              "5  False    Dr. Julius Hibbert"
            ]
          },
          "metadata": {
            "tags": []
          },
          "execution_count": 5
        }
      ]
    },
    {
      "cell_type": "markdown",
      "metadata": {
        "id": "SZT4k_cU83eQ"
      },
      "source": [
        "3. We pass the Html code string into the variable html. Then compile our regular expression looking for one or more lowercase letters between < and >. We pass our sting into our regular expression and show the results."
      ]
    },
    {
      "cell_type": "markdown",
      "metadata": {
        "id": "j0SWzrdF6jel"
      },
      "source": [
        "Problem: <.+> Won't work because it matches any character one or more times between < and >. This gives us the entire sting as our return instead of just the title part of the string."
      ]
    },
    {
      "cell_type": "code",
      "metadata": {
        "id": "kkjF4Vdr7iWa",
        "outputId": "91f953ea-2d28-4a59-f9e2-11360c1a37f6",
        "colab": {
          "base_uri": "https://localhost:8080/"
        }
      },
      "source": [
        "# Save our html string as html\n",
        "html = '<title>+++BREAKING NEWS+++<title>'\n",
        "\n",
        "# compile the pattern of all letters between a and z between < and >\n",
        "reg = re.compile('<[a-z]+>')\n",
        "\n",
        "# find all matches\n",
        "Answer = reg.findall(html)\n",
        "\n",
        "# print\n",
        "Answer"
      ],
      "execution_count": 6,
      "outputs": [
        {
          "output_type": "execute_result",
          "data": {
            "text/plain": [
              "['<title>', '<title>']"
            ]
          },
          "metadata": {
            "tags": []
          },
          "execution_count": 6
        }
      ]
    },
    {
      "cell_type": "markdown",
      "metadata": {
        "id": "S4NLbH3j86Zp"
      },
      "source": [
        "4. We will select numbers between 0 and 9 that have exponents^, parentheses(), multiplication*, addition+, subtraction- and equal signs= from the string. We will take one or more+ of them to ensure the results include the entire equation in our returned value."
      ]
    },
    {
      "cell_type": "markdown",
      "metadata": {
        "id": "bFwcISaa_Z9W"
      },
      "source": [
        "Problem: “[^0-9=+*()]+” This can't work because [^0-9] means not in between 0 and 9. The ^ needs to be escaped and moved after the integers so it will function as an exponent sign. Also, we should include the order of operations to make sure we are grabbing all parts of the equation from the string."
      ]
    },
    {
      "cell_type": "code",
      "metadata": {
        "id": "QXyA8VUD-vU8",
        "outputId": "ed9b3164-70d1-40e1-d75d-b9ee33696b4f",
        "colab": {
          "base_uri": "https://localhost:8080/"
        }
      },
      "source": [
        "# pass the equation in the string format into the variable string\n",
        "string = '(5-3)^2=5^2-2*5*3+3^2'\n",
        "#Find all numbers between 0 and 9 and  1 or more calculation signs, save it as reg\n",
        "reg = re.compile('[0-9\\^()*+-=]+')\n",
        "#Show the results\n",
        "reg.findall(string)"
      ],
      "execution_count": 7,
      "outputs": [
        {
          "output_type": "execute_result",
          "data": {
            "text/plain": [
              "['(5-3)^2=5^2-2*5*3+3^2']"
            ]
          },
          "metadata": {
            "tags": []
          },
          "execution_count": 7
        }
      ]
    }
  ]
}