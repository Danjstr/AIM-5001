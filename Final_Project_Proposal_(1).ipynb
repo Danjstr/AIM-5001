{
  "nbformat": 4,
  "nbformat_minor": 0,
  "metadata": {
    "kernelspec": {
      "display_name": "Python 3",
      "language": "python",
      "name": "python3"
    },
    "language_info": {
      "codemirror_mode": {
        "name": "ipython",
        "version": 3
      },
      "file_extension": ".py",
      "mimetype": "text/x-python",
      "name": "python",
      "nbconvert_exporter": "python",
      "pygments_lexer": "ipython3",
      "version": "3.8.3"
    },
    "colab": {
      "name": "Final_Project_Proposal (1).ipynb",
      "provenance": [],
      "include_colab_link": true
    }
  },
  "cells": [
    {
      "cell_type": "markdown",
      "metadata": {
        "id": "view-in-github",
        "colab_type": "text"
      },
      "source": [
        "<a href=\"https://colab.research.google.com/github/Danjstr/AIM-5001/blob/master/Final_Project_Proposal_(1).ipynb\" target=\"_parent\"><img src=\"https://colab.research.google.com/assets/colab-badge.svg\" alt=\"Open In Colab\"/></a>"
      ]
    },
    {
      "cell_type": "markdown",
      "metadata": {
        "id": "vfpHvgmd0_28"
      },
      "source": [
        "# AIM 5001 Final Project Proposal"
      ]
    },
    {
      "cell_type": "markdown",
      "metadata": {
        "id": "vmf0K0VgdJVZ"
      },
      "source": [
        "**Introduction**\n",
        "\n",
        "Nasa has been observing space for the last several decades using ever more sophisticated space telescopes. They have used these telescopes to determine and confirm that other planets exist around other stars in our galaxy and beyond. One of these Space telescopes The Keplar Space Telescope has been instrumental in identifying many objects of interest outside our solar system. Many of these objects of Intrest have been confirmed planets by Nasa. This data can be hard to interoperate and with new planets popping up every so often it is hard to generate a real understanding of the process involved in identifying planets. Today we usually we get a NASA press release on page 37 of some odd journal claiming the discovery of a new planet. There is little in the way of public knowledge regarding the process of determining if an identified object is a planet and what the limits of the current technology are."
      ]
    },
    {
      "cell_type": "markdown",
      "metadata": {
        "id": "wS_P6iph0_2_"
      },
      "source": [
        "**Research Questions**\n",
        "\n",
        "Question 1: I will be determining the basis by which Nasa determines when and how a planet has been confirmed as real by comparing the \"Kepler Objects of Interest (KOI)\" Table and \"Confirmed Planets (Exoplanet)\" Table.\n",
        "\n",
        "\n",
        "Question 2: I will be determining the average mass of Kepler confirmed planets, as well as the mass of the smallest Keplar, confirmed planet. Then comparing it to the mass of the planets in our solar system to determine if the Keplar space telescope is biased to larger planets that are easier to see.\n"
      ]
    },
    {
      "cell_type": "markdown",
      "metadata": {
        "id": "qIaSbM8u0_2_"
      },
      "source": [
        "**Data to be Used**\n",
        "\n",
        "The data used will come primarily from two different sources. The first \"Kepler Objects of Interest (KOI)\" Table and the second the \"Confirmed Planets (Exoplanet)\" Table.\n",
        "\n",
        "\n",
        "The first Table \"Kepler Objects of Interest (KOI)\" will be provided as a csv. Information on this table can be found via the provided Kaggle link. https://www.kaggle.com/nasa/kepler-exoplanet-search-results?select=cumulative.csv\n",
        "\n",
        "\n",
        "The second Table the \"Confirmed Planets (Exoplanet)\" Table will be provided via the API using the instructions on the bellow webpage. \n",
        "https://exoplanetarchive.ipac.caltech.edu/docs/program_interfaces.html\n",
        "\n",
        "\n",
        "Any data from our solar system used for comparison will be entered manually into the code as this is the easiest method to use when dealing with so few data points. Our solar system data will be based on relevant data from the following webpage. \n",
        "http://www.astromax.org/planets.htm\n",
        "\n"
      ]
    },
    {
      "cell_type": "markdown",
      "metadata": {
        "id": "YJ3QF-WE0_3A"
      },
      "source": [
        "**Approach**\n",
        "\n",
        "The data from these two sources will be converted into two separate dataframes before any other work is done in our analysis? I will be trying to determine if there is any positive correlation between the two tables to see if there are any data points in the two tables that may provide insight as to how and Why Nasa determines that a KOI object is a planet. I will also be determining the mean and min of the mass of all planets discovered by Kepler to determine if the Telescope has trouble locating smaller objects and planets. I will be using a correlation matrix on selected fields to determine and visualize the relationship between different data points. This will allow us to better determine what data points contribute to NASA confirming a KOI object as a planet. I will be using a box plot and histogram to determine the spread of the mass of the planets. This will be compared with the mass of objects in our solar system to determine the lower limit on the mass of planets Kepler can identify."
      ]
    }
  ]
}