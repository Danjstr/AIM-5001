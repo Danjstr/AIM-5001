{
  "nbformat": 4,
  "nbformat_minor": 0,
  "metadata": {
    "colab": {
      "name": "\"D_Strauss_W2_assn\"",
      "provenance": [],
      "authorship_tag": "ABX9TyOXvf/e8djbgvs6bWYlDaJq",
      "include_colab_link": true
    },
    "kernelspec": {
      "name": "python3",
      "display_name": "Python 3"
    }
  },
  "cells": [
    {
      "cell_type": "markdown",
      "metadata": {
        "id": "view-in-github",
        "colab_type": "text"
      },
      "source": [
        "<a href=\"https://colab.research.google.com/github/Danjstr/AIM-5001/blob/master/%22D_Strauss_W2_assn%22.ipynb\" target=\"_parent\"><img src=\"https://colab.research.google.com/assets/colab-badge.svg\" alt=\"Open In Colab\"/></a>"
      ]
    },
    {
      "cell_type": "code",
      "metadata": {
        "id": "Y2WABGvTnRHV",
        "outputId": "61d86395-b7be-4bb7-9971-21c970410482",
        "colab": {
          "resources": {
            "http://localhost:8080/nbextensions/google.colab/files.js": {
              "data": "Ly8gQ29weXJpZ2h0IDIwMTcgR29vZ2xlIExMQwovLwovLyBMaWNlbnNlZCB1bmRlciB0aGUgQXBhY2hlIExpY2Vuc2UsIFZlcnNpb24gMi4wICh0aGUgIkxpY2Vuc2UiKTsKLy8geW91IG1heSBub3QgdXNlIHRoaXMgZmlsZSBleGNlcHQgaW4gY29tcGxpYW5jZSB3aXRoIHRoZSBMaWNlbnNlLgovLyBZb3UgbWF5IG9idGFpbiBhIGNvcHkgb2YgdGhlIExpY2Vuc2UgYXQKLy8KLy8gICAgICBodHRwOi8vd3d3LmFwYWNoZS5vcmcvbGljZW5zZXMvTElDRU5TRS0yLjAKLy8KLy8gVW5sZXNzIHJlcXVpcmVkIGJ5IGFwcGxpY2FibGUgbGF3IG9yIGFncmVlZCB0byBpbiB3cml0aW5nLCBzb2Z0d2FyZQovLyBkaXN0cmlidXRlZCB1bmRlciB0aGUgTGljZW5zZSBpcyBkaXN0cmlidXRlZCBvbiBhbiAiQVMgSVMiIEJBU0lTLAovLyBXSVRIT1VUIFdBUlJBTlRJRVMgT1IgQ09ORElUSU9OUyBPRiBBTlkgS0lORCwgZWl0aGVyIGV4cHJlc3Mgb3IgaW1wbGllZC4KLy8gU2VlIHRoZSBMaWNlbnNlIGZvciB0aGUgc3BlY2lmaWMgbGFuZ3VhZ2UgZ292ZXJuaW5nIHBlcm1pc3Npb25zIGFuZAovLyBsaW1pdGF0aW9ucyB1bmRlciB0aGUgTGljZW5zZS4KCi8qKgogKiBAZmlsZW92ZXJ2aWV3IEhlbHBlcnMgZm9yIGdvb2dsZS5jb2xhYiBQeXRob24gbW9kdWxlLgogKi8KKGZ1bmN0aW9uKHNjb3BlKSB7CmZ1bmN0aW9uIHNwYW4odGV4dCwgc3R5bGVBdHRyaWJ1dGVzID0ge30pIHsKICBjb25zdCBlbGVtZW50ID0gZG9jdW1lbnQuY3JlYXRlRWxlbWVudCgnc3BhbicpOwogIGVsZW1lbnQudGV4dENvbnRlbnQgPSB0ZXh0OwogIGZvciAoY29uc3Qga2V5IG9mIE9iamVjdC5rZXlzKHN0eWxlQXR0cmlidXRlcykpIHsKICAgIGVsZW1lbnQuc3R5bGVba2V5XSA9IHN0eWxlQXR0cmlidXRlc1trZXldOwogIH0KICByZXR1cm4gZWxlbWVudDsKfQoKLy8gTWF4IG51bWJlciBvZiBieXRlcyB3aGljaCB3aWxsIGJlIHVwbG9hZGVkIGF0IGEgdGltZS4KY29uc3QgTUFYX1BBWUxPQURfU0laRSA9IDEwMCAqIDEwMjQ7CgpmdW5jdGlvbiBfdXBsb2FkRmlsZXMoaW5wdXRJZCwgb3V0cHV0SWQpIHsKICBjb25zdCBzdGVwcyA9IHVwbG9hZEZpbGVzU3RlcChpbnB1dElkLCBvdXRwdXRJZCk7CiAgY29uc3Qgb3V0cHV0RWxlbWVudCA9IGRvY3VtZW50LmdldEVsZW1lbnRCeUlkKG91dHB1dElkKTsKICAvLyBDYWNoZSBzdGVwcyBvbiB0aGUgb3V0cHV0RWxlbWVudCB0byBtYWtlIGl0IGF2YWlsYWJsZSBmb3IgdGhlIG5leHQgY2FsbAogIC8vIHRvIHVwbG9hZEZpbGVzQ29udGludWUgZnJvbSBQeXRob24uCiAgb3V0cHV0RWxlbWVudC5zdGVwcyA9IHN0ZXBzOwoKICByZXR1cm4gX3VwbG9hZEZpbGVzQ29udGludWUob3V0cHV0SWQpOwp9CgovLyBUaGlzIGlzIHJvdWdobHkgYW4gYXN5bmMgZ2VuZXJhdG9yIChub3Qgc3VwcG9ydGVkIGluIHRoZSBicm93c2VyIHlldCksCi8vIHdoZXJlIHRoZXJlIGFyZSBtdWx0aXBsZSBhc3luY2hyb25vdXMgc3RlcHMgYW5kIHRoZSBQeXRob24gc2lkZSBpcyBnb2luZwovLyB0byBwb2xsIGZvciBjb21wbGV0aW9uIG9mIGVhY2ggc3RlcC4KLy8gVGhpcyB1c2VzIGEgUHJvbWlzZSB0byBibG9jayB0aGUgcHl0aG9uIHNpZGUgb24gY29tcGxldGlvbiBvZiBlYWNoIHN0ZXAsCi8vIHRoZW4gcGFzc2VzIHRoZSByZXN1bHQgb2YgdGhlIHByZXZpb3VzIHN0ZXAgYXMgdGhlIGlucHV0IHRvIHRoZSBuZXh0IHN0ZXAuCmZ1bmN0aW9uIF91cGxvYWRGaWxlc0NvbnRpbnVlKG91dHB1dElkKSB7CiAgY29uc3Qgb3V0cHV0RWxlbWVudCA9IGRvY3VtZW50LmdldEVsZW1lbnRCeUlkKG91dHB1dElkKTsKICBjb25zdCBzdGVwcyA9IG91dHB1dEVsZW1lbnQuc3RlcHM7CgogIGNvbnN0IG5leHQgPSBzdGVwcy5uZXh0KG91dHB1dEVsZW1lbnQubGFzdFByb21pc2VWYWx1ZSk7CiAgcmV0dXJuIFByb21pc2UucmVzb2x2ZShuZXh0LnZhbHVlLnByb21pc2UpLnRoZW4oKHZhbHVlKSA9PiB7CiAgICAvLyBDYWNoZSB0aGUgbGFzdCBwcm9taXNlIHZhbHVlIHRvIG1ha2UgaXQgYXZhaWxhYmxlIHRvIHRoZSBuZXh0CiAgICAvLyBzdGVwIG9mIHRoZSBnZW5lcmF0b3IuCiAgICBvdXRwdXRFbGVtZW50Lmxhc3RQcm9taXNlVmFsdWUgPSB2YWx1ZTsKICAgIHJldHVybiBuZXh0LnZhbHVlLnJlc3BvbnNlOwogIH0pOwp9CgovKioKICogR2VuZXJhdG9yIGZ1bmN0aW9uIHdoaWNoIGlzIGNhbGxlZCBiZXR3ZWVuIGVhY2ggYXN5bmMgc3RlcCBvZiB0aGUgdXBsb2FkCiAqIHByb2Nlc3MuCiAqIEBwYXJhbSB7c3RyaW5nfSBpbnB1dElkIEVsZW1lbnQgSUQgb2YgdGhlIGlucHV0IGZpbGUgcGlja2VyIGVsZW1lbnQuCiAqIEBwYXJhbSB7c3RyaW5nfSBvdXRwdXRJZCBFbGVtZW50IElEIG9mIHRoZSBvdXRwdXQgZGlzcGxheS4KICogQHJldHVybiB7IUl0ZXJhYmxlPCFPYmplY3Q+fSBJdGVyYWJsZSBvZiBuZXh0IHN0ZXBzLgogKi8KZnVuY3Rpb24qIHVwbG9hZEZpbGVzU3RlcChpbnB1dElkLCBvdXRwdXRJZCkgewogIGNvbnN0IGlucHV0RWxlbWVudCA9IGRvY3VtZW50LmdldEVsZW1lbnRCeUlkKGlucHV0SWQpOwogIGlucHV0RWxlbWVudC5kaXNhYmxlZCA9IGZhbHNlOwoKICBjb25zdCBvdXRwdXRFbGVtZW50ID0gZG9jdW1lbnQuZ2V0RWxlbWVudEJ5SWQob3V0cHV0SWQpOwogIG91dHB1dEVsZW1lbnQuaW5uZXJIVE1MID0gJyc7CgogIGNvbnN0IHBpY2tlZFByb21pc2UgPSBuZXcgUHJvbWlzZSgocmVzb2x2ZSkgPT4gewogICAgaW5wdXRFbGVtZW50LmFkZEV2ZW50TGlzdGVuZXIoJ2NoYW5nZScsIChlKSA9PiB7CiAgICAgIHJlc29sdmUoZS50YXJnZXQuZmlsZXMpOwogICAgfSk7CiAgfSk7CgogIGNvbnN0IGNhbmNlbCA9IGRvY3VtZW50LmNyZWF0ZUVsZW1lbnQoJ2J1dHRvbicpOwogIGlucHV0RWxlbWVudC5wYXJlbnRFbGVtZW50LmFwcGVuZENoaWxkKGNhbmNlbCk7CiAgY2FuY2VsLnRleHRDb250ZW50ID0gJ0NhbmNlbCB1cGxvYWQnOwogIGNvbnN0IGNhbmNlbFByb21pc2UgPSBuZXcgUHJvbWlzZSgocmVzb2x2ZSkgPT4gewogICAgY2FuY2VsLm9uY2xpY2sgPSAoKSA9PiB7CiAgICAgIHJlc29sdmUobnVsbCk7CiAgICB9OwogIH0pOwoKICAvLyBXYWl0IGZvciB0aGUgdXNlciB0byBwaWNrIHRoZSBmaWxlcy4KICBjb25zdCBmaWxlcyA9IHlpZWxkIHsKICAgIHByb21pc2U6IFByb21pc2UucmFjZShbcGlja2VkUHJvbWlzZSwgY2FuY2VsUHJvbWlzZV0pLAogICAgcmVzcG9uc2U6IHsKICAgICAgYWN0aW9uOiAnc3RhcnRpbmcnLAogICAgfQogIH07CgogIGNhbmNlbC5yZW1vdmUoKTsKCiAgLy8gRGlzYWJsZSB0aGUgaW5wdXQgZWxlbWVudCBzaW5jZSBmdXJ0aGVyIHBpY2tzIGFyZSBub3QgYWxsb3dlZC4KICBpbnB1dEVsZW1lbnQuZGlzYWJsZWQgPSB0cnVlOwoKICBpZiAoIWZpbGVzKSB7CiAgICByZXR1cm4gewogICAgICByZXNwb25zZTogewogICAgICAgIGFjdGlvbjogJ2NvbXBsZXRlJywKICAgICAgfQogICAgfTsKICB9CgogIGZvciAoY29uc3QgZmlsZSBvZiBmaWxlcykgewogICAgY29uc3QgbGkgPSBkb2N1bWVudC5jcmVhdGVFbGVtZW50KCdsaScpOwogICAgbGkuYXBwZW5kKHNwYW4oZmlsZS5uYW1lLCB7Zm9udFdlaWdodDogJ2JvbGQnfSkpOwogICAgbGkuYXBwZW5kKHNwYW4oCiAgICAgICAgYCgke2ZpbGUudHlwZSB8fCAnbi9hJ30pIC0gJHtmaWxlLnNpemV9IGJ5dGVzLCBgICsKICAgICAgICBgbGFzdCBtb2RpZmllZDogJHsKICAgICAgICAgICAgZmlsZS5sYXN0TW9kaWZpZWREYXRlID8gZmlsZS5sYXN0TW9kaWZpZWREYXRlLnRvTG9jYWxlRGF0ZVN0cmluZygpIDoKICAgICAgICAgICAgICAgICAgICAgICAgICAgICAgICAgICAgJ24vYSd9IC0gYCkpOwogICAgY29uc3QgcGVyY2VudCA9IHNwYW4oJzAlIGRvbmUnKTsKICAgIGxpLmFwcGVuZENoaWxkKHBlcmNlbnQpOwoKICAgIG91dHB1dEVsZW1lbnQuYXBwZW5kQ2hpbGQobGkpOwoKICAgIGNvbnN0IGZpbGVEYXRhUHJvbWlzZSA9IG5ldyBQcm9taXNlKChyZXNvbHZlKSA9PiB7CiAgICAgIGNvbnN0IHJlYWRlciA9IG5ldyBGaWxlUmVhZGVyKCk7CiAgICAgIHJlYWRlci5vbmxvYWQgPSAoZSkgPT4gewogICAgICAgIHJlc29sdmUoZS50YXJnZXQucmVzdWx0KTsKICAgICAgfTsKICAgICAgcmVhZGVyLnJlYWRBc0FycmF5QnVmZmVyKGZpbGUpOwogICAgfSk7CiAgICAvLyBXYWl0IGZvciB0aGUgZGF0YSB0byBiZSByZWFkeS4KICAgIGxldCBmaWxlRGF0YSA9IHlpZWxkIHsKICAgICAgcHJvbWlzZTogZmlsZURhdGFQcm9taXNlLAogICAgICByZXNwb25zZTogewogICAgICAgIGFjdGlvbjogJ2NvbnRpbnVlJywKICAgICAgfQogICAgfTsKCiAgICAvLyBVc2UgYSBjaHVua2VkIHNlbmRpbmcgdG8gYXZvaWQgbWVzc2FnZSBzaXplIGxpbWl0cy4gU2VlIGIvNjIxMTU2NjAuCiAgICBsZXQgcG9zaXRpb24gPSAwOwogICAgd2hpbGUgKHBvc2l0aW9uIDwgZmlsZURhdGEuYnl0ZUxlbmd0aCkgewogICAgICBjb25zdCBsZW5ndGggPSBNYXRoLm1pbihmaWxlRGF0YS5ieXRlTGVuZ3RoIC0gcG9zaXRpb24sIE1BWF9QQVlMT0FEX1NJWkUpOwogICAgICBjb25zdCBjaHVuayA9IG5ldyBVaW50OEFycmF5KGZpbGVEYXRhLCBwb3NpdGlvbiwgbGVuZ3RoKTsKICAgICAgcG9zaXRpb24gKz0gbGVuZ3RoOwoKICAgICAgY29uc3QgYmFzZTY0ID0gYnRvYShTdHJpbmcuZnJvbUNoYXJDb2RlLmFwcGx5KG51bGwsIGNodW5rKSk7CiAgICAgIHlpZWxkIHsKICAgICAgICByZXNwb25zZTogewogICAgICAgICAgYWN0aW9uOiAnYXBwZW5kJywKICAgICAgICAgIGZpbGU6IGZpbGUubmFtZSwKICAgICAgICAgIGRhdGE6IGJhc2U2NCwKICAgICAgICB9LAogICAgICB9OwogICAgICBwZXJjZW50LnRleHRDb250ZW50ID0KICAgICAgICAgIGAke01hdGgucm91bmQoKHBvc2l0aW9uIC8gZmlsZURhdGEuYnl0ZUxlbmd0aCkgKiAxMDApfSUgZG9uZWA7CiAgICB9CiAgfQoKICAvLyBBbGwgZG9uZS4KICB5aWVsZCB7CiAgICByZXNwb25zZTogewogICAgICBhY3Rpb246ICdjb21wbGV0ZScsCiAgICB9CiAgfTsKfQoKc2NvcGUuZ29vZ2xlID0gc2NvcGUuZ29vZ2xlIHx8IHt9OwpzY29wZS5nb29nbGUuY29sYWIgPSBzY29wZS5nb29nbGUuY29sYWIgfHwge307CnNjb3BlLmdvb2dsZS5jb2xhYi5fZmlsZXMgPSB7CiAgX3VwbG9hZEZpbGVzLAogIF91cGxvYWRGaWxlc0NvbnRpbnVlLAp9Owp9KShzZWxmKTsK",
              "ok": true,
              "headers": [
                [
                  "content-type",
                  "application/javascript"
                ]
              ],
              "status": 200,
              "status_text": ""
            }
          },
          "base_uri": "https://localhost:8080/",
          "height": 73
        }
      },
      "source": [
        "from google.colab import files\n",
        "uploaded = files.upload()\n"
      ],
      "execution_count": 3,
      "outputs": [
        {
          "output_type": "display_data",
          "data": {
            "text/html": [
              "\n",
              "     <input type=\"file\" id=\"files-f0156bef-d70c-4e85-ae83-fd1538b2e625\" name=\"files[]\" multiple disabled\n",
              "        style=\"border:none\" />\n",
              "     <output id=\"result-f0156bef-d70c-4e85-ae83-fd1538b2e625\">\n",
              "      Upload widget is only available when the cell has been executed in the\n",
              "      current browser session. Please rerun this cell to enable.\n",
              "      </output>\n",
              "      <script src=\"/nbextensions/google.colab/files.js\"></script> "
            ],
            "text/plain": [
              "<IPython.core.display.HTML object>"
            ]
          },
          "metadata": {
            "tags": []
          }
        },
        {
          "output_type": "stream",
          "text": [
            "Saving cars-sample35.txt to cars-sample35.txt\n"
          ],
          "name": "stdout"
        }
      ]
    },
    {
      "cell_type": "code",
      "metadata": {
        "id": "1FGYFMhanWEb",
        "outputId": "b7a09a0d-9dc9-4fd3-b1af-9c4b5dd8b048",
        "colab": {
          "base_uri": "https://localhost:8080/",
          "height": 624
        }
      },
      "source": [
        "import pandas as pd\n",
        "df = pd.read_csv('cars-sample35.txt')\n",
        "print (df)\n"
      ],
      "execution_count": 4,
      "outputs": [
        {
          "output_type": "stream",
          "text": [
            "     high high.1      2     4    med   low  unacc\n",
            "0    high   high      4  more  small  high    acc\n",
            "1    high   high      4  more    big   low  unacc\n",
            "2    high    low      2  more    big  high    acc\n",
            "3   vhigh    low      3     2    med   med  unacc\n",
            "4     low   high      2     2  small   low  unacc\n",
            "5     med    med      4  more    med  high  vgood\n",
            "6     low    low      3     2    big   med  unacc\n",
            "7   vhigh    low      2     2  small   low  unacc\n",
            "8   vhigh   high      4     4    med   low  unacc\n",
            "9     low    low      2     2    med   med  unacc\n",
            "10  vhigh    low      4  more  small  high    acc\n",
            "11   high    low      2     4    big   med    acc\n",
            "12    low  vhigh      3  more    big   low  unacc\n",
            "13   high    low  5more     2    big   med  unacc\n",
            "14  vhigh   high      2  more    med  high  unacc\n",
            "15    med    med      2     2  small   low  unacc\n",
            "16   high    low  5more     4    med  high    acc\n",
            "17    low    low      3  more    med  high  vgood\n",
            "18    low    low      2     2    big   med  unacc\n",
            "19    med   high      4     2    big  high  unacc\n",
            "20    low    low      2     2  small  high  unacc\n",
            "21  vhigh   high  5more     4    med   med  unacc\n",
            "22    med  vhigh      2     2    big   low  unacc\n",
            "23    low  vhigh      4     4    big   low  unacc\n",
            "24  vhigh    low      3  more    big   low  unacc\n",
            "25    med  vhigh      3     4  small   low  unacc\n",
            "26   high   high      3     4    med   med  unacc\n",
            "27    low   high  5more     2    big   low  unacc\n",
            "28    med   high  5more     2    med   med  unacc\n",
            "29   high    low      3     4    med  high    acc\n",
            "30   high  vhigh  5more     4    med   med  unacc\n",
            "31    low    low  5more     2    med   low  unacc\n",
            "32  vhigh  vhigh      4     2    big  high  unacc\n",
            "33   high    low      3     2    big  high  unacc\n"
          ],
          "name": "stdout"
        }
      ]
    },
    {
      "cell_type": "markdown",
      "metadata": {
        "id": "6bBGWaOm0ok1"
      },
      "source": [
        "Problem 1:(5 Points) Your first task is to read the file again and extract these seven attributes from each line of the file and\n",
        "create seven distinct Python list objects comprised solely of the values you extracted for a given attribute. \n",
        "\n",
        "Answer 1: Provided below are the codes to generat seven distinct lists for each column."
      ]
    },
    {
      "cell_type": "code",
      "metadata": {
        "id": "UvGiH36SsmSU",
        "outputId": "511a5a49-acf5-4d55-ec85-a3419fc92956",
        "colab": {
          "base_uri": "https://localhost:8080/",
          "height": 55
        }
      },
      "source": [
        "first_column = list(df.iloc[:, 0])\n",
        "print(first_column)"
      ],
      "execution_count": 5,
      "outputs": [
        {
          "output_type": "stream",
          "text": [
            "['high', 'high', 'high', 'vhigh', 'low', 'med', 'low', 'vhigh', 'vhigh', 'low', 'vhigh', 'high', 'low', 'high', 'vhigh', 'med', 'high', 'low', 'low', 'med', 'low', 'vhigh', 'med', 'low', 'vhigh', 'med', 'high', 'low', 'med', 'high', 'high', 'low', 'vhigh', 'high']\n"
          ],
          "name": "stdout"
        }
      ]
    },
    {
      "cell_type": "code",
      "metadata": {
        "id": "NwmXVKupws3R",
        "outputId": "aaa869cd-4916-422e-f243-37b023842a9b",
        "colab": {
          "base_uri": "https://localhost:8080/",
          "height": 55
        }
      },
      "source": [
        "second_column = list(df.iloc[:, 1])\n",
        "print(second_column)"
      ],
      "execution_count": 6,
      "outputs": [
        {
          "output_type": "stream",
          "text": [
            "['high', 'high', 'low', 'low', 'high', 'med', 'low', 'low', 'high', 'low', 'low', 'low', 'vhigh', 'low', 'high', 'med', 'low', 'low', 'low', 'high', 'low', 'high', 'vhigh', 'vhigh', 'low', 'vhigh', 'high', 'high', 'high', 'low', 'vhigh', 'low', 'vhigh', 'low']\n"
          ],
          "name": "stdout"
        }
      ]
    },
    {
      "cell_type": "code",
      "metadata": {
        "id": "ueXpjds2w1aJ",
        "outputId": "b4ba6caf-84e1-44f7-ac2c-d892d2d6994f",
        "colab": {
          "base_uri": "https://localhost:8080/",
          "height": 55
        }
      },
      "source": [
        "third_column = list(df.iloc[:, 2])\n",
        "print(third_column)"
      ],
      "execution_count": 7,
      "outputs": [
        {
          "output_type": "stream",
          "text": [
            "['4', '4', '2', '3', '2', '4', '3', '2', '4', '2', '4', '2', '3', '5more', '2', '2', '5more', '3', '2', '4', '2', '5more', '2', '4', '3', '3', '3', '5more', '5more', '3', '5more', '5more', '4', '3']\n"
          ],
          "name": "stdout"
        }
      ]
    },
    {
      "cell_type": "code",
      "metadata": {
        "id": "KQzMw9MGw78Y",
        "outputId": "884c8227-58a1-45ce-ce22-40fb530e85da",
        "colab": {
          "base_uri": "https://localhost:8080/",
          "height": 55
        }
      },
      "source": [
        "fourth_column = list(df.iloc[:, 3])\n",
        "print(fourth_column)"
      ],
      "execution_count": 8,
      "outputs": [
        {
          "output_type": "stream",
          "text": [
            "['more', 'more', 'more', '2', '2', 'more', '2', '2', '4', '2', 'more', '4', 'more', '2', 'more', '2', '4', 'more', '2', '2', '2', '4', '2', '4', 'more', '4', '4', '2', '2', '4', '4', '2', '2', '2']\n"
          ],
          "name": "stdout"
        }
      ]
    },
    {
      "cell_type": "code",
      "metadata": {
        "id": "psgwX2-pxBwJ",
        "outputId": "4abcc9bd-35bb-415b-c058-2e1b9bf2a8d8",
        "colab": {
          "base_uri": "https://localhost:8080/",
          "height": 55
        }
      },
      "source": [
        "fifth_column = list(df.iloc[:, 4])\n",
        "print(fifth_column)"
      ],
      "execution_count": 9,
      "outputs": [
        {
          "output_type": "stream",
          "text": [
            "['small', 'big', 'big', 'med', 'small', 'med', 'big', 'small', 'med', 'med', 'small', 'big', 'big', 'big', 'med', 'small', 'med', 'med', 'big', 'big', 'small', 'med', 'big', 'big', 'big', 'small', 'med', 'big', 'med', 'med', 'med', 'med', 'big', 'big']\n"
          ],
          "name": "stdout"
        }
      ]
    },
    {
      "cell_type": "code",
      "metadata": {
        "id": "Kt5C-hZtxIRY",
        "outputId": "b9d406c8-707e-42a7-dc9b-7944d1f3a325",
        "colab": {
          "base_uri": "https://localhost:8080/",
          "height": 55
        }
      },
      "source": [
        "sixth_column = list(df.iloc[:, 5])\n",
        "print(sixth_column)"
      ],
      "execution_count": 10,
      "outputs": [
        {
          "output_type": "stream",
          "text": [
            "['high', 'low', 'high', 'med', 'low', 'high', 'med', 'low', 'low', 'med', 'high', 'med', 'low', 'med', 'high', 'low', 'high', 'high', 'med', 'high', 'high', 'med', 'low', 'low', 'low', 'low', 'med', 'low', 'med', 'high', 'med', 'low', 'high', 'high']\n"
          ],
          "name": "stdout"
        }
      ]
    },
    {
      "cell_type": "code",
      "metadata": {
        "id": "SZpscNTjxOk4",
        "outputId": "badb7c2a-c6d9-4d11-e693-bab3f41f2f4e",
        "colab": {
          "base_uri": "https://localhost:8080/",
          "height": 55
        }
      },
      "source": [
        "seventh_column = list(df.iloc[:, 6])\n",
        "print(seventh_column)"
      ],
      "execution_count": 11,
      "outputs": [
        {
          "output_type": "stream",
          "text": [
            "['acc', 'unacc', 'acc', 'unacc', 'unacc', 'vgood', 'unacc', 'unacc', 'unacc', 'unacc', 'acc', 'acc', 'unacc', 'unacc', 'unacc', 'unacc', 'acc', 'vgood', 'unacc', 'unacc', 'unacc', 'unacc', 'unacc', 'unacc', 'unacc', 'unacc', 'unacc', 'unacc', 'unacc', 'acc', 'unacc', 'unacc', 'unacc', 'unacc']\n"
          ],
          "name": "stdout"
        }
      ]
    },
    {
      "cell_type": "markdown",
      "metadata": {
        "id": "h2nDD1NayYYh"
      },
      "source": [
        "Problem 2:(5 Points) Your second task is to find the list index values of each automobile having a “price” rating of \"med\".\n",
        "\n",
        "Answer 2: The list index of of each automobile with a price rating of 0 are - 5,15,19,22,25,28"
      ]
    },
    {
      "cell_type": "code",
      "metadata": {
        "id": "_ubOkyPEwzvJ",
        "outputId": "937c431a-8f47-4632-dd74-274d46d4a9cc",
        "colab": {
          "base_uri": "https://localhost:8080/",
          "height": 1000
        }
      },
      "source": [
        "first_column_df = (df.iloc[:, 0])\n",
        "print(first_column_df)\n",
        "print(first_column_df =='med')"
      ],
      "execution_count": 12,
      "outputs": [
        {
          "output_type": "stream",
          "text": [
            "0      high\n",
            "1      high\n",
            "2      high\n",
            "3     vhigh\n",
            "4       low\n",
            "5       med\n",
            "6       low\n",
            "7     vhigh\n",
            "8     vhigh\n",
            "9       low\n",
            "10    vhigh\n",
            "11     high\n",
            "12      low\n",
            "13     high\n",
            "14    vhigh\n",
            "15      med\n",
            "16     high\n",
            "17      low\n",
            "18      low\n",
            "19      med\n",
            "20      low\n",
            "21    vhigh\n",
            "22      med\n",
            "23      low\n",
            "24    vhigh\n",
            "25      med\n",
            "26     high\n",
            "27      low\n",
            "28      med\n",
            "29     high\n",
            "30     high\n",
            "31      low\n",
            "32    vhigh\n",
            "33     high\n",
            "Name: high, dtype: object\n",
            "0     False\n",
            "1     False\n",
            "2     False\n",
            "3     False\n",
            "4     False\n",
            "5      True\n",
            "6     False\n",
            "7     False\n",
            "8     False\n",
            "9     False\n",
            "10    False\n",
            "11    False\n",
            "12    False\n",
            "13    False\n",
            "14    False\n",
            "15     True\n",
            "16    False\n",
            "17    False\n",
            "18    False\n",
            "19     True\n",
            "20    False\n",
            "21    False\n",
            "22     True\n",
            "23    False\n",
            "24    False\n",
            "25     True\n",
            "26    False\n",
            "27    False\n",
            "28     True\n",
            "29    False\n",
            "30    False\n",
            "31    False\n",
            "32    False\n",
            "33    False\n",
            "Name: high, dtype: bool\n"
          ],
          "name": "stdout"
        }
      ]
    },
    {
      "cell_type": "markdown",
      "metadata": {
        "id": "CVMsDFfM0tkO"
      },
      "source": [
        "Question 3: (5 Points) Your third task is to find the \"number of passengers\" value for each auto having a \"price\" value of \"med\".\n",
        "Create a new list to store your findings and be sure to print your results.\n",
        "\n",
        "Answer 3: The passenger values for the following indexes are \n",
        "Index 5-more\n",
        "\n",
        "Index 15-Value 2\n",
        "\n",
        "Index 19-Value 2\n",
        "\n",
        "Index 22-Value 2\n",
        "\n",
        "Index 25-Value 4\n",
        "\n",
        "Index 28-Value 2"
      ]
    },
    {
      "cell_type": "code",
      "metadata": {
        "id": "LS2vChaV007s",
        "outputId": "c863c3f8-8a50-4e18-b76b-9fd6f3719edb",
        "colab": {
          "base_uri": "https://localhost:8080/",
          "height": 1000
        }
      },
      "source": [
        "fourth_column_df = (df.iloc[:, 3])\n",
        "print(fourth_column_df)\n",
        "print(first_column_df =='med')"
      ],
      "execution_count": 13,
      "outputs": [
        {
          "output_type": "stream",
          "text": [
            "0     more\n",
            "1     more\n",
            "2     more\n",
            "3        2\n",
            "4        2\n",
            "5     more\n",
            "6        2\n",
            "7        2\n",
            "8        4\n",
            "9        2\n",
            "10    more\n",
            "11       4\n",
            "12    more\n",
            "13       2\n",
            "14    more\n",
            "15       2\n",
            "16       4\n",
            "17    more\n",
            "18       2\n",
            "19       2\n",
            "20       2\n",
            "21       4\n",
            "22       2\n",
            "23       4\n",
            "24    more\n",
            "25       4\n",
            "26       4\n",
            "27       2\n",
            "28       2\n",
            "29       4\n",
            "30       4\n",
            "31       2\n",
            "32       2\n",
            "33       2\n",
            "Name: 4, dtype: object\n",
            "0     False\n",
            "1     False\n",
            "2     False\n",
            "3     False\n",
            "4     False\n",
            "5      True\n",
            "6     False\n",
            "7     False\n",
            "8     False\n",
            "9     False\n",
            "10    False\n",
            "11    False\n",
            "12    False\n",
            "13    False\n",
            "14    False\n",
            "15     True\n",
            "16    False\n",
            "17    False\n",
            "18    False\n",
            "19     True\n",
            "20    False\n",
            "21    False\n",
            "22     True\n",
            "23    False\n",
            "24    False\n",
            "25     True\n",
            "26    False\n",
            "27    False\n",
            "28     True\n",
            "29    False\n",
            "30    False\n",
            "31    False\n",
            "32    False\n",
            "33    False\n",
            "Name: high, dtype: bool\n"
          ],
          "name": "stdout"
        }
      ]
    },
    {
      "cell_type": "markdown",
      "metadata": {
        "id": "H30jiYAB5H7-"
      },
      "source": [
        "Question 4:(5 Points) Your fourth task is to find the index value for each automobile having a “price” value of \"high\" and a “maintenance” value that is not \"low\". Create a new list to store your findings and be sure to print your results.\n",
        "\n",
        "Answer 4: The indexs that have a price value of high and a maintanance value that is not low are Index 0, Index 1, index 26, Index 30."
      ]
    },
    {
      "cell_type": "code",
      "metadata": {
        "id": "2HZCtR7c5pCr",
        "outputId": "0f16fa16-4284-4997-d8c7-240e829c97ee",
        "colab": {
          "base_uri": "https://localhost:8080/",
          "height": 1000
        }
      },
      "source": [
        "print(first_column_df =='high')\n",
        "second_column_df = (df.iloc[:, 1])\n",
        "print(second_column_df)"
      ],
      "execution_count": 14,
      "outputs": [
        {
          "output_type": "stream",
          "text": [
            "0      True\n",
            "1      True\n",
            "2      True\n",
            "3     False\n",
            "4     False\n",
            "5     False\n",
            "6     False\n",
            "7     False\n",
            "8     False\n",
            "9     False\n",
            "10    False\n",
            "11     True\n",
            "12    False\n",
            "13     True\n",
            "14    False\n",
            "15    False\n",
            "16     True\n",
            "17    False\n",
            "18    False\n",
            "19    False\n",
            "20    False\n",
            "21    False\n",
            "22    False\n",
            "23    False\n",
            "24    False\n",
            "25    False\n",
            "26     True\n",
            "27    False\n",
            "28    False\n",
            "29     True\n",
            "30     True\n",
            "31    False\n",
            "32    False\n",
            "33     True\n",
            "Name: high, dtype: bool\n",
            "0      high\n",
            "1      high\n",
            "2       low\n",
            "3       low\n",
            "4      high\n",
            "5       med\n",
            "6       low\n",
            "7       low\n",
            "8      high\n",
            "9       low\n",
            "10      low\n",
            "11      low\n",
            "12    vhigh\n",
            "13      low\n",
            "14     high\n",
            "15      med\n",
            "16      low\n",
            "17      low\n",
            "18      low\n",
            "19     high\n",
            "20      low\n",
            "21     high\n",
            "22    vhigh\n",
            "23    vhigh\n",
            "24      low\n",
            "25    vhigh\n",
            "26     high\n",
            "27     high\n",
            "28     high\n",
            "29      low\n",
            "30    vhigh\n",
            "31      low\n",
            "32    vhigh\n",
            "33      low\n",
            "Name: high.1, dtype: object\n"
          ],
          "name": "stdout"
        }
      ]
    },
    {
      "cell_type": "markdown",
      "metadata": {
        "id": "wAVsnKbc7UOj"
      },
      "source": [
        "Question 5:(5 Points) Your fifth task is to find the index value for each auto having 2 doors and a luggage value of \"big\". Create a\n",
        "new list to store your findings and be sure to print your results.\n",
        "\n",
        "Ansewr 5: The indexs for vehicles that have two doors and a luggage size of big are Index 2, Index 11, index 18, Index 20."
      ]
    },
    {
      "cell_type": "code",
      "metadata": {
        "id": "mNCiCMGE7Wr_",
        "outputId": "4ed2368b-8772-4aba-efc3-39dcbb46ca28",
        "colab": {
          "base_uri": "https://localhost:8080/",
          "height": 1000
        }
      },
      "source": [
        "third_column_df = (df.iloc[:, 2])\n",
        "print(third_column_df =='2')\n",
        "fifth_column_df = (df.iloc[:, 4])\n",
        "print(fifth_column_df=='big')"
      ],
      "execution_count": 15,
      "outputs": [
        {
          "output_type": "stream",
          "text": [
            "0     False\n",
            "1     False\n",
            "2      True\n",
            "3     False\n",
            "4      True\n",
            "5     False\n",
            "6     False\n",
            "7      True\n",
            "8     False\n",
            "9      True\n",
            "10    False\n",
            "11     True\n",
            "12    False\n",
            "13    False\n",
            "14     True\n",
            "15     True\n",
            "16    False\n",
            "17    False\n",
            "18     True\n",
            "19    False\n",
            "20     True\n",
            "21    False\n",
            "22     True\n",
            "23    False\n",
            "24    False\n",
            "25    False\n",
            "26    False\n",
            "27    False\n",
            "28    False\n",
            "29    False\n",
            "30    False\n",
            "31    False\n",
            "32    False\n",
            "33    False\n",
            "Name: 2, dtype: bool\n",
            "0     False\n",
            "1      True\n",
            "2      True\n",
            "3     False\n",
            "4     False\n",
            "5     False\n",
            "6      True\n",
            "7     False\n",
            "8     False\n",
            "9     False\n",
            "10    False\n",
            "11     True\n",
            "12     True\n",
            "13     True\n",
            "14    False\n",
            "15    False\n",
            "16    False\n",
            "17    False\n",
            "18     True\n",
            "19     True\n",
            "20    False\n",
            "21    False\n",
            "22     True\n",
            "23     True\n",
            "24     True\n",
            "25    False\n",
            "26    False\n",
            "27     True\n",
            "28    False\n",
            "29    False\n",
            "30    False\n",
            "31    False\n",
            "32     True\n",
            "33     True\n",
            "Name: med, dtype: bool\n"
          ],
          "name": "stdout"
        }
      ]
    },
    {
      "cell_type": "markdown",
      "metadata": {
        "id": "eoFxi9MQ9G-t"
      },
      "source": [
        "Question 6:(5 Points) Finally, create a new list containing the only the integer equivalents of the doors values. Keep in mind that\n",
        "the lists you have created thus far are composed solely of strings. If you find any values of '5more' in your list,\n",
        "convert them to a '5'. After converting the '5more' values to '5', convert all of the items in your list to their numeric\n",
        "equivalent and calculate the average number of doors across all 35 autos using whichever of Python's built in\n",
        "functions you require. Print your result\n",
        "\n",
        "Answer 6: The average number doors acroos all Auto's is 3.26."
      ]
    },
    {
      "cell_type": "code",
      "metadata": {
        "id": "zBCFobaK9Ik1",
        "outputId": "11b51047-1cb4-4856-f934-c1a81cf4cee2",
        "colab": {
          "base_uri": "https://localhost:8080/",
          "height": 72
        }
      },
      "source": [
        "third_column_list = list(df.iloc[:, 2])\n",
        "print(third_column_list)\n",
        "third_column_list[13]='5'\n",
        "third_column_list[16]='5'\n",
        "third_column_list[21]='5'\n",
        "third_column_list[27]='5'\n",
        "third_column_list[28]='5'\n",
        "third_column_list[30]='5'\n",
        "third_column_list[31]='5'\n",
        "print(third_column_list)"
      ],
      "execution_count": 16,
      "outputs": [
        {
          "output_type": "stream",
          "text": [
            "['4', '4', '2', '3', '2', '4', '3', '2', '4', '2', '4', '2', '3', '5more', '2', '2', '5more', '3', '2', '4', '2', '5more', '2', '4', '3', '3', '3', '5more', '5more', '3', '5more', '5more', '4', '3']\n",
            "['4', '4', '2', '3', '2', '4', '3', '2', '4', '2', '4', '2', '3', '5', '2', '2', '5', '3', '2', '4', '2', '5', '2', '4', '3', '3', '3', '5', '5', '3', '5', '5', '4', '3']\n"
          ],
          "name": "stdout"
        }
      ]
    },
    {
      "cell_type": "code",
      "metadata": {
        "id": "Wi5ijqpHGFPj",
        "outputId": "c163bdd4-bf42-4aee-bc1d-ca9789bebdfb",
        "colab": {
          "base_uri": "https://localhost:8080/",
          "height": 52
        }
      },
      "source": [
        "pd.to_numeric(third_column_list)"
      ],
      "execution_count": 17,
      "outputs": [
        {
          "output_type": "execute_result",
          "data": {
            "text/plain": [
              "array([4, 4, 2, 3, 2, 4, 3, 2, 4, 2, 4, 2, 3, 5, 2, 2, 5, 3, 2, 4, 2, 5,\n",
              "       2, 4, 3, 3, 3, 5, 5, 3, 5, 5, 4, 3])"
            ]
          },
          "metadata": {
            "tags": []
          },
          "execution_count": 17
        }
      ]
    },
    {
      "cell_type": "code",
      "metadata": {
        "id": "-a8XmWsPKs9H",
        "outputId": "394b6f3e-c1c3-4e22-cbb3-106d736ab06c",
        "colab": {
          "base_uri": "https://localhost:8080/",
          "height": 35
        }
      },
      "source": [
        "sum(pd.to_numeric(third_column_list))/35"
      ],
      "execution_count": 18,
      "outputs": [
        {
          "output_type": "execute_result",
          "data": {
            "text/plain": [
              "3.257142857142857"
            ]
          },
          "metadata": {
            "tags": []
          },
          "execution_count": 18
        }
      ]
    }
  ]
}