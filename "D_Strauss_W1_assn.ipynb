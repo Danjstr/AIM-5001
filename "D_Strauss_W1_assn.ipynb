{
  "nbformat": 4,
  "nbformat_minor": 0,
  "metadata": {
    "colab": {
      "name": "\"D_Strauss_W1_assn",
      "provenance": [],
      "authorship_tag": "ABX9TyOWBmMbfR3JTO15DoEHgHfO",
      "include_colab_link": true
    },
    "kernelspec": {
      "name": "python3",
      "display_name": "Python 3"
    }
  },
  "cells": [
    {
      "cell_type": "markdown",
      "metadata": {
        "id": "view-in-github",
        "colab_type": "text"
      },
      "source": [
        "<a href=\"https://colab.research.google.com/github/Danjstr/AIM-5001/blob/master/%22D_Strauss_W1_assn.ipynb\" target=\"_parent\"><img src=\"https://colab.research.google.com/assets/colab-badge.svg\" alt=\"Open In Colab\"/></a>"
      ]
    },
    {
      "cell_type": "markdown",
      "metadata": {
        "id": "2V01sr8uBpzC",
        "colab_type": "text"
      },
      "source": [
        "Github copy of data set"
      ]
    },
    {
      "cell_type": "markdown",
      "metadata": {
        "id": "nQiWvQkDCLJp",
        "colab_type": "text"
      },
      "source": [
        "https://github.com/Danjstr/AIM-5001"
      ]
    },
    {
      "cell_type": "markdown",
      "metadata": {
        "id": "9apRwnjPB3r7",
        "colab_type": "text"
      },
      "source": [
        "Original loation of data set"
      ]
    },
    {
      "cell_type": "markdown",
      "metadata": {
        "id": "PTmsg-GZCAIe",
        "colab_type": "text"
      },
      "source": [
        "https://data.fivethirtyeight.com/"
      ]
    },
    {
      "cell_type": "markdown",
      "metadata": {
        "id": "TK-TBh8oCrvq",
        "colab_type": "text"
      },
      "source": [
        "I would like to do a basic election forcast before the presidential election. I could compare my work with the actual results when they are anounced."
      ]
    }
  ]
}