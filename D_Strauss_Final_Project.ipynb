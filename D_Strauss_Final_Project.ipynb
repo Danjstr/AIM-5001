{
  "nbformat": 4,
  "nbformat_minor": 0,
  "metadata": {
    "kernelspec": {
      "display_name": "Python 3",
      "language": "python",
      "name": "python3"
    },
    "language_info": {
      "codemirror_mode": {
        "name": "ipython",
        "version": 3
      },
      "file_extension": ".py",
      "mimetype": "text/x-python",
      "name": "python",
      "nbconvert_exporter": "python",
      "pygments_lexer": "ipython3",
      "version": "3.8.3"
    },
    "colab": {
      "name": "D_Strauss_Final_Project.ipynb",
      "provenance": [],
      "collapsed_sections": [],
      "include_colab_link": true
    }
  },
  "cells": [
    {
      "cell_type": "markdown",
      "metadata": {
        "id": "view-in-github",
        "colab_type": "text"
      },
      "source": [
        "<a href=\"https://colab.research.google.com/github/Danjstr/AIM-5001/blob/master/D_Strauss_Final_Project.ipynb\" target=\"_parent\"><img src=\"https://colab.research.google.com/assets/colab-badge.svg\" alt=\"Open In Colab\"/></a>"
      ]
    },
    {
      "cell_type": "markdown",
      "metadata": {
        "id": "vfpHvgmd0_28"
      },
      "source": [
        "# AIM 5001 Final Project"
      ]
    },
    {
      "cell_type": "markdown",
      "metadata": {
        "id": "vmf0K0VgdJVZ"
      },
      "source": [
        "**Introduction**\n",
        "\n",
        "Nasa has been observing space for the last several decades using ever more sophisticated space telescopes. They have used these telescopes to determine and confirm that other planets exist around other stars in our galaxy and beyond. One of these Space telescopes The Keplar Space Telescope has been instrumental in identifying many objects of interest outside our solar system. Many of these objects of Intrest have been confirmed planets by Nasa. This data can be hard to interoperate and with new planets popping up every so often it is hard to generate a real understanding of the process involved in identifying planets. Today we usually get a NASA press release on page 37 of some odd journal claiming the discovery of a new planet. There is little in the way of public knowledge regarding the process of determining if an identified object is a planet and what the limits of the current technology are. As such we will be making comparisons between the Mass of the confirmed planets Table with our Solar system. As well as Comparing the orbital periods of the Confirmed planets table and the Kepler objects of interest table."
      ]
    },
    {
      "cell_type": "markdown",
      "metadata": {
        "id": "wS_P6iph0_2_"
      },
      "source": [
        "**Research Questions**\n",
        "\n",
        "Question 1: I will be determining the average mass of Kepler confirmed planets, as well as the mass of the smallest Keplar, confirmed planet. Then comparing it to the mass of the planets in our solar system to determine if the Keplar space telescope is biased to larger planets that are easier to see.\n",
        "\n",
        "Question 2: I will be Comparing the orbital periods of the Confirmed planets table and the Kepler objects of interest table to gain better insight into the data.\n"
      ]
    },
    {
      "cell_type": "markdown",
      "metadata": {
        "id": "qIaSbM8u0_2_"
      },
      "source": [
        "**Data to be Used**\n",
        "\n",
        "The data used will come primarily from two different sources. The first \"Kepler Objects of Interest (KOI)\" Table and the second the \"Confirmed Planets (Exoplanet)\" Table.\n",
        "\n",
        "\n",
        "The first Table \"Kepler Objects of Interest (KOI)\" will be provided as a csv. Information on this table can be found via the provided Kaggle link.\n",
        "\n",
        "https://www.kaggle.com/nasa/kepler-exoplanet-search-results?select=cumulative.csv\n",
        "\n",
        "\n",
        "The second Table the \"Confirmed Planets (Exoplanet)\" Table will be provided via the API using the instructions on the bellow webpage. \n",
        "\n",
        "https://exoplanetarchive.ipac.caltech.edu/docs/program_interfaces.html\n",
        "\n",
        "\n",
        "Any data from our solar system used for comparison will be entered manually into the code as this is the easiest method to use when dealing with so few data points. Our solar system data will be based on relevant data from the following webpage. \n",
        "\n",
        "http://www.astromax.org/planets.htm\n",
        "\n"
      ]
    },
    {
      "cell_type": "markdown",
      "metadata": {
        "id": "NB17hTr4Cx9h"
      },
      "source": [
        "Approach: For research question 1: I will also be determining the mean and min of the mass of all planets discovered by Kepler to determine if the Telescope has trouble locating smaller objects and planets.  I will be using a box plot and histogram to determine the spread of the mass of the planets. This will be compared with the mass of objects in our solar system to determine the lower limit on the mass of planets Kepler can identify."
      ]
    },
    {
      "cell_type": "markdown",
      "metadata": {
        "id": "oIOiujkGxAdQ"
      },
      "source": [
        "We begin by importing All of our necessary libraries."
      ]
    },
    {
      "cell_type": "code",
      "metadata": {
        "id": "E772VaABbqBW"
      },
      "source": [
        "\r\n",
        "#import pandas as pd\r\n",
        "import pandas as pd\r\n",
        "#import matplotlib.pyplot as plt\r\n",
        "import matplotlib.pyplot as plt\r\n",
        "#import seaborn as sns\r\n",
        "import seaborn as sns\r\n",
        "#import LinearRegression from sklearn\r\n",
        "from sklearn.linear_model import LinearRegression\r\n",
        "#import train test split from sklearn\r\n",
        "from sklearn.model_selection import train_test_split\r\n",
        "#import metrics from sklearn\r\n",
        "from sklearn import metrics\r\n",
        "#import cross_val_score from sklearn\r\n",
        "from sklearn.model_selection import cross_val_score\r\n",
        "#import numpy as np\r\n",
        "import numpy as np\r\n",
        "\r\n"
      ],
      "execution_count": 65,
      "outputs": []
    },
    {
      "cell_type": "markdown",
      "metadata": {
        "id": "_GgZord6xy5g"
      },
      "source": [
        "Create a dictionary for all the planets in our solar system. We will be including the Moon and Pluto even though they technically don't count just for the extra data points. Then we will turn that dictionary into a DataFrame."
      ]
    },
    {
      "cell_type": "code",
      "metadata": {
        "id": "0h4SUWnNN9vM"
      },
      "source": [
        "#Create a dictionary for all the mass of the planets in our solar system\r\n",
        "plan_dic={'Mercury':0.055274, 'Venus':0.815005, 'Earth':1,'Moon':0.0123,'Mars':0.107447,'Jupiter':317.833,'Saturn':95.159,'Uranus':14.5,'Neptune':17.204,'Pluto':0.0025}"
      ],
      "execution_count": 66,
      "outputs": []
    },
    {
      "cell_type": "code",
      "metadata": {
        "colab": {
          "base_uri": "https://localhost:8080/"
        },
        "id": "x0ACc-pjOHre",
        "outputId": "4bb8688c-c78f-4a5e-e741-281cd0fab766"
      },
      "source": [
        "#Print the dictionary\r\n",
        "print(plan_dic)"
      ],
      "execution_count": 67,
      "outputs": [
        {
          "output_type": "stream",
          "text": [
            "{'Mercury': 0.055274, 'Venus': 0.815005, 'Earth': 1, 'Moon': 0.0123, 'Mars': 0.107447, 'Jupiter': 317.833, 'Saturn': 95.159, 'Uranus': 14.5, 'Neptune': 17.204, 'Pluto': 0.0025}\n"
          ],
          "name": "stdout"
        }
      ]
    },
    {
      "cell_type": "code",
      "metadata": {
        "id": "BZ5X1egtKQBY"
      },
      "source": [
        "#Turn the dictionary into a dataframe\r\n",
        "df = pd.DataFrame([plan_dic])\r\n"
      ],
      "execution_count": 68,
      "outputs": []
    },
    {
      "cell_type": "code",
      "metadata": {
        "colab": {
          "base_uri": "https://localhost:8080/",
          "height": 79
        },
        "id": "fPp0NufnOnnb",
        "outputId": "d9a36bd0-eb68-4af0-9111-6cf237a72ab3"
      },
      "source": [
        "#Show the results\r\n",
        "df"
      ],
      "execution_count": 69,
      "outputs": [
        {
          "output_type": "execute_result",
          "data": {
            "text/html": [
              "<div>\n",
              "<style scoped>\n",
              "    .dataframe tbody tr th:only-of-type {\n",
              "        vertical-align: middle;\n",
              "    }\n",
              "\n",
              "    .dataframe tbody tr th {\n",
              "        vertical-align: top;\n",
              "    }\n",
              "\n",
              "    .dataframe thead th {\n",
              "        text-align: right;\n",
              "    }\n",
              "</style>\n",
              "<table border=\"1\" class=\"dataframe\">\n",
              "  <thead>\n",
              "    <tr style=\"text-align: right;\">\n",
              "      <th></th>\n",
              "      <th>Mercury</th>\n",
              "      <th>Venus</th>\n",
              "      <th>Earth</th>\n",
              "      <th>Moon</th>\n",
              "      <th>Mars</th>\n",
              "      <th>Jupiter</th>\n",
              "      <th>Saturn</th>\n",
              "      <th>Uranus</th>\n",
              "      <th>Neptune</th>\n",
              "      <th>Pluto</th>\n",
              "    </tr>\n",
              "  </thead>\n",
              "  <tbody>\n",
              "    <tr>\n",
              "      <th>0</th>\n",
              "      <td>0.055274</td>\n",
              "      <td>0.815005</td>\n",
              "      <td>1</td>\n",
              "      <td>0.0123</td>\n",
              "      <td>0.107447</td>\n",
              "      <td>317.833</td>\n",
              "      <td>95.159</td>\n",
              "      <td>14.5</td>\n",
              "      <td>17.204</td>\n",
              "      <td>0.0025</td>\n",
              "    </tr>\n",
              "  </tbody>\n",
              "</table>\n",
              "</div>"
            ],
            "text/plain": [
              "    Mercury     Venus  Earth    Moon  ...  Saturn  Uranus  Neptune   Pluto\n",
              "0  0.055274  0.815005      1  0.0123  ...  95.159    14.5   17.204  0.0025\n",
              "\n",
              "[1 rows x 10 columns]"
            ]
          },
          "metadata": {
            "tags": []
          },
          "execution_count": 69
        }
      ]
    },
    {
      "cell_type": "markdown",
      "metadata": {
        "id": "ouywN0QGOx2p"
      },
      "source": [
        "The rest of our data and the confirmed planet data is in Jupiter mass units. This means all our data below counts with Jupiters mass = 1. The table we created above has our solar system in earth mass units in other words earth = 1. This means we will need to convert our table and divide all it's values by 317.833 to make sure we are working in the same units as our confirmed planet table. This is to ensure there are no errors during later analysis."
      ]
    },
    {
      "cell_type": "code",
      "metadata": {
        "colab": {
          "base_uri": "https://localhost:8080/",
          "height": 79
        },
        "id": "YJtFO3IWPXAq",
        "outputId": "7f9e9209-7894-4ae9-9e9a-00e8fcc8914c"
      },
      "source": [
        "#Convert to Jupiter Mass Units\r\n",
        "df=df/317.833\r\n",
        "df"
      ],
      "execution_count": 70,
      "outputs": [
        {
          "output_type": "execute_result",
          "data": {
            "text/html": [
              "<div>\n",
              "<style scoped>\n",
              "    .dataframe tbody tr th:only-of-type {\n",
              "        vertical-align: middle;\n",
              "    }\n",
              "\n",
              "    .dataframe tbody tr th {\n",
              "        vertical-align: top;\n",
              "    }\n",
              "\n",
              "    .dataframe thead th {\n",
              "        text-align: right;\n",
              "    }\n",
              "</style>\n",
              "<table border=\"1\" class=\"dataframe\">\n",
              "  <thead>\n",
              "    <tr style=\"text-align: right;\">\n",
              "      <th></th>\n",
              "      <th>Mercury</th>\n",
              "      <th>Venus</th>\n",
              "      <th>Earth</th>\n",
              "      <th>Moon</th>\n",
              "      <th>Mars</th>\n",
              "      <th>Jupiter</th>\n",
              "      <th>Saturn</th>\n",
              "      <th>Uranus</th>\n",
              "      <th>Neptune</th>\n",
              "      <th>Pluto</th>\n",
              "    </tr>\n",
              "  </thead>\n",
              "  <tbody>\n",
              "    <tr>\n",
              "      <th>0</th>\n",
              "      <td>0.000174</td>\n",
              "      <td>0.002564</td>\n",
              "      <td>0.003146</td>\n",
              "      <td>0.000039</td>\n",
              "      <td>0.000338</td>\n",
              "      <td>1.0</td>\n",
              "      <td>0.299399</td>\n",
              "      <td>0.045621</td>\n",
              "      <td>0.054129</td>\n",
              "      <td>0.000008</td>\n",
              "    </tr>\n",
              "  </tbody>\n",
              "</table>\n",
              "</div>"
            ],
            "text/plain": [
              "    Mercury     Venus     Earth  ...    Uranus   Neptune     Pluto\n",
              "0  0.000174  0.002564  0.003146  ...  0.045621  0.054129  0.000008\n",
              "\n",
              "[1 rows x 10 columns]"
            ]
          },
          "metadata": {
            "tags": []
          },
          "execution_count": 70
        }
      ]
    },
    {
      "cell_type": "markdown",
      "metadata": {
        "id": "FM5zOFmiy3Ro"
      },
      "source": [
        "Unstack the data so that we have all our planets as a column next to our mass data. \r\n",
        "We rename the columns and give them an appropriate designation, Planets, and Mass respectively.\r\n",
        "Finally, we drop the column = 'level_1' as it is unneeded. Group the data by mass so that we can see the planets from least massive to most massive. Then reset the index as the group function will turn the grouped mass data into the index and we need it as a column."
      ]
    },
    {
      "cell_type": "code",
      "metadata": {
        "id": "3_snhRWMTUkZ"
      },
      "source": [
        "#Unstack the dataframe so that we have a column each for our planets and mass respectively\r\n",
        "df=pd.DataFrame(df.unstack().reset_index())"
      ],
      "execution_count": 71,
      "outputs": []
    },
    {
      "cell_type": "code",
      "metadata": {
        "colab": {
          "base_uri": "https://localhost:8080/",
          "height": 355
        },
        "id": "21QDqwqNS4Tp",
        "outputId": "508bc6b1-51b2-40ea-8a16-bf93b478374d"
      },
      "source": [
        "#RRename the Mass column\r\n",
        "df = df.rename(columns={0: \"mass\"})\r\n",
        "# Rename the Planet column\r\n",
        "df = df.rename(columns={\"level_0\": \"Planets\"})\r\n",
        "#Drop the column 'level_1' it is not necessary\r\n",
        "df=df.drop(columns=['level_1'])\r\n",
        "#Show the result\r\n",
        "df"
      ],
      "execution_count": 72,
      "outputs": [
        {
          "output_type": "execute_result",
          "data": {
            "text/html": [
              "<div>\n",
              "<style scoped>\n",
              "    .dataframe tbody tr th:only-of-type {\n",
              "        vertical-align: middle;\n",
              "    }\n",
              "\n",
              "    .dataframe tbody tr th {\n",
              "        vertical-align: top;\n",
              "    }\n",
              "\n",
              "    .dataframe thead th {\n",
              "        text-align: right;\n",
              "    }\n",
              "</style>\n",
              "<table border=\"1\" class=\"dataframe\">\n",
              "  <thead>\n",
              "    <tr style=\"text-align: right;\">\n",
              "      <th></th>\n",
              "      <th>Planets</th>\n",
              "      <th>mass</th>\n",
              "    </tr>\n",
              "  </thead>\n",
              "  <tbody>\n",
              "    <tr>\n",
              "      <th>0</th>\n",
              "      <td>Mercury</td>\n",
              "      <td>0.000174</td>\n",
              "    </tr>\n",
              "    <tr>\n",
              "      <th>1</th>\n",
              "      <td>Venus</td>\n",
              "      <td>0.002564</td>\n",
              "    </tr>\n",
              "    <tr>\n",
              "      <th>2</th>\n",
              "      <td>Earth</td>\n",
              "      <td>0.003146</td>\n",
              "    </tr>\n",
              "    <tr>\n",
              "      <th>3</th>\n",
              "      <td>Moon</td>\n",
              "      <td>0.000039</td>\n",
              "    </tr>\n",
              "    <tr>\n",
              "      <th>4</th>\n",
              "      <td>Mars</td>\n",
              "      <td>0.000338</td>\n",
              "    </tr>\n",
              "    <tr>\n",
              "      <th>5</th>\n",
              "      <td>Jupiter</td>\n",
              "      <td>1.000000</td>\n",
              "    </tr>\n",
              "    <tr>\n",
              "      <th>6</th>\n",
              "      <td>Saturn</td>\n",
              "      <td>0.299399</td>\n",
              "    </tr>\n",
              "    <tr>\n",
              "      <th>7</th>\n",
              "      <td>Uranus</td>\n",
              "      <td>0.045621</td>\n",
              "    </tr>\n",
              "    <tr>\n",
              "      <th>8</th>\n",
              "      <td>Neptune</td>\n",
              "      <td>0.054129</td>\n",
              "    </tr>\n",
              "    <tr>\n",
              "      <th>9</th>\n",
              "      <td>Pluto</td>\n",
              "      <td>0.000008</td>\n",
              "    </tr>\n",
              "  </tbody>\n",
              "</table>\n",
              "</div>"
            ],
            "text/plain": [
              "   Planets      mass\n",
              "0  Mercury  0.000174\n",
              "1    Venus  0.002564\n",
              "2    Earth  0.003146\n",
              "3     Moon  0.000039\n",
              "4     Mars  0.000338\n",
              "5  Jupiter  1.000000\n",
              "6   Saturn  0.299399\n",
              "7   Uranus  0.045621\n",
              "8  Neptune  0.054129\n",
              "9    Pluto  0.000008"
            ]
          },
          "metadata": {
            "tags": []
          },
          "execution_count": 72
        }
      ]
    },
    {
      "cell_type": "code",
      "metadata": {
        "colab": {
          "base_uri": "https://localhost:8080/",
          "height": 386
        },
        "id": "Q0T_9gyLdq0V",
        "outputId": "582db86b-5fd0-4888-e022-3a2249a5c316"
      },
      "source": [
        "#Group the data by mass so that we can see the planets from least massive to most massive\r\n",
        "df0=df.groupby('mass').first()\r\n",
        "df0"
      ],
      "execution_count": 73,
      "outputs": [
        {
          "output_type": "execute_result",
          "data": {
            "text/html": [
              "<div>\n",
              "<style scoped>\n",
              "    .dataframe tbody tr th:only-of-type {\n",
              "        vertical-align: middle;\n",
              "    }\n",
              "\n",
              "    .dataframe tbody tr th {\n",
              "        vertical-align: top;\n",
              "    }\n",
              "\n",
              "    .dataframe thead th {\n",
              "        text-align: right;\n",
              "    }\n",
              "</style>\n",
              "<table border=\"1\" class=\"dataframe\">\n",
              "  <thead>\n",
              "    <tr style=\"text-align: right;\">\n",
              "      <th></th>\n",
              "      <th>Planets</th>\n",
              "    </tr>\n",
              "    <tr>\n",
              "      <th>mass</th>\n",
              "      <th></th>\n",
              "    </tr>\n",
              "  </thead>\n",
              "  <tbody>\n",
              "    <tr>\n",
              "      <th>0.000008</th>\n",
              "      <td>Pluto</td>\n",
              "    </tr>\n",
              "    <tr>\n",
              "      <th>0.000039</th>\n",
              "      <td>Moon</td>\n",
              "    </tr>\n",
              "    <tr>\n",
              "      <th>0.000174</th>\n",
              "      <td>Mercury</td>\n",
              "    </tr>\n",
              "    <tr>\n",
              "      <th>0.000338</th>\n",
              "      <td>Mars</td>\n",
              "    </tr>\n",
              "    <tr>\n",
              "      <th>0.002564</th>\n",
              "      <td>Venus</td>\n",
              "    </tr>\n",
              "    <tr>\n",
              "      <th>0.003146</th>\n",
              "      <td>Earth</td>\n",
              "    </tr>\n",
              "    <tr>\n",
              "      <th>0.045621</th>\n",
              "      <td>Uranus</td>\n",
              "    </tr>\n",
              "    <tr>\n",
              "      <th>0.054129</th>\n",
              "      <td>Neptune</td>\n",
              "    </tr>\n",
              "    <tr>\n",
              "      <th>0.299399</th>\n",
              "      <td>Saturn</td>\n",
              "    </tr>\n",
              "    <tr>\n",
              "      <th>1.000000</th>\n",
              "      <td>Jupiter</td>\n",
              "    </tr>\n",
              "  </tbody>\n",
              "</table>\n",
              "</div>"
            ],
            "text/plain": [
              "          Planets\n",
              "mass             \n",
              "0.000008    Pluto\n",
              "0.000039     Moon\n",
              "0.000174  Mercury\n",
              "0.000338     Mars\n",
              "0.002564    Venus\n",
              "0.003146    Earth\n",
              "0.045621   Uranus\n",
              "0.054129  Neptune\n",
              "0.299399   Saturn\n",
              "1.000000  Jupiter"
            ]
          },
          "metadata": {
            "tags": []
          },
          "execution_count": 73
        }
      ]
    },
    {
      "cell_type": "code",
      "metadata": {
        "colab": {
          "base_uri": "https://localhost:8080/",
          "height": 355
        },
        "id": "K1wHQzBuuBhS",
        "outputId": "820d6848-055b-4ffa-b340-ef59a1cf0998"
      },
      "source": [
        "df=df0.reset_index()\r\n",
        "df"
      ],
      "execution_count": 74,
      "outputs": [
        {
          "output_type": "execute_result",
          "data": {
            "text/html": [
              "<div>\n",
              "<style scoped>\n",
              "    .dataframe tbody tr th:only-of-type {\n",
              "        vertical-align: middle;\n",
              "    }\n",
              "\n",
              "    .dataframe tbody tr th {\n",
              "        vertical-align: top;\n",
              "    }\n",
              "\n",
              "    .dataframe thead th {\n",
              "        text-align: right;\n",
              "    }\n",
              "</style>\n",
              "<table border=\"1\" class=\"dataframe\">\n",
              "  <thead>\n",
              "    <tr style=\"text-align: right;\">\n",
              "      <th></th>\n",
              "      <th>mass</th>\n",
              "      <th>Planets</th>\n",
              "    </tr>\n",
              "  </thead>\n",
              "  <tbody>\n",
              "    <tr>\n",
              "      <th>0</th>\n",
              "      <td>0.000008</td>\n",
              "      <td>Pluto</td>\n",
              "    </tr>\n",
              "    <tr>\n",
              "      <th>1</th>\n",
              "      <td>0.000039</td>\n",
              "      <td>Moon</td>\n",
              "    </tr>\n",
              "    <tr>\n",
              "      <th>2</th>\n",
              "      <td>0.000174</td>\n",
              "      <td>Mercury</td>\n",
              "    </tr>\n",
              "    <tr>\n",
              "      <th>3</th>\n",
              "      <td>0.000338</td>\n",
              "      <td>Mars</td>\n",
              "    </tr>\n",
              "    <tr>\n",
              "      <th>4</th>\n",
              "      <td>0.002564</td>\n",
              "      <td>Venus</td>\n",
              "    </tr>\n",
              "    <tr>\n",
              "      <th>5</th>\n",
              "      <td>0.003146</td>\n",
              "      <td>Earth</td>\n",
              "    </tr>\n",
              "    <tr>\n",
              "      <th>6</th>\n",
              "      <td>0.045621</td>\n",
              "      <td>Uranus</td>\n",
              "    </tr>\n",
              "    <tr>\n",
              "      <th>7</th>\n",
              "      <td>0.054129</td>\n",
              "      <td>Neptune</td>\n",
              "    </tr>\n",
              "    <tr>\n",
              "      <th>8</th>\n",
              "      <td>0.299399</td>\n",
              "      <td>Saturn</td>\n",
              "    </tr>\n",
              "    <tr>\n",
              "      <th>9</th>\n",
              "      <td>1.000000</td>\n",
              "      <td>Jupiter</td>\n",
              "    </tr>\n",
              "  </tbody>\n",
              "</table>\n",
              "</div>"
            ],
            "text/plain": [
              "       mass  Planets\n",
              "0  0.000008    Pluto\n",
              "1  0.000039     Moon\n",
              "2  0.000174  Mercury\n",
              "3  0.000338     Mars\n",
              "4  0.002564    Venus\n",
              "5  0.003146    Earth\n",
              "6  0.045621   Uranus\n",
              "7  0.054129  Neptune\n",
              "8  0.299399   Saturn\n",
              "9  1.000000  Jupiter"
            ]
          },
          "metadata": {
            "tags": []
          },
          "execution_count": 74
        }
      ]
    },
    {
      "cell_type": "markdown",
      "metadata": {
        "id": "wyUAjLl9TBRj"
      },
      "source": [
        "The exoplanet archive is unbelievably simple to use. There is no API Key required for use. A user simply makes a request to the API using the appropriate query. All Nasa data is owned by the public I believe this is the reason for the absence of an API key."
      ]
    },
    {
      "cell_type": "markdown",
      "metadata": {
        "id": "243PvV-C0U-p"
      },
      "source": [
        "![Screenshot (191).png](data:image/png;base64,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)"
      ]
    },
    {
      "cell_type": "code",
      "metadata": {
        "id": "XzugTtJ5ReR0"
      },
      "source": [
        "#Improt our confirmed planets from the Caltech API.\n",
        "conf_plan = \"https://exoplanetarchive.ipac.caltech.edu/cgi-bin/nstedAPI/nph-nstedAPI?table=exoplanets&select=pl_name,pl_bmassj,pl_orbper\"\n",
        "\n"
      ],
      "execution_count": 75,
      "outputs": []
    },
    {
      "cell_type": "markdown",
      "metadata": {
        "id": "hyoU07PR2Nhg"
      },
      "source": [
        "Our API request allows us to pull only the data we need from Caltechs archive of NASA data. For this scenario, we are pulling the planet's name for our personal use. It will help us keep things organized. The planet's mass for our first research question and the planet's orbital periods in earth days for our second research question. We will then convert all our data into a Dataframe."
      ]
    },
    {
      "cell_type": "code",
      "metadata": {
        "colab": {
          "base_uri": "https://localhost:8080/",
          "height": 202
        },
        "id": "7ubbpw8dRYD0",
        "outputId": "cc6bb7c2-c848-4ded-b001-b45dab29af61"
      },
      "source": [
        "#Read our confirmed planets into a pandas dataframe\r\n",
        "df2 = pd.read_csv(conf_plan)\r\n",
        "#Show the results\r\n",
        "df2.head()"
      ],
      "execution_count": 76,
      "outputs": [
        {
          "output_type": "execute_result",
          "data": {
            "text/html": [
              "<div>\n",
              "<style scoped>\n",
              "    .dataframe tbody tr th:only-of-type {\n",
              "        vertical-align: middle;\n",
              "    }\n",
              "\n",
              "    .dataframe tbody tr th {\n",
              "        vertical-align: top;\n",
              "    }\n",
              "\n",
              "    .dataframe thead th {\n",
              "        text-align: right;\n",
              "    }\n",
              "</style>\n",
              "<table border=\"1\" class=\"dataframe\">\n",
              "  <thead>\n",
              "    <tr style=\"text-align: right;\">\n",
              "      <th></th>\n",
              "      <th>pl_name</th>\n",
              "      <th>pl_bmassj</th>\n",
              "      <th>pl_orbper</th>\n",
              "    </tr>\n",
              "  </thead>\n",
              "  <tbody>\n",
              "    <tr>\n",
              "      <th>0</th>\n",
              "      <td>HD 177830 b</td>\n",
              "      <td>1.690</td>\n",
              "      <td>410.100010</td>\n",
              "    </tr>\n",
              "    <tr>\n",
              "      <th>1</th>\n",
              "      <td>HD 177830 c</td>\n",
              "      <td>0.150</td>\n",
              "      <td>110.900000</td>\n",
              "    </tr>\n",
              "    <tr>\n",
              "      <th>2</th>\n",
              "      <td>HD 178911 B b</td>\n",
              "      <td>8.030</td>\n",
              "      <td>71.484000</td>\n",
              "    </tr>\n",
              "    <tr>\n",
              "      <th>3</th>\n",
              "      <td>HD 179079 b</td>\n",
              "      <td>0.081</td>\n",
              "      <td>14.479000</td>\n",
              "    </tr>\n",
              "    <tr>\n",
              "      <th>4</th>\n",
              "      <td>HD 179949 b</td>\n",
              "      <td>0.916</td>\n",
              "      <td>3.092514</td>\n",
              "    </tr>\n",
              "  </tbody>\n",
              "</table>\n",
              "</div>"
            ],
            "text/plain": [
              "         pl_name  pl_bmassj   pl_orbper\n",
              "0    HD 177830 b      1.690  410.100010\n",
              "1    HD 177830 c      0.150  110.900000\n",
              "2  HD 178911 B b      8.030   71.484000\n",
              "3    HD 179079 b      0.081   14.479000\n",
              "4    HD 179949 b      0.916    3.092514"
            ]
          },
          "metadata": {
            "tags": []
          },
          "execution_count": 76
        }
      ]
    },
    {
      "cell_type": "markdown",
      "metadata": {
        "id": "T39OjPde3Xud"
      },
      "source": [
        "We need a statitistical overview of the data. So we will be generating some summary statistics, including the shape, data type, description, and information."
      ]
    },
    {
      "cell_type": "code",
      "metadata": {
        "colab": {
          "base_uri": "https://localhost:8080/"
        },
        "id": "D2Lkv4kQ5G4p",
        "outputId": "9e341f28-df1b-41d7-e39d-8af08455609c"
      },
      "source": [
        "#Show the shape of the data\r\n",
        "df2.shape"
      ],
      "execution_count": 77,
      "outputs": [
        {
          "output_type": "execute_result",
          "data": {
            "text/plain": [
              "(4324, 3)"
            ]
          },
          "metadata": {
            "tags": []
          },
          "execution_count": 77
        }
      ]
    },
    {
      "cell_type": "code",
      "metadata": {
        "colab": {
          "base_uri": "https://localhost:8080/"
        },
        "id": "b7w7gNvu5G4q",
        "outputId": "9393bacc-f0b5-4782-88a0-d48172493236"
      },
      "source": [
        "#Show the type of the data\r\n",
        "df2.dtypes"
      ],
      "execution_count": 78,
      "outputs": [
        {
          "output_type": "execute_result",
          "data": {
            "text/plain": [
              "pl_name       object\n",
              "pl_bmassj    float64\n",
              "pl_orbper    float64\n",
              "dtype: object"
            ]
          },
          "metadata": {
            "tags": []
          },
          "execution_count": 78
        }
      ]
    },
    {
      "cell_type": "code",
      "metadata": {
        "colab": {
          "base_uri": "https://localhost:8080/",
          "height": 294
        },
        "id": "2Gz4N5ws5G4q",
        "outputId": "7992b1c1-f2a7-4e8a-8730-655bad9d94d0"
      },
      "source": [
        "#Show the description of the data\r\n",
        "df2.describe()"
      ],
      "execution_count": 79,
      "outputs": [
        {
          "output_type": "execute_result",
          "data": {
            "text/html": [
              "<div>\n",
              "<style scoped>\n",
              "    .dataframe tbody tr th:only-of-type {\n",
              "        vertical-align: middle;\n",
              "    }\n",
              "\n",
              "    .dataframe tbody tr th {\n",
              "        vertical-align: top;\n",
              "    }\n",
              "\n",
              "    .dataframe thead th {\n",
              "        text-align: right;\n",
              "    }\n",
              "</style>\n",
              "<table border=\"1\" class=\"dataframe\">\n",
              "  <thead>\n",
              "    <tr style=\"text-align: right;\">\n",
              "      <th></th>\n",
              "      <th>pl_bmassj</th>\n",
              "      <th>pl_orbper</th>\n",
              "    </tr>\n",
              "  </thead>\n",
              "  <tbody>\n",
              "    <tr>\n",
              "      <th>count</th>\n",
              "      <td>1806.000000</td>\n",
              "      <td>4.180000e+03</td>\n",
              "    </tr>\n",
              "    <tr>\n",
              "      <th>mean</th>\n",
              "      <td>2.404317</td>\n",
              "      <td>2.060520e+03</td>\n",
              "    </tr>\n",
              "    <tr>\n",
              "      <th>std</th>\n",
              "      <td>4.371368</td>\n",
              "      <td>1.129482e+05</td>\n",
              "    </tr>\n",
              "    <tr>\n",
              "      <th>min</th>\n",
              "      <td>0.000060</td>\n",
              "      <td>9.070629e-02</td>\n",
              "    </tr>\n",
              "    <tr>\n",
              "      <th>25%</th>\n",
              "      <td>0.067413</td>\n",
              "      <td>4.465547e+00</td>\n",
              "    </tr>\n",
              "    <tr>\n",
              "      <th>50%</th>\n",
              "      <td>0.790000</td>\n",
              "      <td>1.176103e+01</td>\n",
              "    </tr>\n",
              "    <tr>\n",
              "      <th>75%</th>\n",
              "      <td>2.430000</td>\n",
              "      <td>4.169784e+01</td>\n",
              "    </tr>\n",
              "    <tr>\n",
              "      <th>max</th>\n",
              "      <td>55.590000</td>\n",
              "      <td>7.300000e+06</td>\n",
              "    </tr>\n",
              "  </tbody>\n",
              "</table>\n",
              "</div>"
            ],
            "text/plain": [
              "         pl_bmassj     pl_orbper\n",
              "count  1806.000000  4.180000e+03\n",
              "mean      2.404317  2.060520e+03\n",
              "std       4.371368  1.129482e+05\n",
              "min       0.000060  9.070629e-02\n",
              "25%       0.067413  4.465547e+00\n",
              "50%       0.790000  1.176103e+01\n",
              "75%       2.430000  4.169784e+01\n",
              "max      55.590000  7.300000e+06"
            ]
          },
          "metadata": {
            "tags": []
          },
          "execution_count": 79
        }
      ]
    },
    {
      "cell_type": "code",
      "metadata": {
        "colab": {
          "base_uri": "https://localhost:8080/"
        },
        "id": "pfm0ARnx5G4r",
        "outputId": "a870cf65-222d-4ef8-f0a4-f0e74e712695"
      },
      "source": [
        "#Show the information of the data\r\n",
        "df2.info()"
      ],
      "execution_count": 80,
      "outputs": [
        {
          "output_type": "stream",
          "text": [
            "<class 'pandas.core.frame.DataFrame'>\n",
            "RangeIndex: 4324 entries, 0 to 4323\n",
            "Data columns (total 3 columns):\n",
            " #   Column     Non-Null Count  Dtype  \n",
            "---  ------     --------------  -----  \n",
            " 0   pl_name    4324 non-null   object \n",
            " 1   pl_bmassj  1806 non-null   float64\n",
            " 2   pl_orbper  4180 non-null   float64\n",
            "dtypes: float64(2), object(1)\n",
            "memory usage: 101.5+ KB\n"
          ],
          "name": "stdout"
        }
      ]
    },
    {
      "cell_type": "markdown",
      "metadata": {
        "id": "G62dW7_KjRkK"
      },
      "source": [
        "As we can see from the information above the minimum mass recorded is 0.000060. This answers one part of our research question. This is relatively comparable to the 0.000039 mass of Earth's moon, at just 30% more massive. This means the Kepler space telescope can locate planets that are just 30% larger than Earth's moon.\r\n",
        "\r\n",
        "We could speculate that the smaller planets that were located happened to be the ones that were closer to earth. This however is outside the scope of our analysis."
      ]
    },
    {
      "cell_type": "markdown",
      "metadata": {
        "id": "KCAI0he25EcN"
      },
      "source": [
        "Another interesting thing to note from our summary statistics is that we are missing significant amounts of data from our pl_bmassj column and the pl_orber column.\r\n",
        "\r\n",
        "We will need to do a Forward Fill to fill out our data appropriately. But we need to make sure the distribution of the data remains unchanged by our forword fill as this is important for our analysis. We shall be using a histogram for this purpose."
      ]
    },
    {
      "cell_type": "code",
      "metadata": {
        "colab": {
          "base_uri": "https://localhost:8080/",
          "height": 313
        },
        "id": "OPsmV2EDD5QE",
        "outputId": "9e4bdad2-29d5-4edc-ace4-383063b94d74"
      },
      "source": [
        "#Show a histogram of the mass of the confrmed planet's data\r\n",
        "plt.hist(df2['pl_bmassj'],bins=100)\r\n",
        "#Create a Title for the plot\r\n",
        "plt.title('Confirmed Planet Mass Before ffill')\r\n",
        "#Create the x_label\r\n",
        "plt.xlabel('Mass in Jupiter Mass Units')\r\n",
        "#Create the y_label\r\n",
        "plt.ylabel('Number of Planets')\r\n"
      ],
      "execution_count": 81,
      "outputs": [
        {
          "output_type": "execute_result",
          "data": {
            "text/plain": [
              "Text(0, 0.5, 'Number of Planets')"
            ]
          },
          "metadata": {
            "tags": []
          },
          "execution_count": 81
        },
        {
          "output_type": "display_data",
          "data": {
            "image/png": "[encoded data removed]",
            "text/plain": [
              "<Figure size 432x288 with 1 Axes>"
            ]
          },
          "metadata": {
            "tags": [],
            "needs_background": "light"
          }
        }
      ]
    },
    {
      "cell_type": "code",
      "metadata": {
        "colab": {
          "base_uri": "https://localhost:8080/",
          "height": 415
        },
        "id": "QMQbAf79H_xx",
        "outputId": "77bd78ea-a25d-44a3-e722-1c0131c32f8a"
      },
      "source": [
        "#Use Foreward fill to fill in our missing values\r\n",
        "df2=df2.ffill(axis = 0)\r\n",
        "#Show the result\r\n",
        "df2"
      ],
      "execution_count": 82,
      "outputs": [
        {
          "output_type": "execute_result",
          "data": {
            "text/html": [
              "<div>\n",
              "<style scoped>\n",
              "    .dataframe tbody tr th:only-of-type {\n",
              "        vertical-align: middle;\n",
              "    }\n",
              "\n",
              "    .dataframe tbody tr th {\n",
              "        vertical-align: top;\n",
              "    }\n",
              "\n",
              "    .dataframe thead th {\n",
              "        text-align: right;\n",
              "    }\n",
              "</style>\n",
              "<table border=\"1\" class=\"dataframe\">\n",
              "  <thead>\n",
              "    <tr style=\"text-align: right;\">\n",
              "      <th></th>\n",
              "      <th>pl_name</th>\n",
              "      <th>pl_bmassj</th>\n",
              "      <th>pl_orbper</th>\n",
              "    </tr>\n",
              "  </thead>\n",
              "  <tbody>\n",
              "    <tr>\n",
              "      <th>0</th>\n",
              "      <td>HD 177830 b</td>\n",
              "      <td>1.69000</td>\n",
              "      <td>410.100010</td>\n",
              "    </tr>\n",
              "    <tr>\n",
              "      <th>1</th>\n",
              "      <td>HD 177830 c</td>\n",
              "      <td>0.15000</td>\n",
              "      <td>110.900000</td>\n",
              "    </tr>\n",
              "    <tr>\n",
              "      <th>2</th>\n",
              "      <td>HD 178911 B b</td>\n",
              "      <td>8.03000</td>\n",
              "      <td>71.484000</td>\n",
              "    </tr>\n",
              "    <tr>\n",
              "      <th>3</th>\n",
              "      <td>HD 179079 b</td>\n",
              "      <td>0.08100</td>\n",
              "      <td>14.479000</td>\n",
              "    </tr>\n",
              "    <tr>\n",
              "      <th>4</th>\n",
              "      <td>HD 179949 b</td>\n",
              "      <td>0.91600</td>\n",
              "      <td>3.092514</td>\n",
              "    </tr>\n",
              "    <tr>\n",
              "      <th>...</th>\n",
              "      <td>...</td>\n",
              "      <td>...</td>\n",
              "      <td>...</td>\n",
              "    </tr>\n",
              "    <tr>\n",
              "      <th>4319</th>\n",
              "      <td>HR 858 b</td>\n",
              "      <td>13.00000</td>\n",
              "      <td>3.585990</td>\n",
              "    </tr>\n",
              "    <tr>\n",
              "      <th>4320</th>\n",
              "      <td>HR 858 c</td>\n",
              "      <td>13.00000</td>\n",
              "      <td>5.972930</td>\n",
              "    </tr>\n",
              "    <tr>\n",
              "      <th>4321</th>\n",
              "      <td>HR 858 d</td>\n",
              "      <td>13.00000</td>\n",
              "      <td>11.230000</td>\n",
              "    </tr>\n",
              "    <tr>\n",
              "      <th>4322</th>\n",
              "      <td>K2-146 c</td>\n",
              "      <td>0.02358</td>\n",
              "      <td>4.004980</td>\n",
              "    </tr>\n",
              "    <tr>\n",
              "      <th>4323</th>\n",
              "      <td>GJ 3512 b</td>\n",
              "      <td>0.46300</td>\n",
              "      <td>203.590000</td>\n",
              "    </tr>\n",
              "  </tbody>\n",
              "</table>\n",
              "<p>4324 rows × 3 columns</p>\n",
              "</div>"
            ],
            "text/plain": [
              "            pl_name  pl_bmassj   pl_orbper\n",
              "0       HD 177830 b    1.69000  410.100010\n",
              "1       HD 177830 c    0.15000  110.900000\n",
              "2     HD 178911 B b    8.03000   71.484000\n",
              "3       HD 179079 b    0.08100   14.479000\n",
              "4       HD 179949 b    0.91600    3.092514\n",
              "...             ...        ...         ...\n",
              "4319       HR 858 b   13.00000    3.585990\n",
              "4320       HR 858 c   13.00000    5.972930\n",
              "4321       HR 858 d   13.00000   11.230000\n",
              "4322       K2-146 c    0.02358    4.004980\n",
              "4323      GJ 3512 b    0.46300  203.590000\n",
              "\n",
              "[4324 rows x 3 columns]"
            ]
          },
          "metadata": {
            "tags": []
          },
          "execution_count": 82
        }
      ]
    },
    {
      "cell_type": "markdown",
      "metadata": {
        "id": "64FtqjFvIQ-f"
      },
      "source": [
        "Now that we have done a forward fill we will need another histogram to confirm that the distribution of the data remains intact. As we can see larger planets tend to form a long tail of outliers compared to smaller less massive planets. There is certainly some amount of bias towards planets with masses between 1 and 10 Jupiter mass units. "
      ]
    },
    {
      "cell_type": "code",
      "metadata": {
        "colab": {
          "base_uri": "https://localhost:8080/",
          "height": 313
        },
        "id": "23UA79KKIKxD",
        "outputId": "a3197fb2-5f63-4d9f-baac-d757552f2e56"
      },
      "source": [
        "#Show a histogram of the mass of the confirmed planet's data again to confirm the spread of the data has remained intact.\r\n",
        "plt.hist(df2['pl_bmassj'],bins=100)\r\n",
        "#Create a title for the plot\r\n",
        "plt.title('Confirmed Planet Mass After ffill')\r\n",
        "#Create the x_label\r\n",
        "plt.xlabel('Mass in Jupiter Mass Units')\r\n",
        "#Create the y_label\r\n",
        "plt.ylabel('Number of Planets')"
      ],
      "execution_count": 83,
      "outputs": [
        {
          "output_type": "execute_result",
          "data": {
            "text/plain": [
              "Text(0, 0.5, 'Number of Planets')"
            ]
          },
          "metadata": {
            "tags": []
          },
          "execution_count": 83
        },
        {
          "output_type": "display_data",
          "data": {
            "image/png": "[encoded data removed]",
            "text/plain": [
              "<Figure size 432x288 with 1 Axes>"
            ]
          },
          "metadata": {
            "tags": [],
            "needs_background": "light"
          }
        }
      ]
    },
    {
      "cell_type": "markdown",
      "metadata": {
        "id": "nh0iUm516PcN"
      },
      "source": [
        "This is the same histogram run on the data of our soalr system. It is less informative and less complete due to th limmit of the data we are working with. Still we can confirm the general distribution of the masses of our solar system. "
      ]
    },
    {
      "cell_type": "code",
      "metadata": {
        "colab": {
          "base_uri": "https://localhost:8080/",
          "height": 313
        },
        "id": "IMN97sXgP82n",
        "outputId": "3095ddd7-a732-46c8-f3fc-192ea3106cac"
      },
      "source": [
        "#Show a histogram of the mass of the planets from our solar system\r\n",
        "plt.hist(df['mass'],bins=10)\r\n",
        "#Create a Title for the plot\r\n",
        "plt.title('Our Solar System Masses')\r\n",
        "#Create the x_label\r\n",
        "plt.xlabel('Mass in Jupiter Mass Units')\r\n",
        "#Create the y_label\r\n",
        "plt.ylabel('Number of Planets')"
      ],
      "execution_count": 84,
      "outputs": [
        {
          "output_type": "execute_result",
          "data": {
            "text/plain": [
              "Text(0, 0.5, 'Number of Planets')"
            ]
          },
          "metadata": {
            "tags": []
          },
          "execution_count": 84
        },
        {
          "output_type": "display_data",
          "data": {
            "image/png": "[encoded data removed]",
            "text/plain": [
              "<Figure size 432x288 with 1 Axes>"
            ]
          },
          "metadata": {
            "tags": [],
            "needs_background": "light"
          }
        }
      ]
    },
    {
      "cell_type": "markdown",
      "metadata": {
        "id": "xWY5BSV86uSW"
      },
      "source": [
        "This swarm plot and boxplot show that our hypothesis is correct. Most of the planets are between 1 and 10 Jupiter masses. we should note that the planets in our solar system are significantly smaller than the large proportion of confirmed planets. This is an interesting quirk of the data that indicates that Kepler has found far fewer planets that are more than 10 times more massive than Jupiter when compared to the amount it has found that are smaller than 10 Jupiter mass units."
      ]
    },
    {
      "cell_type": "code",
      "metadata": {
        "colab": {
          "base_uri": "https://localhost:8080/",
          "height": 353
        },
        "id": "o6irm4XXflTn",
        "outputId": "720f0f35-09ea-4363-816b-17b451d812e7"
      },
      "source": [
        "#Show a swarmplot of the mass of our solar system vs the mass of Kepler confirmed planets.\r\n",
        "g=sns.swarmplot(\r\n",
        "    data=[df2['pl_bmassj'], df['mass']],\r\n",
        "    palette=[sns.xkcd_rgb[\"pale red\"], sns.xkcd_rgb[\"medium green\"]])\r\n",
        "#Create a title for the plot\r\n",
        "plt.title('Masses - Confirmed Planets vs Our Solar System')\r\n",
        "#Create the y_label\r\n",
        "plt.ylabel('Mass in Jupiter Mass Units')\r\n",
        "#Label the x_ticks\r\n",
        "g.set_xticklabels(['Confrimed Planets','Our Solar System'])\r\n",
        "\r\n",
        "\r\n"
      ],
      "execution_count": 85,
      "outputs": [
        {
          "output_type": "stream",
          "text": [
            "/usr/local/lib/python3.6/dist-packages/seaborn/categorical.py:1296: UserWarning: 92.6% of the points cannot be placed; you may want to decrease the size of the markers or use stripplot.\n",
            "  warnings.warn(msg, UserWarning)\n"
          ],
          "name": "stderr"
        },
        {
          "output_type": "execute_result",
          "data": {
            "text/plain": [
              "[Text(0, 0, 'Confrimed Planets'), Text(0, 0, 'Our Solar System')]"
            ]
          },
          "metadata": {
            "tags": []
          },
          "execution_count": 85
        },
        {
          "output_type": "display_data",
          "data": {
            "image/png": "[encoded data removed]",
            "text/plain": [
              "<Figure size 432x288 with 1 Axes>"
            ]
          },
          "metadata": {
            "tags": [],
            "needs_background": "light"
          }
        }
      ]
    },
    {
      "cell_type": "code",
      "metadata": {
        "colab": {
          "base_uri": "https://localhost:8080/",
          "height": 299
        },
        "id": "sG11_w0leWbg",
        "outputId": "7c852754-3ecd-498d-e5ee-ad4984bde05e"
      },
      "source": [
        "#Show a boxplot of the mass of our solar system vs the mass of Kepler confirmed planets.\r\n",
        "g=sns.boxplot(\r\n",
        "    data=[df2['pl_bmassj'], df['mass']],\r\n",
        "    palette=[sns.xkcd_rgb[\"pale red\"], sns.xkcd_rgb[\"medium green\"]])\r\n",
        "#Create a Title for the plot\r\n",
        "plt.title('Masses - Confirmed Planets vs Our Solar System')\r\n",
        "#Create the y_label\r\n",
        "plt.ylabel('Mass in Jupiter Mass Units')\r\n",
        "#Label the x_ticks\r\n",
        "g.set_xticklabels(['Confrimed Planets','Our Solar System'])\r\n"
      ],
      "execution_count": 86,
      "outputs": [
        {
          "output_type": "execute_result",
          "data": {
            "text/plain": [
              "[Text(0, 0, 'Confrimed Planets'), Text(0, 0, 'Our Solar System')]"
            ]
          },
          "metadata": {
            "tags": []
          },
          "execution_count": 86
        },
        {
          "output_type": "display_data",
          "data": {
            "image/png": "[encoded data removed]",
            "text/plain": [
              "<Figure size 432x288 with 1 Axes>"
            ]
          },
          "metadata": {
            "tags": [],
            "needs_background": "light"
          }
        }
      ]
    },
    {
      "cell_type": "markdown",
      "metadata": {
        "id": "YJ3QF-WE0_3A"
      },
      "source": [
        "**Approach**\n",
        "\n",
        "Approach: For research question 2:  I will be comparing the orbital period of the Kepler Confirmed Panets Table and the Kepler Objects of Intrest Table. For the feature we did not cover in class, I will use linear regressors from the sci-kit learn to help better predict the relationship between these variables. I will also be doing a train test split so that my linear regressor can be verified on a test sample of the data. "
      ]
    },
    {
      "cell_type": "markdown",
      "metadata": {
        "id": "BZw2JlTj_Nro"
      },
      "source": [
        "We import our Keplar Objects of interest Table as a csv and read it into a dataframe. Then we gather the appropriate summary statistics for our data."
      ]
    },
    {
      "cell_type": "code",
      "metadata": {
        "id": "8R60OkjloPCf",
        "colab": {
          "base_uri": "https://localhost:8080/",
          "height": 222
        },
        "outputId": "4fbf674a-ef89-4241-a098-c9f768c6e13c"
      },
      "source": [
        "#Retrieve the Kepler Objects of Intrest data as a csv.\n",
        "Obj_intrest = \"https://raw.githubusercontent.com/Danjstr/AIM-5001/master/cumulative.csv\"\n",
        "#Read the data into a dataframe\n",
        "df1 = pd.read_csv(Obj_intrest)\n",
        "#Show the results\n",
        "df1.head()"
      ],
      "execution_count": 87,
      "outputs": [
        {
          "output_type": "execute_result",
          "data": {
            "text/html": [
              "<div>\n",
              "<style scoped>\n",
              "    .dataframe tbody tr th:only-of-type {\n",
              "        vertical-align: middle;\n",
              "    }\n",
              "\n",
              "    .dataframe tbody tr th {\n",
              "        vertical-align: top;\n",
              "    }\n",
              "\n",
              "    .dataframe thead th {\n",
              "        text-align: right;\n",
              "    }\n",
              "</style>\n",
              "<table border=\"1\" class=\"dataframe\">\n",
              "  <thead>\n",
              "    <tr style=\"text-align: right;\">\n",
              "      <th></th>\n",
              "      <th>rowid</th>\n",
              "      <th>kepid</th>\n",
              "      <th>kepoi_name</th>\n",
              "      <th>kepler_name</th>\n",
              "      <th>koi_disposition</th>\n",
              "      <th>koi_pdisposition</th>\n",
              "      <th>koi_score</th>\n",
              "      <th>koi_fpflag_nt</th>\n",
              "      <th>koi_fpflag_ss</th>\n",
              "      <th>koi_fpflag_co</th>\n",
              "      <th>koi_fpflag_ec</th>\n",
              "      <th>koi_period</th>\n",
              "      <th>koi_period_err1</th>\n",
              "      <th>koi_period_err2</th>\n",
              "      <th>koi_time0bk</th>\n",
              "      <th>koi_time0bk_err1</th>\n",
              "      <th>koi_time0bk_err2</th>\n",
              "      <th>koi_impact</th>\n",
              "      <th>koi_impact_err1</th>\n",
              "      <th>koi_impact_err2</th>\n",
              "      <th>koi_duration</th>\n",
              "      <th>koi_duration_err1</th>\n",
              "      <th>koi_duration_err2</th>\n",
              "      <th>koi_depth</th>\n",
              "      <th>koi_depth_err1</th>\n",
              "      <th>koi_depth_err2</th>\n",
              "      <th>koi_prad</th>\n",
              "      <th>koi_prad_err1</th>\n",
              "      <th>koi_prad_err2</th>\n",
              "      <th>koi_teq</th>\n",
              "      <th>koi_teq_err1</th>\n",
              "      <th>koi_teq_err2</th>\n",
              "      <th>koi_insol</th>\n",
              "      <th>koi_insol_err1</th>\n",
              "      <th>koi_insol_err2</th>\n",
              "      <th>koi_model_snr</th>\n",
              "      <th>koi_tce_plnt_num</th>\n",
              "      <th>koi_tce_delivname</th>\n",
              "      <th>koi_steff</th>\n",
              "      <th>koi_steff_err1</th>\n",
              "      <th>koi_steff_err2</th>\n",
              "      <th>koi_slogg</th>\n",
              "      <th>koi_slogg_err1</th>\n",
              "      <th>koi_slogg_err2</th>\n",
              "      <th>koi_srad</th>\n",
              "      <th>koi_srad_err1</th>\n",
              "      <th>koi_srad_err2</th>\n",
              "      <th>ra</th>\n",
              "      <th>dec</th>\n",
              "      <th>koi_kepmag</th>\n",
              "    </tr>\n",
              "  </thead>\n",
              "  <tbody>\n",
              "    <tr>\n",
              "      <th>0</th>\n",
              "      <td>1</td>\n",
              "      <td>10797460</td>\n",
              "      <td>K00752.01</td>\n",
              "      <td>Kepler-227 b</td>\n",
              "      <td>CONFIRMED</td>\n",
              "      <td>CANDIDATE</td>\n",
              "      <td>1.000</td>\n",
              "      <td>0</td>\n",
              "      <td>0</td>\n",
              "      <td>0</td>\n",
              "      <td>0</td>\n",
              "      <td>9.488036</td>\n",
              "      <td>2.775000e-05</td>\n",
              "      <td>-2.775000e-05</td>\n",
              "      <td>170.538750</td>\n",
              "      <td>0.002160</td>\n",
              "      <td>-0.002160</td>\n",
              "      <td>0.146</td>\n",
              "      <td>0.318</td>\n",
              "      <td>-0.146</td>\n",
              "      <td>2.95750</td>\n",
              "      <td>0.08190</td>\n",
              "      <td>-0.08190</td>\n",
              "      <td>615.8</td>\n",
              "      <td>19.5</td>\n",
              "      <td>-19.5</td>\n",
              "      <td>2.26</td>\n",
              "      <td>0.26</td>\n",
              "      <td>-0.15</td>\n",
              "      <td>793.0</td>\n",
              "      <td>NaN</td>\n",
              "      <td>NaN</td>\n",
              "      <td>93.59</td>\n",
              "      <td>29.45</td>\n",
              "      <td>-16.65</td>\n",
              "      <td>35.8</td>\n",
              "      <td>1.0</td>\n",
              "      <td>q1_q17_dr25_tce</td>\n",
              "      <td>5455.0</td>\n",
              "      <td>81.0</td>\n",
              "      <td>-81.0</td>\n",
              "      <td>4.467</td>\n",
              "      <td>0.064</td>\n",
              "      <td>-0.096</td>\n",
              "      <td>0.927</td>\n",
              "      <td>0.105</td>\n",
              "      <td>-0.061</td>\n",
              "      <td>291.93423</td>\n",
              "      <td>48.141651</td>\n",
              "      <td>15.347</td>\n",
              "    </tr>\n",
              "    <tr>\n",
              "      <th>1</th>\n",
              "      <td>2</td>\n",
              "      <td>10797460</td>\n",
              "      <td>K00752.02</td>\n",
              "      <td>Kepler-227 c</td>\n",
              "      <td>CONFIRMED</td>\n",
              "      <td>CANDIDATE</td>\n",
              "      <td>0.969</td>\n",
              "      <td>0</td>\n",
              "      <td>0</td>\n",
              "      <td>0</td>\n",
              "      <td>0</td>\n",
              "      <td>54.418383</td>\n",
              "      <td>2.479000e-04</td>\n",
              "      <td>-2.479000e-04</td>\n",
              "      <td>162.513840</td>\n",
              "      <td>0.003520</td>\n",
              "      <td>-0.003520</td>\n",
              "      <td>0.586</td>\n",
              "      <td>0.059</td>\n",
              "      <td>-0.443</td>\n",
              "      <td>4.50700</td>\n",
              "      <td>0.11600</td>\n",
              "      <td>-0.11600</td>\n",
              "      <td>874.8</td>\n",
              "      <td>35.5</td>\n",
              "      <td>-35.5</td>\n",
              "      <td>2.83</td>\n",
              "      <td>0.32</td>\n",
              "      <td>-0.19</td>\n",
              "      <td>443.0</td>\n",
              "      <td>NaN</td>\n",
              "      <td>NaN</td>\n",
              "      <td>9.11</td>\n",
              "      <td>2.87</td>\n",
              "      <td>-1.62</td>\n",
              "      <td>25.8</td>\n",
              "      <td>2.0</td>\n",
              "      <td>q1_q17_dr25_tce</td>\n",
              "      <td>5455.0</td>\n",
              "      <td>81.0</td>\n",
              "      <td>-81.0</td>\n",
              "      <td>4.467</td>\n",
              "      <td>0.064</td>\n",
              "      <td>-0.096</td>\n",
              "      <td>0.927</td>\n",
              "      <td>0.105</td>\n",
              "      <td>-0.061</td>\n",
              "      <td>291.93423</td>\n",
              "      <td>48.141651</td>\n",
              "      <td>15.347</td>\n",
              "    </tr>\n",
              "    <tr>\n",
              "      <th>2</th>\n",
              "      <td>3</td>\n",
              "      <td>10811496</td>\n",
              "      <td>K00753.01</td>\n",
              "      <td>NaN</td>\n",
              "      <td>FALSE POSITIVE</td>\n",
              "      <td>FALSE POSITIVE</td>\n",
              "      <td>0.000</td>\n",
              "      <td>0</td>\n",
              "      <td>1</td>\n",
              "      <td>0</td>\n",
              "      <td>0</td>\n",
              "      <td>19.899140</td>\n",
              "      <td>1.494000e-05</td>\n",
              "      <td>-1.494000e-05</td>\n",
              "      <td>175.850252</td>\n",
              "      <td>0.000581</td>\n",
              "      <td>-0.000581</td>\n",
              "      <td>0.969</td>\n",
              "      <td>5.126</td>\n",
              "      <td>-0.077</td>\n",
              "      <td>1.78220</td>\n",
              "      <td>0.03410</td>\n",
              "      <td>-0.03410</td>\n",
              "      <td>10829.0</td>\n",
              "      <td>171.0</td>\n",
              "      <td>-171.0</td>\n",
              "      <td>14.60</td>\n",
              "      <td>3.92</td>\n",
              "      <td>-1.31</td>\n",
              "      <td>638.0</td>\n",
              "      <td>NaN</td>\n",
              "      <td>NaN</td>\n",
              "      <td>39.30</td>\n",
              "      <td>31.04</td>\n",
              "      <td>-10.49</td>\n",
              "      <td>76.3</td>\n",
              "      <td>1.0</td>\n",
              "      <td>q1_q17_dr25_tce</td>\n",
              "      <td>5853.0</td>\n",
              "      <td>158.0</td>\n",
              "      <td>-176.0</td>\n",
              "      <td>4.544</td>\n",
              "      <td>0.044</td>\n",
              "      <td>-0.176</td>\n",
              "      <td>0.868</td>\n",
              "      <td>0.233</td>\n",
              "      <td>-0.078</td>\n",
              "      <td>297.00482</td>\n",
              "      <td>48.134129</td>\n",
              "      <td>15.436</td>\n",
              "    </tr>\n",
              "    <tr>\n",
              "      <th>3</th>\n",
              "      <td>4</td>\n",
              "      <td>10848459</td>\n",
              "      <td>K00754.01</td>\n",
              "      <td>NaN</td>\n",
              "      <td>FALSE POSITIVE</td>\n",
              "      <td>FALSE POSITIVE</td>\n",
              "      <td>0.000</td>\n",
              "      <td>0</td>\n",
              "      <td>1</td>\n",
              "      <td>0</td>\n",
              "      <td>0</td>\n",
              "      <td>1.736952</td>\n",
              "      <td>2.630000e-07</td>\n",
              "      <td>-2.630000e-07</td>\n",
              "      <td>170.307565</td>\n",
              "      <td>0.000115</td>\n",
              "      <td>-0.000115</td>\n",
              "      <td>1.276</td>\n",
              "      <td>0.115</td>\n",
              "      <td>-0.092</td>\n",
              "      <td>2.40641</td>\n",
              "      <td>0.00537</td>\n",
              "      <td>-0.00537</td>\n",
              "      <td>8079.2</td>\n",
              "      <td>12.8</td>\n",
              "      <td>-12.8</td>\n",
              "      <td>33.46</td>\n",
              "      <td>8.50</td>\n",
              "      <td>-2.83</td>\n",
              "      <td>1395.0</td>\n",
              "      <td>NaN</td>\n",
              "      <td>NaN</td>\n",
              "      <td>891.96</td>\n",
              "      <td>668.95</td>\n",
              "      <td>-230.35</td>\n",
              "      <td>505.6</td>\n",
              "      <td>1.0</td>\n",
              "      <td>q1_q17_dr25_tce</td>\n",
              "      <td>5805.0</td>\n",
              "      <td>157.0</td>\n",
              "      <td>-174.0</td>\n",
              "      <td>4.564</td>\n",
              "      <td>0.053</td>\n",
              "      <td>-0.168</td>\n",
              "      <td>0.791</td>\n",
              "      <td>0.201</td>\n",
              "      <td>-0.067</td>\n",
              "      <td>285.53461</td>\n",
              "      <td>48.285210</td>\n",
              "      <td>15.597</td>\n",
              "    </tr>\n",
              "    <tr>\n",
              "      <th>4</th>\n",
              "      <td>5</td>\n",
              "      <td>10854555</td>\n",
              "      <td>K00755.01</td>\n",
              "      <td>Kepler-664 b</td>\n",
              "      <td>CONFIRMED</td>\n",
              "      <td>CANDIDATE</td>\n",
              "      <td>1.000</td>\n",
              "      <td>0</td>\n",
              "      <td>0</td>\n",
              "      <td>0</td>\n",
              "      <td>0</td>\n",
              "      <td>2.525592</td>\n",
              "      <td>3.761000e-06</td>\n",
              "      <td>-3.761000e-06</td>\n",
              "      <td>171.595550</td>\n",
              "      <td>0.001130</td>\n",
              "      <td>-0.001130</td>\n",
              "      <td>0.701</td>\n",
              "      <td>0.235</td>\n",
              "      <td>-0.478</td>\n",
              "      <td>1.65450</td>\n",
              "      <td>0.04200</td>\n",
              "      <td>-0.04200</td>\n",
              "      <td>603.3</td>\n",
              "      <td>16.9</td>\n",
              "      <td>-16.9</td>\n",
              "      <td>2.75</td>\n",
              "      <td>0.88</td>\n",
              "      <td>-0.35</td>\n",
              "      <td>1406.0</td>\n",
              "      <td>NaN</td>\n",
              "      <td>NaN</td>\n",
              "      <td>926.16</td>\n",
              "      <td>874.33</td>\n",
              "      <td>-314.24</td>\n",
              "      <td>40.9</td>\n",
              "      <td>1.0</td>\n",
              "      <td>q1_q17_dr25_tce</td>\n",
              "      <td>6031.0</td>\n",
              "      <td>169.0</td>\n",
              "      <td>-211.0</td>\n",
              "      <td>4.438</td>\n",
              "      <td>0.070</td>\n",
              "      <td>-0.210</td>\n",
              "      <td>1.046</td>\n",
              "      <td>0.334</td>\n",
              "      <td>-0.133</td>\n",
              "      <td>288.75488</td>\n",
              "      <td>48.226200</td>\n",
              "      <td>15.509</td>\n",
              "    </tr>\n",
              "  </tbody>\n",
              "</table>\n",
              "</div>"
            ],
            "text/plain": [
              "   rowid     kepid kepoi_name  ...         ra        dec koi_kepmag\n",
              "0      1  10797460  K00752.01  ...  291.93423  48.141651     15.347\n",
              "1      2  10797460  K00752.02  ...  291.93423  48.141651     15.347\n",
              "2      3  10811496  K00753.01  ...  297.00482  48.134129     15.436\n",
              "3      4  10848459  K00754.01  ...  285.53461  48.285210     15.597\n",
              "4      5  10854555  K00755.01  ...  288.75488  48.226200     15.509\n",
              "\n",
              "[5 rows x 50 columns]"
            ]
          },
          "metadata": {
            "tags": []
          },
          "execution_count": 87
        }
      ]
    },
    {
      "cell_type": "code",
      "metadata": {
        "colab": {
          "base_uri": "https://localhost:8080/"
        },
        "id": "poqFs22uNKrE",
        "outputId": "9792320e-9389-412f-9818-1cf2fbe75185"
      },
      "source": [
        "#Show the information of the dataframe\r\n",
        "df1.info"
      ],
      "execution_count": 88,
      "outputs": [
        {
          "output_type": "execute_result",
          "data": {
            "text/plain": [
              "<bound method DataFrame.info of       rowid     kepid kepoi_name  ...         ra        dec koi_kepmag\n",
              "0         1  10797460  K00752.01  ...  291.93423  48.141651     15.347\n",
              "1         2  10797460  K00752.02  ...  291.93423  48.141651     15.347\n",
              "2         3  10811496  K00753.01  ...  297.00482  48.134129     15.436\n",
              "3         4  10848459  K00754.01  ...  285.53461  48.285210     15.597\n",
              "4         5  10854555  K00755.01  ...  288.75488  48.226200     15.509\n",
              "...     ...       ...        ...  ...        ...        ...        ...\n",
              "9559   9560  10031643  K07984.01  ...  298.74921  46.973351     14.478\n",
              "9560   9561  10090151  K07985.01  ...  297.18875  47.093819     14.082\n",
              "9561   9562  10128825  K07986.01  ...  286.50937  47.163219     14.757\n",
              "9562   9563  10147276  K07987.01  ...  294.16489  47.176281     15.385\n",
              "9563   9564  10156110  K07989.01  ...  297.00977  47.121021     14.826\n",
              "\n",
              "[9564 rows x 50 columns]>"
            ]
          },
          "metadata": {
            "tags": []
          },
          "execution_count": 88
        }
      ]
    },
    {
      "cell_type": "code",
      "metadata": {
        "colab": {
          "base_uri": "https://localhost:8080/"
        },
        "id": "ZHoyxhMDNWC9",
        "outputId": "ef0dd908-aa37-44f7-bcba-aef7c8e88cd1"
      },
      "source": [
        "#Show the data types of the dataframe\r\n",
        "df1.dtypes"
      ],
      "execution_count": 89,
      "outputs": [
        {
          "output_type": "execute_result",
          "data": {
            "text/plain": [
              "rowid                  int64\n",
              "kepid                  int64\n",
              "kepoi_name            object\n",
              "kepler_name           object\n",
              "koi_disposition       object\n",
              "koi_pdisposition      object\n",
              "koi_score            float64\n",
              "koi_fpflag_nt          int64\n",
              "koi_fpflag_ss          int64\n",
              "koi_fpflag_co          int64\n",
              "koi_fpflag_ec          int64\n",
              "koi_period           float64\n",
              "koi_period_err1      float64\n",
              "koi_period_err2      float64\n",
              "koi_time0bk          float64\n",
              "koi_time0bk_err1     float64\n",
              "koi_time0bk_err2     float64\n",
              "koi_impact           float64\n",
              "koi_impact_err1      float64\n",
              "koi_impact_err2      float64\n",
              "koi_duration         float64\n",
              "koi_duration_err1    float64\n",
              "koi_duration_err2    float64\n",
              "koi_depth            float64\n",
              "koi_depth_err1       float64\n",
              "koi_depth_err2       float64\n",
              "koi_prad             float64\n",
              "koi_prad_err1        float64\n",
              "koi_prad_err2        float64\n",
              "koi_teq              float64\n",
              "koi_teq_err1         float64\n",
              "koi_teq_err2         float64\n",
              "koi_insol            float64\n",
              "koi_insol_err1       float64\n",
              "koi_insol_err2       float64\n",
              "koi_model_snr        float64\n",
              "koi_tce_plnt_num     float64\n",
              "koi_tce_delivname     object\n",
              "koi_steff            float64\n",
              "koi_steff_err1       float64\n",
              "koi_steff_err2       float64\n",
              "koi_slogg            float64\n",
              "koi_slogg_err1       float64\n",
              "koi_slogg_err2       float64\n",
              "koi_srad             float64\n",
              "koi_srad_err1        float64\n",
              "koi_srad_err2        float64\n",
              "ra                   float64\n",
              "dec                  float64\n",
              "koi_kepmag           float64\n",
              "dtype: object"
            ]
          },
          "metadata": {
            "tags": []
          },
          "execution_count": 89
        }
      ]
    },
    {
      "cell_type": "markdown",
      "metadata": {
        "id": "RmLpLNva_kjw"
      },
      "source": [
        "We can see we have a lot of unnecessary columns that have no real value for our research question. We will need to drop them."
      ]
    },
    {
      "cell_type": "code",
      "metadata": {
        "id": "wbYQM9AzYKLM"
      },
      "source": [
        "#Drop unnecessary columns\r\n",
        "df3=df1.drop(columns=['koi_tce_delivname','koi_pdisposition','rowid', 'kepid','kepoi_name' ])"
      ],
      "execution_count": 90,
      "outputs": []
    },
    {
      "cell_type": "code",
      "metadata": {
        "colab": {
          "base_uri": "https://localhost:8080/",
          "height": 435
        },
        "id": "m1kClhsLYK3J",
        "outputId": "e7e507c4-b57e-4493-a7d8-75a29c7c55cc"
      },
      "source": [
        "#Show the results\r\n",
        "df3"
      ],
      "execution_count": 91,
      "outputs": [
        {
          "output_type": "execute_result",
          "data": {
            "text/html": [
              "<div>\n",
              "<style scoped>\n",
              "    .dataframe tbody tr th:only-of-type {\n",
              "        vertical-align: middle;\n",
              "    }\n",
              "\n",
              "    .dataframe tbody tr th {\n",
              "        vertical-align: top;\n",
              "    }\n",
              "\n",
              "    .dataframe thead th {\n",
              "        text-align: right;\n",
              "    }\n",
              "</style>\n",
              "<table border=\"1\" class=\"dataframe\">\n",
              "  <thead>\n",
              "    <tr style=\"text-align: right;\">\n",
              "      <th></th>\n",
              "      <th>kepler_name</th>\n",
              "      <th>koi_disposition</th>\n",
              "      <th>koi_score</th>\n",
              "      <th>koi_fpflag_nt</th>\n",
              "      <th>koi_fpflag_ss</th>\n",
              "      <th>koi_fpflag_co</th>\n",
              "      <th>koi_fpflag_ec</th>\n",
              "      <th>koi_period</th>\n",
              "      <th>koi_period_err1</th>\n",
              "      <th>koi_period_err2</th>\n",
              "      <th>koi_time0bk</th>\n",
              "      <th>koi_time0bk_err1</th>\n",
              "      <th>koi_time0bk_err2</th>\n",
              "      <th>koi_impact</th>\n",
              "      <th>koi_impact_err1</th>\n",
              "      <th>koi_impact_err2</th>\n",
              "      <th>koi_duration</th>\n",
              "      <th>koi_duration_err1</th>\n",
              "      <th>koi_duration_err2</th>\n",
              "      <th>koi_depth</th>\n",
              "      <th>koi_depth_err1</th>\n",
              "      <th>koi_depth_err2</th>\n",
              "      <th>koi_prad</th>\n",
              "      <th>koi_prad_err1</th>\n",
              "      <th>koi_prad_err2</th>\n",
              "      <th>koi_teq</th>\n",
              "      <th>koi_teq_err1</th>\n",
              "      <th>koi_teq_err2</th>\n",
              "      <th>koi_insol</th>\n",
              "      <th>koi_insol_err1</th>\n",
              "      <th>koi_insol_err2</th>\n",
              "      <th>koi_model_snr</th>\n",
              "      <th>koi_tce_plnt_num</th>\n",
              "      <th>koi_steff</th>\n",
              "      <th>koi_steff_err1</th>\n",
              "      <th>koi_steff_err2</th>\n",
              "      <th>koi_slogg</th>\n",
              "      <th>koi_slogg_err1</th>\n",
              "      <th>koi_slogg_err2</th>\n",
              "      <th>koi_srad</th>\n",
              "      <th>koi_srad_err1</th>\n",
              "      <th>koi_srad_err2</th>\n",
              "      <th>ra</th>\n",
              "      <th>dec</th>\n",
              "      <th>koi_kepmag</th>\n",
              "    </tr>\n",
              "  </thead>\n",
              "  <tbody>\n",
              "    <tr>\n",
              "      <th>0</th>\n",
              "      <td>Kepler-227 b</td>\n",
              "      <td>CONFIRMED</td>\n",
              "      <td>1.000</td>\n",
              "      <td>0</td>\n",
              "      <td>0</td>\n",
              "      <td>0</td>\n",
              "      <td>0</td>\n",
              "      <td>9.488036</td>\n",
              "      <td>2.775000e-05</td>\n",
              "      <td>-2.775000e-05</td>\n",
              "      <td>170.538750</td>\n",
              "      <td>0.002160</td>\n",
              "      <td>-0.002160</td>\n",
              "      <td>0.146</td>\n",
              "      <td>0.318</td>\n",
              "      <td>-0.146</td>\n",
              "      <td>2.95750</td>\n",
              "      <td>0.08190</td>\n",
              "      <td>-0.08190</td>\n",
              "      <td>615.8</td>\n",
              "      <td>19.5</td>\n",
              "      <td>-19.5</td>\n",
              "      <td>2.26</td>\n",
              "      <td>0.26</td>\n",
              "      <td>-0.15</td>\n",
              "      <td>793.0</td>\n",
              "      <td>NaN</td>\n",
              "      <td>NaN</td>\n",
              "      <td>93.59</td>\n",
              "      <td>29.45</td>\n",
              "      <td>-16.65</td>\n",
              "      <td>35.8</td>\n",
              "      <td>1.0</td>\n",
              "      <td>5455.0</td>\n",
              "      <td>81.0</td>\n",
              "      <td>-81.0</td>\n",
              "      <td>4.467</td>\n",
              "      <td>0.064</td>\n",
              "      <td>-0.096</td>\n",
              "      <td>0.927</td>\n",
              "      <td>0.105</td>\n",
              "      <td>-0.061</td>\n",
              "      <td>291.93423</td>\n",
              "      <td>48.141651</td>\n",
              "      <td>15.347</td>\n",
              "    </tr>\n",
              "    <tr>\n",
              "      <th>1</th>\n",
              "      <td>Kepler-227 c</td>\n",
              "      <td>CONFIRMED</td>\n",
              "      <td>0.969</td>\n",
              "      <td>0</td>\n",
              "      <td>0</td>\n",
              "      <td>0</td>\n",
              "      <td>0</td>\n",
              "      <td>54.418383</td>\n",
              "      <td>2.479000e-04</td>\n",
              "      <td>-2.479000e-04</td>\n",
              "      <td>162.513840</td>\n",
              "      <td>0.003520</td>\n",
              "      <td>-0.003520</td>\n",
              "      <td>0.586</td>\n",
              "      <td>0.059</td>\n",
              "      <td>-0.443</td>\n",
              "      <td>4.50700</td>\n",
              "      <td>0.11600</td>\n",
              "      <td>-0.11600</td>\n",
              "      <td>874.8</td>\n",
              "      <td>35.5</td>\n",
              "      <td>-35.5</td>\n",
              "      <td>2.83</td>\n",
              "      <td>0.32</td>\n",
              "      <td>-0.19</td>\n",
              "      <td>443.0</td>\n",
              "      <td>NaN</td>\n",
              "      <td>NaN</td>\n",
              "      <td>9.11</td>\n",
              "      <td>2.87</td>\n",
              "      <td>-1.62</td>\n",
              "      <td>25.8</td>\n",
              "      <td>2.0</td>\n",
              "      <td>5455.0</td>\n",
              "      <td>81.0</td>\n",
              "      <td>-81.0</td>\n",
              "      <td>4.467</td>\n",
              "      <td>0.064</td>\n",
              "      <td>-0.096</td>\n",
              "      <td>0.927</td>\n",
              "      <td>0.105</td>\n",
              "      <td>-0.061</td>\n",
              "      <td>291.93423</td>\n",
              "      <td>48.141651</td>\n",
              "      <td>15.347</td>\n",
              "    </tr>\n",
              "    <tr>\n",
              "      <th>2</th>\n",
              "      <td>NaN</td>\n",
              "      <td>FALSE POSITIVE</td>\n",
              "      <td>0.000</td>\n",
              "      <td>0</td>\n",
              "      <td>1</td>\n",
              "      <td>0</td>\n",
              "      <td>0</td>\n",
              "      <td>19.899140</td>\n",
              "      <td>1.494000e-05</td>\n",
              "      <td>-1.494000e-05</td>\n",
              "      <td>175.850252</td>\n",
              "      <td>0.000581</td>\n",
              "      <td>-0.000581</td>\n",
              "      <td>0.969</td>\n",
              "      <td>5.126</td>\n",
              "      <td>-0.077</td>\n",
              "      <td>1.78220</td>\n",
              "      <td>0.03410</td>\n",
              "      <td>-0.03410</td>\n",
              "      <td>10829.0</td>\n",
              "      <td>171.0</td>\n",
              "      <td>-171.0</td>\n",
              "      <td>14.60</td>\n",
              "      <td>3.92</td>\n",
              "      <td>-1.31</td>\n",
              "      <td>638.0</td>\n",
              "      <td>NaN</td>\n",
              "      <td>NaN</td>\n",
              "      <td>39.30</td>\n",
              "      <td>31.04</td>\n",
              "      <td>-10.49</td>\n",
              "      <td>76.3</td>\n",
              "      <td>1.0</td>\n",
              "      <td>5853.0</td>\n",
              "      <td>158.0</td>\n",
              "      <td>-176.0</td>\n",
              "      <td>4.544</td>\n",
              "      <td>0.044</td>\n",
              "      <td>-0.176</td>\n",
              "      <td>0.868</td>\n",
              "      <td>0.233</td>\n",
              "      <td>-0.078</td>\n",
              "      <td>297.00482</td>\n",
              "      <td>48.134129</td>\n",
              "      <td>15.436</td>\n",
              "    </tr>\n",
              "    <tr>\n",
              "      <th>3</th>\n",
              "      <td>NaN</td>\n",
              "      <td>FALSE POSITIVE</td>\n",
              "      <td>0.000</td>\n",
              "      <td>0</td>\n",
              "      <td>1</td>\n",
              "      <td>0</td>\n",
              "      <td>0</td>\n",
              "      <td>1.736952</td>\n",
              "      <td>2.630000e-07</td>\n",
              "      <td>-2.630000e-07</td>\n",
              "      <td>170.307565</td>\n",
              "      <td>0.000115</td>\n",
              "      <td>-0.000115</td>\n",
              "      <td>1.276</td>\n",
              "      <td>0.115</td>\n",
              "      <td>-0.092</td>\n",
              "      <td>2.40641</td>\n",
              "      <td>0.00537</td>\n",
              "      <td>-0.00537</td>\n",
              "      <td>8079.2</td>\n",
              "      <td>12.8</td>\n",
              "      <td>-12.8</td>\n",
              "      <td>33.46</td>\n",
              "      <td>8.50</td>\n",
              "      <td>-2.83</td>\n",
              "      <td>1395.0</td>\n",
              "      <td>NaN</td>\n",
              "      <td>NaN</td>\n",
              "      <td>891.96</td>\n",
              "      <td>668.95</td>\n",
              "      <td>-230.35</td>\n",
              "      <td>505.6</td>\n",
              "      <td>1.0</td>\n",
              "      <td>5805.0</td>\n",
              "      <td>157.0</td>\n",
              "      <td>-174.0</td>\n",
              "      <td>4.564</td>\n",
              "      <td>0.053</td>\n",
              "      <td>-0.168</td>\n",
              "      <td>0.791</td>\n",
              "      <td>0.201</td>\n",
              "      <td>-0.067</td>\n",
              "      <td>285.53461</td>\n",
              "      <td>48.285210</td>\n",
              "      <td>15.597</td>\n",
              "    </tr>\n",
              "    <tr>\n",
              "      <th>4</th>\n",
              "      <td>Kepler-664 b</td>\n",
              "      <td>CONFIRMED</td>\n",
              "      <td>1.000</td>\n",
              "      <td>0</td>\n",
              "      <td>0</td>\n",
              "      <td>0</td>\n",
              "      <td>0</td>\n",
              "      <td>2.525592</td>\n",
              "      <td>3.761000e-06</td>\n",
              "      <td>-3.761000e-06</td>\n",
              "      <td>171.595550</td>\n",
              "      <td>0.001130</td>\n",
              "      <td>-0.001130</td>\n",
              "      <td>0.701</td>\n",
              "      <td>0.235</td>\n",
              "      <td>-0.478</td>\n",
              "      <td>1.65450</td>\n",
              "      <td>0.04200</td>\n",
              "      <td>-0.04200</td>\n",
              "      <td>603.3</td>\n",
              "      <td>16.9</td>\n",
              "      <td>-16.9</td>\n",
              "      <td>2.75</td>\n",
              "      <td>0.88</td>\n",
              "      <td>-0.35</td>\n",
              "      <td>1406.0</td>\n",
              "      <td>NaN</td>\n",
              "      <td>NaN</td>\n",
              "      <td>926.16</td>\n",
              "      <td>874.33</td>\n",
              "      <td>-314.24</td>\n",
              "      <td>40.9</td>\n",
              "      <td>1.0</td>\n",
              "      <td>6031.0</td>\n",
              "      <td>169.0</td>\n",
              "      <td>-211.0</td>\n",
              "      <td>4.438</td>\n",
              "      <td>0.070</td>\n",
              "      <td>-0.210</td>\n",
              "      <td>1.046</td>\n",
              "      <td>0.334</td>\n",
              "      <td>-0.133</td>\n",
              "      <td>288.75488</td>\n",
              "      <td>48.226200</td>\n",
              "      <td>15.509</td>\n",
              "    </tr>\n",
              "    <tr>\n",
              "      <th>...</th>\n",
              "      <td>...</td>\n",
              "      <td>...</td>\n",
              "      <td>...</td>\n",
              "      <td>...</td>\n",
              "      <td>...</td>\n",
              "      <td>...</td>\n",
              "      <td>...</td>\n",
              "      <td>...</td>\n",
              "      <td>...</td>\n",
              "      <td>...</td>\n",
              "      <td>...</td>\n",
              "      <td>...</td>\n",
              "      <td>...</td>\n",
              "      <td>...</td>\n",
              "      <td>...</td>\n",
              "      <td>...</td>\n",
              "      <td>...</td>\n",
              "      <td>...</td>\n",
              "      <td>...</td>\n",
              "      <td>...</td>\n",
              "      <td>...</td>\n",
              "      <td>...</td>\n",
              "      <td>...</td>\n",
              "      <td>...</td>\n",
              "      <td>...</td>\n",
              "      <td>...</td>\n",
              "      <td>...</td>\n",
              "      <td>...</td>\n",
              "      <td>...</td>\n",
              "      <td>...</td>\n",
              "      <td>...</td>\n",
              "      <td>...</td>\n",
              "      <td>...</td>\n",
              "      <td>...</td>\n",
              "      <td>...</td>\n",
              "      <td>...</td>\n",
              "      <td>...</td>\n",
              "      <td>...</td>\n",
              "      <td>...</td>\n",
              "      <td>...</td>\n",
              "      <td>...</td>\n",
              "      <td>...</td>\n",
              "      <td>...</td>\n",
              "      <td>...</td>\n",
              "      <td>...</td>\n",
              "    </tr>\n",
              "    <tr>\n",
              "      <th>9559</th>\n",
              "      <td>NaN</td>\n",
              "      <td>FALSE POSITIVE</td>\n",
              "      <td>0.000</td>\n",
              "      <td>0</td>\n",
              "      <td>0</td>\n",
              "      <td>0</td>\n",
              "      <td>1</td>\n",
              "      <td>8.589871</td>\n",
              "      <td>1.846000e-04</td>\n",
              "      <td>-1.846000e-04</td>\n",
              "      <td>132.016100</td>\n",
              "      <td>0.015700</td>\n",
              "      <td>-0.015700</td>\n",
              "      <td>0.765</td>\n",
              "      <td>0.023</td>\n",
              "      <td>-0.541</td>\n",
              "      <td>4.80600</td>\n",
              "      <td>0.63400</td>\n",
              "      <td>-0.63400</td>\n",
              "      <td>87.7</td>\n",
              "      <td>13.0</td>\n",
              "      <td>-13.0</td>\n",
              "      <td>1.11</td>\n",
              "      <td>0.32</td>\n",
              "      <td>-0.23</td>\n",
              "      <td>929.0</td>\n",
              "      <td>NaN</td>\n",
              "      <td>NaN</td>\n",
              "      <td>176.40</td>\n",
              "      <td>152.77</td>\n",
              "      <td>-77.60</td>\n",
              "      <td>8.4</td>\n",
              "      <td>1.0</td>\n",
              "      <td>5638.0</td>\n",
              "      <td>169.0</td>\n",
              "      <td>-152.0</td>\n",
              "      <td>4.296</td>\n",
              "      <td>0.231</td>\n",
              "      <td>-0.189</td>\n",
              "      <td>1.088</td>\n",
              "      <td>0.313</td>\n",
              "      <td>-0.228</td>\n",
              "      <td>298.74921</td>\n",
              "      <td>46.973351</td>\n",
              "      <td>14.478</td>\n",
              "    </tr>\n",
              "    <tr>\n",
              "      <th>9560</th>\n",
              "      <td>NaN</td>\n",
              "      <td>FALSE POSITIVE</td>\n",
              "      <td>0.000</td>\n",
              "      <td>0</td>\n",
              "      <td>1</td>\n",
              "      <td>1</td>\n",
              "      <td>0</td>\n",
              "      <td>0.527699</td>\n",
              "      <td>1.160000e-07</td>\n",
              "      <td>-1.160000e-07</td>\n",
              "      <td>131.705093</td>\n",
              "      <td>0.000170</td>\n",
              "      <td>-0.000170</td>\n",
              "      <td>1.252</td>\n",
              "      <td>0.051</td>\n",
              "      <td>-0.049</td>\n",
              "      <td>3.22210</td>\n",
              "      <td>0.01740</td>\n",
              "      <td>-0.01740</td>\n",
              "      <td>1579.2</td>\n",
              "      <td>4.6</td>\n",
              "      <td>-4.6</td>\n",
              "      <td>29.35</td>\n",
              "      <td>7.70</td>\n",
              "      <td>-2.57</td>\n",
              "      <td>2088.0</td>\n",
              "      <td>NaN</td>\n",
              "      <td>NaN</td>\n",
              "      <td>4500.53</td>\n",
              "      <td>3406.38</td>\n",
              "      <td>-1175.26</td>\n",
              "      <td>453.3</td>\n",
              "      <td>1.0</td>\n",
              "      <td>5638.0</td>\n",
              "      <td>139.0</td>\n",
              "      <td>-166.0</td>\n",
              "      <td>4.529</td>\n",
              "      <td>0.035</td>\n",
              "      <td>-0.196</td>\n",
              "      <td>0.903</td>\n",
              "      <td>0.237</td>\n",
              "      <td>-0.079</td>\n",
              "      <td>297.18875</td>\n",
              "      <td>47.093819</td>\n",
              "      <td>14.082</td>\n",
              "    </tr>\n",
              "    <tr>\n",
              "      <th>9561</th>\n",
              "      <td>NaN</td>\n",
              "      <td>CANDIDATE</td>\n",
              "      <td>0.497</td>\n",
              "      <td>0</td>\n",
              "      <td>0</td>\n",
              "      <td>0</td>\n",
              "      <td>0</td>\n",
              "      <td>1.739849</td>\n",
              "      <td>1.780000e-05</td>\n",
              "      <td>-1.780000e-05</td>\n",
              "      <td>133.001270</td>\n",
              "      <td>0.007690</td>\n",
              "      <td>-0.007690</td>\n",
              "      <td>0.043</td>\n",
              "      <td>0.423</td>\n",
              "      <td>-0.043</td>\n",
              "      <td>3.11400</td>\n",
              "      <td>0.22900</td>\n",
              "      <td>-0.22900</td>\n",
              "      <td>48.5</td>\n",
              "      <td>5.4</td>\n",
              "      <td>-5.4</td>\n",
              "      <td>0.72</td>\n",
              "      <td>0.24</td>\n",
              "      <td>-0.08</td>\n",
              "      <td>1608.0</td>\n",
              "      <td>NaN</td>\n",
              "      <td>NaN</td>\n",
              "      <td>1585.81</td>\n",
              "      <td>1537.86</td>\n",
              "      <td>-502.22</td>\n",
              "      <td>10.6</td>\n",
              "      <td>1.0</td>\n",
              "      <td>6119.0</td>\n",
              "      <td>165.0</td>\n",
              "      <td>-220.0</td>\n",
              "      <td>4.444</td>\n",
              "      <td>0.056</td>\n",
              "      <td>-0.224</td>\n",
              "      <td>1.031</td>\n",
              "      <td>0.341</td>\n",
              "      <td>-0.114</td>\n",
              "      <td>286.50937</td>\n",
              "      <td>47.163219</td>\n",
              "      <td>14.757</td>\n",
              "    </tr>\n",
              "    <tr>\n",
              "      <th>9562</th>\n",
              "      <td>NaN</td>\n",
              "      <td>FALSE POSITIVE</td>\n",
              "      <td>0.021</td>\n",
              "      <td>0</td>\n",
              "      <td>0</td>\n",
              "      <td>1</td>\n",
              "      <td>0</td>\n",
              "      <td>0.681402</td>\n",
              "      <td>2.434000e-06</td>\n",
              "      <td>-2.434000e-06</td>\n",
              "      <td>132.181750</td>\n",
              "      <td>0.002850</td>\n",
              "      <td>-0.002850</td>\n",
              "      <td>0.147</td>\n",
              "      <td>0.309</td>\n",
              "      <td>-0.147</td>\n",
              "      <td>0.86500</td>\n",
              "      <td>0.16200</td>\n",
              "      <td>-0.16200</td>\n",
              "      <td>103.6</td>\n",
              "      <td>14.7</td>\n",
              "      <td>-14.7</td>\n",
              "      <td>1.07</td>\n",
              "      <td>0.36</td>\n",
              "      <td>-0.11</td>\n",
              "      <td>2218.0</td>\n",
              "      <td>NaN</td>\n",
              "      <td>NaN</td>\n",
              "      <td>5713.41</td>\n",
              "      <td>5675.74</td>\n",
              "      <td>-1836.94</td>\n",
              "      <td>12.3</td>\n",
              "      <td>1.0</td>\n",
              "      <td>6173.0</td>\n",
              "      <td>193.0</td>\n",
              "      <td>-236.0</td>\n",
              "      <td>4.447</td>\n",
              "      <td>0.056</td>\n",
              "      <td>-0.224</td>\n",
              "      <td>1.041</td>\n",
              "      <td>0.341</td>\n",
              "      <td>-0.114</td>\n",
              "      <td>294.16489</td>\n",
              "      <td>47.176281</td>\n",
              "      <td>15.385</td>\n",
              "    </tr>\n",
              "    <tr>\n",
              "      <th>9563</th>\n",
              "      <td>NaN</td>\n",
              "      <td>FALSE POSITIVE</td>\n",
              "      <td>0.000</td>\n",
              "      <td>0</td>\n",
              "      <td>0</td>\n",
              "      <td>1</td>\n",
              "      <td>1</td>\n",
              "      <td>4.856035</td>\n",
              "      <td>6.356000e-05</td>\n",
              "      <td>-6.356000e-05</td>\n",
              "      <td>135.993300</td>\n",
              "      <td>0.010800</td>\n",
              "      <td>-0.010800</td>\n",
              "      <td>0.134</td>\n",
              "      <td>0.323</td>\n",
              "      <td>-0.134</td>\n",
              "      <td>3.07800</td>\n",
              "      <td>0.28300</td>\n",
              "      <td>-0.28300</td>\n",
              "      <td>76.7</td>\n",
              "      <td>10.8</td>\n",
              "      <td>-10.8</td>\n",
              "      <td>1.05</td>\n",
              "      <td>0.36</td>\n",
              "      <td>-0.12</td>\n",
              "      <td>1266.0</td>\n",
              "      <td>NaN</td>\n",
              "      <td>NaN</td>\n",
              "      <td>607.42</td>\n",
              "      <td>600.39</td>\n",
              "      <td>-194.33</td>\n",
              "      <td>8.2</td>\n",
              "      <td>1.0</td>\n",
              "      <td>6469.0</td>\n",
              "      <td>158.0</td>\n",
              "      <td>-225.0</td>\n",
              "      <td>4.385</td>\n",
              "      <td>0.054</td>\n",
              "      <td>-0.216</td>\n",
              "      <td>1.193</td>\n",
              "      <td>0.410</td>\n",
              "      <td>-0.137</td>\n",
              "      <td>297.00977</td>\n",
              "      <td>47.121021</td>\n",
              "      <td>14.826</td>\n",
              "    </tr>\n",
              "  </tbody>\n",
              "</table>\n",
              "<p>9564 rows × 45 columns</p>\n",
              "</div>"
            ],
            "text/plain": [
              "       kepler_name koi_disposition  koi_score  ...         ra        dec  koi_kepmag\n",
              "0     Kepler-227 b       CONFIRMED      1.000  ...  291.93423  48.141651      15.347\n",
              "1     Kepler-227 c       CONFIRMED      0.969  ...  291.93423  48.141651      15.347\n",
              "2              NaN  FALSE POSITIVE      0.000  ...  297.00482  48.134129      15.436\n",
              "3              NaN  FALSE POSITIVE      0.000  ...  285.53461  48.285210      15.597\n",
              "4     Kepler-664 b       CONFIRMED      1.000  ...  288.75488  48.226200      15.509\n",
              "...            ...             ...        ...  ...        ...        ...         ...\n",
              "9559           NaN  FALSE POSITIVE      0.000  ...  298.74921  46.973351      14.478\n",
              "9560           NaN  FALSE POSITIVE      0.000  ...  297.18875  47.093819      14.082\n",
              "9561           NaN       CANDIDATE      0.497  ...  286.50937  47.163219      14.757\n",
              "9562           NaN  FALSE POSITIVE      0.021  ...  294.16489  47.176281      15.385\n",
              "9563           NaN  FALSE POSITIVE      0.000  ...  297.00977  47.121021      14.826\n",
              "\n",
              "[9564 rows x 45 columns]"
            ]
          },
          "metadata": {
            "tags": []
          },
          "execution_count": 91
        }
      ]
    },
    {
      "cell_type": "code",
      "metadata": {
        "id": "SvuJU2iaWnVN"
      },
      "source": [
        "#Drop all columns except 'kepler_name','koi_disposition','koi_period'\r\n",
        "df4=df3.drop(df3.columns.difference(['kepler_name','koi_disposition','koi_period']), 1, inplace=False)"
      ],
      "execution_count": 92,
      "outputs": []
    },
    {
      "cell_type": "markdown",
      "metadata": {
        "id": "fdt4iTA__1FB"
      },
      "source": [
        "We kept the name column for our own convenience. While Koi_disposition and koi_period are necessary for our analysis."
      ]
    },
    {
      "cell_type": "code",
      "metadata": {
        "colab": {
          "base_uri": "https://localhost:8080/",
          "height": 415
        },
        "id": "Q3E_nii3ZRlV",
        "outputId": "55e2c2c6-3301-4939-e272-f38745f90f19"
      },
      "source": [
        "#Show the results\r\n",
        "df4"
      ],
      "execution_count": 93,
      "outputs": [
        {
          "output_type": "execute_result",
          "data": {
            "text/html": [
              "<div>\n",
              "<style scoped>\n",
              "    .dataframe tbody tr th:only-of-type {\n",
              "        vertical-align: middle;\n",
              "    }\n",
              "\n",
              "    .dataframe tbody tr th {\n",
              "        vertical-align: top;\n",
              "    }\n",
              "\n",
              "    .dataframe thead th {\n",
              "        text-align: right;\n",
              "    }\n",
              "</style>\n",
              "<table border=\"1\" class=\"dataframe\">\n",
              "  <thead>\n",
              "    <tr style=\"text-align: right;\">\n",
              "      <th></th>\n",
              "      <th>kepler_name</th>\n",
              "      <th>koi_disposition</th>\n",
              "      <th>koi_period</th>\n",
              "    </tr>\n",
              "  </thead>\n",
              "  <tbody>\n",
              "    <tr>\n",
              "      <th>0</th>\n",
              "      <td>Kepler-227 b</td>\n",
              "      <td>CONFIRMED</td>\n",
              "      <td>9.488036</td>\n",
              "    </tr>\n",
              "    <tr>\n",
              "      <th>1</th>\n",
              "      <td>Kepler-227 c</td>\n",
              "      <td>CONFIRMED</td>\n",
              "      <td>54.418383</td>\n",
              "    </tr>\n",
              "    <tr>\n",
              "      <th>2</th>\n",
              "      <td>NaN</td>\n",
              "      <td>FALSE POSITIVE</td>\n",
              "      <td>19.899140</td>\n",
              "    </tr>\n",
              "    <tr>\n",
              "      <th>3</th>\n",
              "      <td>NaN</td>\n",
              "      <td>FALSE POSITIVE</td>\n",
              "      <td>1.736952</td>\n",
              "    </tr>\n",
              "    <tr>\n",
              "      <th>4</th>\n",
              "      <td>Kepler-664 b</td>\n",
              "      <td>CONFIRMED</td>\n",
              "      <td>2.525592</td>\n",
              "    </tr>\n",
              "    <tr>\n",
              "      <th>...</th>\n",
              "      <td>...</td>\n",
              "      <td>...</td>\n",
              "      <td>...</td>\n",
              "    </tr>\n",
              "    <tr>\n",
              "      <th>9559</th>\n",
              "      <td>NaN</td>\n",
              "      <td>FALSE POSITIVE</td>\n",
              "      <td>8.589871</td>\n",
              "    </tr>\n",
              "    <tr>\n",
              "      <th>9560</th>\n",
              "      <td>NaN</td>\n",
              "      <td>FALSE POSITIVE</td>\n",
              "      <td>0.527699</td>\n",
              "    </tr>\n",
              "    <tr>\n",
              "      <th>9561</th>\n",
              "      <td>NaN</td>\n",
              "      <td>CANDIDATE</td>\n",
              "      <td>1.739849</td>\n",
              "    </tr>\n",
              "    <tr>\n",
              "      <th>9562</th>\n",
              "      <td>NaN</td>\n",
              "      <td>FALSE POSITIVE</td>\n",
              "      <td>0.681402</td>\n",
              "    </tr>\n",
              "    <tr>\n",
              "      <th>9563</th>\n",
              "      <td>NaN</td>\n",
              "      <td>FALSE POSITIVE</td>\n",
              "      <td>4.856035</td>\n",
              "    </tr>\n",
              "  </tbody>\n",
              "</table>\n",
              "<p>9564 rows × 3 columns</p>\n",
              "</div>"
            ],
            "text/plain": [
              "       kepler_name koi_disposition  koi_period\n",
              "0     Kepler-227 b       CONFIRMED    9.488036\n",
              "1     Kepler-227 c       CONFIRMED   54.418383\n",
              "2              NaN  FALSE POSITIVE   19.899140\n",
              "3              NaN  FALSE POSITIVE    1.736952\n",
              "4     Kepler-664 b       CONFIRMED    2.525592\n",
              "...            ...             ...         ...\n",
              "9559           NaN  FALSE POSITIVE    8.589871\n",
              "9560           NaN  FALSE POSITIVE    0.527699\n",
              "9561           NaN       CANDIDATE    1.739849\n",
              "9562           NaN  FALSE POSITIVE    0.681402\n",
              "9563           NaN  FALSE POSITIVE    4.856035\n",
              "\n",
              "[9564 rows x 3 columns]"
            ]
          },
          "metadata": {
            "tags": []
          },
          "execution_count": 93
        }
      ]
    },
    {
      "cell_type": "markdown",
      "metadata": {
        "id": "r8Gf9u58AZbP"
      },
      "source": [
        "Get the information on our newly modified dataframe."
      ]
    },
    {
      "cell_type": "code",
      "metadata": {
        "colab": {
          "base_uri": "https://localhost:8080/"
        },
        "id": "6vAq7c7q4mvC",
        "outputId": "91ba3b93-4fc2-4d36-950c-4092edbd4999"
      },
      "source": [
        "#Show the information of the dataframe\r\n",
        "df4.info()"
      ],
      "execution_count": 94,
      "outputs": [
        {
          "output_type": "stream",
          "text": [
            "<class 'pandas.core.frame.DataFrame'>\n",
            "RangeIndex: 9564 entries, 0 to 9563\n",
            "Data columns (total 3 columns):\n",
            " #   Column           Non-Null Count  Dtype  \n",
            "---  ------           --------------  -----  \n",
            " 0   kepler_name      2294 non-null   object \n",
            " 1   koi_disposition  9564 non-null   object \n",
            " 2   koi_period       9564 non-null   float64\n",
            "dtypes: float64(1), object(2)\n",
            "memory usage: 224.3+ KB\n"
          ],
          "name": "stdout"
        }
      ]
    },
    {
      "cell_type": "markdown",
      "metadata": {
        "id": "XTWrYfoNAhjI"
      },
      "source": [
        "Remove any confirmed planet data from our Kepler Object of Intrest Table. It is not necessary as we have the confirmed planet data in a separate table."
      ]
    },
    {
      "cell_type": "code",
      "metadata": {
        "colab": {
          "base_uri": "https://localhost:8080/",
          "height": 415
        },
        "id": "THSZycRua8YZ",
        "outputId": "b32876ac-69f5-421d-8927-3951d5c4c05a"
      },
      "source": [
        "#Remove confirmed planet data from the dataframe\r\n",
        "df5=df4[df4.koi_disposition != 'CONFIRMED']\r\n",
        "#Show the results\r\n",
        "df5"
      ],
      "execution_count": 95,
      "outputs": [
        {
          "output_type": "execute_result",
          "data": {
            "text/html": [
              "<div>\n",
              "<style scoped>\n",
              "    .dataframe tbody tr th:only-of-type {\n",
              "        vertical-align: middle;\n",
              "    }\n",
              "\n",
              "    .dataframe tbody tr th {\n",
              "        vertical-align: top;\n",
              "    }\n",
              "\n",
              "    .dataframe thead th {\n",
              "        text-align: right;\n",
              "    }\n",
              "</style>\n",
              "<table border=\"1\" class=\"dataframe\">\n",
              "  <thead>\n",
              "    <tr style=\"text-align: right;\">\n",
              "      <th></th>\n",
              "      <th>kepler_name</th>\n",
              "      <th>koi_disposition</th>\n",
              "      <th>koi_period</th>\n",
              "    </tr>\n",
              "  </thead>\n",
              "  <tbody>\n",
              "    <tr>\n",
              "      <th>2</th>\n",
              "      <td>NaN</td>\n",
              "      <td>FALSE POSITIVE</td>\n",
              "      <td>19.899140</td>\n",
              "    </tr>\n",
              "    <tr>\n",
              "      <th>3</th>\n",
              "      <td>NaN</td>\n",
              "      <td>FALSE POSITIVE</td>\n",
              "      <td>1.736952</td>\n",
              "    </tr>\n",
              "    <tr>\n",
              "      <th>8</th>\n",
              "      <td>NaN</td>\n",
              "      <td>FALSE POSITIVE</td>\n",
              "      <td>7.361790</td>\n",
              "    </tr>\n",
              "    <tr>\n",
              "      <th>14</th>\n",
              "      <td>NaN</td>\n",
              "      <td>FALSE POSITIVE</td>\n",
              "      <td>11.521446</td>\n",
              "    </tr>\n",
              "    <tr>\n",
              "      <th>15</th>\n",
              "      <td>NaN</td>\n",
              "      <td>FALSE POSITIVE</td>\n",
              "      <td>19.403938</td>\n",
              "    </tr>\n",
              "    <tr>\n",
              "      <th>...</th>\n",
              "      <td>...</td>\n",
              "      <td>...</td>\n",
              "      <td>...</td>\n",
              "    </tr>\n",
              "    <tr>\n",
              "      <th>9559</th>\n",
              "      <td>NaN</td>\n",
              "      <td>FALSE POSITIVE</td>\n",
              "      <td>8.589871</td>\n",
              "    </tr>\n",
              "    <tr>\n",
              "      <th>9560</th>\n",
              "      <td>NaN</td>\n",
              "      <td>FALSE POSITIVE</td>\n",
              "      <td>0.527699</td>\n",
              "    </tr>\n",
              "    <tr>\n",
              "      <th>9561</th>\n",
              "      <td>NaN</td>\n",
              "      <td>CANDIDATE</td>\n",
              "      <td>1.739849</td>\n",
              "    </tr>\n",
              "    <tr>\n",
              "      <th>9562</th>\n",
              "      <td>NaN</td>\n",
              "      <td>FALSE POSITIVE</td>\n",
              "      <td>0.681402</td>\n",
              "    </tr>\n",
              "    <tr>\n",
              "      <th>9563</th>\n",
              "      <td>NaN</td>\n",
              "      <td>FALSE POSITIVE</td>\n",
              "      <td>4.856035</td>\n",
              "    </tr>\n",
              "  </tbody>\n",
              "</table>\n",
              "<p>7271 rows × 3 columns</p>\n",
              "</div>"
            ],
            "text/plain": [
              "     kepler_name koi_disposition  koi_period\n",
              "2            NaN  FALSE POSITIVE   19.899140\n",
              "3            NaN  FALSE POSITIVE    1.736952\n",
              "8            NaN  FALSE POSITIVE    7.361790\n",
              "14           NaN  FALSE POSITIVE   11.521446\n",
              "15           NaN  FALSE POSITIVE   19.403938\n",
              "...          ...             ...         ...\n",
              "9559         NaN  FALSE POSITIVE    8.589871\n",
              "9560         NaN  FALSE POSITIVE    0.527699\n",
              "9561         NaN       CANDIDATE    1.739849\n",
              "9562         NaN  FALSE POSITIVE    0.681402\n",
              "9563         NaN  FALSE POSITIVE    4.856035\n",
              "\n",
              "[7271 rows x 3 columns]"
            ]
          },
          "metadata": {
            "tags": []
          },
          "execution_count": 95
        }
      ]
    },
    {
      "cell_type": "markdown",
      "metadata": {
        "id": "xkUdA7iJA09V"
      },
      "source": [
        "We have removed the confirmed planets from the objects of interest. This means we can also remove our last two columns so we only have our orbital data for non-confirmed planets."
      ]
    },
    {
      "cell_type": "code",
      "metadata": {
        "colab": {
          "base_uri": "https://localhost:8080/",
          "height": 415
        },
        "id": "ZpuS-g2pf5kF",
        "outputId": "cab0dcd7-f75f-4537-c2b3-5b2de833a0bc"
      },
      "source": [
        "#Drop the 'kepler_name','koi_disposition' tables as we now have orbital data for our non_confirmed planets\r\n",
        "df5=df5.drop(columns=['kepler_name','koi_disposition'])\r\n",
        "#Show the results\r\n",
        "df5"
      ],
      "execution_count": 96,
      "outputs": [
        {
          "output_type": "execute_result",
          "data": {
            "text/html": [
              "<div>\n",
              "<style scoped>\n",
              "    .dataframe tbody tr th:only-of-type {\n",
              "        vertical-align: middle;\n",
              "    }\n",
              "\n",
              "    .dataframe tbody tr th {\n",
              "        vertical-align: top;\n",
              "    }\n",
              "\n",
              "    .dataframe thead th {\n",
              "        text-align: right;\n",
              "    }\n",
              "</style>\n",
              "<table border=\"1\" class=\"dataframe\">\n",
              "  <thead>\n",
              "    <tr style=\"text-align: right;\">\n",
              "      <th></th>\n",
              "      <th>koi_period</th>\n",
              "    </tr>\n",
              "  </thead>\n",
              "  <tbody>\n",
              "    <tr>\n",
              "      <th>2</th>\n",
              "      <td>19.899140</td>\n",
              "    </tr>\n",
              "    <tr>\n",
              "      <th>3</th>\n",
              "      <td>1.736952</td>\n",
              "    </tr>\n",
              "    <tr>\n",
              "      <th>8</th>\n",
              "      <td>7.361790</td>\n",
              "    </tr>\n",
              "    <tr>\n",
              "      <th>14</th>\n",
              "      <td>11.521446</td>\n",
              "    </tr>\n",
              "    <tr>\n",
              "      <th>15</th>\n",
              "      <td>19.403938</td>\n",
              "    </tr>\n",
              "    <tr>\n",
              "      <th>...</th>\n",
              "      <td>...</td>\n",
              "    </tr>\n",
              "    <tr>\n",
              "      <th>9559</th>\n",
              "      <td>8.589871</td>\n",
              "    </tr>\n",
              "    <tr>\n",
              "      <th>9560</th>\n",
              "      <td>0.527699</td>\n",
              "    </tr>\n",
              "    <tr>\n",
              "      <th>9561</th>\n",
              "      <td>1.739849</td>\n",
              "    </tr>\n",
              "    <tr>\n",
              "      <th>9562</th>\n",
              "      <td>0.681402</td>\n",
              "    </tr>\n",
              "    <tr>\n",
              "      <th>9563</th>\n",
              "      <td>4.856035</td>\n",
              "    </tr>\n",
              "  </tbody>\n",
              "</table>\n",
              "<p>7271 rows × 1 columns</p>\n",
              "</div>"
            ],
            "text/plain": [
              "      koi_period\n",
              "2      19.899140\n",
              "3       1.736952\n",
              "8       7.361790\n",
              "14     11.521446\n",
              "15     19.403938\n",
              "...          ...\n",
              "9559    8.589871\n",
              "9560    0.527699\n",
              "9561    1.739849\n",
              "9562    0.681402\n",
              "9563    4.856035\n",
              "\n",
              "[7271 rows x 1 columns]"
            ]
          },
          "metadata": {
            "tags": []
          },
          "execution_count": 96
        }
      ]
    },
    {
      "cell_type": "markdown",
      "metadata": {
        "id": "nIejugngBQlb"
      },
      "source": [
        "Reset the index just so we can keep things clean."
      ]
    },
    {
      "cell_type": "code",
      "metadata": {
        "colab": {
          "base_uri": "https://localhost:8080/",
          "height": 415
        },
        "id": "78aRlFH2gNHE",
        "outputId": "0f07b7e0-eff5-4321-f6c7-3b4fffb7b8c5"
      },
      "source": [
        "#Reset the index\r\n",
        "df5=df5.reset_index(drop=True)\r\n",
        "#Show the results\r\n",
        "df5"
      ],
      "execution_count": 97,
      "outputs": [
        {
          "output_type": "execute_result",
          "data": {
            "text/html": [
              "<div>\n",
              "<style scoped>\n",
              "    .dataframe tbody tr th:only-of-type {\n",
              "        vertical-align: middle;\n",
              "    }\n",
              "\n",
              "    .dataframe tbody tr th {\n",
              "        vertical-align: top;\n",
              "    }\n",
              "\n",
              "    .dataframe thead th {\n",
              "        text-align: right;\n",
              "    }\n",
              "</style>\n",
              "<table border=\"1\" class=\"dataframe\">\n",
              "  <thead>\n",
              "    <tr style=\"text-align: right;\">\n",
              "      <th></th>\n",
              "      <th>koi_period</th>\n",
              "    </tr>\n",
              "  </thead>\n",
              "  <tbody>\n",
              "    <tr>\n",
              "      <th>0</th>\n",
              "      <td>19.899140</td>\n",
              "    </tr>\n",
              "    <tr>\n",
              "      <th>1</th>\n",
              "      <td>1.736952</td>\n",
              "    </tr>\n",
              "    <tr>\n",
              "      <th>2</th>\n",
              "      <td>7.361790</td>\n",
              "    </tr>\n",
              "    <tr>\n",
              "      <th>3</th>\n",
              "      <td>11.521446</td>\n",
              "    </tr>\n",
              "    <tr>\n",
              "      <th>4</th>\n",
              "      <td>19.403938</td>\n",
              "    </tr>\n",
              "    <tr>\n",
              "      <th>...</th>\n",
              "      <td>...</td>\n",
              "    </tr>\n",
              "    <tr>\n",
              "      <th>7266</th>\n",
              "      <td>8.589871</td>\n",
              "    </tr>\n",
              "    <tr>\n",
              "      <th>7267</th>\n",
              "      <td>0.527699</td>\n",
              "    </tr>\n",
              "    <tr>\n",
              "      <th>7268</th>\n",
              "      <td>1.739849</td>\n",
              "    </tr>\n",
              "    <tr>\n",
              "      <th>7269</th>\n",
              "      <td>0.681402</td>\n",
              "    </tr>\n",
              "    <tr>\n",
              "      <th>7270</th>\n",
              "      <td>4.856035</td>\n",
              "    </tr>\n",
              "  </tbody>\n",
              "</table>\n",
              "<p>7271 rows × 1 columns</p>\n",
              "</div>"
            ],
            "text/plain": [
              "      koi_period\n",
              "0      19.899140\n",
              "1       1.736952\n",
              "2       7.361790\n",
              "3      11.521446\n",
              "4      19.403938\n",
              "...          ...\n",
              "7266    8.589871\n",
              "7267    0.527699\n",
              "7268    1.739849\n",
              "7269    0.681402\n",
              "7270    4.856035\n",
              "\n",
              "[7271 rows x 1 columns]"
            ]
          },
          "metadata": {
            "tags": []
          },
          "execution_count": 97
        }
      ]
    },
    {
      "cell_type": "markdown",
      "metadata": {
        "id": "j_GEpVJBBd0g"
      },
      "source": [
        "Now we need the orbital data of the Confirmed Planets table. We shall drop all unnecessary columns from the confirmed planets table and save it as df6."
      ]
    },
    {
      "cell_type": "code",
      "metadata": {
        "colab": {
          "base_uri": "https://localhost:8080/",
          "height": 415
        },
        "id": "Mzeg97JCg4Gz",
        "outputId": "6d8b8b41-9e27-488b-d165-a46fa602a955"
      },
      "source": [
        "#Drop planet name and mass from the confirmed planets table\r\n",
        "df6=df2.drop(columns=['pl_name',\t'pl_bmassj'])\r\n",
        "#Show the results\r\n",
        "df6"
      ],
      "execution_count": 98,
      "outputs": [
        {
          "output_type": "execute_result",
          "data": {
            "text/html": [
              "<div>\n",
              "<style scoped>\n",
              "    .dataframe tbody tr th:only-of-type {\n",
              "        vertical-align: middle;\n",
              "    }\n",
              "\n",
              "    .dataframe tbody tr th {\n",
              "        vertical-align: top;\n",
              "    }\n",
              "\n",
              "    .dataframe thead th {\n",
              "        text-align: right;\n",
              "    }\n",
              "</style>\n",
              "<table border=\"1\" class=\"dataframe\">\n",
              "  <thead>\n",
              "    <tr style=\"text-align: right;\">\n",
              "      <th></th>\n",
              "      <th>pl_orbper</th>\n",
              "    </tr>\n",
              "  </thead>\n",
              "  <tbody>\n",
              "    <tr>\n",
              "      <th>0</th>\n",
              "      <td>410.100010</td>\n",
              "    </tr>\n",
              "    <tr>\n",
              "      <th>1</th>\n",
              "      <td>110.900000</td>\n",
              "    </tr>\n",
              "    <tr>\n",
              "      <th>2</th>\n",
              "      <td>71.484000</td>\n",
              "    </tr>\n",
              "    <tr>\n",
              "      <th>3</th>\n",
              "      <td>14.479000</td>\n",
              "    </tr>\n",
              "    <tr>\n",
              "      <th>4</th>\n",
              "      <td>3.092514</td>\n",
              "    </tr>\n",
              "    <tr>\n",
              "      <th>...</th>\n",
              "      <td>...</td>\n",
              "    </tr>\n",
              "    <tr>\n",
              "      <th>4319</th>\n",
              "      <td>3.585990</td>\n",
              "    </tr>\n",
              "    <tr>\n",
              "      <th>4320</th>\n",
              "      <td>5.972930</td>\n",
              "    </tr>\n",
              "    <tr>\n",
              "      <th>4321</th>\n",
              "      <td>11.230000</td>\n",
              "    </tr>\n",
              "    <tr>\n",
              "      <th>4322</th>\n",
              "      <td>4.004980</td>\n",
              "    </tr>\n",
              "    <tr>\n",
              "      <th>4323</th>\n",
              "      <td>203.590000</td>\n",
              "    </tr>\n",
              "  </tbody>\n",
              "</table>\n",
              "<p>4324 rows × 1 columns</p>\n",
              "</div>"
            ],
            "text/plain": [
              "       pl_orbper\n",
              "0     410.100010\n",
              "1     110.900000\n",
              "2      71.484000\n",
              "3      14.479000\n",
              "4       3.092514\n",
              "...          ...\n",
              "4319    3.585990\n",
              "4320    5.972930\n",
              "4321   11.230000\n",
              "4322    4.004980\n",
              "4323  203.590000\n",
              "\n",
              "[4324 rows x 1 columns]"
            ]
          },
          "metadata": {
            "tags": []
          },
          "execution_count": 98
        }
      ]
    },
    {
      "cell_type": "markdown",
      "metadata": {
        "id": "qIqCXK3kCFJe"
      },
      "source": [
        "Our Kepler Objects of interest table has 7271 different objects in it. While our confirmed planets only has only 4323 different objects in it. This will cause difficulty for our linear regression. As we need them to have the same amount of values for things to run smoothly.\r\n",
        "\r\n",
        "The below code takes a list of our data adds it back into our dataframe. The range is 2947 because that is the difference between our two dataframes. Effectively we are duplicating our confirmed planet data to match the number of values in the objects of intrest table.\r\n",
        "\r\n",
        "This is done so that we don't have to throw out any data from our objects of interest table."
      ]
    },
    {
      "cell_type": "code",
      "metadata": {
        "colab": {
          "base_uri": "https://localhost:8080/",
          "height": 415
        },
        "id": "sMqfT20Nl-Mn",
        "outputId": "d61c2667-c6b7-4396-ce5a-763756a7e77b"
      },
      "source": [
        "#Duplicate the data so that both dataframes have the same number of values\r\n",
        "df9=df6.reindex(df6.index.tolist() + list(range(2947)))\r\n",
        "#Show the results\r\n",
        "df9"
      ],
      "execution_count": 99,
      "outputs": [
        {
          "output_type": "execute_result",
          "data": {
            "text/html": [
              "<div>\n",
              "<style scoped>\n",
              "    .dataframe tbody tr th:only-of-type {\n",
              "        vertical-align: middle;\n",
              "    }\n",
              "\n",
              "    .dataframe tbody tr th {\n",
              "        vertical-align: top;\n",
              "    }\n",
              "\n",
              "    .dataframe thead th {\n",
              "        text-align: right;\n",
              "    }\n",
              "</style>\n",
              "<table border=\"1\" class=\"dataframe\">\n",
              "  <thead>\n",
              "    <tr style=\"text-align: right;\">\n",
              "      <th></th>\n",
              "      <th>pl_orbper</th>\n",
              "    </tr>\n",
              "  </thead>\n",
              "  <tbody>\n",
              "    <tr>\n",
              "      <th>0</th>\n",
              "      <td>4.101000e+02</td>\n",
              "    </tr>\n",
              "    <tr>\n",
              "      <th>1</th>\n",
              "      <td>1.109000e+02</td>\n",
              "    </tr>\n",
              "    <tr>\n",
              "      <th>2</th>\n",
              "      <td>7.148400e+01</td>\n",
              "    </tr>\n",
              "    <tr>\n",
              "      <th>3</th>\n",
              "      <td>1.447900e+01</td>\n",
              "    </tr>\n",
              "    <tr>\n",
              "      <th>4</th>\n",
              "      <td>3.092514e+00</td>\n",
              "    </tr>\n",
              "    <tr>\n",
              "      <th>...</th>\n",
              "      <td>...</td>\n",
              "    </tr>\n",
              "    <tr>\n",
              "      <th>2942</th>\n",
              "      <td>1.689868e+00</td>\n",
              "    </tr>\n",
              "    <tr>\n",
              "      <th>2943</th>\n",
              "      <td>3.979100e+00</td>\n",
              "    </tr>\n",
              "    <tr>\n",
              "      <th>2944</th>\n",
              "      <td>3.677240e+00</td>\n",
              "    </tr>\n",
              "    <tr>\n",
              "      <th>2945</th>\n",
              "      <td>7.300000e+06</td>\n",
              "    </tr>\n",
              "    <tr>\n",
              "      <th>2946</th>\n",
              "      <td>3.160630e+00</td>\n",
              "    </tr>\n",
              "  </tbody>\n",
              "</table>\n",
              "<p>7271 rows × 1 columns</p>\n",
              "</div>"
            ],
            "text/plain": [
              "         pl_orbper\n",
              "0     4.101000e+02\n",
              "1     1.109000e+02\n",
              "2     7.148400e+01\n",
              "3     1.447900e+01\n",
              "4     3.092514e+00\n",
              "...            ...\n",
              "2942  1.689868e+00\n",
              "2943  3.979100e+00\n",
              "2944  3.677240e+00\n",
              "2945  7.300000e+06\n",
              "2946  3.160630e+00\n",
              "\n",
              "[7271 rows x 1 columns]"
            ]
          },
          "metadata": {
            "tags": []
          },
          "execution_count": 99
        }
      ]
    },
    {
      "cell_type": "markdown",
      "metadata": {
        "id": "yaDbxpH3Dlg3"
      },
      "source": [
        "Confirm that none of the new rows of our Confirmed Planets Table is empty."
      ]
    },
    {
      "cell_type": "code",
      "metadata": {
        "colab": {
          "base_uri": "https://localhost:8080/"
        },
        "id": "oD-T7oFtnfwu",
        "outputId": "e19d7719-d6a3-48fe-ddda-6113d22b3102"
      },
      "source": [
        "#Make sure that none of the new rows are null\r\n",
        "df9.isnull().value_counts()"
      ],
      "execution_count": 100,
      "outputs": [
        {
          "output_type": "execute_result",
          "data": {
            "text/plain": [
              "pl_orbper\n",
              "False        7271\n",
              "dtype: int64"
            ]
          },
          "metadata": {
            "tags": []
          },
          "execution_count": 100
        }
      ]
    },
    {
      "cell_type": "markdown",
      "metadata": {
        "id": "LMqALjj5D936"
      },
      "source": [
        "Reindex the data."
      ]
    },
    {
      "cell_type": "code",
      "metadata": {
        "colab": {
          "base_uri": "https://localhost:8080/",
          "height": 415
        },
        "id": "_vemN6t30RpH",
        "outputId": "cf06049a-1123-44b7-de61-530707b7ff35"
      },
      "source": [
        "#Reindex the dataframe\r\n",
        "df9=df9.reset_index(drop=True)\r\n",
        "#Show the results\r\n",
        "df9"
      ],
      "execution_count": 101,
      "outputs": [
        {
          "output_type": "execute_result",
          "data": {
            "text/html": [
              "<div>\n",
              "<style scoped>\n",
              "    .dataframe tbody tr th:only-of-type {\n",
              "        vertical-align: middle;\n",
              "    }\n",
              "\n",
              "    .dataframe tbody tr th {\n",
              "        vertical-align: top;\n",
              "    }\n",
              "\n",
              "    .dataframe thead th {\n",
              "        text-align: right;\n",
              "    }\n",
              "</style>\n",
              "<table border=\"1\" class=\"dataframe\">\n",
              "  <thead>\n",
              "    <tr style=\"text-align: right;\">\n",
              "      <th></th>\n",
              "      <th>pl_orbper</th>\n",
              "    </tr>\n",
              "  </thead>\n",
              "  <tbody>\n",
              "    <tr>\n",
              "      <th>0</th>\n",
              "      <td>4.101000e+02</td>\n",
              "    </tr>\n",
              "    <tr>\n",
              "      <th>1</th>\n",
              "      <td>1.109000e+02</td>\n",
              "    </tr>\n",
              "    <tr>\n",
              "      <th>2</th>\n",
              "      <td>7.148400e+01</td>\n",
              "    </tr>\n",
              "    <tr>\n",
              "      <th>3</th>\n",
              "      <td>1.447900e+01</td>\n",
              "    </tr>\n",
              "    <tr>\n",
              "      <th>4</th>\n",
              "      <td>3.092514e+00</td>\n",
              "    </tr>\n",
              "    <tr>\n",
              "      <th>...</th>\n",
              "      <td>...</td>\n",
              "    </tr>\n",
              "    <tr>\n",
              "      <th>7266</th>\n",
              "      <td>1.689868e+00</td>\n",
              "    </tr>\n",
              "    <tr>\n",
              "      <th>7267</th>\n",
              "      <td>3.979100e+00</td>\n",
              "    </tr>\n",
              "    <tr>\n",
              "      <th>7268</th>\n",
              "      <td>3.677240e+00</td>\n",
              "    </tr>\n",
              "    <tr>\n",
              "      <th>7269</th>\n",
              "      <td>7.300000e+06</td>\n",
              "    </tr>\n",
              "    <tr>\n",
              "      <th>7270</th>\n",
              "      <td>3.160630e+00</td>\n",
              "    </tr>\n",
              "  </tbody>\n",
              "</table>\n",
              "<p>7271 rows × 1 columns</p>\n",
              "</div>"
            ],
            "text/plain": [
              "         pl_orbper\n",
              "0     4.101000e+02\n",
              "1     1.109000e+02\n",
              "2     7.148400e+01\n",
              "3     1.447900e+01\n",
              "4     3.092514e+00\n",
              "...            ...\n",
              "7266  1.689868e+00\n",
              "7267  3.979100e+00\n",
              "7268  3.677240e+00\n",
              "7269  7.300000e+06\n",
              "7270  3.160630e+00\n",
              "\n",
              "[7271 rows x 1 columns]"
            ]
          },
          "metadata": {
            "tags": []
          },
          "execution_count": 101
        }
      ]
    },
    {
      "cell_type": "markdown",
      "metadata": {
        "id": "xu4AplgoEFvd"
      },
      "source": [
        "In this scenario, we seem to have a singular extreme outlier well beyond the rest of our data points. We will need to remove it before we proceed."
      ]
    },
    {
      "cell_type": "code",
      "metadata": {
        "colab": {
          "base_uri": "https://localhost:8080/",
          "height": 299
        },
        "id": "A-BftXk94SVZ",
        "outputId": "6ea84b47-0335-4126-b653-6ddf0d883c34"
      },
      "source": [
        "#Show a boxplot of the confrimed planets' orbits\r\n",
        "df9.boxplot()\r\n",
        "#Create a title for the plot\r\n",
        "plt.title('Outliers Confirmed Planet Orbits')\r\n",
        "#Create the y_label\r\n",
        "plt.ylabel('Orbit in days')"
      ],
      "execution_count": 102,
      "outputs": [
        {
          "output_type": "execute_result",
          "data": {
            "text/plain": [
              "Text(0, 0.5, 'Orbit in days')"
            ]
          },
          "metadata": {
            "tags": []
          },
          "execution_count": 102
        },
        {
          "output_type": "display_data",
          "data": {
            "image/png": "[encoded data removed]",
            "text/plain": [
              "<Figure size 432x288 with 1 Axes>"
            ]
          },
          "metadata": {
            "tags": [],
            "needs_background": "light"
          }
        }
      ]
    },
    {
      "cell_type": "markdown",
      "metadata": {
        "id": "ZRRmEAshFPrX"
      },
      "source": [
        "We will just be removing outliers by using the number of days the Kepler Space telscope has been operatinal as a cut off.\r\n",
        "\r\n",
        "Keplers Operatinal time = 4309 days at the time of my writng this.\r\n",
        "\r\n",
        "This will ensure that any planet with a longer orbital period than Keplers operatinal time will not be included. This is the simples and most effective way to remove outliers."
      ]
    },
    {
      "cell_type": "code",
      "metadata": {
        "colab": {
          "base_uri": "https://localhost:8080/"
        },
        "id": "SDBdbqoO9I9I",
        "outputId": "89ea7b7d-1114-42e4-cd79-069bfbce82a7"
      },
      "source": [
        "#Show the maximum value of the confirmed planets' orbits\r\n",
        "df9.max()"
      ],
      "execution_count": 103,
      "outputs": [
        {
          "output_type": "execute_result",
          "data": {
            "text/plain": [
              "pl_orbper    7300000.0\n",
              "dtype: float64"
            ]
          },
          "metadata": {
            "tags": []
          },
          "execution_count": 103
        }
      ]
    },
    {
      "cell_type": "code",
      "metadata": {
        "colab": {
          "base_uri": "https://localhost:8080/",
          "height": 415
        },
        "id": "nOVoRhQN9Wge",
        "outputId": "e2717937-7137-4f0a-eb35-89e48860e752"
      },
      "source": [
        "#Remove the maximum value of the confirmed planets orbit\r\n",
        "df10 = df9[df9.pl_orbper <= 4309.0]\r\n",
        "#Show the results\r\n",
        "df10"
      ],
      "execution_count": 104,
      "outputs": [
        {
          "output_type": "execute_result",
          "data": {
            "text/html": [
              "<div>\n",
              "<style scoped>\n",
              "    .dataframe tbody tr th:only-of-type {\n",
              "        vertical-align: middle;\n",
              "    }\n",
              "\n",
              "    .dataframe tbody tr th {\n",
              "        vertical-align: top;\n",
              "    }\n",
              "\n",
              "    .dataframe thead th {\n",
              "        text-align: right;\n",
              "    }\n",
              "</style>\n",
              "<table border=\"1\" class=\"dataframe\">\n",
              "  <thead>\n",
              "    <tr style=\"text-align: right;\">\n",
              "      <th></th>\n",
              "      <th>pl_orbper</th>\n",
              "    </tr>\n",
              "  </thead>\n",
              "  <tbody>\n",
              "    <tr>\n",
              "      <th>0</th>\n",
              "      <td>410.100010</td>\n",
              "    </tr>\n",
              "    <tr>\n",
              "      <th>1</th>\n",
              "      <td>110.900000</td>\n",
              "    </tr>\n",
              "    <tr>\n",
              "      <th>2</th>\n",
              "      <td>71.484000</td>\n",
              "    </tr>\n",
              "    <tr>\n",
              "      <th>3</th>\n",
              "      <td>14.479000</td>\n",
              "    </tr>\n",
              "    <tr>\n",
              "      <th>4</th>\n",
              "      <td>3.092514</td>\n",
              "    </tr>\n",
              "    <tr>\n",
              "      <th>...</th>\n",
              "      <td>...</td>\n",
              "    </tr>\n",
              "    <tr>\n",
              "      <th>7265</th>\n",
              "      <td>1.432475</td>\n",
              "    </tr>\n",
              "    <tr>\n",
              "      <th>7266</th>\n",
              "      <td>1.689868</td>\n",
              "    </tr>\n",
              "    <tr>\n",
              "      <th>7267</th>\n",
              "      <td>3.979100</td>\n",
              "    </tr>\n",
              "    <tr>\n",
              "      <th>7268</th>\n",
              "      <td>3.677240</td>\n",
              "    </tr>\n",
              "    <tr>\n",
              "      <th>7270</th>\n",
              "      <td>3.160630</td>\n",
              "    </tr>\n",
              "  </tbody>\n",
              "</table>\n",
              "<p>7153 rows × 1 columns</p>\n",
              "</div>"
            ],
            "text/plain": [
              "       pl_orbper\n",
              "0     410.100010\n",
              "1     110.900000\n",
              "2      71.484000\n",
              "3      14.479000\n",
              "4       3.092514\n",
              "...          ...\n",
              "7265    1.432475\n",
              "7266    1.689868\n",
              "7267    3.979100\n",
              "7268    3.677240\n",
              "7270    3.160630\n",
              "\n",
              "[7153 rows x 1 columns]"
            ]
          },
          "metadata": {
            "tags": []
          },
          "execution_count": 104
        }
      ]
    },
    {
      "cell_type": "markdown",
      "metadata": {
        "id": "KGbJBqIyFixZ"
      },
      "source": [
        "We have the same problem with our Kepler objects of interest data. We will need to drop the most extreme outliers before proceeding."
      ]
    },
    {
      "cell_type": "code",
      "metadata": {
        "colab": {
          "base_uri": "https://localhost:8080/",
          "height": 299
        },
        "id": "ZepSnXiK4eHO",
        "outputId": "ca7c4c3a-f371-4363-f4cf-84e55b2a3395"
      },
      "source": [
        "#Show a boxplot of the Kepler Object of Intrest orbits\r\n",
        "df5.boxplot()\r\n",
        "#Create a title for the plot\r\n",
        "plt.title('OutliersObjects of Intrest Orbits')\r\n",
        "#Create the y_label\r\n",
        "plt.ylabel('Orbit in days')"
      ],
      "execution_count": 105,
      "outputs": [
        {
          "output_type": "execute_result",
          "data": {
            "text/plain": [
              "Text(0, 0.5, 'Orbit in days')"
            ]
          },
          "metadata": {
            "tags": []
          },
          "execution_count": 105
        },
        {
          "output_type": "display_data",
          "data": {
            "image/png": "[encoded data removed]",
            "text/plain": [
              "<Figure size 432x288 with 1 Axes>"
            ]
          },
          "metadata": {
            "tags": [],
            "needs_background": "light"
          }
        }
      ]
    },
    {
      "cell_type": "code",
      "metadata": {
        "colab": {
          "base_uri": "https://localhost:8080/"
        },
        "id": "0rSPxJiK-PQl",
        "outputId": "7326e29f-4c06-4eb3-94a5-3fd53660ba4a"
      },
      "source": [
        "#Show the maximum value of the Kepler Object of Intrest orbits\r\n",
        "df5.max()"
      ],
      "execution_count": 106,
      "outputs": [
        {
          "output_type": "execute_result",
          "data": {
            "text/plain": [
              "koi_period    129995.7784\n",
              "dtype: float64"
            ]
          },
          "metadata": {
            "tags": []
          },
          "execution_count": 106
        }
      ]
    },
    {
      "cell_type": "code",
      "metadata": {
        "colab": {
          "base_uri": "https://localhost:8080/",
          "height": 415
        },
        "id": "Cd9rS1pHGIWe",
        "outputId": "3feaa1fb-7ab2-4f7b-a5d4-e08d25fbc47e"
      },
      "source": [
        "#Remove the maximum value of the Kepler Object of Intrest orbit\r\n",
        "df5 = df5[df5.koi_period <= 4309.0]\r\n",
        "#Show the results\r\n",
        "df5"
      ],
      "execution_count": 107,
      "outputs": [
        {
          "output_type": "execute_result",
          "data": {
            "text/html": [
              "<div>\n",
              "<style scoped>\n",
              "    .dataframe tbody tr th:only-of-type {\n",
              "        vertical-align: middle;\n",
              "    }\n",
              "\n",
              "    .dataframe tbody tr th {\n",
              "        vertical-align: top;\n",
              "    }\n",
              "\n",
              "    .dataframe thead th {\n",
              "        text-align: right;\n",
              "    }\n",
              "</style>\n",
              "<table border=\"1\" class=\"dataframe\">\n",
              "  <thead>\n",
              "    <tr style=\"text-align: right;\">\n",
              "      <th></th>\n",
              "      <th>koi_period</th>\n",
              "    </tr>\n",
              "  </thead>\n",
              "  <tbody>\n",
              "    <tr>\n",
              "      <th>0</th>\n",
              "      <td>19.899140</td>\n",
              "    </tr>\n",
              "    <tr>\n",
              "      <th>1</th>\n",
              "      <td>1.736952</td>\n",
              "    </tr>\n",
              "    <tr>\n",
              "      <th>2</th>\n",
              "      <td>7.361790</td>\n",
              "    </tr>\n",
              "    <tr>\n",
              "      <th>3</th>\n",
              "      <td>11.521446</td>\n",
              "    </tr>\n",
              "    <tr>\n",
              "      <th>4</th>\n",
              "      <td>19.403938</td>\n",
              "    </tr>\n",
              "    <tr>\n",
              "      <th>...</th>\n",
              "      <td>...</td>\n",
              "    </tr>\n",
              "    <tr>\n",
              "      <th>7266</th>\n",
              "      <td>8.589871</td>\n",
              "    </tr>\n",
              "    <tr>\n",
              "      <th>7267</th>\n",
              "      <td>0.527699</td>\n",
              "    </tr>\n",
              "    <tr>\n",
              "      <th>7268</th>\n",
              "      <td>1.739849</td>\n",
              "    </tr>\n",
              "    <tr>\n",
              "      <th>7269</th>\n",
              "      <td>0.681402</td>\n",
              "    </tr>\n",
              "    <tr>\n",
              "      <th>7270</th>\n",
              "      <td>4.856035</td>\n",
              "    </tr>\n",
              "  </tbody>\n",
              "</table>\n",
              "<p>7270 rows × 1 columns</p>\n",
              "</div>"
            ],
            "text/plain": [
              "      koi_period\n",
              "0      19.899140\n",
              "1       1.736952\n",
              "2       7.361790\n",
              "3      11.521446\n",
              "4      19.403938\n",
              "...          ...\n",
              "7266    8.589871\n",
              "7267    0.527699\n",
              "7268    1.739849\n",
              "7269    0.681402\n",
              "7270    4.856035\n",
              "\n",
              "[7270 rows x 1 columns]"
            ]
          },
          "metadata": {
            "tags": []
          },
          "execution_count": 107
        }
      ]
    },
    {
      "cell_type": "markdown",
      "metadata": {
        "id": "_r4tVWaAIYcZ"
      },
      "source": [
        "We have a new problem now. The Kepler confirmed planets dataframe has lost a few dozen of its values, while the objects of interest dataframe has only lost one. This means our dataframes are no longer the same length. This will present problems for our linear regression. So we will be removing a some values from the Keplar objects of the interest dataframe to ensure that both dataframes have the same length."
      ]
    },
    {
      "cell_type": "code",
      "metadata": {
        "colab": {
          "base_uri": "https://localhost:8080/",
          "height": 415
        },
        "id": "uDc29s58HdOA",
        "outputId": "fa0ad62a-f5b6-47f7-e137-f0663957554e"
      },
      "source": [
        "#Remove 1 value from the Kepler Object of Intrest orbits\r\n",
        "df5 = df5.iloc[117:]\r\n",
        "#Show the results\r\n",
        "df5"
      ],
      "execution_count": 108,
      "outputs": [
        {
          "output_type": "execute_result",
          "data": {
            "text/html": [
              "<div>\n",
              "<style scoped>\n",
              "    .dataframe tbody tr th:only-of-type {\n",
              "        vertical-align: middle;\n",
              "    }\n",
              "\n",
              "    .dataframe tbody tr th {\n",
              "        vertical-align: top;\n",
              "    }\n",
              "\n",
              "    .dataframe thead th {\n",
              "        text-align: right;\n",
              "    }\n",
              "</style>\n",
              "<table border=\"1\" class=\"dataframe\">\n",
              "  <thead>\n",
              "    <tr style=\"text-align: right;\">\n",
              "      <th></th>\n",
              "      <th>koi_period</th>\n",
              "    </tr>\n",
              "  </thead>\n",
              "  <tbody>\n",
              "    <tr>\n",
              "      <th>118</th>\n",
              "      <td>8.667822</td>\n",
              "    </tr>\n",
              "    <tr>\n",
              "      <th>119</th>\n",
              "      <td>6.721078</td>\n",
              "    </tr>\n",
              "    <tr>\n",
              "      <th>120</th>\n",
              "      <td>10.265477</td>\n",
              "    </tr>\n",
              "    <tr>\n",
              "      <th>121</th>\n",
              "      <td>13.447179</td>\n",
              "    </tr>\n",
              "    <tr>\n",
              "      <th>122</th>\n",
              "      <td>3.305578</td>\n",
              "    </tr>\n",
              "    <tr>\n",
              "      <th>...</th>\n",
              "      <td>...</td>\n",
              "    </tr>\n",
              "    <tr>\n",
              "      <th>7266</th>\n",
              "      <td>8.589871</td>\n",
              "    </tr>\n",
              "    <tr>\n",
              "      <th>7267</th>\n",
              "      <td>0.527699</td>\n",
              "    </tr>\n",
              "    <tr>\n",
              "      <th>7268</th>\n",
              "      <td>1.739849</td>\n",
              "    </tr>\n",
              "    <tr>\n",
              "      <th>7269</th>\n",
              "      <td>0.681402</td>\n",
              "    </tr>\n",
              "    <tr>\n",
              "      <th>7270</th>\n",
              "      <td>4.856035</td>\n",
              "    </tr>\n",
              "  </tbody>\n",
              "</table>\n",
              "<p>7153 rows × 1 columns</p>\n",
              "</div>"
            ],
            "text/plain": [
              "      koi_period\n",
              "118     8.667822\n",
              "119     6.721078\n",
              "120    10.265477\n",
              "121    13.447179\n",
              "122     3.305578\n",
              "...          ...\n",
              "7266    8.589871\n",
              "7267    0.527699\n",
              "7268    1.739849\n",
              "7269    0.681402\n",
              "7270    4.856035\n",
              "\n",
              "[7153 rows x 1 columns]"
            ]
          },
          "metadata": {
            "tags": []
          },
          "execution_count": 108
        }
      ]
    },
    {
      "cell_type": "markdown",
      "metadata": {
        "id": "vKF_Wy6JI3sj"
      },
      "source": [
        "Turn both our data frames into arrays and being the process of making our linear regression."
      ]
    },
    {
      "cell_type": "code",
      "metadata": {
        "id": "fxI448D21xce"
      },
      "source": [
        "#Convert Kepler Confirmed Planets orbital data into an array\r\n",
        "df10_array=df10.to_numpy()"
      ],
      "execution_count": 109,
      "outputs": []
    },
    {
      "cell_type": "code",
      "metadata": {
        "id": "88euQ_EA1rp7"
      },
      "source": [
        "#Convert Kepler Object of Intrest orbital data into an array\r\n",
        "df5_array=df5.to_numpy()"
      ],
      "execution_count": 110,
      "outputs": []
    },
    {
      "cell_type": "markdown",
      "metadata": {
        "id": "PLd7S8uyjN_A"
      },
      "source": [
        "Create a train test split of the data. Save LinearRegression as model. Reshape our x_train and X_test data, fit the training data to our linear regression, create y_pred for both the training and the test data. Then plot the results."
      ]
    },
    {
      "cell_type": "code",
      "metadata": {
        "id": "2Omw0yIbjNn4"
      },
      "source": [
        "#Create a train test split of the orbital data\r\n",
        "x_train,x_test,y_train,y_test = train_test_split(df5_array, df10_array, random_state=1)"
      ],
      "execution_count": 111,
      "outputs": []
    },
    {
      "cell_type": "code",
      "metadata": {
        "id": "yJvfDFSLvEbx"
      },
      "source": [
        "#Create the variable model for the orbital data and make it a logistic Linear Regression model\r\n",
        "model = LinearRegression()\r\n"
      ],
      "execution_count": 112,
      "outputs": []
    },
    {
      "cell_type": "code",
      "metadata": {
        "id": "aKWvMy3J02DQ"
      },
      "source": [
        "#Reshape the X variables training data\r\n",
        "x_train=x_train.reshape(-1,1)\r\n",
        "#Reshape the X variables test data\r\n",
        "x_test=x_test.reshape(-1,1)\r\n"
      ],
      "execution_count": 113,
      "outputs": []
    },
    {
      "cell_type": "code",
      "metadata": {
        "colab": {
          "base_uri": "https://localhost:8080/"
        },
        "id": "k27cHwiA2HhI",
        "outputId": "793babcd-8709-44e4-8e36-c51d838bf028"
      },
      "source": [
        "#Fit the training data to the Linear Regression\r\n",
        "model.fit(x_train,y_train)"
      ],
      "execution_count": 114,
      "outputs": [
        {
          "output_type": "execute_result",
          "data": {
            "text/plain": [
              "LinearRegression(copy_X=True, fit_intercept=True, n_jobs=None, normalize=False)"
            ]
          },
          "metadata": {
            "tags": []
          },
          "execution_count": 114
        }
      ]
    },
    {
      "cell_type": "code",
      "metadata": {
        "id": "VJIm5XGeE97_"
      },
      "source": [
        "#Create y_pred for the training data\r\n",
        "y_pred_train=model.predict(x_train)\r\n",
        "#Create y_pred for the test data\r\n",
        "y_pred_test=model.predict(x_test)"
      ],
      "execution_count": 115,
      "outputs": []
    },
    {
      "cell_type": "markdown",
      "metadata": {
        "id": "T9-sAbA7LL4K"
      },
      "source": [
        "This looks wrong at a glance. A regression line should not look like this. This means there is no linear relationship between the two sets of orbital data.\r\n"
      ]
    },
    {
      "cell_type": "code",
      "metadata": {
        "colab": {
          "base_uri": "https://localhost:8080/",
          "height": 283
        },
        "id": "luNO-Onh80iv",
        "outputId": "76133999-a2a8-445f-8ab6-5b75620290ea"
      },
      "source": [
        "#Show the results as a linear regression scatter plot\r\n",
        "plt.scatter(x_train,y_train)\r\n",
        "#Make sure the color of our line is red\r\n",
        "plt.plot(x_train,y_pred_train, color='red')"
      ],
      "execution_count": 116,
      "outputs": [
        {
          "output_type": "execute_result",
          "data": {
            "text/plain": [
              "[<matplotlib.lines.Line2D at 0x7fdb1bde83c8>]"
            ]
          },
          "metadata": {
            "tags": []
          },
          "execution_count": 116
        },
        {
          "output_type": "display_data",
          "data": {
            "image/png": "[encoded data removed]",
            "text/plain": [
              "<Figure size 432x288 with 1 Axes>"
            ]
          },
          "metadata": {
            "tags": [],
            "needs_background": "light"
          }
        }
      ]
    },
    {
      "cell_type": "code",
      "metadata": {
        "colab": {
          "base_uri": "https://localhost:8080/",
          "height": 287
        },
        "id": "CWFXWNS_80iy",
        "outputId": "9d13ecd5-9957-4b09-804b-b0da31c90f32"
      },
      "source": [
        "#Show the results as a linear regression scatter plot\r\n",
        "plt.scatter(x_test,y_test)\r\n",
        "#Make sure the color of our line is red\r\n",
        "plt.plot(x_test,y_pred_test, color='red')"
      ],
      "execution_count": 117,
      "outputs": [
        {
          "output_type": "execute_result",
          "data": {
            "text/plain": [
              "[<matplotlib.lines.Line2D at 0x7fdb1bdb4320>]"
            ]
          },
          "metadata": {
            "tags": []
          },
          "execution_count": 117
        },
        {
          "output_type": "display_data",
          "data": {
            "image/png": "[encoded data removed]",
            "text/plain": [
              "<Figure size 432x288 with 1 Axes>"
            ]
          },
          "metadata": {
            "tags": [],
            "needs_background": "light"
          }
        }
      ]
    },
    {
      "cell_type": "markdown",
      "metadata": {
        "id": "ZYGNynh8s6-l"
      },
      "source": [
        "Confirm the results of the linear regression by using the pearson correlation coefficient."
      ]
    },
    {
      "cell_type": "code",
      "metadata": {
        "colab": {
          "base_uri": "https://localhost:8080/",
          "height": 415
        },
        "id": "DRm7a4Ywh-LW",
        "outputId": "219f5b30-99c3-4692-b3ce-e6e797ffa29d"
      },
      "source": [
        "#Join df5 and df10 so that we have all the orbital data in the same dataframe\r\n",
        "df16=df5.join(df10)\r\n",
        "#Show the results\r\n",
        "df16\r\n"
      ],
      "execution_count": 118,
      "outputs": [
        {
          "output_type": "execute_result",
          "data": {
            "text/html": [
              "<div>\n",
              "<style scoped>\n",
              "    .dataframe tbody tr th:only-of-type {\n",
              "        vertical-align: middle;\n",
              "    }\n",
              "\n",
              "    .dataframe tbody tr th {\n",
              "        vertical-align: top;\n",
              "    }\n",
              "\n",
              "    .dataframe thead th {\n",
              "        text-align: right;\n",
              "    }\n",
              "</style>\n",
              "<table border=\"1\" class=\"dataframe\">\n",
              "  <thead>\n",
              "    <tr style=\"text-align: right;\">\n",
              "      <th></th>\n",
              "      <th>koi_period</th>\n",
              "      <th>pl_orbper</th>\n",
              "    </tr>\n",
              "  </thead>\n",
              "  <tbody>\n",
              "    <tr>\n",
              "      <th>118</th>\n",
              "      <td>8.667822</td>\n",
              "      <td>100.283134</td>\n",
              "    </tr>\n",
              "    <tr>\n",
              "      <th>119</th>\n",
              "      <td>6.721078</td>\n",
              "      <td>14.435889</td>\n",
              "    </tr>\n",
              "    <tr>\n",
              "      <th>120</th>\n",
              "      <td>10.265477</td>\n",
              "      <td>29.393195</td>\n",
              "    </tr>\n",
              "    <tr>\n",
              "      <th>121</th>\n",
              "      <td>13.447179</td>\n",
              "      <td>48.630408</td>\n",
              "    </tr>\n",
              "    <tr>\n",
              "      <th>122</th>\n",
              "      <td>3.305578</td>\n",
              "      <td>15.090000</td>\n",
              "    </tr>\n",
              "    <tr>\n",
              "      <th>...</th>\n",
              "      <td>...</td>\n",
              "      <td>...</td>\n",
              "    </tr>\n",
              "    <tr>\n",
              "      <th>7266</th>\n",
              "      <td>8.589871</td>\n",
              "      <td>1.689868</td>\n",
              "    </tr>\n",
              "    <tr>\n",
              "      <th>7267</th>\n",
              "      <td>0.527699</td>\n",
              "      <td>3.979100</td>\n",
              "    </tr>\n",
              "    <tr>\n",
              "      <th>7268</th>\n",
              "      <td>1.739849</td>\n",
              "      <td>3.677240</td>\n",
              "    </tr>\n",
              "    <tr>\n",
              "      <th>7269</th>\n",
              "      <td>0.681402</td>\n",
              "      <td>NaN</td>\n",
              "    </tr>\n",
              "    <tr>\n",
              "      <th>7270</th>\n",
              "      <td>4.856035</td>\n",
              "      <td>3.160630</td>\n",
              "    </tr>\n",
              "  </tbody>\n",
              "</table>\n",
              "<p>7153 rows × 2 columns</p>\n",
              "</div>"
            ],
            "text/plain": [
              "      koi_period   pl_orbper\n",
              "118     8.667822  100.283134\n",
              "119     6.721078   14.435889\n",
              "120    10.265477   29.393195\n",
              "121    13.447179   48.630408\n",
              "122     3.305578   15.090000\n",
              "...          ...         ...\n",
              "7266    8.589871    1.689868\n",
              "7267    0.527699    3.979100\n",
              "7268    1.739849    3.677240\n",
              "7269    0.681402         NaN\n",
              "7270    4.856035    3.160630\n",
              "\n",
              "[7153 rows x 2 columns]"
            ]
          },
          "metadata": {
            "tags": []
          },
          "execution_count": 118
        }
      ]
    },
    {
      "cell_type": "code",
      "metadata": {
        "colab": {
          "base_uri": "https://localhost:8080/",
          "height": 110
        },
        "id": "wQLxKTrbqtRh",
        "outputId": "a5068f20-75e8-4067-e920-c033208b52e0"
      },
      "source": [
        "#Show the correlation\r\n",
        "df16.corr(method ='pearson') "
      ],
      "execution_count": 119,
      "outputs": [
        {
          "output_type": "execute_result",
          "data": {
            "text/html": [
              "<div>\n",
              "<style scoped>\n",
              "    .dataframe tbody tr th:only-of-type {\n",
              "        vertical-align: middle;\n",
              "    }\n",
              "\n",
              "    .dataframe tbody tr th {\n",
              "        vertical-align: top;\n",
              "    }\n",
              "\n",
              "    .dataframe thead th {\n",
              "        text-align: right;\n",
              "    }\n",
              "</style>\n",
              "<table border=\"1\" class=\"dataframe\">\n",
              "  <thead>\n",
              "    <tr style=\"text-align: right;\">\n",
              "      <th></th>\n",
              "      <th>koi_period</th>\n",
              "      <th>pl_orbper</th>\n",
              "    </tr>\n",
              "  </thead>\n",
              "  <tbody>\n",
              "    <tr>\n",
              "      <th>koi_period</th>\n",
              "      <td>1.000000</td>\n",
              "      <td>0.009355</td>\n",
              "    </tr>\n",
              "    <tr>\n",
              "      <th>pl_orbper</th>\n",
              "      <td>0.009355</td>\n",
              "      <td>1.000000</td>\n",
              "    </tr>\n",
              "  </tbody>\n",
              "</table>\n",
              "</div>"
            ],
            "text/plain": [
              "            koi_period  pl_orbper\n",
              "koi_period    1.000000   0.009355\n",
              "pl_orbper     0.009355   1.000000"
            ]
          },
          "metadata": {
            "tags": []
          },
          "execution_count": 119
        }
      ]
    },
    {
      "cell_type": "markdown",
      "metadata": {
        "id": "aVV2YVt9rnFO"
      },
      "source": [
        "**Conclusion:**\r\n",
        "\r\n",
        "Answer 1: We have confirmed that the mean mass of the Kepler Confirmed Planets is 4.371368, and the mass of the smallest Keplar Confirmed planet is 0.000060 Jupiter mass units. Which is roughly 30% more massive than Earth's moon at 0.000039 Jupiter mass units. We saw with the Swarmplot and Box Plot earlier that the mass of our solar system bodies does fall within the mass range that is detectable by Kepler. However, there is a disproportionate number of larger planets and when compared to our solar system we see that most of the planets found have a larger mass than the mass of our solar system's most massive planet, Jupiter.\r\n",
        "\r\n",
        "Answer 2: After comparing the orbital periods of the Confirmed planets table and the Kepler objects of interest table with a linear regression we see that there is next to no linear relationship between the two sets of orbital data.\r\n",
        "\r\n",
        "Additional Insights: We also saw that most of the planets and non-confirmed planets that Kepler detected have orbital periods well under a 1000 days. This is a reasonable result as the Kepler space telescope at the time of my writing this has been operational for 4309 days. Since then it has undergone repairs, had its orientation changed, as well as dealing with many other factors. Besides, Nasa needs evidence of multiple transits to conclude that an object is, in-fact, orbiting its host star and at what speed. As such, it is not unreasonable that most of our data points come from objects orbiting their planets more frequently."
      ]
    }
  ]
}