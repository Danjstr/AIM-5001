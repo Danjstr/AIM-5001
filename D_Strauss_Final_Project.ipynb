{
  "nbformat": 4,
  "nbformat_minor": 0,
  "metadata": {
    "kernelspec": {
      "display_name": "Python 3",
      "language": "python",
      "name": "python3"
    },
    "language_info": {
      "codemirror_mode": {
        "name": "ipython",
        "version": 3
      },
      "file_extension": ".py",
      "mimetype": "text/x-python",
      "name": "python",
      "nbconvert_exporter": "python",
      "pygments_lexer": "ipython3",
      "version": "3.8.3"
    },
    "colab": {
      "name": "D_Strauss_Final_Project.ipynb",
      "provenance": [],
      "include_colab_link": true
    }
  },
  "cells": [
    {
      "cell_type": "markdown",
      "metadata": {
        "id": "view-in-github",
        "colab_type": "text"
      },
      "source": [
        "<a href=\"https://colab.research.google.com/github/Danjstr/AIM-5001/blob/master/D_Strauss_Final_Project.ipynb\" target=\"_parent\"><img src=\"https://colab.research.google.com/assets/colab-badge.svg\" alt=\"Open In Colab\"/></a>"
      ]
    },
    {
      "cell_type": "markdown",
      "metadata": {
        "id": "vfpHvgmd0_28"
      },
      "source": [
        "# AIM 5001 Final Project"
      ]
    },
    {
      "cell_type": "markdown",
      "metadata": {
        "id": "vmf0K0VgdJVZ"
      },
      "source": [
        "**Introduction**\n",
        "\n",
        "Nasa has been observing space for the last several decades using ever more sophisticated space telescopes. They have used these telescopes to determine and confirm that other planets exist around other stars in our galaxy and beyond. One of these Space telescopes The Keplar Space Telescope has been instrumental in identifying many objects of interest outside our solar system. Many of these objects of Intrest have been confirmed planets by Nasa. This data can be hard to interoperate and with new planets popping up every so often it is hard to generate a real understanding of the process involved in identifying planets. Today we usually we get a NASA press release on page 37 of some odd journal claiming the discovery of a new planet. There is little in the way of public knowledge regarding the process of determining if an identified object is a planet and what the limits of the current technology are."
      ]
    },
    {
      "cell_type": "markdown",
      "metadata": {
        "id": "wS_P6iph0_2_"
      },
      "source": [
        "**Research Questions**\n",
        "\n",
        "Question 1: I will be determining the basis by which Nasa determines when and how a planet has been confirmed as real by comparing the \"Kepler Objects of Interest (KOI)\" Table and \"Confirmed Planets (Exoplanet)\" Table.\n",
        "\n",
        "\n",
        "Question 2: I will be determining the average mass of Kepler confirmed planets, as well as the mass of the smallest Keplar, confirmed planet. Then comparing it to the mass of the planets in our solar system to determine if the Keplar space telescope is biased to larger planets that are easier to see.\n"
      ]
    },
    {
      "cell_type": "markdown",
      "metadata": {
        "id": "qIaSbM8u0_2_"
      },
      "source": [
        "**Data to be Used**\n",
        "\n",
        "The data used will come primarily from two different sources. The first \"Kepler Objects of Interest (KOI)\" Table and the second the \"Confirmed Planets (Exoplanet)\" Table.\n",
        "\n",
        "\n",
        "The first Table \"Kepler Objects of Interest (KOI)\" will be provided as a csv. Information on this table can be found via the provided Kaggle link.\n",
        "\n",
        "https://www.kaggle.com/nasa/kepler-exoplanet-search-results?select=cumulative.csv\n",
        "\n",
        "\n",
        "The second Table the \"Confirmed Planets (Exoplanet)\" Table will be provided via the API using the instructions on the bellow webpage. \n",
        "\n",
        "https://exoplanetarchive.ipac.caltech.edu/docs/program_interfaces.html\n",
        "\n",
        "\n",
        "Any data from our solar system used for comparison will be entered manually into the code as this is the easiest method to use when dealing with so few data points. Our solar system data will be based on relevant data from the following webpage. \n",
        "\n",
        "http://www.astromax.org/planets.htm\n",
        "\n"
      ]
    },
    {
      "cell_type": "markdown",
      "metadata": {
        "id": "urV0SOOeAgbg"
      },
      "source": [
        "Reasech question 2:"
      ]
    },
    {
      "cell_type": "markdown",
      "metadata": {
        "id": "NB17hTr4Cx9h"
      },
      "source": [
        "Aproach: for reasech question 2: I will also be determining the mean and min of the mass of all planets discovered by Kepler to determine if the Telescope has trouble locating smaller objects and planets.  I will be using a box plot and histogram to determine the spread of the mass of the planets. This will be compared with the mass of objects in our solar system to determine the lower limit on the mass of planets Kepler can identify."
      ]
    },
    {
      "cell_type": "code",
      "metadata": {
        "id": "E772VaABbqBW"
      },
      "source": [
        "import pandas as pd"
      ],
      "execution_count": 1,
      "outputs": []
    },
    {
      "cell_type": "code",
      "metadata": {
        "id": "0h4SUWnNN9vM"
      },
      "source": [
        "plan_dic={'Mercury':0.055274, 'Venus':0.815005, 'Earth':1,'Moon':0.0123,'Mars':0.107447,'Jupiter':317.833,'Saturn':95.159,'Uranus':14.5,'Neptune':17.204,'Pluto':0.0025}"
      ],
      "execution_count": 2,
      "outputs": []
    },
    {
      "cell_type": "code",
      "metadata": {
        "colab": {
          "base_uri": "https://localhost:8080/"
        },
        "id": "x0ACc-pjOHre",
        "outputId": "8204aabe-c37e-476e-b54f-ef4ad6549388"
      },
      "source": [
        "print(plan_dic)"
      ],
      "execution_count": 3,
      "outputs": [
        {
          "output_type": "stream",
          "text": [
            "{'Mercury': 0.055274, 'Venus': 0.815005, 'Earth': 1, 'Moon': 0.0123, 'Mars': 0.107447, 'Jupiter': 317.833, 'Saturn': 95.159, 'Uranus': 14.5, 'Neptune': 17.204, 'Pluto': 0.0025}\n"
          ],
          "name": "stdout"
        }
      ]
    },
    {
      "cell_type": "code",
      "metadata": {
        "id": "BZ5X1egtKQBY"
      },
      "source": [
        "df = pd.DataFrame([plan_dic])\r\n"
      ],
      "execution_count": 4,
      "outputs": []
    },
    {
      "cell_type": "code",
      "metadata": {
        "colab": {
          "base_uri": "https://localhost:8080/",
          "height": 79
        },
        "id": "fPp0NufnOnnb",
        "outputId": "aff71019-7385-4ed7-c8d0-ac7cd3e03b9e"
      },
      "source": [
        "df"
      ],
      "execution_count": 5,
      "outputs": [
        {
          "output_type": "execute_result",
          "data": {
            "text/html": [
              "<div>\n",
              "<style scoped>\n",
              "    .dataframe tbody tr th:only-of-type {\n",
              "        vertical-align: middle;\n",
              "    }\n",
              "\n",
              "    .dataframe tbody tr th {\n",
              "        vertical-align: top;\n",
              "    }\n",
              "\n",
              "    .dataframe thead th {\n",
              "        text-align: right;\n",
              "    }\n",
              "</style>\n",
              "<table border=\"1\" class=\"dataframe\">\n",
              "  <thead>\n",
              "    <tr style=\"text-align: right;\">\n",
              "      <th></th>\n",
              "      <th>Mercury</th>\n",
              "      <th>Venus</th>\n",
              "      <th>Earth</th>\n",
              "      <th>Moon</th>\n",
              "      <th>Mars</th>\n",
              "      <th>Jupiter</th>\n",
              "      <th>Saturn</th>\n",
              "      <th>Uranus</th>\n",
              "      <th>Neptune</th>\n",
              "      <th>Pluto</th>\n",
              "    </tr>\n",
              "  </thead>\n",
              "  <tbody>\n",
              "    <tr>\n",
              "      <th>0</th>\n",
              "      <td>0.055274</td>\n",
              "      <td>0.815005</td>\n",
              "      <td>1</td>\n",
              "      <td>0.0123</td>\n",
              "      <td>0.107447</td>\n",
              "      <td>317.833</td>\n",
              "      <td>95.159</td>\n",
              "      <td>14.5</td>\n",
              "      <td>17.204</td>\n",
              "      <td>0.0025</td>\n",
              "    </tr>\n",
              "  </tbody>\n",
              "</table>\n",
              "</div>"
            ],
            "text/plain": [
              "    Mercury     Venus  Earth    Moon  ...  Saturn  Uranus  Neptune   Pluto\n",
              "0  0.055274  0.815005      1  0.0123  ...  95.159    14.5   17.204  0.0025\n",
              "\n",
              "[1 rows x 10 columns]"
            ]
          },
          "metadata": {
            "tags": []
          },
          "execution_count": 5
        }
      ]
    },
    {
      "cell_type": "markdown",
      "metadata": {
        "id": "ouywN0QGOx2p"
      },
      "source": [
        "The rest of our data and the onfirmed planet data is in Jupiter mass units. Whih means all our data bellow ounts with jupiters mass = 1. The table aboe has earth = 1. This means we will need to onert our table. and diide all it's alues by 317.833 to make sure we are working in the same units as our onfirmed planet table. This is to ensure there are no errors during later analyssi."
      ]
    },
    {
      "cell_type": "code",
      "metadata": {
        "colab": {
          "base_uri": "https://localhost:8080/",
          "height": 79
        },
        "id": "YJtFO3IWPXAq",
        "outputId": "0e271219-f2e7-4767-8c96-8dd0fe11b983"
      },
      "source": [
        "df=df/317.833\r\n",
        "df"
      ],
      "execution_count": 6,
      "outputs": [
        {
          "output_type": "execute_result",
          "data": {
            "text/html": [
              "<div>\n",
              "<style scoped>\n",
              "    .dataframe tbody tr th:only-of-type {\n",
              "        vertical-align: middle;\n",
              "    }\n",
              "\n",
              "    .dataframe tbody tr th {\n",
              "        vertical-align: top;\n",
              "    }\n",
              "\n",
              "    .dataframe thead th {\n",
              "        text-align: right;\n",
              "    }\n",
              "</style>\n",
              "<table border=\"1\" class=\"dataframe\">\n",
              "  <thead>\n",
              "    <tr style=\"text-align: right;\">\n",
              "      <th></th>\n",
              "      <th>Mercury</th>\n",
              "      <th>Venus</th>\n",
              "      <th>Earth</th>\n",
              "      <th>Moon</th>\n",
              "      <th>Mars</th>\n",
              "      <th>Jupiter</th>\n",
              "      <th>Saturn</th>\n",
              "      <th>Uranus</th>\n",
              "      <th>Neptune</th>\n",
              "      <th>Pluto</th>\n",
              "    </tr>\n",
              "  </thead>\n",
              "  <tbody>\n",
              "    <tr>\n",
              "      <th>0</th>\n",
              "      <td>0.000174</td>\n",
              "      <td>0.002564</td>\n",
              "      <td>0.003146</td>\n",
              "      <td>0.000039</td>\n",
              "      <td>0.000338</td>\n",
              "      <td>1.0</td>\n",
              "      <td>0.299399</td>\n",
              "      <td>0.045621</td>\n",
              "      <td>0.054129</td>\n",
              "      <td>0.000008</td>\n",
              "    </tr>\n",
              "  </tbody>\n",
              "</table>\n",
              "</div>"
            ],
            "text/plain": [
              "    Mercury     Venus     Earth  ...    Uranus   Neptune     Pluto\n",
              "0  0.000174  0.002564  0.003146  ...  0.045621  0.054129  0.000008\n",
              "\n",
              "[1 rows x 10 columns]"
            ]
          },
          "metadata": {
            "tags": []
          },
          "execution_count": 6
        }
      ]
    },
    {
      "cell_type": "code",
      "metadata": {
        "id": "3_snhRWMTUkZ"
      },
      "source": [
        "df=pd.DataFrame(df.unstack().reset_index())"
      ],
      "execution_count": 7,
      "outputs": []
    },
    {
      "cell_type": "code",
      "metadata": {
        "colab": {
          "base_uri": "https://localhost:8080/",
          "height": 355
        },
        "id": "21QDqwqNS4Tp",
        "outputId": "2c46e89b-d0fa-46b1-94c0-2abd39c72497"
      },
      "source": [
        "df = df.rename(columns={0: \"mass\"})\r\n",
        "df = df.rename(columns={\"level_0\": \"Planets\"})\r\n",
        "df=df.drop(columns=['level_1'])\r\n",
        "df"
      ],
      "execution_count": 8,
      "outputs": [
        {
          "output_type": "execute_result",
          "data": {
            "text/html": [
              "<div>\n",
              "<style scoped>\n",
              "    .dataframe tbody tr th:only-of-type {\n",
              "        vertical-align: middle;\n",
              "    }\n",
              "\n",
              "    .dataframe tbody tr th {\n",
              "        vertical-align: top;\n",
              "    }\n",
              "\n",
              "    .dataframe thead th {\n",
              "        text-align: right;\n",
              "    }\n",
              "</style>\n",
              "<table border=\"1\" class=\"dataframe\">\n",
              "  <thead>\n",
              "    <tr style=\"text-align: right;\">\n",
              "      <th></th>\n",
              "      <th>Planets</th>\n",
              "      <th>mass</th>\n",
              "    </tr>\n",
              "  </thead>\n",
              "  <tbody>\n",
              "    <tr>\n",
              "      <th>0</th>\n",
              "      <td>Mercury</td>\n",
              "      <td>0.000174</td>\n",
              "    </tr>\n",
              "    <tr>\n",
              "      <th>1</th>\n",
              "      <td>Venus</td>\n",
              "      <td>0.002564</td>\n",
              "    </tr>\n",
              "    <tr>\n",
              "      <th>2</th>\n",
              "      <td>Earth</td>\n",
              "      <td>0.003146</td>\n",
              "    </tr>\n",
              "    <tr>\n",
              "      <th>3</th>\n",
              "      <td>Moon</td>\n",
              "      <td>0.000039</td>\n",
              "    </tr>\n",
              "    <tr>\n",
              "      <th>4</th>\n",
              "      <td>Mars</td>\n",
              "      <td>0.000338</td>\n",
              "    </tr>\n",
              "    <tr>\n",
              "      <th>5</th>\n",
              "      <td>Jupiter</td>\n",
              "      <td>1.000000</td>\n",
              "    </tr>\n",
              "    <tr>\n",
              "      <th>6</th>\n",
              "      <td>Saturn</td>\n",
              "      <td>0.299399</td>\n",
              "    </tr>\n",
              "    <tr>\n",
              "      <th>7</th>\n",
              "      <td>Uranus</td>\n",
              "      <td>0.045621</td>\n",
              "    </tr>\n",
              "    <tr>\n",
              "      <th>8</th>\n",
              "      <td>Neptune</td>\n",
              "      <td>0.054129</td>\n",
              "    </tr>\n",
              "    <tr>\n",
              "      <th>9</th>\n",
              "      <td>Pluto</td>\n",
              "      <td>0.000008</td>\n",
              "    </tr>\n",
              "  </tbody>\n",
              "</table>\n",
              "</div>"
            ],
            "text/plain": [
              "   Planets      mass\n",
              "0  Mercury  0.000174\n",
              "1    Venus  0.002564\n",
              "2    Earth  0.003146\n",
              "3     Moon  0.000039\n",
              "4     Mars  0.000338\n",
              "5  Jupiter  1.000000\n",
              "6   Saturn  0.299399\n",
              "7   Uranus  0.045621\n",
              "8  Neptune  0.054129\n",
              "9    Pluto  0.000008"
            ]
          },
          "metadata": {
            "tags": []
          },
          "execution_count": 8
        }
      ]
    },
    {
      "cell_type": "markdown",
      "metadata": {
        "id": "wyUAjLl9TBRj"
      },
      "source": [
        "Come back to figure out api request properly."
      ]
    },
    {
      "cell_type": "code",
      "metadata": {
        "id": "XzugTtJ5ReR0"
      },
      "source": [
        "conf_plan = \"https://exoplanetarchive.ipac.caltech.edu/cgi-bin/nstedAPI/nph-nstedAPI?table=exoplanets&select=pl_name,pl_bmassj,pl_orbper\"\n",
        "#Read the data from mushroom into a dataframe and assign it the column names.\n"
      ],
      "execution_count": 9,
      "outputs": []
    },
    {
      "cell_type": "code",
      "metadata": {
        "colab": {
          "base_uri": "https://localhost:8080/",
          "height": 202
        },
        "id": "7ubbpw8dRYD0",
        "outputId": "0b2d4ac4-1358-4807-d738-97695d3460e4"
      },
      "source": [
        "df2 = pd.read_csv(conf_plan)\r\n",
        "df2.head()"
      ],
      "execution_count": 10,
      "outputs": [
        {
          "output_type": "execute_result",
          "data": {
            "text/html": [
              "<div>\n",
              "<style scoped>\n",
              "    .dataframe tbody tr th:only-of-type {\n",
              "        vertical-align: middle;\n",
              "    }\n",
              "\n",
              "    .dataframe tbody tr th {\n",
              "        vertical-align: top;\n",
              "    }\n",
              "\n",
              "    .dataframe thead th {\n",
              "        text-align: right;\n",
              "    }\n",
              "</style>\n",
              "<table border=\"1\" class=\"dataframe\">\n",
              "  <thead>\n",
              "    <tr style=\"text-align: right;\">\n",
              "      <th></th>\n",
              "      <th>pl_name</th>\n",
              "      <th>pl_bmassj</th>\n",
              "      <th>pl_orbper</th>\n",
              "    </tr>\n",
              "  </thead>\n",
              "  <tbody>\n",
              "    <tr>\n",
              "      <th>0</th>\n",
              "      <td>HD 177830 b</td>\n",
              "      <td>1.690</td>\n",
              "      <td>410.100010</td>\n",
              "    </tr>\n",
              "    <tr>\n",
              "      <th>1</th>\n",
              "      <td>HD 177830 c</td>\n",
              "      <td>0.150</td>\n",
              "      <td>110.900000</td>\n",
              "    </tr>\n",
              "    <tr>\n",
              "      <th>2</th>\n",
              "      <td>HD 178911 B b</td>\n",
              "      <td>8.030</td>\n",
              "      <td>71.484000</td>\n",
              "    </tr>\n",
              "    <tr>\n",
              "      <th>3</th>\n",
              "      <td>HD 179079 b</td>\n",
              "      <td>0.081</td>\n",
              "      <td>14.479000</td>\n",
              "    </tr>\n",
              "    <tr>\n",
              "      <th>4</th>\n",
              "      <td>HD 179949 b</td>\n",
              "      <td>0.916</td>\n",
              "      <td>3.092514</td>\n",
              "    </tr>\n",
              "  </tbody>\n",
              "</table>\n",
              "</div>"
            ],
            "text/plain": [
              "         pl_name  pl_bmassj   pl_orbper\n",
              "0    HD 177830 b      1.690  410.100010\n",
              "1    HD 177830 c      0.150  110.900000\n",
              "2  HD 178911 B b      8.030   71.484000\n",
              "3    HD 179079 b      0.081   14.479000\n",
              "4    HD 179949 b      0.916    3.092514"
            ]
          },
          "metadata": {
            "tags": []
          },
          "execution_count": 10
        }
      ]
    },
    {
      "cell_type": "code",
      "metadata": {
        "colab": {
          "base_uri": "https://localhost:8080/"
        },
        "id": "D2Lkv4kQ5G4p",
        "outputId": "6295a4fd-db22-4794-e84a-9e1f7f7c7dfb"
      },
      "source": [
        "df2.shape"
      ],
      "execution_count": 11,
      "outputs": [
        {
          "output_type": "execute_result",
          "data": {
            "text/plain": [
              "(4324, 3)"
            ]
          },
          "metadata": {
            "tags": []
          },
          "execution_count": 11
        }
      ]
    },
    {
      "cell_type": "code",
      "metadata": {
        "colab": {
          "base_uri": "https://localhost:8080/"
        },
        "id": "b7w7gNvu5G4q",
        "outputId": "81b51fcf-c7ed-4456-ca76-7bd4bf24dec5"
      },
      "source": [
        "df2.dtypes"
      ],
      "execution_count": 12,
      "outputs": [
        {
          "output_type": "execute_result",
          "data": {
            "text/plain": [
              "pl_name       object\n",
              "pl_bmassj    float64\n",
              "pl_orbper    float64\n",
              "dtype: object"
            ]
          },
          "metadata": {
            "tags": []
          },
          "execution_count": 12
        }
      ]
    },
    {
      "cell_type": "code",
      "metadata": {
        "colab": {
          "base_uri": "https://localhost:8080/",
          "height": 294
        },
        "id": "2Gz4N5ws5G4q",
        "outputId": "a8658edb-14ca-4520-c5b9-7accea9d9020"
      },
      "source": [
        "df2.describe()"
      ],
      "execution_count": 13,
      "outputs": [
        {
          "output_type": "execute_result",
          "data": {
            "text/html": [
              "<div>\n",
              "<style scoped>\n",
              "    .dataframe tbody tr th:only-of-type {\n",
              "        vertical-align: middle;\n",
              "    }\n",
              "\n",
              "    .dataframe tbody tr th {\n",
              "        vertical-align: top;\n",
              "    }\n",
              "\n",
              "    .dataframe thead th {\n",
              "        text-align: right;\n",
              "    }\n",
              "</style>\n",
              "<table border=\"1\" class=\"dataframe\">\n",
              "  <thead>\n",
              "    <tr style=\"text-align: right;\">\n",
              "      <th></th>\n",
              "      <th>pl_bmassj</th>\n",
              "      <th>pl_orbper</th>\n",
              "    </tr>\n",
              "  </thead>\n",
              "  <tbody>\n",
              "    <tr>\n",
              "      <th>count</th>\n",
              "      <td>1806.000000</td>\n",
              "      <td>4.180000e+03</td>\n",
              "    </tr>\n",
              "    <tr>\n",
              "      <th>mean</th>\n",
              "      <td>2.404317</td>\n",
              "      <td>2.060520e+03</td>\n",
              "    </tr>\n",
              "    <tr>\n",
              "      <th>std</th>\n",
              "      <td>4.371368</td>\n",
              "      <td>1.129482e+05</td>\n",
              "    </tr>\n",
              "    <tr>\n",
              "      <th>min</th>\n",
              "      <td>0.000060</td>\n",
              "      <td>9.070629e-02</td>\n",
              "    </tr>\n",
              "    <tr>\n",
              "      <th>25%</th>\n",
              "      <td>0.067413</td>\n",
              "      <td>4.465547e+00</td>\n",
              "    </tr>\n",
              "    <tr>\n",
              "      <th>50%</th>\n",
              "      <td>0.790000</td>\n",
              "      <td>1.176103e+01</td>\n",
              "    </tr>\n",
              "    <tr>\n",
              "      <th>75%</th>\n",
              "      <td>2.430000</td>\n",
              "      <td>4.169784e+01</td>\n",
              "    </tr>\n",
              "    <tr>\n",
              "      <th>max</th>\n",
              "      <td>55.590000</td>\n",
              "      <td>7.300000e+06</td>\n",
              "    </tr>\n",
              "  </tbody>\n",
              "</table>\n",
              "</div>"
            ],
            "text/plain": [
              "         pl_bmassj     pl_orbper\n",
              "count  1806.000000  4.180000e+03\n",
              "mean      2.404317  2.060520e+03\n",
              "std       4.371368  1.129482e+05\n",
              "min       0.000060  9.070629e-02\n",
              "25%       0.067413  4.465547e+00\n",
              "50%       0.790000  1.176103e+01\n",
              "75%       2.430000  4.169784e+01\n",
              "max      55.590000  7.300000e+06"
            ]
          },
          "metadata": {
            "tags": []
          },
          "execution_count": 13
        }
      ]
    },
    {
      "cell_type": "markdown",
      "metadata": {
        "id": "G62dW7_KjRkK"
      },
      "source": [
        "AS we an see from the information aboe the minimum mass reorded is 0.000060. This is relatiley omparable to the 0.000039 mass the moon, at just 30% more massie. This means the keeplar spae teleseope an loate planets that are just 30% larger than earths moon.\r\n",
        "\r\n",
        "WE ould speulate that the smaller planets that were loated happened to be the ones that were loser to earth. THis howeer is outside the sope of our analysis."
      ]
    },
    {
      "cell_type": "code",
      "metadata": {
        "colab": {
          "base_uri": "https://localhost:8080/"
        },
        "id": "pfm0ARnx5G4r",
        "outputId": "f2ae4642-482c-4215-d7e1-321947462fe1"
      },
      "source": [
        "df2.info()"
      ],
      "execution_count": 14,
      "outputs": [
        {
          "output_type": "stream",
          "text": [
            "<class 'pandas.core.frame.DataFrame'>\n",
            "RangeIndex: 4324 entries, 0 to 4323\n",
            "Data columns (total 3 columns):\n",
            " #   Column     Non-Null Count  Dtype  \n",
            "---  ------     --------------  -----  \n",
            " 0   pl_name    4324 non-null   object \n",
            " 1   pl_bmassj  1806 non-null   float64\n",
            " 2   pl_orbper  4180 non-null   float64\n",
            "dtypes: float64(2), object(1)\n",
            "memory usage: 101.5+ KB\n"
          ],
          "name": "stdout"
        }
      ]
    },
    {
      "cell_type": "code",
      "metadata": {
        "colab": {
          "base_uri": "https://localhost:8080/",
          "height": 907
        },
        "id": "OPsmV2EDD5QE",
        "outputId": "32ceb947-0e65-4020-d68a-9c38eb673f5f"
      },
      "source": [
        "import matplotlib.pyplot as plt\r\n",
        "\r\n",
        "plt.hist(df2['pl_bmassj'],bins=100)"
      ],
      "execution_count": 15,
      "outputs": [
        {
          "output_type": "execute_result",
          "data": {
            "text/plain": [
              "(array([781., 261., 168., 107.,  91.,  53.,  38.,  33.,  23.,  20.,  24.,\n",
              "         11.,  16.,  17.,  11.,  15.,  11.,  17.,  10.,  10.,   5.,   2.,\n",
              "          7.,   7.,   7.,   8.,   4.,   2.,   6.,   2.,   4.,   0.,   2.,\n",
              "          3.,   2.,   2.,   4.,   3.,   2.,   5.,   0.,   1.,   1.,   1.,\n",
              "          2.,   0.,   0.,   0.,   3.,   0.,   0.,   1.,   0.,   1.,   0.,\n",
              "          0.,   0.,   0.,   0.,   0.,   1.,   0.,   0.,   0.,   0.,   0.,\n",
              "          0.,   0.,   0.,   0.,   0.,   0.,   0.,   0.,   0.,   0.,   0.,\n",
              "          0.,   0.,   0.,   0.,   0.,   0.,   0.,   0.,   0.,   0.,   0.,\n",
              "          0.,   0.,   0.,   0.,   0.,   0.,   0.,   0.,   0.,   0.,   0.,\n",
              "          1.]),\n",
              " array([6.00000000e-05, 5.55959400e-01, 1.11185880e+00, 1.66775820e+00,\n",
              "        2.22365760e+00, 2.77955700e+00, 3.33545640e+00, 3.89135580e+00,\n",
              "        4.44725520e+00, 5.00315460e+00, 5.55905400e+00, 6.11495340e+00,\n",
              "        6.67085280e+00, 7.22675220e+00, 7.78265160e+00, 8.33855100e+00,\n",
              "        8.89445040e+00, 9.45034980e+00, 1.00062492e+01, 1.05621486e+01,\n",
              "        1.11180480e+01, 1.16739474e+01, 1.22298468e+01, 1.27857462e+01,\n",
              "        1.33416456e+01, 1.38975450e+01, 1.44534444e+01, 1.50093438e+01,\n",
              "        1.55652432e+01, 1.61211426e+01, 1.66770420e+01, 1.72329414e+01,\n",
              "        1.77888408e+01, 1.83447402e+01, 1.89006396e+01, 1.94565390e+01,\n",
              "        2.00124384e+01, 2.05683378e+01, 2.11242372e+01, 2.16801366e+01,\n",
              "        2.22360360e+01, 2.27919354e+01, 2.33478348e+01, 2.39037342e+01,\n",
              "        2.44596336e+01, 2.50155330e+01, 2.55714324e+01, 2.61273318e+01,\n",
              "        2.66832312e+01, 2.72391306e+01, 2.77950300e+01, 2.83509294e+01,\n",
              "        2.89068288e+01, 2.94627282e+01, 3.00186276e+01, 3.05745270e+01,\n",
              "        3.11304264e+01, 3.16863258e+01, 3.22422252e+01, 3.27981246e+01,\n",
              "        3.33540240e+01, 3.39099234e+01, 3.44658228e+01, 3.50217222e+01,\n",
              "        3.55776216e+01, 3.61335210e+01, 3.66894204e+01, 3.72453198e+01,\n",
              "        3.78012192e+01, 3.83571186e+01, 3.89130180e+01, 3.94689174e+01,\n",
              "        4.00248168e+01, 4.05807162e+01, 4.11366156e+01, 4.16925150e+01,\n",
              "        4.22484144e+01, 4.28043138e+01, 4.33602132e+01, 4.39161126e+01,\n",
              "        4.44720120e+01, 4.50279114e+01, 4.55838108e+01, 4.61397102e+01,\n",
              "        4.66956096e+01, 4.72515090e+01, 4.78074084e+01, 4.83633078e+01,\n",
              "        4.89192072e+01, 4.94751066e+01, 5.00310060e+01, 5.05869054e+01,\n",
              "        5.11428048e+01, 5.16987042e+01, 5.22546036e+01, 5.28105030e+01,\n",
              "        5.33664024e+01, 5.39223018e+01, 5.44782012e+01, 5.50341006e+01,\n",
              "        5.55900000e+01]),\n",
              " <a list of 100 Patch objects>)"
            ]
          },
          "metadata": {
            "tags": []
          },
          "execution_count": 15
        },
        {
          "output_type": "display_data",
          "data": {
            "image/png": "[encoded data removed]",
            "text/plain": [
              "<Figure size 432x288 with 1 Axes>"
            ]
          },
          "metadata": {
            "tags": [],
            "needs_background": "light"
          }
        }
      ]
    },
    {
      "cell_type": "markdown",
      "metadata": {
        "id": "_AHttn5cBN11"
      },
      "source": [
        "Now we hae a clear problem. A serious problem. We have 4324 planets that have been confirmed that are named in dataframe, howeer we hae less than half that data for our masses. The simplest solution is to drop all the planets with no reorded mass. \r\n",
        "We an not fill our missing alues with the min or the maimum as this will skew th data dispraportinatley. Nor an we fill with the mean as we are not looking at a bell ure. filling with the mean would gie us an enourmous amount of data at a speifi point. The easist way to maintain the distribution of the data for omparison later with the planets of our solar system is to use foreward or baward fill. "
      ]
    },
    {
      "cell_type": "code",
      "metadata": {
        "colab": {
          "base_uri": "https://localhost:8080/",
          "height": 415
        },
        "id": "QMQbAf79H_xx",
        "outputId": "72956913-427d-4183-cffc-efad88569f0c"
      },
      "source": [
        "df2=df2.ffill(axis = 0)\r\n",
        "df2"
      ],
      "execution_count": 16,
      "outputs": [
        {
          "output_type": "execute_result",
          "data": {
            "text/html": [
              "<div>\n",
              "<style scoped>\n",
              "    .dataframe tbody tr th:only-of-type {\n",
              "        vertical-align: middle;\n",
              "    }\n",
              "\n",
              "    .dataframe tbody tr th {\n",
              "        vertical-align: top;\n",
              "    }\n",
              "\n",
              "    .dataframe thead th {\n",
              "        text-align: right;\n",
              "    }\n",
              "</style>\n",
              "<table border=\"1\" class=\"dataframe\">\n",
              "  <thead>\n",
              "    <tr style=\"text-align: right;\">\n",
              "      <th></th>\n",
              "      <th>pl_name</th>\n",
              "      <th>pl_bmassj</th>\n",
              "      <th>pl_orbper</th>\n",
              "    </tr>\n",
              "  </thead>\n",
              "  <tbody>\n",
              "    <tr>\n",
              "      <th>0</th>\n",
              "      <td>HD 177830 b</td>\n",
              "      <td>1.69000</td>\n",
              "      <td>410.100010</td>\n",
              "    </tr>\n",
              "    <tr>\n",
              "      <th>1</th>\n",
              "      <td>HD 177830 c</td>\n",
              "      <td>0.15000</td>\n",
              "      <td>110.900000</td>\n",
              "    </tr>\n",
              "    <tr>\n",
              "      <th>2</th>\n",
              "      <td>HD 178911 B b</td>\n",
              "      <td>8.03000</td>\n",
              "      <td>71.484000</td>\n",
              "    </tr>\n",
              "    <tr>\n",
              "      <th>3</th>\n",
              "      <td>HD 179079 b</td>\n",
              "      <td>0.08100</td>\n",
              "      <td>14.479000</td>\n",
              "    </tr>\n",
              "    <tr>\n",
              "      <th>4</th>\n",
              "      <td>HD 179949 b</td>\n",
              "      <td>0.91600</td>\n",
              "      <td>3.092514</td>\n",
              "    </tr>\n",
              "    <tr>\n",
              "      <th>...</th>\n",
              "      <td>...</td>\n",
              "      <td>...</td>\n",
              "      <td>...</td>\n",
              "    </tr>\n",
              "    <tr>\n",
              "      <th>4319</th>\n",
              "      <td>HR 858 b</td>\n",
              "      <td>13.00000</td>\n",
              "      <td>3.585990</td>\n",
              "    </tr>\n",
              "    <tr>\n",
              "      <th>4320</th>\n",
              "      <td>HR 858 c</td>\n",
              "      <td>13.00000</td>\n",
              "      <td>5.972930</td>\n",
              "    </tr>\n",
              "    <tr>\n",
              "      <th>4321</th>\n",
              "      <td>HR 858 d</td>\n",
              "      <td>13.00000</td>\n",
              "      <td>11.230000</td>\n",
              "    </tr>\n",
              "    <tr>\n",
              "      <th>4322</th>\n",
              "      <td>K2-146 c</td>\n",
              "      <td>0.02358</td>\n",
              "      <td>4.004980</td>\n",
              "    </tr>\n",
              "    <tr>\n",
              "      <th>4323</th>\n",
              "      <td>GJ 3512 b</td>\n",
              "      <td>0.46300</td>\n",
              "      <td>203.590000</td>\n",
              "    </tr>\n",
              "  </tbody>\n",
              "</table>\n",
              "<p>4324 rows × 3 columns</p>\n",
              "</div>"
            ],
            "text/plain": [
              "            pl_name  pl_bmassj   pl_orbper\n",
              "0       HD 177830 b    1.69000  410.100010\n",
              "1       HD 177830 c    0.15000  110.900000\n",
              "2     HD 178911 B b    8.03000   71.484000\n",
              "3       HD 179079 b    0.08100   14.479000\n",
              "4       HD 179949 b    0.91600    3.092514\n",
              "...             ...        ...         ...\n",
              "4319       HR 858 b   13.00000    3.585990\n",
              "4320       HR 858 c   13.00000    5.972930\n",
              "4321       HR 858 d   13.00000   11.230000\n",
              "4322       K2-146 c    0.02358    4.004980\n",
              "4323      GJ 3512 b    0.46300  203.590000\n",
              "\n",
              "[4324 rows x 3 columns]"
            ]
          },
          "metadata": {
            "tags": []
          },
          "execution_count": 16
        }
      ]
    },
    {
      "cell_type": "markdown",
      "metadata": {
        "id": "64FtqjFvIQ-f"
      },
      "source": [
        "The distribution of the data has remained larley intat. Whih means our ffill met it's purpose."
      ]
    },
    {
      "cell_type": "code",
      "metadata": {
        "colab": {
          "base_uri": "https://localhost:8080/",
          "height": 1000
        },
        "id": "23UA79KKIKxD",
        "outputId": "2a8aa176-4def-4773-a156-e48c7c057dbc"
      },
      "source": [
        "plt.hist(df2['pl_bmassj'],bins=100)"
      ],
      "execution_count": 17,
      "outputs": [
        {
          "output_type": "execute_result",
          "data": {
            "text/plain": [
              "(array([2.06e+03, 5.30e+02, 4.37e+02, 2.33e+02, 2.23e+02, 7.80e+01,\n",
              "        1.80e+02, 8.80e+01, 2.50e+01, 8.00e+01, 2.40e+01, 1.20e+01,\n",
              "        2.60e+01, 2.20e+01, 2.90e+01, 1.01e+02, 1.10e+01, 2.00e+01,\n",
              "        2.90e+01, 1.00e+01, 5.00e+00, 2.00e+00, 7.00e+00, 1.30e+01,\n",
              "        1.20e+01, 1.00e+01, 4.00e+00, 2.00e+00, 7.00e+00, 2.00e+00,\n",
              "        4.00e+00, 0.00e+00, 2.00e+00, 3.00e+00, 2.00e+00, 3.00e+00,\n",
              "        4.00e+00, 3.00e+00, 2.00e+00, 5.00e+00, 0.00e+00, 1.00e+00,\n",
              "        3.00e+00, 1.00e+00, 2.00e+00, 0.00e+00, 0.00e+00, 0.00e+00,\n",
              "        3.00e+00, 0.00e+00, 0.00e+00, 1.00e+00, 0.00e+00, 1.00e+00,\n",
              "        0.00e+00, 0.00e+00, 0.00e+00, 0.00e+00, 0.00e+00, 0.00e+00,\n",
              "        1.00e+00, 0.00e+00, 0.00e+00, 0.00e+00, 0.00e+00, 0.00e+00,\n",
              "        0.00e+00, 0.00e+00, 0.00e+00, 0.00e+00, 0.00e+00, 0.00e+00,\n",
              "        0.00e+00, 0.00e+00, 0.00e+00, 0.00e+00, 0.00e+00, 0.00e+00,\n",
              "        0.00e+00, 0.00e+00, 0.00e+00, 0.00e+00, 0.00e+00, 0.00e+00,\n",
              "        0.00e+00, 0.00e+00, 0.00e+00, 0.00e+00, 0.00e+00, 0.00e+00,\n",
              "        0.00e+00, 0.00e+00, 0.00e+00, 0.00e+00, 0.00e+00, 0.00e+00,\n",
              "        0.00e+00, 0.00e+00, 0.00e+00, 1.00e+00]),\n",
              " array([6.00000000e-05, 5.55959400e-01, 1.11185880e+00, 1.66775820e+00,\n",
              "        2.22365760e+00, 2.77955700e+00, 3.33545640e+00, 3.89135580e+00,\n",
              "        4.44725520e+00, 5.00315460e+00, 5.55905400e+00, 6.11495340e+00,\n",
              "        6.67085280e+00, 7.22675220e+00, 7.78265160e+00, 8.33855100e+00,\n",
              "        8.89445040e+00, 9.45034980e+00, 1.00062492e+01, 1.05621486e+01,\n",
              "        1.11180480e+01, 1.16739474e+01, 1.22298468e+01, 1.27857462e+01,\n",
              "        1.33416456e+01, 1.38975450e+01, 1.44534444e+01, 1.50093438e+01,\n",
              "        1.55652432e+01, 1.61211426e+01, 1.66770420e+01, 1.72329414e+01,\n",
              "        1.77888408e+01, 1.83447402e+01, 1.89006396e+01, 1.94565390e+01,\n",
              "        2.00124384e+01, 2.05683378e+01, 2.11242372e+01, 2.16801366e+01,\n",
              "        2.22360360e+01, 2.27919354e+01, 2.33478348e+01, 2.39037342e+01,\n",
              "        2.44596336e+01, 2.50155330e+01, 2.55714324e+01, 2.61273318e+01,\n",
              "        2.66832312e+01, 2.72391306e+01, 2.77950300e+01, 2.83509294e+01,\n",
              "        2.89068288e+01, 2.94627282e+01, 3.00186276e+01, 3.05745270e+01,\n",
              "        3.11304264e+01, 3.16863258e+01, 3.22422252e+01, 3.27981246e+01,\n",
              "        3.33540240e+01, 3.39099234e+01, 3.44658228e+01, 3.50217222e+01,\n",
              "        3.55776216e+01, 3.61335210e+01, 3.66894204e+01, 3.72453198e+01,\n",
              "        3.78012192e+01, 3.83571186e+01, 3.89130180e+01, 3.94689174e+01,\n",
              "        4.00248168e+01, 4.05807162e+01, 4.11366156e+01, 4.16925150e+01,\n",
              "        4.22484144e+01, 4.28043138e+01, 4.33602132e+01, 4.39161126e+01,\n",
              "        4.44720120e+01, 4.50279114e+01, 4.55838108e+01, 4.61397102e+01,\n",
              "        4.66956096e+01, 4.72515090e+01, 4.78074084e+01, 4.83633078e+01,\n",
              "        4.89192072e+01, 4.94751066e+01, 5.00310060e+01, 5.05869054e+01,\n",
              "        5.11428048e+01, 5.16987042e+01, 5.22546036e+01, 5.28105030e+01,\n",
              "        5.33664024e+01, 5.39223018e+01, 5.44782012e+01, 5.50341006e+01,\n",
              "        5.55900000e+01]),\n",
              " <a list of 100 Patch objects>)"
            ]
          },
          "metadata": {
            "tags": []
          },
          "execution_count": 17
        },
        {
          "output_type": "display_data",
          "data": {
            "image/png": "[encoded data removed]",
            "text/plain": [
              "<Figure size 432x288 with 1 Axes>"
            ]
          },
          "metadata": {
            "tags": [],
            "needs_background": "light"
          }
        }
      ]
    },
    {
      "cell_type": "code",
      "metadata": {
        "colab": {
          "base_uri": "https://localhost:8080/",
          "height": 352
        },
        "id": "IMN97sXgP82n",
        "outputId": "d0621815-f18e-4314-9c1c-b3c7593c06e8"
      },
      "source": [
        "plt.hist(df['mass'],bins=10)"
      ],
      "execution_count": 18,
      "outputs": [
        {
          "output_type": "execute_result",
          "data": {
            "text/plain": [
              "(array([8., 0., 1., 0., 0., 0., 0., 0., 0., 1.]),\n",
              " array([7.86576598e-06, 1.00007079e-01, 2.00006293e-01, 3.00005506e-01,\n",
              "        4.00004719e-01, 5.00003933e-01, 6.00003146e-01, 7.00002360e-01,\n",
              "        8.00001573e-01, 9.00000787e-01, 1.00000000e+00]),\n",
              " <a list of 10 Patch objects>)"
            ]
          },
          "metadata": {
            "tags": []
          },
          "execution_count": 18
        },
        {
          "output_type": "display_data",
          "data": {
            "image/png": "[encoded data removed]",
            "text/plain": [
              "<Figure size 432x288 with 1 Axes>"
            ]
          },
          "metadata": {
            "tags": [],
            "needs_background": "light"
          }
        }
      ]
    },
    {
      "cell_type": "code",
      "metadata": {
        "id": "M-b0Cr8bRNyz"
      },
      "source": [
        "import seaborn as sns"
      ],
      "execution_count": 19,
      "outputs": []
    },
    {
      "cell_type": "code",
      "metadata": {
        "id": "P_gGEw1Tej5x"
      },
      "source": [
        "import matplotlib.pyplot as plt\r\n"
      ],
      "execution_count": 20,
      "outputs": []
    },
    {
      "cell_type": "code",
      "metadata": {
        "colab": {
          "base_uri": "https://localhost:8080/",
          "height": 337
        },
        "id": "o6irm4XXflTn",
        "outputId": "008613bf-9db9-4b46-b2d7-dcbf87617c0c"
      },
      "source": [
        "sns.swarmplot(\r\n",
        "    data=[df2['pl_bmassj'], df['mass']],\r\n",
        "    palette=[sns.xkcd_rgb[\"pale red\"], sns.xkcd_rgb[\"medium green\"]])\r\n",
        "\r\n"
      ],
      "execution_count": 21,
      "outputs": [
        {
          "output_type": "stream",
          "text": [
            "/usr/local/lib/python3.6/dist-packages/seaborn/categorical.py:1296: UserWarning: 92.6% of the points cannot be placed; you may want to decrease the size of the markers or use stripplot.\n",
            "  warnings.warn(msg, UserWarning)\n"
          ],
          "name": "stderr"
        },
        {
          "output_type": "execute_result",
          "data": {
            "text/plain": [
              "<matplotlib.axes._subplots.AxesSubplot at 0x7fd3f44f6048>"
            ]
          },
          "metadata": {
            "tags": []
          },
          "execution_count": 21
        },
        {
          "output_type": "display_data",
          "data": {
            "image/png": "[encoded data removed]",
            "text/plain": [
              "<Figure size 432x288 with 1 Axes>"
            ]
          },
          "metadata": {
            "tags": [],
            "needs_background": "light"
          }
        }
      ]
    },
    {
      "cell_type": "code",
      "metadata": {
        "colab": {
          "base_uri": "https://localhost:8080/",
          "height": 283
        },
        "id": "sG11_w0leWbg",
        "outputId": "f723cea8-f340-400b-a37c-87c73e944921"
      },
      "source": [
        "sns.boxplot(\r\n",
        "    data=[df2['pl_bmassj'], df['mass']],\r\n",
        "    palette=[sns.xkcd_rgb[\"pale red\"], sns.xkcd_rgb[\"medium green\"]])\r\n",
        "\r\n"
      ],
      "execution_count": 22,
      "outputs": [
        {
          "output_type": "execute_result",
          "data": {
            "text/plain": [
              "<matplotlib.axes._subplots.AxesSubplot at 0x7fd3f44e5c18>"
            ]
          },
          "metadata": {
            "tags": []
          },
          "execution_count": 22
        },
        {
          "output_type": "display_data",
          "data": {
            "image/png": "[encoded data removed]",
            "text/plain": [
              "<Figure size 432x288 with 1 Axes>"
            ]
          },
          "metadata": {
            "tags": [],
            "needs_background": "light"
          }
        }
      ]
    },
    {
      "cell_type": "markdown",
      "metadata": {
        "id": "OPde_Pt7BZE_"
      },
      "source": [
        "Reserh question 2:"
      ]
    },
    {
      "cell_type": "markdown",
      "metadata": {
        "id": "YJ3QF-WE0_3A"
      },
      "source": [
        "**Approach**\n",
        "\n",
        "Aproach: For reasech question 1:  I will be trying to determine if there is any positive correlation between the two tables to see if there are any data points in the two tables that may provide insight as to how and Why Nasa determines that a KOI object is a planet.  I will use beeswarm plots to visualize the statistical differences between ordinary KOI objects and confirmed planets. For the feature we did not cover in class, I will use linear regressors from the sci-kit learn to help better predict the relationship between these variables. I will also be doing train test split so that my linear regressor can be verified on a test sample of the data. \n",
        "\n"
      ]
    },
    {
      "cell_type": "code",
      "metadata": {
        "id": "rdrwDNKEFPyG"
      },
      "source": [
        "import pandas as pd\r\n"
      ],
      "execution_count": 23,
      "outputs": []
    },
    {
      "cell_type": "code",
      "metadata": {
        "id": "8R60OkjloPCf",
        "colab": {
          "base_uri": "https://localhost:8080/",
          "height": 222
        },
        "outputId": "6cfba270-cb8c-41bc-c8d0-8ee746c45bca"
      },
      "source": [
        "Obj_intrest = \"https://raw.githubusercontent.com/Danjstr/AIM-5001/master/cumulative.csv\"\n",
        "#Read the data from mushroom into a dataframe and assign it the column names.\n",
        "df1 = pd.read_csv(Obj_intrest)\n",
        "df1.head()"
      ],
      "execution_count": 24,
      "outputs": [
        {
          "output_type": "execute_result",
          "data": {
            "text/html": [
              "<div>\n",
              "<style scoped>\n",
              "    .dataframe tbody tr th:only-of-type {\n",
              "        vertical-align: middle;\n",
              "    }\n",
              "\n",
              "    .dataframe tbody tr th {\n",
              "        vertical-align: top;\n",
              "    }\n",
              "\n",
              "    .dataframe thead th {\n",
              "        text-align: right;\n",
              "    }\n",
              "</style>\n",
              "<table border=\"1\" class=\"dataframe\">\n",
              "  <thead>\n",
              "    <tr style=\"text-align: right;\">\n",
              "      <th></th>\n",
              "      <th>rowid</th>\n",
              "      <th>kepid</th>\n",
              "      <th>kepoi_name</th>\n",
              "      <th>kepler_name</th>\n",
              "      <th>koi_disposition</th>\n",
              "      <th>koi_pdisposition</th>\n",
              "      <th>koi_score</th>\n",
              "      <th>koi_fpflag_nt</th>\n",
              "      <th>koi_fpflag_ss</th>\n",
              "      <th>koi_fpflag_co</th>\n",
              "      <th>koi_fpflag_ec</th>\n",
              "      <th>koi_period</th>\n",
              "      <th>koi_period_err1</th>\n",
              "      <th>koi_period_err2</th>\n",
              "      <th>koi_time0bk</th>\n",
              "      <th>koi_time0bk_err1</th>\n",
              "      <th>koi_time0bk_err2</th>\n",
              "      <th>koi_impact</th>\n",
              "      <th>koi_impact_err1</th>\n",
              "      <th>koi_impact_err2</th>\n",
              "      <th>koi_duration</th>\n",
              "      <th>koi_duration_err1</th>\n",
              "      <th>koi_duration_err2</th>\n",
              "      <th>koi_depth</th>\n",
              "      <th>koi_depth_err1</th>\n",
              "      <th>koi_depth_err2</th>\n",
              "      <th>koi_prad</th>\n",
              "      <th>koi_prad_err1</th>\n",
              "      <th>koi_prad_err2</th>\n",
              "      <th>koi_teq</th>\n",
              "      <th>koi_teq_err1</th>\n",
              "      <th>koi_teq_err2</th>\n",
              "      <th>koi_insol</th>\n",
              "      <th>koi_insol_err1</th>\n",
              "      <th>koi_insol_err2</th>\n",
              "      <th>koi_model_snr</th>\n",
              "      <th>koi_tce_plnt_num</th>\n",
              "      <th>koi_tce_delivname</th>\n",
              "      <th>koi_steff</th>\n",
              "      <th>koi_steff_err1</th>\n",
              "      <th>koi_steff_err2</th>\n",
              "      <th>koi_slogg</th>\n",
              "      <th>koi_slogg_err1</th>\n",
              "      <th>koi_slogg_err2</th>\n",
              "      <th>koi_srad</th>\n",
              "      <th>koi_srad_err1</th>\n",
              "      <th>koi_srad_err2</th>\n",
              "      <th>ra</th>\n",
              "      <th>dec</th>\n",
              "      <th>koi_kepmag</th>\n",
              "    </tr>\n",
              "  </thead>\n",
              "  <tbody>\n",
              "    <tr>\n",
              "      <th>0</th>\n",
              "      <td>1</td>\n",
              "      <td>10797460</td>\n",
              "      <td>K00752.01</td>\n",
              "      <td>Kepler-227 b</td>\n",
              "      <td>CONFIRMED</td>\n",
              "      <td>CANDIDATE</td>\n",
              "      <td>1.000</td>\n",
              "      <td>0</td>\n",
              "      <td>0</td>\n",
              "      <td>0</td>\n",
              "      <td>0</td>\n",
              "      <td>9.488036</td>\n",
              "      <td>2.775000e-05</td>\n",
              "      <td>-2.775000e-05</td>\n",
              "      <td>170.538750</td>\n",
              "      <td>0.002160</td>\n",
              "      <td>-0.002160</td>\n",
              "      <td>0.146</td>\n",
              "      <td>0.318</td>\n",
              "      <td>-0.146</td>\n",
              "      <td>2.95750</td>\n",
              "      <td>0.08190</td>\n",
              "      <td>-0.08190</td>\n",
              "      <td>615.8</td>\n",
              "      <td>19.5</td>\n",
              "      <td>-19.5</td>\n",
              "      <td>2.26</td>\n",
              "      <td>0.26</td>\n",
              "      <td>-0.15</td>\n",
              "      <td>793.0</td>\n",
              "      <td>NaN</td>\n",
              "      <td>NaN</td>\n",
              "      <td>93.59</td>\n",
              "      <td>29.45</td>\n",
              "      <td>-16.65</td>\n",
              "      <td>35.8</td>\n",
              "      <td>1.0</td>\n",
              "      <td>q1_q17_dr25_tce</td>\n",
              "      <td>5455.0</td>\n",
              "      <td>81.0</td>\n",
              "      <td>-81.0</td>\n",
              "      <td>4.467</td>\n",
              "      <td>0.064</td>\n",
              "      <td>-0.096</td>\n",
              "      <td>0.927</td>\n",
              "      <td>0.105</td>\n",
              "      <td>-0.061</td>\n",
              "      <td>291.93423</td>\n",
              "      <td>48.141651</td>\n",
              "      <td>15.347</td>\n",
              "    </tr>\n",
              "    <tr>\n",
              "      <th>1</th>\n",
              "      <td>2</td>\n",
              "      <td>10797460</td>\n",
              "      <td>K00752.02</td>\n",
              "      <td>Kepler-227 c</td>\n",
              "      <td>CONFIRMED</td>\n",
              "      <td>CANDIDATE</td>\n",
              "      <td>0.969</td>\n",
              "      <td>0</td>\n",
              "      <td>0</td>\n",
              "      <td>0</td>\n",
              "      <td>0</td>\n",
              "      <td>54.418383</td>\n",
              "      <td>2.479000e-04</td>\n",
              "      <td>-2.479000e-04</td>\n",
              "      <td>162.513840</td>\n",
              "      <td>0.003520</td>\n",
              "      <td>-0.003520</td>\n",
              "      <td>0.586</td>\n",
              "      <td>0.059</td>\n",
              "      <td>-0.443</td>\n",
              "      <td>4.50700</td>\n",
              "      <td>0.11600</td>\n",
              "      <td>-0.11600</td>\n",
              "      <td>874.8</td>\n",
              "      <td>35.5</td>\n",
              "      <td>-35.5</td>\n",
              "      <td>2.83</td>\n",
              "      <td>0.32</td>\n",
              "      <td>-0.19</td>\n",
              "      <td>443.0</td>\n",
              "      <td>NaN</td>\n",
              "      <td>NaN</td>\n",
              "      <td>9.11</td>\n",
              "      <td>2.87</td>\n",
              "      <td>-1.62</td>\n",
              "      <td>25.8</td>\n",
              "      <td>2.0</td>\n",
              "      <td>q1_q17_dr25_tce</td>\n",
              "      <td>5455.0</td>\n",
              "      <td>81.0</td>\n",
              "      <td>-81.0</td>\n",
              "      <td>4.467</td>\n",
              "      <td>0.064</td>\n",
              "      <td>-0.096</td>\n",
              "      <td>0.927</td>\n",
              "      <td>0.105</td>\n",
              "      <td>-0.061</td>\n",
              "      <td>291.93423</td>\n",
              "      <td>48.141651</td>\n",
              "      <td>15.347</td>\n",
              "    </tr>\n",
              "    <tr>\n",
              "      <th>2</th>\n",
              "      <td>3</td>\n",
              "      <td>10811496</td>\n",
              "      <td>K00753.01</td>\n",
              "      <td>NaN</td>\n",
              "      <td>FALSE POSITIVE</td>\n",
              "      <td>FALSE POSITIVE</td>\n",
              "      <td>0.000</td>\n",
              "      <td>0</td>\n",
              "      <td>1</td>\n",
              "      <td>0</td>\n",
              "      <td>0</td>\n",
              "      <td>19.899140</td>\n",
              "      <td>1.494000e-05</td>\n",
              "      <td>-1.494000e-05</td>\n",
              "      <td>175.850252</td>\n",
              "      <td>0.000581</td>\n",
              "      <td>-0.000581</td>\n",
              "      <td>0.969</td>\n",
              "      <td>5.126</td>\n",
              "      <td>-0.077</td>\n",
              "      <td>1.78220</td>\n",
              "      <td>0.03410</td>\n",
              "      <td>-0.03410</td>\n",
              "      <td>10829.0</td>\n",
              "      <td>171.0</td>\n",
              "      <td>-171.0</td>\n",
              "      <td>14.60</td>\n",
              "      <td>3.92</td>\n",
              "      <td>-1.31</td>\n",
              "      <td>638.0</td>\n",
              "      <td>NaN</td>\n",
              "      <td>NaN</td>\n",
              "      <td>39.30</td>\n",
              "      <td>31.04</td>\n",
              "      <td>-10.49</td>\n",
              "      <td>76.3</td>\n",
              "      <td>1.0</td>\n",
              "      <td>q1_q17_dr25_tce</td>\n",
              "      <td>5853.0</td>\n",
              "      <td>158.0</td>\n",
              "      <td>-176.0</td>\n",
              "      <td>4.544</td>\n",
              "      <td>0.044</td>\n",
              "      <td>-0.176</td>\n",
              "      <td>0.868</td>\n",
              "      <td>0.233</td>\n",
              "      <td>-0.078</td>\n",
              "      <td>297.00482</td>\n",
              "      <td>48.134129</td>\n",
              "      <td>15.436</td>\n",
              "    </tr>\n",
              "    <tr>\n",
              "      <th>3</th>\n",
              "      <td>4</td>\n",
              "      <td>10848459</td>\n",
              "      <td>K00754.01</td>\n",
              "      <td>NaN</td>\n",
              "      <td>FALSE POSITIVE</td>\n",
              "      <td>FALSE POSITIVE</td>\n",
              "      <td>0.000</td>\n",
              "      <td>0</td>\n",
              "      <td>1</td>\n",
              "      <td>0</td>\n",
              "      <td>0</td>\n",
              "      <td>1.736952</td>\n",
              "      <td>2.630000e-07</td>\n",
              "      <td>-2.630000e-07</td>\n",
              "      <td>170.307565</td>\n",
              "      <td>0.000115</td>\n",
              "      <td>-0.000115</td>\n",
              "      <td>1.276</td>\n",
              "      <td>0.115</td>\n",
              "      <td>-0.092</td>\n",
              "      <td>2.40641</td>\n",
              "      <td>0.00537</td>\n",
              "      <td>-0.00537</td>\n",
              "      <td>8079.2</td>\n",
              "      <td>12.8</td>\n",
              "      <td>-12.8</td>\n",
              "      <td>33.46</td>\n",
              "      <td>8.50</td>\n",
              "      <td>-2.83</td>\n",
              "      <td>1395.0</td>\n",
              "      <td>NaN</td>\n",
              "      <td>NaN</td>\n",
              "      <td>891.96</td>\n",
              "      <td>668.95</td>\n",
              "      <td>-230.35</td>\n",
              "      <td>505.6</td>\n",
              "      <td>1.0</td>\n",
              "      <td>q1_q17_dr25_tce</td>\n",
              "      <td>5805.0</td>\n",
              "      <td>157.0</td>\n",
              "      <td>-174.0</td>\n",
              "      <td>4.564</td>\n",
              "      <td>0.053</td>\n",
              "      <td>-0.168</td>\n",
              "      <td>0.791</td>\n",
              "      <td>0.201</td>\n",
              "      <td>-0.067</td>\n",
              "      <td>285.53461</td>\n",
              "      <td>48.285210</td>\n",
              "      <td>15.597</td>\n",
              "    </tr>\n",
              "    <tr>\n",
              "      <th>4</th>\n",
              "      <td>5</td>\n",
              "      <td>10854555</td>\n",
              "      <td>K00755.01</td>\n",
              "      <td>Kepler-664 b</td>\n",
              "      <td>CONFIRMED</td>\n",
              "      <td>CANDIDATE</td>\n",
              "      <td>1.000</td>\n",
              "      <td>0</td>\n",
              "      <td>0</td>\n",
              "      <td>0</td>\n",
              "      <td>0</td>\n",
              "      <td>2.525592</td>\n",
              "      <td>3.761000e-06</td>\n",
              "      <td>-3.761000e-06</td>\n",
              "      <td>171.595550</td>\n",
              "      <td>0.001130</td>\n",
              "      <td>-0.001130</td>\n",
              "      <td>0.701</td>\n",
              "      <td>0.235</td>\n",
              "      <td>-0.478</td>\n",
              "      <td>1.65450</td>\n",
              "      <td>0.04200</td>\n",
              "      <td>-0.04200</td>\n",
              "      <td>603.3</td>\n",
              "      <td>16.9</td>\n",
              "      <td>-16.9</td>\n",
              "      <td>2.75</td>\n",
              "      <td>0.88</td>\n",
              "      <td>-0.35</td>\n",
              "      <td>1406.0</td>\n",
              "      <td>NaN</td>\n",
              "      <td>NaN</td>\n",
              "      <td>926.16</td>\n",
              "      <td>874.33</td>\n",
              "      <td>-314.24</td>\n",
              "      <td>40.9</td>\n",
              "      <td>1.0</td>\n",
              "      <td>q1_q17_dr25_tce</td>\n",
              "      <td>6031.0</td>\n",
              "      <td>169.0</td>\n",
              "      <td>-211.0</td>\n",
              "      <td>4.438</td>\n",
              "      <td>0.070</td>\n",
              "      <td>-0.210</td>\n",
              "      <td>1.046</td>\n",
              "      <td>0.334</td>\n",
              "      <td>-0.133</td>\n",
              "      <td>288.75488</td>\n",
              "      <td>48.226200</td>\n",
              "      <td>15.509</td>\n",
              "    </tr>\n",
              "  </tbody>\n",
              "</table>\n",
              "</div>"
            ],
            "text/plain": [
              "   rowid     kepid kepoi_name  ...         ra        dec koi_kepmag\n",
              "0      1  10797460  K00752.01  ...  291.93423  48.141651     15.347\n",
              "1      2  10797460  K00752.02  ...  291.93423  48.141651     15.347\n",
              "2      3  10811496  K00753.01  ...  297.00482  48.134129     15.436\n",
              "3      4  10848459  K00754.01  ...  285.53461  48.285210     15.597\n",
              "4      5  10854555  K00755.01  ...  288.75488  48.226200     15.509\n",
              "\n",
              "[5 rows x 50 columns]"
            ]
          },
          "metadata": {
            "tags": []
          },
          "execution_count": 24
        }
      ]
    },
    {
      "cell_type": "code",
      "metadata": {
        "id": "2PIryaQR2A9v",
        "colab": {
          "base_uri": "https://localhost:8080/",
          "height": 435
        },
        "outputId": "0c6d56b5-0a5c-4c16-b99a-70e83b2d5b48"
      },
      "source": [
        "df1"
      ],
      "execution_count": 25,
      "outputs": [
        {
          "output_type": "execute_result",
          "data": {
            "text/html": [
              "<div>\n",
              "<style scoped>\n",
              "    .dataframe tbody tr th:only-of-type {\n",
              "        vertical-align: middle;\n",
              "    }\n",
              "\n",
              "    .dataframe tbody tr th {\n",
              "        vertical-align: top;\n",
              "    }\n",
              "\n",
              "    .dataframe thead th {\n",
              "        text-align: right;\n",
              "    }\n",
              "</style>\n",
              "<table border=\"1\" class=\"dataframe\">\n",
              "  <thead>\n",
              "    <tr style=\"text-align: right;\">\n",
              "      <th></th>\n",
              "      <th>rowid</th>\n",
              "      <th>kepid</th>\n",
              "      <th>kepoi_name</th>\n",
              "      <th>kepler_name</th>\n",
              "      <th>koi_disposition</th>\n",
              "      <th>koi_pdisposition</th>\n",
              "      <th>koi_score</th>\n",
              "      <th>koi_fpflag_nt</th>\n",
              "      <th>koi_fpflag_ss</th>\n",
              "      <th>koi_fpflag_co</th>\n",
              "      <th>koi_fpflag_ec</th>\n",
              "      <th>koi_period</th>\n",
              "      <th>koi_period_err1</th>\n",
              "      <th>koi_period_err2</th>\n",
              "      <th>koi_time0bk</th>\n",
              "      <th>koi_time0bk_err1</th>\n",
              "      <th>koi_time0bk_err2</th>\n",
              "      <th>koi_impact</th>\n",
              "      <th>koi_impact_err1</th>\n",
              "      <th>koi_impact_err2</th>\n",
              "      <th>koi_duration</th>\n",
              "      <th>koi_duration_err1</th>\n",
              "      <th>koi_duration_err2</th>\n",
              "      <th>koi_depth</th>\n",
              "      <th>koi_depth_err1</th>\n",
              "      <th>koi_depth_err2</th>\n",
              "      <th>koi_prad</th>\n",
              "      <th>koi_prad_err1</th>\n",
              "      <th>koi_prad_err2</th>\n",
              "      <th>koi_teq</th>\n",
              "      <th>koi_teq_err1</th>\n",
              "      <th>koi_teq_err2</th>\n",
              "      <th>koi_insol</th>\n",
              "      <th>koi_insol_err1</th>\n",
              "      <th>koi_insol_err2</th>\n",
              "      <th>koi_model_snr</th>\n",
              "      <th>koi_tce_plnt_num</th>\n",
              "      <th>koi_tce_delivname</th>\n",
              "      <th>koi_steff</th>\n",
              "      <th>koi_steff_err1</th>\n",
              "      <th>koi_steff_err2</th>\n",
              "      <th>koi_slogg</th>\n",
              "      <th>koi_slogg_err1</th>\n",
              "      <th>koi_slogg_err2</th>\n",
              "      <th>koi_srad</th>\n",
              "      <th>koi_srad_err1</th>\n",
              "      <th>koi_srad_err2</th>\n",
              "      <th>ra</th>\n",
              "      <th>dec</th>\n",
              "      <th>koi_kepmag</th>\n",
              "    </tr>\n",
              "  </thead>\n",
              "  <tbody>\n",
              "    <tr>\n",
              "      <th>0</th>\n",
              "      <td>1</td>\n",
              "      <td>10797460</td>\n",
              "      <td>K00752.01</td>\n",
              "      <td>Kepler-227 b</td>\n",
              "      <td>CONFIRMED</td>\n",
              "      <td>CANDIDATE</td>\n",
              "      <td>1.000</td>\n",
              "      <td>0</td>\n",
              "      <td>0</td>\n",
              "      <td>0</td>\n",
              "      <td>0</td>\n",
              "      <td>9.488036</td>\n",
              "      <td>2.775000e-05</td>\n",
              "      <td>-2.775000e-05</td>\n",
              "      <td>170.538750</td>\n",
              "      <td>0.002160</td>\n",
              "      <td>-0.002160</td>\n",
              "      <td>0.146</td>\n",
              "      <td>0.318</td>\n",
              "      <td>-0.146</td>\n",
              "      <td>2.95750</td>\n",
              "      <td>0.08190</td>\n",
              "      <td>-0.08190</td>\n",
              "      <td>615.8</td>\n",
              "      <td>19.5</td>\n",
              "      <td>-19.5</td>\n",
              "      <td>2.26</td>\n",
              "      <td>0.26</td>\n",
              "      <td>-0.15</td>\n",
              "      <td>793.0</td>\n",
              "      <td>NaN</td>\n",
              "      <td>NaN</td>\n",
              "      <td>93.59</td>\n",
              "      <td>29.45</td>\n",
              "      <td>-16.65</td>\n",
              "      <td>35.8</td>\n",
              "      <td>1.0</td>\n",
              "      <td>q1_q17_dr25_tce</td>\n",
              "      <td>5455.0</td>\n",
              "      <td>81.0</td>\n",
              "      <td>-81.0</td>\n",
              "      <td>4.467</td>\n",
              "      <td>0.064</td>\n",
              "      <td>-0.096</td>\n",
              "      <td>0.927</td>\n",
              "      <td>0.105</td>\n",
              "      <td>-0.061</td>\n",
              "      <td>291.93423</td>\n",
              "      <td>48.141651</td>\n",
              "      <td>15.347</td>\n",
              "    </tr>\n",
              "    <tr>\n",
              "      <th>1</th>\n",
              "      <td>2</td>\n",
              "      <td>10797460</td>\n",
              "      <td>K00752.02</td>\n",
              "      <td>Kepler-227 c</td>\n",
              "      <td>CONFIRMED</td>\n",
              "      <td>CANDIDATE</td>\n",
              "      <td>0.969</td>\n",
              "      <td>0</td>\n",
              "      <td>0</td>\n",
              "      <td>0</td>\n",
              "      <td>0</td>\n",
              "      <td>54.418383</td>\n",
              "      <td>2.479000e-04</td>\n",
              "      <td>-2.479000e-04</td>\n",
              "      <td>162.513840</td>\n",
              "      <td>0.003520</td>\n",
              "      <td>-0.003520</td>\n",
              "      <td>0.586</td>\n",
              "      <td>0.059</td>\n",
              "      <td>-0.443</td>\n",
              "      <td>4.50700</td>\n",
              "      <td>0.11600</td>\n",
              "      <td>-0.11600</td>\n",
              "      <td>874.8</td>\n",
              "      <td>35.5</td>\n",
              "      <td>-35.5</td>\n",
              "      <td>2.83</td>\n",
              "      <td>0.32</td>\n",
              "      <td>-0.19</td>\n",
              "      <td>443.0</td>\n",
              "      <td>NaN</td>\n",
              "      <td>NaN</td>\n",
              "      <td>9.11</td>\n",
              "      <td>2.87</td>\n",
              "      <td>-1.62</td>\n",
              "      <td>25.8</td>\n",
              "      <td>2.0</td>\n",
              "      <td>q1_q17_dr25_tce</td>\n",
              "      <td>5455.0</td>\n",
              "      <td>81.0</td>\n",
              "      <td>-81.0</td>\n",
              "      <td>4.467</td>\n",
              "      <td>0.064</td>\n",
              "      <td>-0.096</td>\n",
              "      <td>0.927</td>\n",
              "      <td>0.105</td>\n",
              "      <td>-0.061</td>\n",
              "      <td>291.93423</td>\n",
              "      <td>48.141651</td>\n",
              "      <td>15.347</td>\n",
              "    </tr>\n",
              "    <tr>\n",
              "      <th>2</th>\n",
              "      <td>3</td>\n",
              "      <td>10811496</td>\n",
              "      <td>K00753.01</td>\n",
              "      <td>NaN</td>\n",
              "      <td>FALSE POSITIVE</td>\n",
              "      <td>FALSE POSITIVE</td>\n",
              "      <td>0.000</td>\n",
              "      <td>0</td>\n",
              "      <td>1</td>\n",
              "      <td>0</td>\n",
              "      <td>0</td>\n",
              "      <td>19.899140</td>\n",
              "      <td>1.494000e-05</td>\n",
              "      <td>-1.494000e-05</td>\n",
              "      <td>175.850252</td>\n",
              "      <td>0.000581</td>\n",
              "      <td>-0.000581</td>\n",
              "      <td>0.969</td>\n",
              "      <td>5.126</td>\n",
              "      <td>-0.077</td>\n",
              "      <td>1.78220</td>\n",
              "      <td>0.03410</td>\n",
              "      <td>-0.03410</td>\n",
              "      <td>10829.0</td>\n",
              "      <td>171.0</td>\n",
              "      <td>-171.0</td>\n",
              "      <td>14.60</td>\n",
              "      <td>3.92</td>\n",
              "      <td>-1.31</td>\n",
              "      <td>638.0</td>\n",
              "      <td>NaN</td>\n",
              "      <td>NaN</td>\n",
              "      <td>39.30</td>\n",
              "      <td>31.04</td>\n",
              "      <td>-10.49</td>\n",
              "      <td>76.3</td>\n",
              "      <td>1.0</td>\n",
              "      <td>q1_q17_dr25_tce</td>\n",
              "      <td>5853.0</td>\n",
              "      <td>158.0</td>\n",
              "      <td>-176.0</td>\n",
              "      <td>4.544</td>\n",
              "      <td>0.044</td>\n",
              "      <td>-0.176</td>\n",
              "      <td>0.868</td>\n",
              "      <td>0.233</td>\n",
              "      <td>-0.078</td>\n",
              "      <td>297.00482</td>\n",
              "      <td>48.134129</td>\n",
              "      <td>15.436</td>\n",
              "    </tr>\n",
              "    <tr>\n",
              "      <th>3</th>\n",
              "      <td>4</td>\n",
              "      <td>10848459</td>\n",
              "      <td>K00754.01</td>\n",
              "      <td>NaN</td>\n",
              "      <td>FALSE POSITIVE</td>\n",
              "      <td>FALSE POSITIVE</td>\n",
              "      <td>0.000</td>\n",
              "      <td>0</td>\n",
              "      <td>1</td>\n",
              "      <td>0</td>\n",
              "      <td>0</td>\n",
              "      <td>1.736952</td>\n",
              "      <td>2.630000e-07</td>\n",
              "      <td>-2.630000e-07</td>\n",
              "      <td>170.307565</td>\n",
              "      <td>0.000115</td>\n",
              "      <td>-0.000115</td>\n",
              "      <td>1.276</td>\n",
              "      <td>0.115</td>\n",
              "      <td>-0.092</td>\n",
              "      <td>2.40641</td>\n",
              "      <td>0.00537</td>\n",
              "      <td>-0.00537</td>\n",
              "      <td>8079.2</td>\n",
              "      <td>12.8</td>\n",
              "      <td>-12.8</td>\n",
              "      <td>33.46</td>\n",
              "      <td>8.50</td>\n",
              "      <td>-2.83</td>\n",
              "      <td>1395.0</td>\n",
              "      <td>NaN</td>\n",
              "      <td>NaN</td>\n",
              "      <td>891.96</td>\n",
              "      <td>668.95</td>\n",
              "      <td>-230.35</td>\n",
              "      <td>505.6</td>\n",
              "      <td>1.0</td>\n",
              "      <td>q1_q17_dr25_tce</td>\n",
              "      <td>5805.0</td>\n",
              "      <td>157.0</td>\n",
              "      <td>-174.0</td>\n",
              "      <td>4.564</td>\n",
              "      <td>0.053</td>\n",
              "      <td>-0.168</td>\n",
              "      <td>0.791</td>\n",
              "      <td>0.201</td>\n",
              "      <td>-0.067</td>\n",
              "      <td>285.53461</td>\n",
              "      <td>48.285210</td>\n",
              "      <td>15.597</td>\n",
              "    </tr>\n",
              "    <tr>\n",
              "      <th>4</th>\n",
              "      <td>5</td>\n",
              "      <td>10854555</td>\n",
              "      <td>K00755.01</td>\n",
              "      <td>Kepler-664 b</td>\n",
              "      <td>CONFIRMED</td>\n",
              "      <td>CANDIDATE</td>\n",
              "      <td>1.000</td>\n",
              "      <td>0</td>\n",
              "      <td>0</td>\n",
              "      <td>0</td>\n",
              "      <td>0</td>\n",
              "      <td>2.525592</td>\n",
              "      <td>3.761000e-06</td>\n",
              "      <td>-3.761000e-06</td>\n",
              "      <td>171.595550</td>\n",
              "      <td>0.001130</td>\n",
              "      <td>-0.001130</td>\n",
              "      <td>0.701</td>\n",
              "      <td>0.235</td>\n",
              "      <td>-0.478</td>\n",
              "      <td>1.65450</td>\n",
              "      <td>0.04200</td>\n",
              "      <td>-0.04200</td>\n",
              "      <td>603.3</td>\n",
              "      <td>16.9</td>\n",
              "      <td>-16.9</td>\n",
              "      <td>2.75</td>\n",
              "      <td>0.88</td>\n",
              "      <td>-0.35</td>\n",
              "      <td>1406.0</td>\n",
              "      <td>NaN</td>\n",
              "      <td>NaN</td>\n",
              "      <td>926.16</td>\n",
              "      <td>874.33</td>\n",
              "      <td>-314.24</td>\n",
              "      <td>40.9</td>\n",
              "      <td>1.0</td>\n",
              "      <td>q1_q17_dr25_tce</td>\n",
              "      <td>6031.0</td>\n",
              "      <td>169.0</td>\n",
              "      <td>-211.0</td>\n",
              "      <td>4.438</td>\n",
              "      <td>0.070</td>\n",
              "      <td>-0.210</td>\n",
              "      <td>1.046</td>\n",
              "      <td>0.334</td>\n",
              "      <td>-0.133</td>\n",
              "      <td>288.75488</td>\n",
              "      <td>48.226200</td>\n",
              "      <td>15.509</td>\n",
              "    </tr>\n",
              "    <tr>\n",
              "      <th>...</th>\n",
              "      <td>...</td>\n",
              "      <td>...</td>\n",
              "      <td>...</td>\n",
              "      <td>...</td>\n",
              "      <td>...</td>\n",
              "      <td>...</td>\n",
              "      <td>...</td>\n",
              "      <td>...</td>\n",
              "      <td>...</td>\n",
              "      <td>...</td>\n",
              "      <td>...</td>\n",
              "      <td>...</td>\n",
              "      <td>...</td>\n",
              "      <td>...</td>\n",
              "      <td>...</td>\n",
              "      <td>...</td>\n",
              "      <td>...</td>\n",
              "      <td>...</td>\n",
              "      <td>...</td>\n",
              "      <td>...</td>\n",
              "      <td>...</td>\n",
              "      <td>...</td>\n",
              "      <td>...</td>\n",
              "      <td>...</td>\n",
              "      <td>...</td>\n",
              "      <td>...</td>\n",
              "      <td>...</td>\n",
              "      <td>...</td>\n",
              "      <td>...</td>\n",
              "      <td>...</td>\n",
              "      <td>...</td>\n",
              "      <td>...</td>\n",
              "      <td>...</td>\n",
              "      <td>...</td>\n",
              "      <td>...</td>\n",
              "      <td>...</td>\n",
              "      <td>...</td>\n",
              "      <td>...</td>\n",
              "      <td>...</td>\n",
              "      <td>...</td>\n",
              "      <td>...</td>\n",
              "      <td>...</td>\n",
              "      <td>...</td>\n",
              "      <td>...</td>\n",
              "      <td>...</td>\n",
              "      <td>...</td>\n",
              "      <td>...</td>\n",
              "      <td>...</td>\n",
              "      <td>...</td>\n",
              "      <td>...</td>\n",
              "    </tr>\n",
              "    <tr>\n",
              "      <th>9559</th>\n",
              "      <td>9560</td>\n",
              "      <td>10031643</td>\n",
              "      <td>K07984.01</td>\n",
              "      <td>NaN</td>\n",
              "      <td>FALSE POSITIVE</td>\n",
              "      <td>FALSE POSITIVE</td>\n",
              "      <td>0.000</td>\n",
              "      <td>0</td>\n",
              "      <td>0</td>\n",
              "      <td>0</td>\n",
              "      <td>1</td>\n",
              "      <td>8.589871</td>\n",
              "      <td>1.846000e-04</td>\n",
              "      <td>-1.846000e-04</td>\n",
              "      <td>132.016100</td>\n",
              "      <td>0.015700</td>\n",
              "      <td>-0.015700</td>\n",
              "      <td>0.765</td>\n",
              "      <td>0.023</td>\n",
              "      <td>-0.541</td>\n",
              "      <td>4.80600</td>\n",
              "      <td>0.63400</td>\n",
              "      <td>-0.63400</td>\n",
              "      <td>87.7</td>\n",
              "      <td>13.0</td>\n",
              "      <td>-13.0</td>\n",
              "      <td>1.11</td>\n",
              "      <td>0.32</td>\n",
              "      <td>-0.23</td>\n",
              "      <td>929.0</td>\n",
              "      <td>NaN</td>\n",
              "      <td>NaN</td>\n",
              "      <td>176.40</td>\n",
              "      <td>152.77</td>\n",
              "      <td>-77.60</td>\n",
              "      <td>8.4</td>\n",
              "      <td>1.0</td>\n",
              "      <td>q1_q17_dr25_tce</td>\n",
              "      <td>5638.0</td>\n",
              "      <td>169.0</td>\n",
              "      <td>-152.0</td>\n",
              "      <td>4.296</td>\n",
              "      <td>0.231</td>\n",
              "      <td>-0.189</td>\n",
              "      <td>1.088</td>\n",
              "      <td>0.313</td>\n",
              "      <td>-0.228</td>\n",
              "      <td>298.74921</td>\n",
              "      <td>46.973351</td>\n",
              "      <td>14.478</td>\n",
              "    </tr>\n",
              "    <tr>\n",
              "      <th>9560</th>\n",
              "      <td>9561</td>\n",
              "      <td>10090151</td>\n",
              "      <td>K07985.01</td>\n",
              "      <td>NaN</td>\n",
              "      <td>FALSE POSITIVE</td>\n",
              "      <td>FALSE POSITIVE</td>\n",
              "      <td>0.000</td>\n",
              "      <td>0</td>\n",
              "      <td>1</td>\n",
              "      <td>1</td>\n",
              "      <td>0</td>\n",
              "      <td>0.527699</td>\n",
              "      <td>1.160000e-07</td>\n",
              "      <td>-1.160000e-07</td>\n",
              "      <td>131.705093</td>\n",
              "      <td>0.000170</td>\n",
              "      <td>-0.000170</td>\n",
              "      <td>1.252</td>\n",
              "      <td>0.051</td>\n",
              "      <td>-0.049</td>\n",
              "      <td>3.22210</td>\n",
              "      <td>0.01740</td>\n",
              "      <td>-0.01740</td>\n",
              "      <td>1579.2</td>\n",
              "      <td>4.6</td>\n",
              "      <td>-4.6</td>\n",
              "      <td>29.35</td>\n",
              "      <td>7.70</td>\n",
              "      <td>-2.57</td>\n",
              "      <td>2088.0</td>\n",
              "      <td>NaN</td>\n",
              "      <td>NaN</td>\n",
              "      <td>4500.53</td>\n",
              "      <td>3406.38</td>\n",
              "      <td>-1175.26</td>\n",
              "      <td>453.3</td>\n",
              "      <td>1.0</td>\n",
              "      <td>q1_q17_dr25_tce</td>\n",
              "      <td>5638.0</td>\n",
              "      <td>139.0</td>\n",
              "      <td>-166.0</td>\n",
              "      <td>4.529</td>\n",
              "      <td>0.035</td>\n",
              "      <td>-0.196</td>\n",
              "      <td>0.903</td>\n",
              "      <td>0.237</td>\n",
              "      <td>-0.079</td>\n",
              "      <td>297.18875</td>\n",
              "      <td>47.093819</td>\n",
              "      <td>14.082</td>\n",
              "    </tr>\n",
              "    <tr>\n",
              "      <th>9561</th>\n",
              "      <td>9562</td>\n",
              "      <td>10128825</td>\n",
              "      <td>K07986.01</td>\n",
              "      <td>NaN</td>\n",
              "      <td>CANDIDATE</td>\n",
              "      <td>CANDIDATE</td>\n",
              "      <td>0.497</td>\n",
              "      <td>0</td>\n",
              "      <td>0</td>\n",
              "      <td>0</td>\n",
              "      <td>0</td>\n",
              "      <td>1.739849</td>\n",
              "      <td>1.780000e-05</td>\n",
              "      <td>-1.780000e-05</td>\n",
              "      <td>133.001270</td>\n",
              "      <td>0.007690</td>\n",
              "      <td>-0.007690</td>\n",
              "      <td>0.043</td>\n",
              "      <td>0.423</td>\n",
              "      <td>-0.043</td>\n",
              "      <td>3.11400</td>\n",
              "      <td>0.22900</td>\n",
              "      <td>-0.22900</td>\n",
              "      <td>48.5</td>\n",
              "      <td>5.4</td>\n",
              "      <td>-5.4</td>\n",
              "      <td>0.72</td>\n",
              "      <td>0.24</td>\n",
              "      <td>-0.08</td>\n",
              "      <td>1608.0</td>\n",
              "      <td>NaN</td>\n",
              "      <td>NaN</td>\n",
              "      <td>1585.81</td>\n",
              "      <td>1537.86</td>\n",
              "      <td>-502.22</td>\n",
              "      <td>10.6</td>\n",
              "      <td>1.0</td>\n",
              "      <td>q1_q17_dr25_tce</td>\n",
              "      <td>6119.0</td>\n",
              "      <td>165.0</td>\n",
              "      <td>-220.0</td>\n",
              "      <td>4.444</td>\n",
              "      <td>0.056</td>\n",
              "      <td>-0.224</td>\n",
              "      <td>1.031</td>\n",
              "      <td>0.341</td>\n",
              "      <td>-0.114</td>\n",
              "      <td>286.50937</td>\n",
              "      <td>47.163219</td>\n",
              "      <td>14.757</td>\n",
              "    </tr>\n",
              "    <tr>\n",
              "      <th>9562</th>\n",
              "      <td>9563</td>\n",
              "      <td>10147276</td>\n",
              "      <td>K07987.01</td>\n",
              "      <td>NaN</td>\n",
              "      <td>FALSE POSITIVE</td>\n",
              "      <td>FALSE POSITIVE</td>\n",
              "      <td>0.021</td>\n",
              "      <td>0</td>\n",
              "      <td>0</td>\n",
              "      <td>1</td>\n",
              "      <td>0</td>\n",
              "      <td>0.681402</td>\n",
              "      <td>2.434000e-06</td>\n",
              "      <td>-2.434000e-06</td>\n",
              "      <td>132.181750</td>\n",
              "      <td>0.002850</td>\n",
              "      <td>-0.002850</td>\n",
              "      <td>0.147</td>\n",
              "      <td>0.309</td>\n",
              "      <td>-0.147</td>\n",
              "      <td>0.86500</td>\n",
              "      <td>0.16200</td>\n",
              "      <td>-0.16200</td>\n",
              "      <td>103.6</td>\n",
              "      <td>14.7</td>\n",
              "      <td>-14.7</td>\n",
              "      <td>1.07</td>\n",
              "      <td>0.36</td>\n",
              "      <td>-0.11</td>\n",
              "      <td>2218.0</td>\n",
              "      <td>NaN</td>\n",
              "      <td>NaN</td>\n",
              "      <td>5713.41</td>\n",
              "      <td>5675.74</td>\n",
              "      <td>-1836.94</td>\n",
              "      <td>12.3</td>\n",
              "      <td>1.0</td>\n",
              "      <td>q1_q17_dr25_tce</td>\n",
              "      <td>6173.0</td>\n",
              "      <td>193.0</td>\n",
              "      <td>-236.0</td>\n",
              "      <td>4.447</td>\n",
              "      <td>0.056</td>\n",
              "      <td>-0.224</td>\n",
              "      <td>1.041</td>\n",
              "      <td>0.341</td>\n",
              "      <td>-0.114</td>\n",
              "      <td>294.16489</td>\n",
              "      <td>47.176281</td>\n",
              "      <td>15.385</td>\n",
              "    </tr>\n",
              "    <tr>\n",
              "      <th>9563</th>\n",
              "      <td>9564</td>\n",
              "      <td>10156110</td>\n",
              "      <td>K07989.01</td>\n",
              "      <td>NaN</td>\n",
              "      <td>FALSE POSITIVE</td>\n",
              "      <td>FALSE POSITIVE</td>\n",
              "      <td>0.000</td>\n",
              "      <td>0</td>\n",
              "      <td>0</td>\n",
              "      <td>1</td>\n",
              "      <td>1</td>\n",
              "      <td>4.856035</td>\n",
              "      <td>6.356000e-05</td>\n",
              "      <td>-6.356000e-05</td>\n",
              "      <td>135.993300</td>\n",
              "      <td>0.010800</td>\n",
              "      <td>-0.010800</td>\n",
              "      <td>0.134</td>\n",
              "      <td>0.323</td>\n",
              "      <td>-0.134</td>\n",
              "      <td>3.07800</td>\n",
              "      <td>0.28300</td>\n",
              "      <td>-0.28300</td>\n",
              "      <td>76.7</td>\n",
              "      <td>10.8</td>\n",
              "      <td>-10.8</td>\n",
              "      <td>1.05</td>\n",
              "      <td>0.36</td>\n",
              "      <td>-0.12</td>\n",
              "      <td>1266.0</td>\n",
              "      <td>NaN</td>\n",
              "      <td>NaN</td>\n",
              "      <td>607.42</td>\n",
              "      <td>600.39</td>\n",
              "      <td>-194.33</td>\n",
              "      <td>8.2</td>\n",
              "      <td>1.0</td>\n",
              "      <td>q1_q17_dr25_tce</td>\n",
              "      <td>6469.0</td>\n",
              "      <td>158.0</td>\n",
              "      <td>-225.0</td>\n",
              "      <td>4.385</td>\n",
              "      <td>0.054</td>\n",
              "      <td>-0.216</td>\n",
              "      <td>1.193</td>\n",
              "      <td>0.410</td>\n",
              "      <td>-0.137</td>\n",
              "      <td>297.00977</td>\n",
              "      <td>47.121021</td>\n",
              "      <td>14.826</td>\n",
              "    </tr>\n",
              "  </tbody>\n",
              "</table>\n",
              "<p>9564 rows × 50 columns</p>\n",
              "</div>"
            ],
            "text/plain": [
              "      rowid     kepid kepoi_name  ...         ra        dec koi_kepmag\n",
              "0         1  10797460  K00752.01  ...  291.93423  48.141651     15.347\n",
              "1         2  10797460  K00752.02  ...  291.93423  48.141651     15.347\n",
              "2         3  10811496  K00753.01  ...  297.00482  48.134129     15.436\n",
              "3         4  10848459  K00754.01  ...  285.53461  48.285210     15.597\n",
              "4         5  10854555  K00755.01  ...  288.75488  48.226200     15.509\n",
              "...     ...       ...        ...  ...        ...        ...        ...\n",
              "9559   9560  10031643  K07984.01  ...  298.74921  46.973351     14.478\n",
              "9560   9561  10090151  K07985.01  ...  297.18875  47.093819     14.082\n",
              "9561   9562  10128825  K07986.01  ...  286.50937  47.163219     14.757\n",
              "9562   9563  10147276  K07987.01  ...  294.16489  47.176281     15.385\n",
              "9563   9564  10156110  K07989.01  ...  297.00977  47.121021     14.826\n",
              "\n",
              "[9564 rows x 50 columns]"
            ]
          },
          "metadata": {
            "tags": []
          },
          "execution_count": 25
        }
      ]
    },
    {
      "cell_type": "code",
      "metadata": {
        "colab": {
          "base_uri": "https://localhost:8080/"
        },
        "id": "poqFs22uNKrE",
        "outputId": "e3e2a4b4-7936-43b2-846e-171114beda11"
      },
      "source": [
        "df1.info"
      ],
      "execution_count": 26,
      "outputs": [
        {
          "output_type": "execute_result",
          "data": {
            "text/plain": [
              "<bound method DataFrame.info of       rowid     kepid kepoi_name  ...         ra        dec koi_kepmag\n",
              "0         1  10797460  K00752.01  ...  291.93423  48.141651     15.347\n",
              "1         2  10797460  K00752.02  ...  291.93423  48.141651     15.347\n",
              "2         3  10811496  K00753.01  ...  297.00482  48.134129     15.436\n",
              "3         4  10848459  K00754.01  ...  285.53461  48.285210     15.597\n",
              "4         5  10854555  K00755.01  ...  288.75488  48.226200     15.509\n",
              "...     ...       ...        ...  ...        ...        ...        ...\n",
              "9559   9560  10031643  K07984.01  ...  298.74921  46.973351     14.478\n",
              "9560   9561  10090151  K07985.01  ...  297.18875  47.093819     14.082\n",
              "9561   9562  10128825  K07986.01  ...  286.50937  47.163219     14.757\n",
              "9562   9563  10147276  K07987.01  ...  294.16489  47.176281     15.385\n",
              "9563   9564  10156110  K07989.01  ...  297.00977  47.121021     14.826\n",
              "\n",
              "[9564 rows x 50 columns]>"
            ]
          },
          "metadata": {
            "tags": []
          },
          "execution_count": 26
        }
      ]
    },
    {
      "cell_type": "code",
      "metadata": {
        "colab": {
          "base_uri": "https://localhost:8080/"
        },
        "id": "ZHoyxhMDNWC9",
        "outputId": "d805b9e1-0ee6-4666-d47b-4407ad5a85e1"
      },
      "source": [
        "df1.dtypes"
      ],
      "execution_count": 27,
      "outputs": [
        {
          "output_type": "execute_result",
          "data": {
            "text/plain": [
              "rowid                  int64\n",
              "kepid                  int64\n",
              "kepoi_name            object\n",
              "kepler_name           object\n",
              "koi_disposition       object\n",
              "koi_pdisposition      object\n",
              "koi_score            float64\n",
              "koi_fpflag_nt          int64\n",
              "koi_fpflag_ss          int64\n",
              "koi_fpflag_co          int64\n",
              "koi_fpflag_ec          int64\n",
              "koi_period           float64\n",
              "koi_period_err1      float64\n",
              "koi_period_err2      float64\n",
              "koi_time0bk          float64\n",
              "koi_time0bk_err1     float64\n",
              "koi_time0bk_err2     float64\n",
              "koi_impact           float64\n",
              "koi_impact_err1      float64\n",
              "koi_impact_err2      float64\n",
              "koi_duration         float64\n",
              "koi_duration_err1    float64\n",
              "koi_duration_err2    float64\n",
              "koi_depth            float64\n",
              "koi_depth_err1       float64\n",
              "koi_depth_err2       float64\n",
              "koi_prad             float64\n",
              "koi_prad_err1        float64\n",
              "koi_prad_err2        float64\n",
              "koi_teq              float64\n",
              "koi_teq_err1         float64\n",
              "koi_teq_err2         float64\n",
              "koi_insol            float64\n",
              "koi_insol_err1       float64\n",
              "koi_insol_err2       float64\n",
              "koi_model_snr        float64\n",
              "koi_tce_plnt_num     float64\n",
              "koi_tce_delivname     object\n",
              "koi_steff            float64\n",
              "koi_steff_err1       float64\n",
              "koi_steff_err2       float64\n",
              "koi_slogg            float64\n",
              "koi_slogg_err1       float64\n",
              "koi_slogg_err2       float64\n",
              "koi_srad             float64\n",
              "koi_srad_err1        float64\n",
              "koi_srad_err2        float64\n",
              "ra                   float64\n",
              "dec                  float64\n",
              "koi_kepmag           float64\n",
              "dtype: object"
            ]
          },
          "metadata": {
            "tags": []
          },
          "execution_count": 27
        }
      ]
    },
    {
      "cell_type": "code",
      "metadata": {
        "id": "wbYQM9AzYKLM"
      },
      "source": [
        "df3=df1.drop(columns=['koi_tce_delivname','koi_pdisposition','rowid', 'kepid','kepoi_name' ])"
      ],
      "execution_count": 28,
      "outputs": []
    },
    {
      "cell_type": "code",
      "metadata": {
        "colab": {
          "base_uri": "https://localhost:8080/",
          "height": 435
        },
        "id": "m1kClhsLYK3J",
        "outputId": "18f98b66-2376-43d5-d5ff-9431ffd069a2"
      },
      "source": [
        "df3"
      ],
      "execution_count": 29,
      "outputs": [
        {
          "output_type": "execute_result",
          "data": {
            "text/html": [
              "<div>\n",
              "<style scoped>\n",
              "    .dataframe tbody tr th:only-of-type {\n",
              "        vertical-align: middle;\n",
              "    }\n",
              "\n",
              "    .dataframe tbody tr th {\n",
              "        vertical-align: top;\n",
              "    }\n",
              "\n",
              "    .dataframe thead th {\n",
              "        text-align: right;\n",
              "    }\n",
              "</style>\n",
              "<table border=\"1\" class=\"dataframe\">\n",
              "  <thead>\n",
              "    <tr style=\"text-align: right;\">\n",
              "      <th></th>\n",
              "      <th>kepler_name</th>\n",
              "      <th>koi_disposition</th>\n",
              "      <th>koi_score</th>\n",
              "      <th>koi_fpflag_nt</th>\n",
              "      <th>koi_fpflag_ss</th>\n",
              "      <th>koi_fpflag_co</th>\n",
              "      <th>koi_fpflag_ec</th>\n",
              "      <th>koi_period</th>\n",
              "      <th>koi_period_err1</th>\n",
              "      <th>koi_period_err2</th>\n",
              "      <th>koi_time0bk</th>\n",
              "      <th>koi_time0bk_err1</th>\n",
              "      <th>koi_time0bk_err2</th>\n",
              "      <th>koi_impact</th>\n",
              "      <th>koi_impact_err1</th>\n",
              "      <th>koi_impact_err2</th>\n",
              "      <th>koi_duration</th>\n",
              "      <th>koi_duration_err1</th>\n",
              "      <th>koi_duration_err2</th>\n",
              "      <th>koi_depth</th>\n",
              "      <th>koi_depth_err1</th>\n",
              "      <th>koi_depth_err2</th>\n",
              "      <th>koi_prad</th>\n",
              "      <th>koi_prad_err1</th>\n",
              "      <th>koi_prad_err2</th>\n",
              "      <th>koi_teq</th>\n",
              "      <th>koi_teq_err1</th>\n",
              "      <th>koi_teq_err2</th>\n",
              "      <th>koi_insol</th>\n",
              "      <th>koi_insol_err1</th>\n",
              "      <th>koi_insol_err2</th>\n",
              "      <th>koi_model_snr</th>\n",
              "      <th>koi_tce_plnt_num</th>\n",
              "      <th>koi_steff</th>\n",
              "      <th>koi_steff_err1</th>\n",
              "      <th>koi_steff_err2</th>\n",
              "      <th>koi_slogg</th>\n",
              "      <th>koi_slogg_err1</th>\n",
              "      <th>koi_slogg_err2</th>\n",
              "      <th>koi_srad</th>\n",
              "      <th>koi_srad_err1</th>\n",
              "      <th>koi_srad_err2</th>\n",
              "      <th>ra</th>\n",
              "      <th>dec</th>\n",
              "      <th>koi_kepmag</th>\n",
              "    </tr>\n",
              "  </thead>\n",
              "  <tbody>\n",
              "    <tr>\n",
              "      <th>0</th>\n",
              "      <td>Kepler-227 b</td>\n",
              "      <td>CONFIRMED</td>\n",
              "      <td>1.000</td>\n",
              "      <td>0</td>\n",
              "      <td>0</td>\n",
              "      <td>0</td>\n",
              "      <td>0</td>\n",
              "      <td>9.488036</td>\n",
              "      <td>2.775000e-05</td>\n",
              "      <td>-2.775000e-05</td>\n",
              "      <td>170.538750</td>\n",
              "      <td>0.002160</td>\n",
              "      <td>-0.002160</td>\n",
              "      <td>0.146</td>\n",
              "      <td>0.318</td>\n",
              "      <td>-0.146</td>\n",
              "      <td>2.95750</td>\n",
              "      <td>0.08190</td>\n",
              "      <td>-0.08190</td>\n",
              "      <td>615.8</td>\n",
              "      <td>19.5</td>\n",
              "      <td>-19.5</td>\n",
              "      <td>2.26</td>\n",
              "      <td>0.26</td>\n",
              "      <td>-0.15</td>\n",
              "      <td>793.0</td>\n",
              "      <td>NaN</td>\n",
              "      <td>NaN</td>\n",
              "      <td>93.59</td>\n",
              "      <td>29.45</td>\n",
              "      <td>-16.65</td>\n",
              "      <td>35.8</td>\n",
              "      <td>1.0</td>\n",
              "      <td>5455.0</td>\n",
              "      <td>81.0</td>\n",
              "      <td>-81.0</td>\n",
              "      <td>4.467</td>\n",
              "      <td>0.064</td>\n",
              "      <td>-0.096</td>\n",
              "      <td>0.927</td>\n",
              "      <td>0.105</td>\n",
              "      <td>-0.061</td>\n",
              "      <td>291.93423</td>\n",
              "      <td>48.141651</td>\n",
              "      <td>15.347</td>\n",
              "    </tr>\n",
              "    <tr>\n",
              "      <th>1</th>\n",
              "      <td>Kepler-227 c</td>\n",
              "      <td>CONFIRMED</td>\n",
              "      <td>0.969</td>\n",
              "      <td>0</td>\n",
              "      <td>0</td>\n",
              "      <td>0</td>\n",
              "      <td>0</td>\n",
              "      <td>54.418383</td>\n",
              "      <td>2.479000e-04</td>\n",
              "      <td>-2.479000e-04</td>\n",
              "      <td>162.513840</td>\n",
              "      <td>0.003520</td>\n",
              "      <td>-0.003520</td>\n",
              "      <td>0.586</td>\n",
              "      <td>0.059</td>\n",
              "      <td>-0.443</td>\n",
              "      <td>4.50700</td>\n",
              "      <td>0.11600</td>\n",
              "      <td>-0.11600</td>\n",
              "      <td>874.8</td>\n",
              "      <td>35.5</td>\n",
              "      <td>-35.5</td>\n",
              "      <td>2.83</td>\n",
              "      <td>0.32</td>\n",
              "      <td>-0.19</td>\n",
              "      <td>443.0</td>\n",
              "      <td>NaN</td>\n",
              "      <td>NaN</td>\n",
              "      <td>9.11</td>\n",
              "      <td>2.87</td>\n",
              "      <td>-1.62</td>\n",
              "      <td>25.8</td>\n",
              "      <td>2.0</td>\n",
              "      <td>5455.0</td>\n",
              "      <td>81.0</td>\n",
              "      <td>-81.0</td>\n",
              "      <td>4.467</td>\n",
              "      <td>0.064</td>\n",
              "      <td>-0.096</td>\n",
              "      <td>0.927</td>\n",
              "      <td>0.105</td>\n",
              "      <td>-0.061</td>\n",
              "      <td>291.93423</td>\n",
              "      <td>48.141651</td>\n",
              "      <td>15.347</td>\n",
              "    </tr>\n",
              "    <tr>\n",
              "      <th>2</th>\n",
              "      <td>NaN</td>\n",
              "      <td>FALSE POSITIVE</td>\n",
              "      <td>0.000</td>\n",
              "      <td>0</td>\n",
              "      <td>1</td>\n",
              "      <td>0</td>\n",
              "      <td>0</td>\n",
              "      <td>19.899140</td>\n",
              "      <td>1.494000e-05</td>\n",
              "      <td>-1.494000e-05</td>\n",
              "      <td>175.850252</td>\n",
              "      <td>0.000581</td>\n",
              "      <td>-0.000581</td>\n",
              "      <td>0.969</td>\n",
              "      <td>5.126</td>\n",
              "      <td>-0.077</td>\n",
              "      <td>1.78220</td>\n",
              "      <td>0.03410</td>\n",
              "      <td>-0.03410</td>\n",
              "      <td>10829.0</td>\n",
              "      <td>171.0</td>\n",
              "      <td>-171.0</td>\n",
              "      <td>14.60</td>\n",
              "      <td>3.92</td>\n",
              "      <td>-1.31</td>\n",
              "      <td>638.0</td>\n",
              "      <td>NaN</td>\n",
              "      <td>NaN</td>\n",
              "      <td>39.30</td>\n",
              "      <td>31.04</td>\n",
              "      <td>-10.49</td>\n",
              "      <td>76.3</td>\n",
              "      <td>1.0</td>\n",
              "      <td>5853.0</td>\n",
              "      <td>158.0</td>\n",
              "      <td>-176.0</td>\n",
              "      <td>4.544</td>\n",
              "      <td>0.044</td>\n",
              "      <td>-0.176</td>\n",
              "      <td>0.868</td>\n",
              "      <td>0.233</td>\n",
              "      <td>-0.078</td>\n",
              "      <td>297.00482</td>\n",
              "      <td>48.134129</td>\n",
              "      <td>15.436</td>\n",
              "    </tr>\n",
              "    <tr>\n",
              "      <th>3</th>\n",
              "      <td>NaN</td>\n",
              "      <td>FALSE POSITIVE</td>\n",
              "      <td>0.000</td>\n",
              "      <td>0</td>\n",
              "      <td>1</td>\n",
              "      <td>0</td>\n",
              "      <td>0</td>\n",
              "      <td>1.736952</td>\n",
              "      <td>2.630000e-07</td>\n",
              "      <td>-2.630000e-07</td>\n",
              "      <td>170.307565</td>\n",
              "      <td>0.000115</td>\n",
              "      <td>-0.000115</td>\n",
              "      <td>1.276</td>\n",
              "      <td>0.115</td>\n",
              "      <td>-0.092</td>\n",
              "      <td>2.40641</td>\n",
              "      <td>0.00537</td>\n",
              "      <td>-0.00537</td>\n",
              "      <td>8079.2</td>\n",
              "      <td>12.8</td>\n",
              "      <td>-12.8</td>\n",
              "      <td>33.46</td>\n",
              "      <td>8.50</td>\n",
              "      <td>-2.83</td>\n",
              "      <td>1395.0</td>\n",
              "      <td>NaN</td>\n",
              "      <td>NaN</td>\n",
              "      <td>891.96</td>\n",
              "      <td>668.95</td>\n",
              "      <td>-230.35</td>\n",
              "      <td>505.6</td>\n",
              "      <td>1.0</td>\n",
              "      <td>5805.0</td>\n",
              "      <td>157.0</td>\n",
              "      <td>-174.0</td>\n",
              "      <td>4.564</td>\n",
              "      <td>0.053</td>\n",
              "      <td>-0.168</td>\n",
              "      <td>0.791</td>\n",
              "      <td>0.201</td>\n",
              "      <td>-0.067</td>\n",
              "      <td>285.53461</td>\n",
              "      <td>48.285210</td>\n",
              "      <td>15.597</td>\n",
              "    </tr>\n",
              "    <tr>\n",
              "      <th>4</th>\n",
              "      <td>Kepler-664 b</td>\n",
              "      <td>CONFIRMED</td>\n",
              "      <td>1.000</td>\n",
              "      <td>0</td>\n",
              "      <td>0</td>\n",
              "      <td>0</td>\n",
              "      <td>0</td>\n",
              "      <td>2.525592</td>\n",
              "      <td>3.761000e-06</td>\n",
              "      <td>-3.761000e-06</td>\n",
              "      <td>171.595550</td>\n",
              "      <td>0.001130</td>\n",
              "      <td>-0.001130</td>\n",
              "      <td>0.701</td>\n",
              "      <td>0.235</td>\n",
              "      <td>-0.478</td>\n",
              "      <td>1.65450</td>\n",
              "      <td>0.04200</td>\n",
              "      <td>-0.04200</td>\n",
              "      <td>603.3</td>\n",
              "      <td>16.9</td>\n",
              "      <td>-16.9</td>\n",
              "      <td>2.75</td>\n",
              "      <td>0.88</td>\n",
              "      <td>-0.35</td>\n",
              "      <td>1406.0</td>\n",
              "      <td>NaN</td>\n",
              "      <td>NaN</td>\n",
              "      <td>926.16</td>\n",
              "      <td>874.33</td>\n",
              "      <td>-314.24</td>\n",
              "      <td>40.9</td>\n",
              "      <td>1.0</td>\n",
              "      <td>6031.0</td>\n",
              "      <td>169.0</td>\n",
              "      <td>-211.0</td>\n",
              "      <td>4.438</td>\n",
              "      <td>0.070</td>\n",
              "      <td>-0.210</td>\n",
              "      <td>1.046</td>\n",
              "      <td>0.334</td>\n",
              "      <td>-0.133</td>\n",
              "      <td>288.75488</td>\n",
              "      <td>48.226200</td>\n",
              "      <td>15.509</td>\n",
              "    </tr>\n",
              "    <tr>\n",
              "      <th>...</th>\n",
              "      <td>...</td>\n",
              "      <td>...</td>\n",
              "      <td>...</td>\n",
              "      <td>...</td>\n",
              "      <td>...</td>\n",
              "      <td>...</td>\n",
              "      <td>...</td>\n",
              "      <td>...</td>\n",
              "      <td>...</td>\n",
              "      <td>...</td>\n",
              "      <td>...</td>\n",
              "      <td>...</td>\n",
              "      <td>...</td>\n",
              "      <td>...</td>\n",
              "      <td>...</td>\n",
              "      <td>...</td>\n",
              "      <td>...</td>\n",
              "      <td>...</td>\n",
              "      <td>...</td>\n",
              "      <td>...</td>\n",
              "      <td>...</td>\n",
              "      <td>...</td>\n",
              "      <td>...</td>\n",
              "      <td>...</td>\n",
              "      <td>...</td>\n",
              "      <td>...</td>\n",
              "      <td>...</td>\n",
              "      <td>...</td>\n",
              "      <td>...</td>\n",
              "      <td>...</td>\n",
              "      <td>...</td>\n",
              "      <td>...</td>\n",
              "      <td>...</td>\n",
              "      <td>...</td>\n",
              "      <td>...</td>\n",
              "      <td>...</td>\n",
              "      <td>...</td>\n",
              "      <td>...</td>\n",
              "      <td>...</td>\n",
              "      <td>...</td>\n",
              "      <td>...</td>\n",
              "      <td>...</td>\n",
              "      <td>...</td>\n",
              "      <td>...</td>\n",
              "      <td>...</td>\n",
              "    </tr>\n",
              "    <tr>\n",
              "      <th>9559</th>\n",
              "      <td>NaN</td>\n",
              "      <td>FALSE POSITIVE</td>\n",
              "      <td>0.000</td>\n",
              "      <td>0</td>\n",
              "      <td>0</td>\n",
              "      <td>0</td>\n",
              "      <td>1</td>\n",
              "      <td>8.589871</td>\n",
              "      <td>1.846000e-04</td>\n",
              "      <td>-1.846000e-04</td>\n",
              "      <td>132.016100</td>\n",
              "      <td>0.015700</td>\n",
              "      <td>-0.015700</td>\n",
              "      <td>0.765</td>\n",
              "      <td>0.023</td>\n",
              "      <td>-0.541</td>\n",
              "      <td>4.80600</td>\n",
              "      <td>0.63400</td>\n",
              "      <td>-0.63400</td>\n",
              "      <td>87.7</td>\n",
              "      <td>13.0</td>\n",
              "      <td>-13.0</td>\n",
              "      <td>1.11</td>\n",
              "      <td>0.32</td>\n",
              "      <td>-0.23</td>\n",
              "      <td>929.0</td>\n",
              "      <td>NaN</td>\n",
              "      <td>NaN</td>\n",
              "      <td>176.40</td>\n",
              "      <td>152.77</td>\n",
              "      <td>-77.60</td>\n",
              "      <td>8.4</td>\n",
              "      <td>1.0</td>\n",
              "      <td>5638.0</td>\n",
              "      <td>169.0</td>\n",
              "      <td>-152.0</td>\n",
              "      <td>4.296</td>\n",
              "      <td>0.231</td>\n",
              "      <td>-0.189</td>\n",
              "      <td>1.088</td>\n",
              "      <td>0.313</td>\n",
              "      <td>-0.228</td>\n",
              "      <td>298.74921</td>\n",
              "      <td>46.973351</td>\n",
              "      <td>14.478</td>\n",
              "    </tr>\n",
              "    <tr>\n",
              "      <th>9560</th>\n",
              "      <td>NaN</td>\n",
              "      <td>FALSE POSITIVE</td>\n",
              "      <td>0.000</td>\n",
              "      <td>0</td>\n",
              "      <td>1</td>\n",
              "      <td>1</td>\n",
              "      <td>0</td>\n",
              "      <td>0.527699</td>\n",
              "      <td>1.160000e-07</td>\n",
              "      <td>-1.160000e-07</td>\n",
              "      <td>131.705093</td>\n",
              "      <td>0.000170</td>\n",
              "      <td>-0.000170</td>\n",
              "      <td>1.252</td>\n",
              "      <td>0.051</td>\n",
              "      <td>-0.049</td>\n",
              "      <td>3.22210</td>\n",
              "      <td>0.01740</td>\n",
              "      <td>-0.01740</td>\n",
              "      <td>1579.2</td>\n",
              "      <td>4.6</td>\n",
              "      <td>-4.6</td>\n",
              "      <td>29.35</td>\n",
              "      <td>7.70</td>\n",
              "      <td>-2.57</td>\n",
              "      <td>2088.0</td>\n",
              "      <td>NaN</td>\n",
              "      <td>NaN</td>\n",
              "      <td>4500.53</td>\n",
              "      <td>3406.38</td>\n",
              "      <td>-1175.26</td>\n",
              "      <td>453.3</td>\n",
              "      <td>1.0</td>\n",
              "      <td>5638.0</td>\n",
              "      <td>139.0</td>\n",
              "      <td>-166.0</td>\n",
              "      <td>4.529</td>\n",
              "      <td>0.035</td>\n",
              "      <td>-0.196</td>\n",
              "      <td>0.903</td>\n",
              "      <td>0.237</td>\n",
              "      <td>-0.079</td>\n",
              "      <td>297.18875</td>\n",
              "      <td>47.093819</td>\n",
              "      <td>14.082</td>\n",
              "    </tr>\n",
              "    <tr>\n",
              "      <th>9561</th>\n",
              "      <td>NaN</td>\n",
              "      <td>CANDIDATE</td>\n",
              "      <td>0.497</td>\n",
              "      <td>0</td>\n",
              "      <td>0</td>\n",
              "      <td>0</td>\n",
              "      <td>0</td>\n",
              "      <td>1.739849</td>\n",
              "      <td>1.780000e-05</td>\n",
              "      <td>-1.780000e-05</td>\n",
              "      <td>133.001270</td>\n",
              "      <td>0.007690</td>\n",
              "      <td>-0.007690</td>\n",
              "      <td>0.043</td>\n",
              "      <td>0.423</td>\n",
              "      <td>-0.043</td>\n",
              "      <td>3.11400</td>\n",
              "      <td>0.22900</td>\n",
              "      <td>-0.22900</td>\n",
              "      <td>48.5</td>\n",
              "      <td>5.4</td>\n",
              "      <td>-5.4</td>\n",
              "      <td>0.72</td>\n",
              "      <td>0.24</td>\n",
              "      <td>-0.08</td>\n",
              "      <td>1608.0</td>\n",
              "      <td>NaN</td>\n",
              "      <td>NaN</td>\n",
              "      <td>1585.81</td>\n",
              "      <td>1537.86</td>\n",
              "      <td>-502.22</td>\n",
              "      <td>10.6</td>\n",
              "      <td>1.0</td>\n",
              "      <td>6119.0</td>\n",
              "      <td>165.0</td>\n",
              "      <td>-220.0</td>\n",
              "      <td>4.444</td>\n",
              "      <td>0.056</td>\n",
              "      <td>-0.224</td>\n",
              "      <td>1.031</td>\n",
              "      <td>0.341</td>\n",
              "      <td>-0.114</td>\n",
              "      <td>286.50937</td>\n",
              "      <td>47.163219</td>\n",
              "      <td>14.757</td>\n",
              "    </tr>\n",
              "    <tr>\n",
              "      <th>9562</th>\n",
              "      <td>NaN</td>\n",
              "      <td>FALSE POSITIVE</td>\n",
              "      <td>0.021</td>\n",
              "      <td>0</td>\n",
              "      <td>0</td>\n",
              "      <td>1</td>\n",
              "      <td>0</td>\n",
              "      <td>0.681402</td>\n",
              "      <td>2.434000e-06</td>\n",
              "      <td>-2.434000e-06</td>\n",
              "      <td>132.181750</td>\n",
              "      <td>0.002850</td>\n",
              "      <td>-0.002850</td>\n",
              "      <td>0.147</td>\n",
              "      <td>0.309</td>\n",
              "      <td>-0.147</td>\n",
              "      <td>0.86500</td>\n",
              "      <td>0.16200</td>\n",
              "      <td>-0.16200</td>\n",
              "      <td>103.6</td>\n",
              "      <td>14.7</td>\n",
              "      <td>-14.7</td>\n",
              "      <td>1.07</td>\n",
              "      <td>0.36</td>\n",
              "      <td>-0.11</td>\n",
              "      <td>2218.0</td>\n",
              "      <td>NaN</td>\n",
              "      <td>NaN</td>\n",
              "      <td>5713.41</td>\n",
              "      <td>5675.74</td>\n",
              "      <td>-1836.94</td>\n",
              "      <td>12.3</td>\n",
              "      <td>1.0</td>\n",
              "      <td>6173.0</td>\n",
              "      <td>193.0</td>\n",
              "      <td>-236.0</td>\n",
              "      <td>4.447</td>\n",
              "      <td>0.056</td>\n",
              "      <td>-0.224</td>\n",
              "      <td>1.041</td>\n",
              "      <td>0.341</td>\n",
              "      <td>-0.114</td>\n",
              "      <td>294.16489</td>\n",
              "      <td>47.176281</td>\n",
              "      <td>15.385</td>\n",
              "    </tr>\n",
              "    <tr>\n",
              "      <th>9563</th>\n",
              "      <td>NaN</td>\n",
              "      <td>FALSE POSITIVE</td>\n",
              "      <td>0.000</td>\n",
              "      <td>0</td>\n",
              "      <td>0</td>\n",
              "      <td>1</td>\n",
              "      <td>1</td>\n",
              "      <td>4.856035</td>\n",
              "      <td>6.356000e-05</td>\n",
              "      <td>-6.356000e-05</td>\n",
              "      <td>135.993300</td>\n",
              "      <td>0.010800</td>\n",
              "      <td>-0.010800</td>\n",
              "      <td>0.134</td>\n",
              "      <td>0.323</td>\n",
              "      <td>-0.134</td>\n",
              "      <td>3.07800</td>\n",
              "      <td>0.28300</td>\n",
              "      <td>-0.28300</td>\n",
              "      <td>76.7</td>\n",
              "      <td>10.8</td>\n",
              "      <td>-10.8</td>\n",
              "      <td>1.05</td>\n",
              "      <td>0.36</td>\n",
              "      <td>-0.12</td>\n",
              "      <td>1266.0</td>\n",
              "      <td>NaN</td>\n",
              "      <td>NaN</td>\n",
              "      <td>607.42</td>\n",
              "      <td>600.39</td>\n",
              "      <td>-194.33</td>\n",
              "      <td>8.2</td>\n",
              "      <td>1.0</td>\n",
              "      <td>6469.0</td>\n",
              "      <td>158.0</td>\n",
              "      <td>-225.0</td>\n",
              "      <td>4.385</td>\n",
              "      <td>0.054</td>\n",
              "      <td>-0.216</td>\n",
              "      <td>1.193</td>\n",
              "      <td>0.410</td>\n",
              "      <td>-0.137</td>\n",
              "      <td>297.00977</td>\n",
              "      <td>47.121021</td>\n",
              "      <td>14.826</td>\n",
              "    </tr>\n",
              "  </tbody>\n",
              "</table>\n",
              "<p>9564 rows × 45 columns</p>\n",
              "</div>"
            ],
            "text/plain": [
              "       kepler_name koi_disposition  koi_score  ...         ra        dec  koi_kepmag\n",
              "0     Kepler-227 b       CONFIRMED      1.000  ...  291.93423  48.141651      15.347\n",
              "1     Kepler-227 c       CONFIRMED      0.969  ...  291.93423  48.141651      15.347\n",
              "2              NaN  FALSE POSITIVE      0.000  ...  297.00482  48.134129      15.436\n",
              "3              NaN  FALSE POSITIVE      0.000  ...  285.53461  48.285210      15.597\n",
              "4     Kepler-664 b       CONFIRMED      1.000  ...  288.75488  48.226200      15.509\n",
              "...            ...             ...        ...  ...        ...        ...         ...\n",
              "9559           NaN  FALSE POSITIVE      0.000  ...  298.74921  46.973351      14.478\n",
              "9560           NaN  FALSE POSITIVE      0.000  ...  297.18875  47.093819      14.082\n",
              "9561           NaN       CANDIDATE      0.497  ...  286.50937  47.163219      14.757\n",
              "9562           NaN  FALSE POSITIVE      0.021  ...  294.16489  47.176281      15.385\n",
              "9563           NaN  FALSE POSITIVE      0.000  ...  297.00977  47.121021      14.826\n",
              "\n",
              "[9564 rows x 45 columns]"
            ]
          },
          "metadata": {
            "tags": []
          },
          "execution_count": 29
        }
      ]
    },
    {
      "cell_type": "code",
      "metadata": {
        "id": "SvuJU2iaWnVN"
      },
      "source": [
        "df4=df3.drop(df3.columns.difference(['kepler_name','koi_disposition','koi_period']), 1, inplace=False)"
      ],
      "execution_count": 31,
      "outputs": []
    },
    {
      "cell_type": "code",
      "metadata": {
        "colab": {
          "base_uri": "https://localhost:8080/",
          "height": 415
        },
        "id": "Q3E_nii3ZRlV",
        "outputId": "6bf34269-919e-481a-f6d9-0769985576a5"
      },
      "source": [
        "df4"
      ],
      "execution_count": 32,
      "outputs": [
        {
          "output_type": "execute_result",
          "data": {
            "text/html": [
              "<div>\n",
              "<style scoped>\n",
              "    .dataframe tbody tr th:only-of-type {\n",
              "        vertical-align: middle;\n",
              "    }\n",
              "\n",
              "    .dataframe tbody tr th {\n",
              "        vertical-align: top;\n",
              "    }\n",
              "\n",
              "    .dataframe thead th {\n",
              "        text-align: right;\n",
              "    }\n",
              "</style>\n",
              "<table border=\"1\" class=\"dataframe\">\n",
              "  <thead>\n",
              "    <tr style=\"text-align: right;\">\n",
              "      <th></th>\n",
              "      <th>kepler_name</th>\n",
              "      <th>koi_disposition</th>\n",
              "      <th>koi_period</th>\n",
              "    </tr>\n",
              "  </thead>\n",
              "  <tbody>\n",
              "    <tr>\n",
              "      <th>0</th>\n",
              "      <td>Kepler-227 b</td>\n",
              "      <td>CONFIRMED</td>\n",
              "      <td>9.488036</td>\n",
              "    </tr>\n",
              "    <tr>\n",
              "      <th>1</th>\n",
              "      <td>Kepler-227 c</td>\n",
              "      <td>CONFIRMED</td>\n",
              "      <td>54.418383</td>\n",
              "    </tr>\n",
              "    <tr>\n",
              "      <th>2</th>\n",
              "      <td>NaN</td>\n",
              "      <td>FALSE POSITIVE</td>\n",
              "      <td>19.899140</td>\n",
              "    </tr>\n",
              "    <tr>\n",
              "      <th>3</th>\n",
              "      <td>NaN</td>\n",
              "      <td>FALSE POSITIVE</td>\n",
              "      <td>1.736952</td>\n",
              "    </tr>\n",
              "    <tr>\n",
              "      <th>4</th>\n",
              "      <td>Kepler-664 b</td>\n",
              "      <td>CONFIRMED</td>\n",
              "      <td>2.525592</td>\n",
              "    </tr>\n",
              "    <tr>\n",
              "      <th>...</th>\n",
              "      <td>...</td>\n",
              "      <td>...</td>\n",
              "      <td>...</td>\n",
              "    </tr>\n",
              "    <tr>\n",
              "      <th>9559</th>\n",
              "      <td>NaN</td>\n",
              "      <td>FALSE POSITIVE</td>\n",
              "      <td>8.589871</td>\n",
              "    </tr>\n",
              "    <tr>\n",
              "      <th>9560</th>\n",
              "      <td>NaN</td>\n",
              "      <td>FALSE POSITIVE</td>\n",
              "      <td>0.527699</td>\n",
              "    </tr>\n",
              "    <tr>\n",
              "      <th>9561</th>\n",
              "      <td>NaN</td>\n",
              "      <td>CANDIDATE</td>\n",
              "      <td>1.739849</td>\n",
              "    </tr>\n",
              "    <tr>\n",
              "      <th>9562</th>\n",
              "      <td>NaN</td>\n",
              "      <td>FALSE POSITIVE</td>\n",
              "      <td>0.681402</td>\n",
              "    </tr>\n",
              "    <tr>\n",
              "      <th>9563</th>\n",
              "      <td>NaN</td>\n",
              "      <td>FALSE POSITIVE</td>\n",
              "      <td>4.856035</td>\n",
              "    </tr>\n",
              "  </tbody>\n",
              "</table>\n",
              "<p>9564 rows × 3 columns</p>\n",
              "</div>"
            ],
            "text/plain": [
              "       kepler_name koi_disposition  koi_period\n",
              "0     Kepler-227 b       CONFIRMED    9.488036\n",
              "1     Kepler-227 c       CONFIRMED   54.418383\n",
              "2              NaN  FALSE POSITIVE   19.899140\n",
              "3              NaN  FALSE POSITIVE    1.736952\n",
              "4     Kepler-664 b       CONFIRMED    2.525592\n",
              "...            ...             ...         ...\n",
              "9559           NaN  FALSE POSITIVE    8.589871\n",
              "9560           NaN  FALSE POSITIVE    0.527699\n",
              "9561           NaN       CANDIDATE    1.739849\n",
              "9562           NaN  FALSE POSITIVE    0.681402\n",
              "9563           NaN  FALSE POSITIVE    4.856035\n",
              "\n",
              "[9564 rows x 3 columns]"
            ]
          },
          "metadata": {
            "tags": []
          },
          "execution_count": 32
        }
      ]
    },
    {
      "cell_type": "code",
      "metadata": {
        "colab": {
          "base_uri": "https://localhost:8080/"
        },
        "id": "s0bBTmBtW7T_",
        "outputId": "e759b652-008b-4018-b782-b3bb15e538f3"
      },
      "source": [
        "df4.shape"
      ],
      "execution_count": 33,
      "outputs": [
        {
          "output_type": "execute_result",
          "data": {
            "text/plain": [
              "(9564, 3)"
            ]
          },
          "metadata": {
            "tags": []
          },
          "execution_count": 33
        }
      ]
    },
    {
      "cell_type": "code",
      "metadata": {
        "id": "XAs2-4DP3qtE",
        "colab": {
          "base_uri": "https://localhost:8080/"
        },
        "outputId": "df8bdf8a-7bf9-44c2-bbcf-e2ce5d2d1ee8"
      },
      "source": [
        "df4.dtypes"
      ],
      "execution_count": 35,
      "outputs": [
        {
          "output_type": "execute_result",
          "data": {
            "text/plain": [
              "kepler_name         object\n",
              "koi_disposition     object\n",
              "koi_period         float64\n",
              "dtype: object"
            ]
          },
          "metadata": {
            "tags": []
          },
          "execution_count": 35
        }
      ]
    },
    {
      "cell_type": "code",
      "metadata": {
        "colab": {
          "base_uri": "https://localhost:8080/",
          "height": 294
        },
        "id": "7NgWafuA3rL2",
        "outputId": "ea6167be-2ee5-4a48-ab9f-82bc748465af"
      },
      "source": [
        "df4.describe()"
      ],
      "execution_count": 34,
      "outputs": [
        {
          "output_type": "execute_result",
          "data": {
            "text/html": [
              "<div>\n",
              "<style scoped>\n",
              "    .dataframe tbody tr th:only-of-type {\n",
              "        vertical-align: middle;\n",
              "    }\n",
              "\n",
              "    .dataframe tbody tr th {\n",
              "        vertical-align: top;\n",
              "    }\n",
              "\n",
              "    .dataframe thead th {\n",
              "        text-align: right;\n",
              "    }\n",
              "</style>\n",
              "<table border=\"1\" class=\"dataframe\">\n",
              "  <thead>\n",
              "    <tr style=\"text-align: right;\">\n",
              "      <th></th>\n",
              "      <th>koi_period</th>\n",
              "    </tr>\n",
              "  </thead>\n",
              "  <tbody>\n",
              "    <tr>\n",
              "      <th>count</th>\n",
              "      <td>9564.000000</td>\n",
              "    </tr>\n",
              "    <tr>\n",
              "      <th>mean</th>\n",
              "      <td>75.671358</td>\n",
              "    </tr>\n",
              "    <tr>\n",
              "      <th>std</th>\n",
              "      <td>1334.744046</td>\n",
              "    </tr>\n",
              "    <tr>\n",
              "      <th>min</th>\n",
              "      <td>0.241843</td>\n",
              "    </tr>\n",
              "    <tr>\n",
              "      <th>25%</th>\n",
              "      <td>2.733684</td>\n",
              "    </tr>\n",
              "    <tr>\n",
              "      <th>50%</th>\n",
              "      <td>9.752831</td>\n",
              "    </tr>\n",
              "    <tr>\n",
              "      <th>75%</th>\n",
              "      <td>40.715178</td>\n",
              "    </tr>\n",
              "    <tr>\n",
              "      <th>max</th>\n",
              "      <td>129995.778400</td>\n",
              "    </tr>\n",
              "  </tbody>\n",
              "</table>\n",
              "</div>"
            ],
            "text/plain": [
              "          koi_period\n",
              "count    9564.000000\n",
              "mean       75.671358\n",
              "std      1334.744046\n",
              "min         0.241843\n",
              "25%         2.733684\n",
              "50%         9.752831\n",
              "75%        40.715178\n",
              "max    129995.778400"
            ]
          },
          "metadata": {
            "tags": []
          },
          "execution_count": 34
        }
      ]
    },
    {
      "cell_type": "code",
      "metadata": {
        "colab": {
          "base_uri": "https://localhost:8080/"
        },
        "id": "6vAq7c7q4mvC",
        "outputId": "57cc8e29-7cd1-4301-9c68-cd4fd9227316"
      },
      "source": [
        "df4.info()"
      ],
      "execution_count": 36,
      "outputs": [
        {
          "output_type": "stream",
          "text": [
            "<class 'pandas.core.frame.DataFrame'>\n",
            "RangeIndex: 9564 entries, 0 to 9563\n",
            "Data columns (total 3 columns):\n",
            " #   Column           Non-Null Count  Dtype  \n",
            "---  ------           --------------  -----  \n",
            " 0   kepler_name      2294 non-null   object \n",
            " 1   koi_disposition  9564 non-null   object \n",
            " 2   koi_period       9564 non-null   float64\n",
            "dtypes: float64(1), object(2)\n",
            "memory usage: 224.3+ KB\n"
          ],
          "name": "stdout"
        }
      ]
    },
    {
      "cell_type": "code",
      "metadata": {
        "colab": {
          "base_uri": "https://localhost:8080/",
          "height": 415
        },
        "id": "THSZycRua8YZ",
        "outputId": "0575e594-0714-4776-a7b6-8bb351d2c317"
      },
      "source": [
        "df5=df4[df4.koi_disposition != 'CONFIRMED']\r\n",
        "\r\n",
        "df5"
      ],
      "execution_count": 37,
      "outputs": [
        {
          "output_type": "execute_result",
          "data": {
            "text/html": [
              "<div>\n",
              "<style scoped>\n",
              "    .dataframe tbody tr th:only-of-type {\n",
              "        vertical-align: middle;\n",
              "    }\n",
              "\n",
              "    .dataframe tbody tr th {\n",
              "        vertical-align: top;\n",
              "    }\n",
              "\n",
              "    .dataframe thead th {\n",
              "        text-align: right;\n",
              "    }\n",
              "</style>\n",
              "<table border=\"1\" class=\"dataframe\">\n",
              "  <thead>\n",
              "    <tr style=\"text-align: right;\">\n",
              "      <th></th>\n",
              "      <th>kepler_name</th>\n",
              "      <th>koi_disposition</th>\n",
              "      <th>koi_period</th>\n",
              "    </tr>\n",
              "  </thead>\n",
              "  <tbody>\n",
              "    <tr>\n",
              "      <th>2</th>\n",
              "      <td>NaN</td>\n",
              "      <td>FALSE POSITIVE</td>\n",
              "      <td>19.899140</td>\n",
              "    </tr>\n",
              "    <tr>\n",
              "      <th>3</th>\n",
              "      <td>NaN</td>\n",
              "      <td>FALSE POSITIVE</td>\n",
              "      <td>1.736952</td>\n",
              "    </tr>\n",
              "    <tr>\n",
              "      <th>8</th>\n",
              "      <td>NaN</td>\n",
              "      <td>FALSE POSITIVE</td>\n",
              "      <td>7.361790</td>\n",
              "    </tr>\n",
              "    <tr>\n",
              "      <th>14</th>\n",
              "      <td>NaN</td>\n",
              "      <td>FALSE POSITIVE</td>\n",
              "      <td>11.521446</td>\n",
              "    </tr>\n",
              "    <tr>\n",
              "      <th>15</th>\n",
              "      <td>NaN</td>\n",
              "      <td>FALSE POSITIVE</td>\n",
              "      <td>19.403938</td>\n",
              "    </tr>\n",
              "    <tr>\n",
              "      <th>...</th>\n",
              "      <td>...</td>\n",
              "      <td>...</td>\n",
              "      <td>...</td>\n",
              "    </tr>\n",
              "    <tr>\n",
              "      <th>9559</th>\n",
              "      <td>NaN</td>\n",
              "      <td>FALSE POSITIVE</td>\n",
              "      <td>8.589871</td>\n",
              "    </tr>\n",
              "    <tr>\n",
              "      <th>9560</th>\n",
              "      <td>NaN</td>\n",
              "      <td>FALSE POSITIVE</td>\n",
              "      <td>0.527699</td>\n",
              "    </tr>\n",
              "    <tr>\n",
              "      <th>9561</th>\n",
              "      <td>NaN</td>\n",
              "      <td>CANDIDATE</td>\n",
              "      <td>1.739849</td>\n",
              "    </tr>\n",
              "    <tr>\n",
              "      <th>9562</th>\n",
              "      <td>NaN</td>\n",
              "      <td>FALSE POSITIVE</td>\n",
              "      <td>0.681402</td>\n",
              "    </tr>\n",
              "    <tr>\n",
              "      <th>9563</th>\n",
              "      <td>NaN</td>\n",
              "      <td>FALSE POSITIVE</td>\n",
              "      <td>4.856035</td>\n",
              "    </tr>\n",
              "  </tbody>\n",
              "</table>\n",
              "<p>7271 rows × 3 columns</p>\n",
              "</div>"
            ],
            "text/plain": [
              "     kepler_name koi_disposition  koi_period\n",
              "2            NaN  FALSE POSITIVE   19.899140\n",
              "3            NaN  FALSE POSITIVE    1.736952\n",
              "8            NaN  FALSE POSITIVE    7.361790\n",
              "14           NaN  FALSE POSITIVE   11.521446\n",
              "15           NaN  FALSE POSITIVE   19.403938\n",
              "...          ...             ...         ...\n",
              "9559         NaN  FALSE POSITIVE    8.589871\n",
              "9560         NaN  FALSE POSITIVE    0.527699\n",
              "9561         NaN       CANDIDATE    1.739849\n",
              "9562         NaN  FALSE POSITIVE    0.681402\n",
              "9563         NaN  FALSE POSITIVE    4.856035\n",
              "\n",
              "[7271 rows x 3 columns]"
            ]
          },
          "metadata": {
            "tags": []
          },
          "execution_count": 37
        }
      ]
    },
    {
      "cell_type": "code",
      "metadata": {
        "colab": {
          "base_uri": "https://localhost:8080/",
          "height": 415
        },
        "id": "ZpuS-g2pf5kF",
        "outputId": "fa69ec25-d08a-4173-9223-5e726245224c"
      },
      "source": [
        "df5=df5.drop(columns=['kepler_name','koi_disposition'])\r\n",
        "\r\n",
        "df5"
      ],
      "execution_count": 38,
      "outputs": [
        {
          "output_type": "execute_result",
          "data": {
            "text/html": [
              "<div>\n",
              "<style scoped>\n",
              "    .dataframe tbody tr th:only-of-type {\n",
              "        vertical-align: middle;\n",
              "    }\n",
              "\n",
              "    .dataframe tbody tr th {\n",
              "        vertical-align: top;\n",
              "    }\n",
              "\n",
              "    .dataframe thead th {\n",
              "        text-align: right;\n",
              "    }\n",
              "</style>\n",
              "<table border=\"1\" class=\"dataframe\">\n",
              "  <thead>\n",
              "    <tr style=\"text-align: right;\">\n",
              "      <th></th>\n",
              "      <th>koi_period</th>\n",
              "    </tr>\n",
              "  </thead>\n",
              "  <tbody>\n",
              "    <tr>\n",
              "      <th>2</th>\n",
              "      <td>19.899140</td>\n",
              "    </tr>\n",
              "    <tr>\n",
              "      <th>3</th>\n",
              "      <td>1.736952</td>\n",
              "    </tr>\n",
              "    <tr>\n",
              "      <th>8</th>\n",
              "      <td>7.361790</td>\n",
              "    </tr>\n",
              "    <tr>\n",
              "      <th>14</th>\n",
              "      <td>11.521446</td>\n",
              "    </tr>\n",
              "    <tr>\n",
              "      <th>15</th>\n",
              "      <td>19.403938</td>\n",
              "    </tr>\n",
              "    <tr>\n",
              "      <th>...</th>\n",
              "      <td>...</td>\n",
              "    </tr>\n",
              "    <tr>\n",
              "      <th>9559</th>\n",
              "      <td>8.589871</td>\n",
              "    </tr>\n",
              "    <tr>\n",
              "      <th>9560</th>\n",
              "      <td>0.527699</td>\n",
              "    </tr>\n",
              "    <tr>\n",
              "      <th>9561</th>\n",
              "      <td>1.739849</td>\n",
              "    </tr>\n",
              "    <tr>\n",
              "      <th>9562</th>\n",
              "      <td>0.681402</td>\n",
              "    </tr>\n",
              "    <tr>\n",
              "      <th>9563</th>\n",
              "      <td>4.856035</td>\n",
              "    </tr>\n",
              "  </tbody>\n",
              "</table>\n",
              "<p>7271 rows × 1 columns</p>\n",
              "</div>"
            ],
            "text/plain": [
              "      koi_period\n",
              "2      19.899140\n",
              "3       1.736952\n",
              "8       7.361790\n",
              "14     11.521446\n",
              "15     19.403938\n",
              "...          ...\n",
              "9559    8.589871\n",
              "9560    0.527699\n",
              "9561    1.739849\n",
              "9562    0.681402\n",
              "9563    4.856035\n",
              "\n",
              "[7271 rows x 1 columns]"
            ]
          },
          "metadata": {
            "tags": []
          },
          "execution_count": 38
        }
      ]
    },
    {
      "cell_type": "code",
      "metadata": {
        "colab": {
          "base_uri": "https://localhost:8080/",
          "height": 415
        },
        "id": "78aRlFH2gNHE",
        "outputId": "f8087e70-d0d7-4538-e1e2-cd33906c6e4c"
      },
      "source": [
        "df5=df5.reset_index(drop=True)\r\n",
        "df5"
      ],
      "execution_count": 39,
      "outputs": [
        {
          "output_type": "execute_result",
          "data": {
            "text/html": [
              "<div>\n",
              "<style scoped>\n",
              "    .dataframe tbody tr th:only-of-type {\n",
              "        vertical-align: middle;\n",
              "    }\n",
              "\n",
              "    .dataframe tbody tr th {\n",
              "        vertical-align: top;\n",
              "    }\n",
              "\n",
              "    .dataframe thead th {\n",
              "        text-align: right;\n",
              "    }\n",
              "</style>\n",
              "<table border=\"1\" class=\"dataframe\">\n",
              "  <thead>\n",
              "    <tr style=\"text-align: right;\">\n",
              "      <th></th>\n",
              "      <th>koi_period</th>\n",
              "    </tr>\n",
              "  </thead>\n",
              "  <tbody>\n",
              "    <tr>\n",
              "      <th>0</th>\n",
              "      <td>19.899140</td>\n",
              "    </tr>\n",
              "    <tr>\n",
              "      <th>1</th>\n",
              "      <td>1.736952</td>\n",
              "    </tr>\n",
              "    <tr>\n",
              "      <th>2</th>\n",
              "      <td>7.361790</td>\n",
              "    </tr>\n",
              "    <tr>\n",
              "      <th>3</th>\n",
              "      <td>11.521446</td>\n",
              "    </tr>\n",
              "    <tr>\n",
              "      <th>4</th>\n",
              "      <td>19.403938</td>\n",
              "    </tr>\n",
              "    <tr>\n",
              "      <th>...</th>\n",
              "      <td>...</td>\n",
              "    </tr>\n",
              "    <tr>\n",
              "      <th>7266</th>\n",
              "      <td>8.589871</td>\n",
              "    </tr>\n",
              "    <tr>\n",
              "      <th>7267</th>\n",
              "      <td>0.527699</td>\n",
              "    </tr>\n",
              "    <tr>\n",
              "      <th>7268</th>\n",
              "      <td>1.739849</td>\n",
              "    </tr>\n",
              "    <tr>\n",
              "      <th>7269</th>\n",
              "      <td>0.681402</td>\n",
              "    </tr>\n",
              "    <tr>\n",
              "      <th>7270</th>\n",
              "      <td>4.856035</td>\n",
              "    </tr>\n",
              "  </tbody>\n",
              "</table>\n",
              "<p>7271 rows × 1 columns</p>\n",
              "</div>"
            ],
            "text/plain": [
              "      koi_period\n",
              "0      19.899140\n",
              "1       1.736952\n",
              "2       7.361790\n",
              "3      11.521446\n",
              "4      19.403938\n",
              "...          ...\n",
              "7266    8.589871\n",
              "7267    0.527699\n",
              "7268    1.739849\n",
              "7269    0.681402\n",
              "7270    4.856035\n",
              "\n",
              "[7271 rows x 1 columns]"
            ]
          },
          "metadata": {
            "tags": []
          },
          "execution_count": 39
        }
      ]
    },
    {
      "cell_type": "code",
      "metadata": {
        "colab": {
          "base_uri": "https://localhost:8080/"
        },
        "id": "d0q1ODqvoddW",
        "outputId": "02a04871-5e65-45f5-bad6-5d2d187e9fa2"
      },
      "source": [
        "df5.info"
      ],
      "execution_count": 40,
      "outputs": [
        {
          "output_type": "execute_result",
          "data": {
            "text/plain": [
              "<bound method DataFrame.info of       koi_period\n",
              "0      19.899140\n",
              "1       1.736952\n",
              "2       7.361790\n",
              "3      11.521446\n",
              "4      19.403938\n",
              "...          ...\n",
              "7266    8.589871\n",
              "7267    0.527699\n",
              "7268    1.739849\n",
              "7269    0.681402\n",
              "7270    4.856035\n",
              "\n",
              "[7271 rows x 1 columns]>"
            ]
          },
          "metadata": {
            "tags": []
          },
          "execution_count": 40
        }
      ]
    },
    {
      "cell_type": "code",
      "metadata": {
        "colab": {
          "base_uri": "https://localhost:8080/",
          "height": 294
        },
        "id": "UzsjLe7ooxj8",
        "outputId": "7d223a97-63ad-40bd-984d-0f757bdbe29a"
      },
      "source": [
        "df5.describe()"
      ],
      "execution_count": 41,
      "outputs": [
        {
          "output_type": "execute_result",
          "data": {
            "text/html": [
              "<div>\n",
              "<style scoped>\n",
              "    .dataframe tbody tr th:only-of-type {\n",
              "        vertical-align: middle;\n",
              "    }\n",
              "\n",
              "    .dataframe tbody tr th {\n",
              "        vertical-align: top;\n",
              "    }\n",
              "\n",
              "    .dataframe thead th {\n",
              "        text-align: right;\n",
              "    }\n",
              "</style>\n",
              "<table border=\"1\" class=\"dataframe\">\n",
              "  <thead>\n",
              "    <tr style=\"text-align: right;\">\n",
              "      <th></th>\n",
              "      <th>koi_period</th>\n",
              "    </tr>\n",
              "  </thead>\n",
              "  <tbody>\n",
              "    <tr>\n",
              "      <th>count</th>\n",
              "      <td>7271.000000</td>\n",
              "    </tr>\n",
              "    <tr>\n",
              "      <th>mean</th>\n",
              "      <td>91.000541</td>\n",
              "    </tr>\n",
              "    <tr>\n",
              "      <th>std</th>\n",
              "      <td>1530.212405</td>\n",
              "    </tr>\n",
              "    <tr>\n",
              "      <th>min</th>\n",
              "      <td>0.241843</td>\n",
              "    </tr>\n",
              "    <tr>\n",
              "      <th>25%</th>\n",
              "      <td>2.151300</td>\n",
              "    </tr>\n",
              "    <tr>\n",
              "      <th>50%</th>\n",
              "      <td>8.780604</td>\n",
              "    </tr>\n",
              "    <tr>\n",
              "      <th>75%</th>\n",
              "      <td>53.987056</td>\n",
              "    </tr>\n",
              "    <tr>\n",
              "      <th>max</th>\n",
              "      <td>129995.778400</td>\n",
              "    </tr>\n",
              "  </tbody>\n",
              "</table>\n",
              "</div>"
            ],
            "text/plain": [
              "          koi_period\n",
              "count    7271.000000\n",
              "mean       91.000541\n",
              "std      1530.212405\n",
              "min         0.241843\n",
              "25%         2.151300\n",
              "50%         8.780604\n",
              "75%        53.987056\n",
              "max    129995.778400"
            ]
          },
          "metadata": {
            "tags": []
          },
          "execution_count": 41
        }
      ]
    },
    {
      "cell_type": "code",
      "metadata": {
        "colab": {
          "base_uri": "https://localhost:8080/",
          "height": 415
        },
        "id": "Mzeg97JCg4Gz",
        "outputId": "c6042d91-f613-4429-f4ce-cb8c1e3158df"
      },
      "source": [
        "df6=df2.drop(columns=['pl_name',\t'pl_bmassj'])\r\n",
        "\r\n",
        "df6"
      ],
      "execution_count": 42,
      "outputs": [
        {
          "output_type": "execute_result",
          "data": {
            "text/html": [
              "<div>\n",
              "<style scoped>\n",
              "    .dataframe tbody tr th:only-of-type {\n",
              "        vertical-align: middle;\n",
              "    }\n",
              "\n",
              "    .dataframe tbody tr th {\n",
              "        vertical-align: top;\n",
              "    }\n",
              "\n",
              "    .dataframe thead th {\n",
              "        text-align: right;\n",
              "    }\n",
              "</style>\n",
              "<table border=\"1\" class=\"dataframe\">\n",
              "  <thead>\n",
              "    <tr style=\"text-align: right;\">\n",
              "      <th></th>\n",
              "      <th>pl_orbper</th>\n",
              "    </tr>\n",
              "  </thead>\n",
              "  <tbody>\n",
              "    <tr>\n",
              "      <th>0</th>\n",
              "      <td>410.100010</td>\n",
              "    </tr>\n",
              "    <tr>\n",
              "      <th>1</th>\n",
              "      <td>110.900000</td>\n",
              "    </tr>\n",
              "    <tr>\n",
              "      <th>2</th>\n",
              "      <td>71.484000</td>\n",
              "    </tr>\n",
              "    <tr>\n",
              "      <th>3</th>\n",
              "      <td>14.479000</td>\n",
              "    </tr>\n",
              "    <tr>\n",
              "      <th>4</th>\n",
              "      <td>3.092514</td>\n",
              "    </tr>\n",
              "    <tr>\n",
              "      <th>...</th>\n",
              "      <td>...</td>\n",
              "    </tr>\n",
              "    <tr>\n",
              "      <th>4319</th>\n",
              "      <td>3.585990</td>\n",
              "    </tr>\n",
              "    <tr>\n",
              "      <th>4320</th>\n",
              "      <td>5.972930</td>\n",
              "    </tr>\n",
              "    <tr>\n",
              "      <th>4321</th>\n",
              "      <td>11.230000</td>\n",
              "    </tr>\n",
              "    <tr>\n",
              "      <th>4322</th>\n",
              "      <td>4.004980</td>\n",
              "    </tr>\n",
              "    <tr>\n",
              "      <th>4323</th>\n",
              "      <td>203.590000</td>\n",
              "    </tr>\n",
              "  </tbody>\n",
              "</table>\n",
              "<p>4324 rows × 1 columns</p>\n",
              "</div>"
            ],
            "text/plain": [
              "       pl_orbper\n",
              "0     410.100010\n",
              "1     110.900000\n",
              "2      71.484000\n",
              "3      14.479000\n",
              "4       3.092514\n",
              "...          ...\n",
              "4319    3.585990\n",
              "4320    5.972930\n",
              "4321   11.230000\n",
              "4322    4.004980\n",
              "4323  203.590000\n",
              "\n",
              "[4324 rows x 1 columns]"
            ]
          },
          "metadata": {
            "tags": []
          },
          "execution_count": 42
        }
      ]
    },
    {
      "cell_type": "code",
      "metadata": {
        "colab": {
          "base_uri": "https://localhost:8080/",
          "height": 415
        },
        "id": "sMqfT20Nl-Mn",
        "outputId": "085f291c-4a3b-416f-b6ac-b9d2e2a1de77"
      },
      "source": [
        "df9=df6.reindex(df6.index.tolist() + list(range(2947)))\r\n",
        "df9"
      ],
      "execution_count": 45,
      "outputs": [
        {
          "output_type": "execute_result",
          "data": {
            "text/html": [
              "<div>\n",
              "<style scoped>\n",
              "    .dataframe tbody tr th:only-of-type {\n",
              "        vertical-align: middle;\n",
              "    }\n",
              "\n",
              "    .dataframe tbody tr th {\n",
              "        vertical-align: top;\n",
              "    }\n",
              "\n",
              "    .dataframe thead th {\n",
              "        text-align: right;\n",
              "    }\n",
              "</style>\n",
              "<table border=\"1\" class=\"dataframe\">\n",
              "  <thead>\n",
              "    <tr style=\"text-align: right;\">\n",
              "      <th></th>\n",
              "      <th>pl_orbper</th>\n",
              "    </tr>\n",
              "  </thead>\n",
              "  <tbody>\n",
              "    <tr>\n",
              "      <th>0</th>\n",
              "      <td>4.101000e+02</td>\n",
              "    </tr>\n",
              "    <tr>\n",
              "      <th>1</th>\n",
              "      <td>1.109000e+02</td>\n",
              "    </tr>\n",
              "    <tr>\n",
              "      <th>2</th>\n",
              "      <td>7.148400e+01</td>\n",
              "    </tr>\n",
              "    <tr>\n",
              "      <th>3</th>\n",
              "      <td>1.447900e+01</td>\n",
              "    </tr>\n",
              "    <tr>\n",
              "      <th>4</th>\n",
              "      <td>3.092514e+00</td>\n",
              "    </tr>\n",
              "    <tr>\n",
              "      <th>...</th>\n",
              "      <td>...</td>\n",
              "    </tr>\n",
              "    <tr>\n",
              "      <th>2942</th>\n",
              "      <td>1.689868e+00</td>\n",
              "    </tr>\n",
              "    <tr>\n",
              "      <th>2943</th>\n",
              "      <td>3.979100e+00</td>\n",
              "    </tr>\n",
              "    <tr>\n",
              "      <th>2944</th>\n",
              "      <td>3.677240e+00</td>\n",
              "    </tr>\n",
              "    <tr>\n",
              "      <th>2945</th>\n",
              "      <td>7.300000e+06</td>\n",
              "    </tr>\n",
              "    <tr>\n",
              "      <th>2946</th>\n",
              "      <td>3.160630e+00</td>\n",
              "    </tr>\n",
              "  </tbody>\n",
              "</table>\n",
              "<p>7271 rows × 1 columns</p>\n",
              "</div>"
            ],
            "text/plain": [
              "         pl_orbper\n",
              "0     4.101000e+02\n",
              "1     1.109000e+02\n",
              "2     7.148400e+01\n",
              "3     1.447900e+01\n",
              "4     3.092514e+00\n",
              "...            ...\n",
              "2942  1.689868e+00\n",
              "2943  3.979100e+00\n",
              "2944  3.677240e+00\n",
              "2945  7.300000e+06\n",
              "2946  3.160630e+00\n",
              "\n",
              "[7271 rows x 1 columns]"
            ]
          },
          "metadata": {
            "tags": []
          },
          "execution_count": 45
        }
      ]
    },
    {
      "cell_type": "code",
      "metadata": {
        "colab": {
          "base_uri": "https://localhost:8080/"
        },
        "id": "oD-T7oFtnfwu",
        "outputId": "85cc2f8e-ec59-41cc-b641-2f6b052d1b80"
      },
      "source": [
        "df9.isnull().value_counts()"
      ],
      "execution_count": 46,
      "outputs": [
        {
          "output_type": "execute_result",
          "data": {
            "text/plain": [
              "pl_orbper\n",
              "False        7271\n",
              "dtype: int64"
            ]
          },
          "metadata": {
            "tags": []
          },
          "execution_count": 46
        }
      ]
    },
    {
      "cell_type": "code",
      "metadata": {
        "colab": {
          "base_uri": "https://localhost:8080/",
          "height": 415
        },
        "id": "0It9tDVxl9fz",
        "outputId": "51492a47-0bcb-4093-b8e0-f790cfb4904b"
      },
      "source": [
        "from sklearn.utils import shuffle\r\n",
        "df9 = shuffle(df9)\r\n",
        "df9"
      ],
      "execution_count": 47,
      "outputs": [
        {
          "output_type": "execute_result",
          "data": {
            "text/html": [
              "<div>\n",
              "<style scoped>\n",
              "    .dataframe tbody tr th:only-of-type {\n",
              "        vertical-align: middle;\n",
              "    }\n",
              "\n",
              "    .dataframe tbody tr th {\n",
              "        vertical-align: top;\n",
              "    }\n",
              "\n",
              "    .dataframe thead th {\n",
              "        text-align: right;\n",
              "    }\n",
              "</style>\n",
              "<table border=\"1\" class=\"dataframe\">\n",
              "  <thead>\n",
              "    <tr style=\"text-align: right;\">\n",
              "      <th></th>\n",
              "      <th>pl_orbper</th>\n",
              "    </tr>\n",
              "  </thead>\n",
              "  <tbody>\n",
              "    <tr>\n",
              "      <th>3230</th>\n",
              "      <td>3.577469</td>\n",
              "    </tr>\n",
              "    <tr>\n",
              "      <th>2246</th>\n",
              "      <td>52.758756</td>\n",
              "    </tr>\n",
              "    <tr>\n",
              "      <th>3343</th>\n",
              "      <td>15.368459</td>\n",
              "    </tr>\n",
              "    <tr>\n",
              "      <th>394</th>\n",
              "      <td>123.010000</td>\n",
              "    </tr>\n",
              "    <tr>\n",
              "      <th>2145</th>\n",
              "      <td>14.034915</td>\n",
              "    </tr>\n",
              "    <tr>\n",
              "      <th>...</th>\n",
              "      <td>...</td>\n",
              "    </tr>\n",
              "    <tr>\n",
              "      <th>1351</th>\n",
              "      <td>2.131947</td>\n",
              "    </tr>\n",
              "    <tr>\n",
              "      <th>868</th>\n",
              "      <td>9.376470</td>\n",
              "    </tr>\n",
              "    <tr>\n",
              "      <th>2044</th>\n",
              "      <td>18.302725</td>\n",
              "    </tr>\n",
              "    <tr>\n",
              "      <th>832</th>\n",
              "      <td>10.222157</td>\n",
              "    </tr>\n",
              "    <tr>\n",
              "      <th>475</th>\n",
              "      <td>8.180848</td>\n",
              "    </tr>\n",
              "  </tbody>\n",
              "</table>\n",
              "<p>7271 rows × 1 columns</p>\n",
              "</div>"
            ],
            "text/plain": [
              "       pl_orbper\n",
              "3230    3.577469\n",
              "2246   52.758756\n",
              "3343   15.368459\n",
              "394   123.010000\n",
              "2145   14.034915\n",
              "...          ...\n",
              "1351    2.131947\n",
              "868     9.376470\n",
              "2044   18.302725\n",
              "832    10.222157\n",
              "475     8.180848\n",
              "\n",
              "[7271 rows x 1 columns]"
            ]
          },
          "metadata": {
            "tags": []
          },
          "execution_count": 47
        }
      ]
    },
    {
      "cell_type": "code",
      "metadata": {
        "colab": {
          "base_uri": "https://localhost:8080/",
          "height": 415
        },
        "id": "_vemN6t30RpH",
        "outputId": "c1bb53b5-75e1-4571-bb5f-ab45072bfc50"
      },
      "source": [
        "df9=df9.reset_index(drop=True)\r\n",
        "df9"
      ],
      "execution_count": 48,
      "outputs": [
        {
          "output_type": "execute_result",
          "data": {
            "text/html": [
              "<div>\n",
              "<style scoped>\n",
              "    .dataframe tbody tr th:only-of-type {\n",
              "        vertical-align: middle;\n",
              "    }\n",
              "\n",
              "    .dataframe tbody tr th {\n",
              "        vertical-align: top;\n",
              "    }\n",
              "\n",
              "    .dataframe thead th {\n",
              "        text-align: right;\n",
              "    }\n",
              "</style>\n",
              "<table border=\"1\" class=\"dataframe\">\n",
              "  <thead>\n",
              "    <tr style=\"text-align: right;\">\n",
              "      <th></th>\n",
              "      <th>pl_orbper</th>\n",
              "    </tr>\n",
              "  </thead>\n",
              "  <tbody>\n",
              "    <tr>\n",
              "      <th>0</th>\n",
              "      <td>3.577469</td>\n",
              "    </tr>\n",
              "    <tr>\n",
              "      <th>1</th>\n",
              "      <td>52.758756</td>\n",
              "    </tr>\n",
              "    <tr>\n",
              "      <th>2</th>\n",
              "      <td>15.368459</td>\n",
              "    </tr>\n",
              "    <tr>\n",
              "      <th>3</th>\n",
              "      <td>123.010000</td>\n",
              "    </tr>\n",
              "    <tr>\n",
              "      <th>4</th>\n",
              "      <td>14.034915</td>\n",
              "    </tr>\n",
              "    <tr>\n",
              "      <th>...</th>\n",
              "      <td>...</td>\n",
              "    </tr>\n",
              "    <tr>\n",
              "      <th>7266</th>\n",
              "      <td>2.131947</td>\n",
              "    </tr>\n",
              "    <tr>\n",
              "      <th>7267</th>\n",
              "      <td>9.376470</td>\n",
              "    </tr>\n",
              "    <tr>\n",
              "      <th>7268</th>\n",
              "      <td>18.302725</td>\n",
              "    </tr>\n",
              "    <tr>\n",
              "      <th>7269</th>\n",
              "      <td>10.222157</td>\n",
              "    </tr>\n",
              "    <tr>\n",
              "      <th>7270</th>\n",
              "      <td>8.180848</td>\n",
              "    </tr>\n",
              "  </tbody>\n",
              "</table>\n",
              "<p>7271 rows × 1 columns</p>\n",
              "</div>"
            ],
            "text/plain": [
              "       pl_orbper\n",
              "0       3.577469\n",
              "1      52.758756\n",
              "2      15.368459\n",
              "3     123.010000\n",
              "4      14.034915\n",
              "...          ...\n",
              "7266    2.131947\n",
              "7267    9.376470\n",
              "7268   18.302725\n",
              "7269   10.222157\n",
              "7270    8.180848\n",
              "\n",
              "[7271 rows x 1 columns]"
            ]
          },
          "metadata": {
            "tags": []
          },
          "execution_count": 48
        }
      ]
    },
    {
      "cell_type": "code",
      "metadata": {
        "colab": {
          "base_uri": "https://localhost:8080/",
          "height": 295
        },
        "id": "A-BftXk94SVZ",
        "outputId": "3999abf2-7216-4d8e-da64-5f80fa8c9cd1"
      },
      "source": [
        "df9.boxplot()"
      ],
      "execution_count": 49,
      "outputs": [
        {
          "output_type": "execute_result",
          "data": {
            "text/plain": [
              "<matplotlib.axes._subplots.AxesSubplot at 0x7fd3f0d90c18>"
            ]
          },
          "metadata": {
            "tags": []
          },
          "execution_count": 49
        },
        {
          "output_type": "display_data",
          "data": {
            "image/png": "[encoded data removed]",
            "text/plain": [
              "<Figure size 432x288 with 1 Axes>"
            ]
          },
          "metadata": {
            "tags": [],
            "needs_background": "light"
          }
        }
      ]
    },
    {
      "cell_type": "code",
      "metadata": {
        "colab": {
          "base_uri": "https://localhost:8080/",
          "height": 329
        },
        "id": "M1m4v8K07ZgU",
        "outputId": "57dd18d8-08eb-4a1a-8b29-ca366e2d9379"
      },
      "source": [
        "df9.hist()"
      ],
      "execution_count": 50,
      "outputs": [
        {
          "output_type": "execute_result",
          "data": {
            "text/plain": [
              "array([[<matplotlib.axes._subplots.AxesSubplot object at 0x7fd3f0b01668>]],\n",
              "      dtype=object)"
            ]
          },
          "metadata": {
            "tags": []
          },
          "execution_count": 50
        },
        {
          "output_type": "display_data",
          "data": {
            "image/png": "[encoded data removed]",
            "text/plain": [
              "<Figure size 432x288 with 1 Axes>"
            ]
          },
          "metadata": {
            "tags": [],
            "needs_background": "light"
          }
        }
      ]
    },
    {
      "cell_type": "code",
      "metadata": {
        "colab": {
          "base_uri": "https://localhost:8080/"
        },
        "id": "SDBdbqoO9I9I",
        "outputId": "2e928aa7-a6fc-4179-fdaa-7ad8b3de975c"
      },
      "source": [
        "df9.max()"
      ],
      "execution_count": 51,
      "outputs": [
        {
          "output_type": "execute_result",
          "data": {
            "text/plain": [
              "pl_orbper    7300000.0\n",
              "dtype: float64"
            ]
          },
          "metadata": {
            "tags": []
          },
          "execution_count": 51
        }
      ]
    },
    {
      "cell_type": "code",
      "metadata": {
        "colab": {
          "base_uri": "https://localhost:8080/",
          "height": 415
        },
        "id": "nOVoRhQN9Wge",
        "outputId": "e0721c29-b33b-4128-db6c-35c9726c9e55"
      },
      "source": [
        "df10 = df9[df9.pl_orbper <= 7300000.0]\r\n",
        "df10"
      ],
      "execution_count": 52,
      "outputs": [
        {
          "output_type": "execute_result",
          "data": {
            "text/html": [
              "<div>\n",
              "<style scoped>\n",
              "    .dataframe tbody tr th:only-of-type {\n",
              "        vertical-align: middle;\n",
              "    }\n",
              "\n",
              "    .dataframe tbody tr th {\n",
              "        vertical-align: top;\n",
              "    }\n",
              "\n",
              "    .dataframe thead th {\n",
              "        text-align: right;\n",
              "    }\n",
              "</style>\n",
              "<table border=\"1\" class=\"dataframe\">\n",
              "  <thead>\n",
              "    <tr style=\"text-align: right;\">\n",
              "      <th></th>\n",
              "      <th>pl_orbper</th>\n",
              "    </tr>\n",
              "  </thead>\n",
              "  <tbody>\n",
              "    <tr>\n",
              "      <th>0</th>\n",
              "      <td>3.577469</td>\n",
              "    </tr>\n",
              "    <tr>\n",
              "      <th>1</th>\n",
              "      <td>52.758756</td>\n",
              "    </tr>\n",
              "    <tr>\n",
              "      <th>2</th>\n",
              "      <td>15.368459</td>\n",
              "    </tr>\n",
              "    <tr>\n",
              "      <th>3</th>\n",
              "      <td>123.010000</td>\n",
              "    </tr>\n",
              "    <tr>\n",
              "      <th>4</th>\n",
              "      <td>14.034915</td>\n",
              "    </tr>\n",
              "    <tr>\n",
              "      <th>...</th>\n",
              "      <td>...</td>\n",
              "    </tr>\n",
              "    <tr>\n",
              "      <th>7266</th>\n",
              "      <td>2.131947</td>\n",
              "    </tr>\n",
              "    <tr>\n",
              "      <th>7267</th>\n",
              "      <td>9.376470</td>\n",
              "    </tr>\n",
              "    <tr>\n",
              "      <th>7268</th>\n",
              "      <td>18.302725</td>\n",
              "    </tr>\n",
              "    <tr>\n",
              "      <th>7269</th>\n",
              "      <td>10.222157</td>\n",
              "    </tr>\n",
              "    <tr>\n",
              "      <th>7270</th>\n",
              "      <td>8.180848</td>\n",
              "    </tr>\n",
              "  </tbody>\n",
              "</table>\n",
              "<p>7271 rows × 1 columns</p>\n",
              "</div>"
            ],
            "text/plain": [
              "       pl_orbper\n",
              "0       3.577469\n",
              "1      52.758756\n",
              "2      15.368459\n",
              "3     123.010000\n",
              "4      14.034915\n",
              "...          ...\n",
              "7266    2.131947\n",
              "7267    9.376470\n",
              "7268   18.302725\n",
              "7269   10.222157\n",
              "7270    8.180848\n",
              "\n",
              "[7271 rows x 1 columns]"
            ]
          },
          "metadata": {
            "tags": []
          },
          "execution_count": 52
        }
      ]
    },
    {
      "cell_type": "code",
      "metadata": {
        "colab": {
          "base_uri": "https://localhost:8080/",
          "height": 329
        },
        "id": "5ZItDtdpB3yL",
        "outputId": "11971bf3-a6e6-4ffb-a937-7c9aa52145b5"
      },
      "source": [
        "df10.hist()"
      ],
      "execution_count": 53,
      "outputs": [
        {
          "output_type": "execute_result",
          "data": {
            "text/plain": [
              "array([[<matplotlib.axes._subplots.AxesSubplot object at 0x7fd3f0a13ba8>]],\n",
              "      dtype=object)"
            ]
          },
          "metadata": {
            "tags": []
          },
          "execution_count": 53
        },
        {
          "output_type": "display_data",
          "data": {
            "image/png": "[encoded data removed]",
            "text/plain": [
              "<Figure size 432x288 with 1 Axes>"
            ]
          },
          "metadata": {
            "tags": [],
            "needs_background": "light"
          }
        }
      ]
    },
    {
      "cell_type": "code",
      "metadata": {
        "colab": {
          "base_uri": "https://localhost:8080/",
          "height": 283
        },
        "id": "ZepSnXiK4eHO",
        "outputId": "4c81a04f-6592-47da-cb50-96e6d6f2b0ca"
      },
      "source": [
        "df5.boxplot()"
      ],
      "execution_count": 54,
      "outputs": [
        {
          "output_type": "execute_result",
          "data": {
            "text/plain": [
              "<matplotlib.axes._subplots.AxesSubplot at 0x7fd3f099dda0>"
            ]
          },
          "metadata": {
            "tags": []
          },
          "execution_count": 54
        },
        {
          "output_type": "display_data",
          "data": {
            "image/png": "[encoded data removed]",
            "text/plain": [
              "<Figure size 432x288 with 1 Axes>"
            ]
          },
          "metadata": {
            "tags": [],
            "needs_background": "light"
          }
        }
      ]
    },
    {
      "cell_type": "code",
      "metadata": {
        "colab": {
          "base_uri": "https://localhost:8080/",
          "height": 316
        },
        "id": "uQp9thlU8Y5z",
        "outputId": "99273870-3cb7-4f95-f22c-29a2706ab549"
      },
      "source": [
        "df5.hist()"
      ],
      "execution_count": 55,
      "outputs": [
        {
          "output_type": "execute_result",
          "data": {
            "text/plain": [
              "array([[<matplotlib.axes._subplots.AxesSubplot object at 0x7fd3f0985978>]],\n",
              "      dtype=object)"
            ]
          },
          "metadata": {
            "tags": []
          },
          "execution_count": 55
        },
        {
          "output_type": "display_data",
          "data": {
            "image/png": "[encoded data removed]",
            "text/plain": [
              "<Figure size 432x288 with 1 Axes>"
            ]
          },
          "metadata": {
            "tags": [],
            "needs_background": "light"
          }
        }
      ]
    },
    {
      "cell_type": "code",
      "metadata": {
        "colab": {
          "base_uri": "https://localhost:8080/"
        },
        "id": "0rSPxJiK-PQl",
        "outputId": "e2fdae46-4f1c-4f8d-d293-bb1fef45ca79"
      },
      "source": [
        "df5.max()"
      ],
      "execution_count": 56,
      "outputs": [
        {
          "output_type": "execute_result",
          "data": {
            "text/plain": [
              "koi_period    129995.7784\n",
              "dtype: float64"
            ]
          },
          "metadata": {
            "tags": []
          },
          "execution_count": 56
        }
      ]
    },
    {
      "cell_type": "code",
      "metadata": {
        "id": "fxI448D21xce"
      },
      "source": [
        "df10_array=df10.to_numpy()"
      ],
      "execution_count": 57,
      "outputs": []
    },
    {
      "cell_type": "code",
      "metadata": {
        "id": "88euQ_EA1rp7"
      },
      "source": [
        "df5_array=df5.to_numpy()"
      ],
      "execution_count": 58,
      "outputs": []
    },
    {
      "cell_type": "code",
      "metadata": {
        "id": "mnwK-D9FkNzL"
      },
      "source": [
        "#import LinearRegression from sklearn\r\n",
        "from sklearn.linear_model import LinearRegression\r\n",
        "#import train test split from sklearn\r\n",
        "from sklearn.model_selection import train_test_split\r\n",
        "#import metrics from sklearn\r\n",
        "from sklearn import metrics\r\n",
        "#import cross_val_score from sklearn\r\n",
        "from sklearn.model_selection import cross_val_score"
      ],
      "execution_count": 59,
      "outputs": []
    },
    {
      "cell_type": "markdown",
      "metadata": {
        "id": "PLd7S8uyjN_A"
      },
      "source": [
        "Create a train test split of the Odor dummies and the poisoned column."
      ]
    },
    {
      "cell_type": "code",
      "metadata": {
        "id": "2Omw0yIbjNn4"
      },
      "source": [
        "#Create a train test split of the odor dummies\r\n",
        "x_train,x_test,y_train,y_test = train_test_split(df5_array, df10_array, random_state=1)"
      ],
      "execution_count": 60,
      "outputs": []
    },
    {
      "cell_type": "markdown",
      "metadata": {
        "id": "DXUUHR-pahy6"
      },
      "source": [
        "Create a model for the oder data and make it a logistic regression. Fit the model on our training data and run it."
      ]
    },
    {
      "cell_type": "code",
      "metadata": {
        "id": "yJvfDFSLvEbx"
      },
      "source": [
        "#Create the variable o_model for the odor data and make it a logistic regression model\r\n",
        "model = LinearRegression()\r\n"
      ],
      "execution_count": 61,
      "outputs": []
    },
    {
      "cell_type": "code",
      "metadata": {
        "id": "aKWvMy3J02DQ"
      },
      "source": [
        "x_train=x_train.reshape(-1,1)\r\n",
        "x_test=x_test.reshape(-1,1)\r\n"
      ],
      "execution_count": 62,
      "outputs": []
    },
    {
      "cell_type": "code",
      "metadata": {
        "colab": {
          "base_uri": "https://localhost:8080/"
        },
        "id": "k27cHwiA2HhI",
        "outputId": "d67166df-896b-4587-acf0-3b2115475df5"
      },
      "source": [
        "model.fit(x_train,y_train)"
      ],
      "execution_count": 63,
      "outputs": [
        {
          "output_type": "execute_result",
          "data": {
            "text/plain": [
              "LinearRegression(copy_X=True, fit_intercept=True, n_jobs=None, normalize=False)"
            ]
          },
          "metadata": {
            "tags": []
          },
          "execution_count": 63
        }
      ]
    },
    {
      "cell_type": "code",
      "metadata": {
        "id": "VJIm5XGeE97_"
      },
      "source": [
        "y_pred_train=model.predict(x_train)\r\n",
        "y_pred_test=model.predict(x_test)"
      ],
      "execution_count": 64,
      "outputs": []
    },
    {
      "cell_type": "code",
      "metadata": {
        "colab": {
          "base_uri": "https://localhost:8080/",
          "height": 283
        },
        "id": "luNO-Onh80iv",
        "outputId": "dc9704a7-50ba-41d4-b1ea-c12ec84d25a2"
      },
      "source": [
        "plt.scatter(x_train,y_train)\r\n",
        "plt.plot(x_train,y_pred_train, color='red')"
      ],
      "execution_count": null,
      "outputs": [
        {
          "output_type": "execute_result",
          "data": {
            "text/plain": [
              "[<matplotlib.lines.Line2D at 0x7f1ee2a20c88>]"
            ]
          },
          "metadata": {
            "tags": []
          },
          "execution_count": 247
        },
        {
          "output_type": "display_data",
          "data": {
            "image/png": "[encoded data removed]",
            "text/plain": [
              "<Figure size 432x288 with 1 Axes>"
            ]
          },
          "metadata": {
            "tags": [],
            "needs_background": "light"
          }
        }
      ]
    },
    {
      "cell_type": "code",
      "metadata": {
        "colab": {
          "base_uri": "https://localhost:8080/",
          "height": 283
        },
        "id": "CWFXWNS_80iy",
        "outputId": "1adcfd73-18ae-4785-b6f5-b3cfdb647cb5"
      },
      "source": [
        "plt.scatter(x_test,y_test)\r\n",
        "plt.plot(x_test,y_pred_test, color='red')"
      ],
      "execution_count": null,
      "outputs": [
        {
          "output_type": "execute_result",
          "data": {
            "text/plain": [
              "[<matplotlib.lines.Line2D at 0x7f1ee29f57b8>]"
            ]
          },
          "metadata": {
            "tags": []
          },
          "execution_count": 248
        },
        {
          "output_type": "display_data",
          "data": {
            "image/png": "[encoded data removed]",
            "text/plain": [
              "<Figure size 432x288 with 1 Axes>"
            ]
          },
          "metadata": {
            "tags": [],
            "needs_background": "light"
          }
        }
      ]
    },
    {
      "cell_type": "markdown",
      "metadata": {
        "id": "WKOTn2YFbMF_"
      },
      "source": [
        "View the accuracy of our training data and test data for our odor model.\r\n",
        "\r\n",
        "Our training data indicates that it can correctly tell what mushrooms are poisonous 98.6 % of the time. While our test data indicates that we are right 98.2% of the time.\r\n",
        "\r\n"
      ]
    },
    {
      "cell_type": "markdown",
      "metadata": {
        "id": "y_jKjLPQWrEG"
      },
      "source": [
        "Now we have bothe our datframes imported properly. The problem is that they are both quite expansive daframes with one of them has 50 columns the other has 84 columns. So the first thing we will have to do is develop some domain knowladge to determine which of these columns have value for our analysis. \r\n",
        "\r\n",
        "The URL's provided belllow are links to NASA's keepplar mission page, a link to an overview of the keplar objects of intrest dataframe, as well as a link to an overvies of the confirmed planets datframe.\r\n",
        "\r\n",
        "https://www.nasa.gov/mission_pages/kepler/overview/index.html\r\n",
        "\r\n",
        "https://exoplanetarchive.ipac.caltech.edu/docs/API_kepcandidate_columns.html\r\n",
        "\r\n",
        "https://exoplanetarchive.ipac.caltech.edu/docs/API_exoplanet_columns.html"
      ]
    },
    {
      "cell_type": "markdown",
      "metadata": {
        "id": "GZkWkqeQanrQ"
      },
      "source": [
        "I sould not the relationship between the two table is quite simple. Anything that is in the Objets of intrest table with a KOI_disposition of onfirmed are in the onfirmed palnets table as well. This means we an usse the orrelation between all the olumns in the objets of intrest table when ompared with the Koi disposition olumn to determine wih metris ontributed to the deision that they were i n fat onfirmeds planets."
      ]
    },
    {
      "cell_type": "markdown",
      "metadata": {
        "id": "7Pk5JCBDxO6V"
      },
      "source": [
        "AS suh we will begin by narrowing down our onfirmed planets only to the essential olumns needed for our anaysis. We will be fousing on the mass, density and radius of onfirmed planets. This data will be omapred with data from planets in our own solar syastem. \r\n",
        "\r\n",
        "I should note that this is foolish as we only hae 8 alid data points (planets in our solar system) to make the omparison on. WE are makeing an assumption right of the bat that our sollar system is the norm and that on aerage oter solar sytems wil hae planets that are the same mass as ours. Thius is howeer an unaoidabel assumption."
      ]
    },
    {
      "cell_type": "code",
      "metadata": {
        "colab": {
          "base_uri": "https://localhost:8080/",
          "height": 415
        },
        "id": "fsIoZog10IW7",
        "outputId": "287b4852-870d-4ab1-bacd-a603ce6ac5e4"
      },
      "source": [
        "df11 = df9[df9.pl_orbper <= 2000.0]\r\n",
        "df11"
      ],
      "execution_count": 100,
      "outputs": [
        {
          "output_type": "execute_result",
          "data": {
            "text/html": [
              "<div>\n",
              "<style scoped>\n",
              "    .dataframe tbody tr th:only-of-type {\n",
              "        vertical-align: middle;\n",
              "    }\n",
              "\n",
              "    .dataframe tbody tr th {\n",
              "        vertical-align: top;\n",
              "    }\n",
              "\n",
              "    .dataframe thead th {\n",
              "        text-align: right;\n",
              "    }\n",
              "</style>\n",
              "<table border=\"1\" class=\"dataframe\">\n",
              "  <thead>\n",
              "    <tr style=\"text-align: right;\">\n",
              "      <th></th>\n",
              "      <th>pl_orbper</th>\n",
              "    </tr>\n",
              "  </thead>\n",
              "  <tbody>\n",
              "    <tr>\n",
              "      <th>0</th>\n",
              "      <td>3.577469</td>\n",
              "    </tr>\n",
              "    <tr>\n",
              "      <th>1</th>\n",
              "      <td>52.758756</td>\n",
              "    </tr>\n",
              "    <tr>\n",
              "      <th>2</th>\n",
              "      <td>15.368459</td>\n",
              "    </tr>\n",
              "    <tr>\n",
              "      <th>3</th>\n",
              "      <td>123.010000</td>\n",
              "    </tr>\n",
              "    <tr>\n",
              "      <th>4</th>\n",
              "      <td>14.034915</td>\n",
              "    </tr>\n",
              "    <tr>\n",
              "      <th>...</th>\n",
              "      <td>...</td>\n",
              "    </tr>\n",
              "    <tr>\n",
              "      <th>7266</th>\n",
              "      <td>2.131947</td>\n",
              "    </tr>\n",
              "    <tr>\n",
              "      <th>7267</th>\n",
              "      <td>9.376470</td>\n",
              "    </tr>\n",
              "    <tr>\n",
              "      <th>7268</th>\n",
              "      <td>18.302725</td>\n",
              "    </tr>\n",
              "    <tr>\n",
              "      <th>7269</th>\n",
              "      <td>10.222157</td>\n",
              "    </tr>\n",
              "    <tr>\n",
              "      <th>7270</th>\n",
              "      <td>8.180848</td>\n",
              "    </tr>\n",
              "  </tbody>\n",
              "</table>\n",
              "<p>7016 rows × 1 columns</p>\n",
              "</div>"
            ],
            "text/plain": [
              "       pl_orbper\n",
              "0       3.577469\n",
              "1      52.758756\n",
              "2      15.368459\n",
              "3     123.010000\n",
              "4      14.034915\n",
              "...          ...\n",
              "7266    2.131947\n",
              "7267    9.376470\n",
              "7268   18.302725\n",
              "7269   10.222157\n",
              "7270    8.180848\n",
              "\n",
              "[7016 rows x 1 columns]"
            ]
          },
          "metadata": {
            "tags": []
          },
          "execution_count": 100
        }
      ]
    },
    {
      "cell_type": "code",
      "metadata": {
        "colab": {
          "base_uri": "https://localhost:8080/",
          "height": 415
        },
        "id": "hlcNhafq4Y2l",
        "outputId": "59bad3cf-fd34-4e3c-98bf-ba55bd6814fb"
      },
      "source": [
        "df12 = df5[df5.koi_period <= 2000.0]\r\n",
        "df12"
      ],
      "execution_count": 101,
      "outputs": [
        {
          "output_type": "execute_result",
          "data": {
            "text/html": [
              "<div>\n",
              "<style scoped>\n",
              "    .dataframe tbody tr th:only-of-type {\n",
              "        vertical-align: middle;\n",
              "    }\n",
              "\n",
              "    .dataframe tbody tr th {\n",
              "        vertical-align: top;\n",
              "    }\n",
              "\n",
              "    .dataframe thead th {\n",
              "        text-align: right;\n",
              "    }\n",
              "</style>\n",
              "<table border=\"1\" class=\"dataframe\">\n",
              "  <thead>\n",
              "    <tr style=\"text-align: right;\">\n",
              "      <th></th>\n",
              "      <th>koi_period</th>\n",
              "    </tr>\n",
              "  </thead>\n",
              "  <tbody>\n",
              "    <tr>\n",
              "      <th>0</th>\n",
              "      <td>19.899140</td>\n",
              "    </tr>\n",
              "    <tr>\n",
              "      <th>1</th>\n",
              "      <td>1.736952</td>\n",
              "    </tr>\n",
              "    <tr>\n",
              "      <th>2</th>\n",
              "      <td>7.361790</td>\n",
              "    </tr>\n",
              "    <tr>\n",
              "      <th>3</th>\n",
              "      <td>11.521446</td>\n",
              "    </tr>\n",
              "    <tr>\n",
              "      <th>4</th>\n",
              "      <td>19.403938</td>\n",
              "    </tr>\n",
              "    <tr>\n",
              "      <th>...</th>\n",
              "      <td>...</td>\n",
              "    </tr>\n",
              "    <tr>\n",
              "      <th>7266</th>\n",
              "      <td>8.589871</td>\n",
              "    </tr>\n",
              "    <tr>\n",
              "      <th>7267</th>\n",
              "      <td>0.527699</td>\n",
              "    </tr>\n",
              "    <tr>\n",
              "      <th>7268</th>\n",
              "      <td>1.739849</td>\n",
              "    </tr>\n",
              "    <tr>\n",
              "      <th>7269</th>\n",
              "      <td>0.681402</td>\n",
              "    </tr>\n",
              "    <tr>\n",
              "      <th>7270</th>\n",
              "      <td>4.856035</td>\n",
              "    </tr>\n",
              "  </tbody>\n",
              "</table>\n",
              "<p>7269 rows × 1 columns</p>\n",
              "</div>"
            ],
            "text/plain": [
              "      koi_period\n",
              "0      19.899140\n",
              "1       1.736952\n",
              "2       7.361790\n",
              "3      11.521446\n",
              "4      19.403938\n",
              "...          ...\n",
              "7266    8.589871\n",
              "7267    0.527699\n",
              "7268    1.739849\n",
              "7269    0.681402\n",
              "7270    4.856035\n",
              "\n",
              "[7269 rows x 1 columns]"
            ]
          },
          "metadata": {
            "tags": []
          },
          "execution_count": 101
        }
      ]
    },
    {
      "cell_type": "code",
      "metadata": {
        "colab": {
          "base_uri": "https://localhost:8080/"
        },
        "id": "jWqW3H237IY3",
        "outputId": "748d15c5-8d86-4c02-cb13-62efacc1c758"
      },
      "source": [
        "df12.max()"
      ],
      "execution_count": 102,
      "outputs": [
        {
          "output_type": "execute_result",
          "data": {
            "text/plain": [
              "koi_period    1693.663622\n",
              "dtype: float64"
            ]
          },
          "metadata": {
            "tags": []
          },
          "execution_count": 102
        }
      ]
    },
    {
      "cell_type": "code",
      "metadata": {
        "colab": {
          "base_uri": "https://localhost:8080/",
          "height": 415
        },
        "id": "hiTeuamQ-PQt",
        "outputId": "431c7c2e-f245-4f87-8194-63ceefcd45b7"
      },
      "source": [
        "df13 = df12.iloc[253:]\r\n",
        "df13"
      ],
      "execution_count": 103,
      "outputs": [
        {
          "output_type": "execute_result",
          "data": {
            "text/html": [
              "<div>\n",
              "<style scoped>\n",
              "    .dataframe tbody tr th:only-of-type {\n",
              "        vertical-align: middle;\n",
              "    }\n",
              "\n",
              "    .dataframe tbody tr th {\n",
              "        vertical-align: top;\n",
              "    }\n",
              "\n",
              "    .dataframe thead th {\n",
              "        text-align: right;\n",
              "    }\n",
              "</style>\n",
              "<table border=\"1\" class=\"dataframe\">\n",
              "  <thead>\n",
              "    <tr style=\"text-align: right;\">\n",
              "      <th></th>\n",
              "      <th>koi_period</th>\n",
              "    </tr>\n",
              "  </thead>\n",
              "  <tbody>\n",
              "    <tr>\n",
              "      <th>254</th>\n",
              "      <td>8.387210</td>\n",
              "    </tr>\n",
              "    <tr>\n",
              "      <th>255</th>\n",
              "      <td>15.238454</td>\n",
              "    </tr>\n",
              "    <tr>\n",
              "      <th>256</th>\n",
              "      <td>0.413334</td>\n",
              "    </tr>\n",
              "    <tr>\n",
              "      <th>257</th>\n",
              "      <td>0.933746</td>\n",
              "    </tr>\n",
              "    <tr>\n",
              "      <th>258</th>\n",
              "      <td>6.471793</td>\n",
              "    </tr>\n",
              "    <tr>\n",
              "      <th>...</th>\n",
              "      <td>...</td>\n",
              "    </tr>\n",
              "    <tr>\n",
              "      <th>7266</th>\n",
              "      <td>8.589871</td>\n",
              "    </tr>\n",
              "    <tr>\n",
              "      <th>7267</th>\n",
              "      <td>0.527699</td>\n",
              "    </tr>\n",
              "    <tr>\n",
              "      <th>7268</th>\n",
              "      <td>1.739849</td>\n",
              "    </tr>\n",
              "    <tr>\n",
              "      <th>7269</th>\n",
              "      <td>0.681402</td>\n",
              "    </tr>\n",
              "    <tr>\n",
              "      <th>7270</th>\n",
              "      <td>4.856035</td>\n",
              "    </tr>\n",
              "  </tbody>\n",
              "</table>\n",
              "<p>7016 rows × 1 columns</p>\n",
              "</div>"
            ],
            "text/plain": [
              "      koi_period\n",
              "254     8.387210\n",
              "255    15.238454\n",
              "256     0.413334\n",
              "257     0.933746\n",
              "258     6.471793\n",
              "...          ...\n",
              "7266    8.589871\n",
              "7267    0.527699\n",
              "7268    1.739849\n",
              "7269    0.681402\n",
              "7270    4.856035\n",
              "\n",
              "[7016 rows x 1 columns]"
            ]
          },
          "metadata": {
            "tags": []
          },
          "execution_count": 103
        }
      ]
    },
    {
      "cell_type": "code",
      "metadata": {
        "colab": {
          "base_uri": "https://localhost:8080/",
          "height": 415
        },
        "id": "4vRlZsXX53av",
        "outputId": "0a9f4cf1-cc62-496a-869e-2e32f90c7e03"
      },
      "source": [
        "df13.reset_index()"
      ],
      "execution_count": 104,
      "outputs": [
        {
          "output_type": "execute_result",
          "data": {
            "text/html": [
              "<div>\n",
              "<style scoped>\n",
              "    .dataframe tbody tr th:only-of-type {\n",
              "        vertical-align: middle;\n",
              "    }\n",
              "\n",
              "    .dataframe tbody tr th {\n",
              "        vertical-align: top;\n",
              "    }\n",
              "\n",
              "    .dataframe thead th {\n",
              "        text-align: right;\n",
              "    }\n",
              "</style>\n",
              "<table border=\"1\" class=\"dataframe\">\n",
              "  <thead>\n",
              "    <tr style=\"text-align: right;\">\n",
              "      <th></th>\n",
              "      <th>index</th>\n",
              "      <th>koi_period</th>\n",
              "    </tr>\n",
              "  </thead>\n",
              "  <tbody>\n",
              "    <tr>\n",
              "      <th>0</th>\n",
              "      <td>254</td>\n",
              "      <td>8.387210</td>\n",
              "    </tr>\n",
              "    <tr>\n",
              "      <th>1</th>\n",
              "      <td>255</td>\n",
              "      <td>15.238454</td>\n",
              "    </tr>\n",
              "    <tr>\n",
              "      <th>2</th>\n",
              "      <td>256</td>\n",
              "      <td>0.413334</td>\n",
              "    </tr>\n",
              "    <tr>\n",
              "      <th>3</th>\n",
              "      <td>257</td>\n",
              "      <td>0.933746</td>\n",
              "    </tr>\n",
              "    <tr>\n",
              "      <th>4</th>\n",
              "      <td>258</td>\n",
              "      <td>6.471793</td>\n",
              "    </tr>\n",
              "    <tr>\n",
              "      <th>...</th>\n",
              "      <td>...</td>\n",
              "      <td>...</td>\n",
              "    </tr>\n",
              "    <tr>\n",
              "      <th>7011</th>\n",
              "      <td>7266</td>\n",
              "      <td>8.589871</td>\n",
              "    </tr>\n",
              "    <tr>\n",
              "      <th>7012</th>\n",
              "      <td>7267</td>\n",
              "      <td>0.527699</td>\n",
              "    </tr>\n",
              "    <tr>\n",
              "      <th>7013</th>\n",
              "      <td>7268</td>\n",
              "      <td>1.739849</td>\n",
              "    </tr>\n",
              "    <tr>\n",
              "      <th>7014</th>\n",
              "      <td>7269</td>\n",
              "      <td>0.681402</td>\n",
              "    </tr>\n",
              "    <tr>\n",
              "      <th>7015</th>\n",
              "      <td>7270</td>\n",
              "      <td>4.856035</td>\n",
              "    </tr>\n",
              "  </tbody>\n",
              "</table>\n",
              "<p>7016 rows × 2 columns</p>\n",
              "</div>"
            ],
            "text/plain": [
              "      index  koi_period\n",
              "0       254    8.387210\n",
              "1       255   15.238454\n",
              "2       256    0.413334\n",
              "3       257    0.933746\n",
              "4       258    6.471793\n",
              "...     ...         ...\n",
              "7011   7266    8.589871\n",
              "7012   7267    0.527699\n",
              "7013   7268    1.739849\n",
              "7014   7269    0.681402\n",
              "7015   7270    4.856035\n",
              "\n",
              "[7016 rows x 2 columns]"
            ]
          },
          "metadata": {
            "tags": []
          },
          "execution_count": 104
        }
      ]
    },
    {
      "cell_type": "code",
      "metadata": {
        "colab": {
          "base_uri": "https://localhost:8080/",
          "height": 415
        },
        "id": "chAn7Y5j6Bcc",
        "outputId": "fd15e47e-39c2-4236-d8ae-44a8dd315a13"
      },
      "source": [
        "df11.reset_index()"
      ],
      "execution_count": 105,
      "outputs": [
        {
          "output_type": "execute_result",
          "data": {
            "text/html": [
              "<div>\n",
              "<style scoped>\n",
              "    .dataframe tbody tr th:only-of-type {\n",
              "        vertical-align: middle;\n",
              "    }\n",
              "\n",
              "    .dataframe tbody tr th {\n",
              "        vertical-align: top;\n",
              "    }\n",
              "\n",
              "    .dataframe thead th {\n",
              "        text-align: right;\n",
              "    }\n",
              "</style>\n",
              "<table border=\"1\" class=\"dataframe\">\n",
              "  <thead>\n",
              "    <tr style=\"text-align: right;\">\n",
              "      <th></th>\n",
              "      <th>index</th>\n",
              "      <th>pl_orbper</th>\n",
              "    </tr>\n",
              "  </thead>\n",
              "  <tbody>\n",
              "    <tr>\n",
              "      <th>0</th>\n",
              "      <td>0</td>\n",
              "      <td>3.577469</td>\n",
              "    </tr>\n",
              "    <tr>\n",
              "      <th>1</th>\n",
              "      <td>1</td>\n",
              "      <td>52.758756</td>\n",
              "    </tr>\n",
              "    <tr>\n",
              "      <th>2</th>\n",
              "      <td>2</td>\n",
              "      <td>15.368459</td>\n",
              "    </tr>\n",
              "    <tr>\n",
              "      <th>3</th>\n",
              "      <td>3</td>\n",
              "      <td>123.010000</td>\n",
              "    </tr>\n",
              "    <tr>\n",
              "      <th>4</th>\n",
              "      <td>4</td>\n",
              "      <td>14.034915</td>\n",
              "    </tr>\n",
              "    <tr>\n",
              "      <th>...</th>\n",
              "      <td>...</td>\n",
              "      <td>...</td>\n",
              "    </tr>\n",
              "    <tr>\n",
              "      <th>7011</th>\n",
              "      <td>7266</td>\n",
              "      <td>2.131947</td>\n",
              "    </tr>\n",
              "    <tr>\n",
              "      <th>7012</th>\n",
              "      <td>7267</td>\n",
              "      <td>9.376470</td>\n",
              "    </tr>\n",
              "    <tr>\n",
              "      <th>7013</th>\n",
              "      <td>7268</td>\n",
              "      <td>18.302725</td>\n",
              "    </tr>\n",
              "    <tr>\n",
              "      <th>7014</th>\n",
              "      <td>7269</td>\n",
              "      <td>10.222157</td>\n",
              "    </tr>\n",
              "    <tr>\n",
              "      <th>7015</th>\n",
              "      <td>7270</td>\n",
              "      <td>8.180848</td>\n",
              "    </tr>\n",
              "  </tbody>\n",
              "</table>\n",
              "<p>7016 rows × 2 columns</p>\n",
              "</div>"
            ],
            "text/plain": [
              "      index   pl_orbper\n",
              "0         0    3.577469\n",
              "1         1   52.758756\n",
              "2         2   15.368459\n",
              "3         3  123.010000\n",
              "4         4   14.034915\n",
              "...     ...         ...\n",
              "7011   7266    2.131947\n",
              "7012   7267    9.376470\n",
              "7013   7268   18.302725\n",
              "7014   7269   10.222157\n",
              "7015   7270    8.180848\n",
              "\n",
              "[7016 rows x 2 columns]"
            ]
          },
          "metadata": {
            "tags": []
          },
          "execution_count": 105
        }
      ]
    },
    {
      "cell_type": "code",
      "metadata": {
        "colab": {
          "base_uri": "https://localhost:8080/",
          "height": 316
        },
        "id": "w4YOM6dK0IW7",
        "outputId": "0ba15014-5b46-41c3-9a14-3681ea87f2ab"
      },
      "source": [
        "df11.hist()"
      ],
      "execution_count": 106,
      "outputs": [
        {
          "output_type": "execute_result",
          "data": {
            "text/plain": [
              "array([[<matplotlib.axes._subplots.AxesSubplot object at 0x7fd3ebb625f8>]],\n",
              "      dtype=object)"
            ]
          },
          "metadata": {
            "tags": []
          },
          "execution_count": 106
        },
        {
          "output_type": "display_data",
          "data": {
            "image/png": "[encoded data removed]",
            "text/plain": [
              "<Figure size 432x288 with 1 Axes>"
            ]
          },
          "metadata": {
            "tags": [],
            "needs_background": "light"
          }
        }
      ]
    },
    {
      "cell_type": "code",
      "metadata": {
        "colab": {
          "base_uri": "https://localhost:8080/",
          "height": 283
        },
        "id": "UFOLlo0C0IW8",
        "outputId": "99533cd5-1ab1-4f88-9d6e-38a02879676c"
      },
      "source": [
        "df11.boxplot()"
      ],
      "execution_count": 107,
      "outputs": [
        {
          "output_type": "execute_result",
          "data": {
            "text/plain": [
              "<matplotlib.axes._subplots.AxesSubplot at 0x7fd3eba96048>"
            ]
          },
          "metadata": {
            "tags": []
          },
          "execution_count": 107
        },
        {
          "output_type": "display_data",
          "data": {
            "image/png": "[encoded data removed]",
            "text/plain": [
              "<Figure size 432x288 with 1 Axes>"
            ]
          },
          "metadata": {
            "tags": [],
            "needs_background": "light"
          }
        }
      ]
    },
    {
      "cell_type": "code",
      "metadata": {
        "colab": {
          "base_uri": "https://localhost:8080/",
          "height": 316
        },
        "id": "AvYwxzP40IW8",
        "outputId": "62bc742e-36ac-41f8-c79a-effb29d76741"
      },
      "source": [
        "df13.hist()"
      ],
      "execution_count": 108,
      "outputs": [
        {
          "output_type": "execute_result",
          "data": {
            "text/plain": [
              "array([[<matplotlib.axes._subplots.AxesSubplot object at 0x7fd3ebac22b0>]],\n",
              "      dtype=object)"
            ]
          },
          "metadata": {
            "tags": []
          },
          "execution_count": 108
        },
        {
          "output_type": "display_data",
          "data": {
            "image/png": "[encoded data removed]",
            "text/plain": [
              "<Figure size 432x288 with 1 Axes>"
            ]
          },
          "metadata": {
            "tags": [],
            "needs_background": "light"
          }
        }
      ]
    },
    {
      "cell_type": "code",
      "metadata": {
        "colab": {
          "base_uri": "https://localhost:8080/"
        },
        "id": "LmkqrSGh0IW8",
        "outputId": "29cd393c-a385-410a-aaba-5c4a3a3b00b4"
      },
      "source": [
        "df13.max()"
      ],
      "execution_count": 109,
      "outputs": [
        {
          "output_type": "execute_result",
          "data": {
            "text/plain": [
              "koi_period    1693.663622\n",
              "dtype: float64"
            ]
          },
          "metadata": {
            "tags": []
          },
          "execution_count": 109
        }
      ]
    },
    {
      "cell_type": "code",
      "metadata": {
        "id": "inTh9sVF0IW8"
      },
      "source": [
        "df13_array=df13.to_numpy()"
      ],
      "execution_count": 110,
      "outputs": []
    },
    {
      "cell_type": "code",
      "metadata": {
        "id": "MBMDTOuw0IW9"
      },
      "source": [
        "df11_array=df11.to_numpy()"
      ],
      "execution_count": 111,
      "outputs": []
    },
    {
      "cell_type": "markdown",
      "metadata": {
        "id": "Wl_A_HF10IW9"
      },
      "source": [
        "Create a train test split of the Odor dummies and the poisoned column."
      ]
    },
    {
      "cell_type": "code",
      "metadata": {
        "id": "XQxoKvKt0IW9"
      },
      "source": [
        "#Create a train test split of the odor dummies\r\n",
        "x_train,x_test,y_train,y_test = train_test_split(df11_array, df13_array, random_state=1)"
      ],
      "execution_count": 112,
      "outputs": []
    },
    {
      "cell_type": "markdown",
      "metadata": {
        "id": "k9pCCkBE0IW9"
      },
      "source": [
        "Create a model for the oder data and make it a logistic regression. Fit the model on our training data and run it."
      ]
    },
    {
      "cell_type": "code",
      "metadata": {
        "id": "5Wy2BB4f0IW9"
      },
      "source": [
        "#Create the variable o_model for the odor data and make it a logistic regression model\r\n",
        "model = LinearRegression()\r\n"
      ],
      "execution_count": 113,
      "outputs": []
    },
    {
      "cell_type": "code",
      "metadata": {
        "id": "6TkF_zcc0IW9"
      },
      "source": [
        "x_train=x_train.reshape(-1,1)\r\n",
        "x_test=x_test.reshape(-1,1)\r\n"
      ],
      "execution_count": 114,
      "outputs": []
    },
    {
      "cell_type": "code",
      "metadata": {
        "colab": {
          "base_uri": "https://localhost:8080/"
        },
        "id": "C71UsEUI0IW9",
        "outputId": "139ddf1d-8644-4fe3-abd8-0db736b1dea1"
      },
      "source": [
        "model.fit(x_train,y_train)"
      ],
      "execution_count": 115,
      "outputs": [
        {
          "output_type": "execute_result",
          "data": {
            "text/plain": [
              "LinearRegression(copy_X=True, fit_intercept=True, n_jobs=None, normalize=False)"
            ]
          },
          "metadata": {
            "tags": []
          },
          "execution_count": 115
        }
      ]
    },
    {
      "cell_type": "code",
      "metadata": {
        "id": "PUfINgWL0IW-"
      },
      "source": [
        "y_pred_train=model.predict(x_train)\r\n",
        "y_pred_test=model.predict(x_test)"
      ],
      "execution_count": 116,
      "outputs": []
    },
    {
      "cell_type": "code",
      "metadata": {
        "colab": {
          "base_uri": "https://localhost:8080/",
          "height": 283
        },
        "id": "6ofvqYim0IW-",
        "outputId": "93bb49e0-0d1f-4f15-ef03-0bbc98d01bb2"
      },
      "source": [
        "plt.scatter(x_train,y_train)\r\n",
        "plt.plot(x_train,y_pred_train, color='red')"
      ],
      "execution_count": 117,
      "outputs": [
        {
          "output_type": "execute_result",
          "data": {
            "text/plain": [
              "[<matplotlib.lines.Line2D at 0x7fd3eb9806a0>]"
            ]
          },
          "metadata": {
            "tags": []
          },
          "execution_count": 117
        },
        {
          "output_type": "display_data",
          "data": {
            "image/png": "[encoded data removed]",
            "text/plain": [
              "<Figure size 432x288 with 1 Axes>"
            ]
          },
          "metadata": {
            "tags": [],
            "needs_background": "light"
          }
        }
      ]
    },
    {
      "cell_type": "code",
      "metadata": {
        "colab": {
          "base_uri": "https://localhost:8080/",
          "height": 283
        },
        "id": "FFy1aEKD0IW_",
        "outputId": "c4ea78af-98c8-4e38-fbc3-2d01221889d9"
      },
      "source": [
        "plt.scatter(x_test,y_test)\r\n",
        "plt.plot(x_test,y_pred_test, color='red')"
      ],
      "execution_count": 118,
      "outputs": [
        {
          "output_type": "execute_result",
          "data": {
            "text/plain": [
              "[<matplotlib.lines.Line2D at 0x7fd3eb980390>]"
            ]
          },
          "metadata": {
            "tags": []
          },
          "execution_count": 118
        },
        {
          "output_type": "display_data",
          "data": {
            "image/png": "[encoded data removed]",
            "text/plain": [
              "<Figure size 432x288 with 1 Axes>"
            ]
          },
          "metadata": {
            "tags": [],
            "needs_background": "light"
          }
        }
      ]
    }
  ]
}