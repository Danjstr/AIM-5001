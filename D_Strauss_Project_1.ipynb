{
  "nbformat": 4,
  "nbformat_minor": 0,
  "metadata": {
    "colab": {
      "name": "D_Strauss_Project_1.ipynb",
      "provenance": [],
      "authorship_tag": "ABX9TyPHzrrJV8KNlkWqWxKo/iBZ",
      "include_colab_link": true
    },
    "kernelspec": {
      "name": "python3",
      "display_name": "Python 3"
    }
  },
  "cells": [
    {
      "cell_type": "markdown",
      "metadata": {
        "id": "view-in-github",
        "colab_type": "text"
      },
      "source": [
        "<a href=\"https://colab.research.google.com/github/Danjstr/AIM-5001/blob/master/D_Strauss_Project_1.ipynb\" target=\"_parent\"><img src=\"https://colab.research.google.com/assets/colab-badge.svg\" alt=\"Open In Colab\"/></a>"
      ]
    },
    {
      "cell_type": "code",
      "metadata": {
        "id": "mz02ZBQU4xzB"
      },
      "source": [
        "#Import pandas as Pd\n",
        "import pandas as pd\n",
        "url = 'https://raw.githubusercontent.com/jtopor/DAV-5400/master/Project1/hflights.csv'\n",
        "flight_data = pd.read_csv(url)\n",
        "# Dataset is now stored in a Pandas Dataframe"
      ],
      "execution_count": 1,
      "outputs": []
    },
    {
      "cell_type": "markdown",
      "metadata": {
        "id": "Yimw-NL9WNS3"
      },
      "source": [
        "Start off with a basic analysis of your data. Take a look at the first and last five rows of the data. Retrieve the Data's description and info as well as the columns and its shape. This is an essential starting point to allow us to know if and how much work needs to be done to our data before we start answering our research questions.\n",
        "\n",
        "Shown below is the result of these queries. The only real issue being in the (.info) returned. As it shows us we seem to have some missing values in some of our columns. We will deal with that later."
      ]
    },
    {
      "cell_type": "code",
      "metadata": {
        "id": "iRL09G765KPV",
        "outputId": "823643f3-4aff-481e-d6d9-72fa27f3460b",
        "colab": {
          "base_uri": "https://localhost:8080/",
          "height": 222
        }
      },
      "source": [
        "#View the head of our data. \n",
        "flight_data.head()\n"
      ],
      "execution_count": 2,
      "outputs": [
        {
          "output_type": "execute_result",
          "data": {
            "text/html": [
              "<div>\n",
              "<style scoped>\n",
              "    .dataframe tbody tr th:only-of-type {\n",
              "        vertical-align: middle;\n",
              "    }\n",
              "\n",
              "    .dataframe tbody tr th {\n",
              "        vertical-align: top;\n",
              "    }\n",
              "\n",
              "    .dataframe thead th {\n",
              "        text-align: right;\n",
              "    }\n",
              "</style>\n",
              "<table border=\"1\" class=\"dataframe\">\n",
              "  <thead>\n",
              "    <tr style=\"text-align: right;\">\n",
              "      <th></th>\n",
              "      <th>Year</th>\n",
              "      <th>Month</th>\n",
              "      <th>DayofMonth</th>\n",
              "      <th>DayOfWeek</th>\n",
              "      <th>DepTime</th>\n",
              "      <th>ArrTime</th>\n",
              "      <th>UniqueCarrier</th>\n",
              "      <th>FlightNum</th>\n",
              "      <th>TailNum</th>\n",
              "      <th>ActualElapsedTime</th>\n",
              "      <th>AirTime</th>\n",
              "      <th>ArrDelay</th>\n",
              "      <th>DepDelay</th>\n",
              "      <th>Origin</th>\n",
              "      <th>Dest</th>\n",
              "      <th>Distance</th>\n",
              "      <th>TaxiIn</th>\n",
              "      <th>TaxiOut</th>\n",
              "      <th>Cancelled</th>\n",
              "      <th>CancellationCode</th>\n",
              "      <th>Diverted</th>\n",
              "    </tr>\n",
              "  </thead>\n",
              "  <tbody>\n",
              "    <tr>\n",
              "      <th>0</th>\n",
              "      <td>2011</td>\n",
              "      <td>1</td>\n",
              "      <td>1</td>\n",
              "      <td>6</td>\n",
              "      <td>1400.0</td>\n",
              "      <td>1500.0</td>\n",
              "      <td>AA</td>\n",
              "      <td>428</td>\n",
              "      <td>N576AA</td>\n",
              "      <td>60.0</td>\n",
              "      <td>40.0</td>\n",
              "      <td>-10.0</td>\n",
              "      <td>0.0</td>\n",
              "      <td>IAH</td>\n",
              "      <td>DFW</td>\n",
              "      <td>224</td>\n",
              "      <td>7.0</td>\n",
              "      <td>13.0</td>\n",
              "      <td>0</td>\n",
              "      <td>NaN</td>\n",
              "      <td>0</td>\n",
              "    </tr>\n",
              "    <tr>\n",
              "      <th>1</th>\n",
              "      <td>2011</td>\n",
              "      <td>1</td>\n",
              "      <td>2</td>\n",
              "      <td>7</td>\n",
              "      <td>1401.0</td>\n",
              "      <td>1501.0</td>\n",
              "      <td>AA</td>\n",
              "      <td>428</td>\n",
              "      <td>N557AA</td>\n",
              "      <td>60.0</td>\n",
              "      <td>45.0</td>\n",
              "      <td>-9.0</td>\n",
              "      <td>1.0</td>\n",
              "      <td>IAH</td>\n",
              "      <td>DFW</td>\n",
              "      <td>224</td>\n",
              "      <td>6.0</td>\n",
              "      <td>9.0</td>\n",
              "      <td>0</td>\n",
              "      <td>NaN</td>\n",
              "      <td>0</td>\n",
              "    </tr>\n",
              "    <tr>\n",
              "      <th>2</th>\n",
              "      <td>2011</td>\n",
              "      <td>1</td>\n",
              "      <td>3</td>\n",
              "      <td>1</td>\n",
              "      <td>1352.0</td>\n",
              "      <td>1502.0</td>\n",
              "      <td>AA</td>\n",
              "      <td>428</td>\n",
              "      <td>N541AA</td>\n",
              "      <td>70.0</td>\n",
              "      <td>48.0</td>\n",
              "      <td>-8.0</td>\n",
              "      <td>-8.0</td>\n",
              "      <td>IAH</td>\n",
              "      <td>DFW</td>\n",
              "      <td>224</td>\n",
              "      <td>5.0</td>\n",
              "      <td>17.0</td>\n",
              "      <td>0</td>\n",
              "      <td>NaN</td>\n",
              "      <td>0</td>\n",
              "    </tr>\n",
              "    <tr>\n",
              "      <th>3</th>\n",
              "      <td>2011</td>\n",
              "      <td>1</td>\n",
              "      <td>4</td>\n",
              "      <td>2</td>\n",
              "      <td>1403.0</td>\n",
              "      <td>1513.0</td>\n",
              "      <td>AA</td>\n",
              "      <td>428</td>\n",
              "      <td>N403AA</td>\n",
              "      <td>70.0</td>\n",
              "      <td>39.0</td>\n",
              "      <td>3.0</td>\n",
              "      <td>3.0</td>\n",
              "      <td>IAH</td>\n",
              "      <td>DFW</td>\n",
              "      <td>224</td>\n",
              "      <td>9.0</td>\n",
              "      <td>22.0</td>\n",
              "      <td>0</td>\n",
              "      <td>NaN</td>\n",
              "      <td>0</td>\n",
              "    </tr>\n",
              "    <tr>\n",
              "      <th>4</th>\n",
              "      <td>2011</td>\n",
              "      <td>1</td>\n",
              "      <td>5</td>\n",
              "      <td>3</td>\n",
              "      <td>1405.0</td>\n",
              "      <td>1507.0</td>\n",
              "      <td>AA</td>\n",
              "      <td>428</td>\n",
              "      <td>N492AA</td>\n",
              "      <td>62.0</td>\n",
              "      <td>44.0</td>\n",
              "      <td>-3.0</td>\n",
              "      <td>5.0</td>\n",
              "      <td>IAH</td>\n",
              "      <td>DFW</td>\n",
              "      <td>224</td>\n",
              "      <td>9.0</td>\n",
              "      <td>9.0</td>\n",
              "      <td>0</td>\n",
              "      <td>NaN</td>\n",
              "      <td>0</td>\n",
              "    </tr>\n",
              "  </tbody>\n",
              "</table>\n",
              "</div>"
            ],
            "text/plain": [
              "   Year  Month  DayofMonth  ...  Cancelled  CancellationCode  Diverted\n",
              "0  2011      1           1  ...          0               NaN         0\n",
              "1  2011      1           2  ...          0               NaN         0\n",
              "2  2011      1           3  ...          0               NaN         0\n",
              "3  2011      1           4  ...          0               NaN         0\n",
              "4  2011      1           5  ...          0               NaN         0\n",
              "\n",
              "[5 rows x 21 columns]"
            ]
          },
          "metadata": {
            "tags": []
          },
          "execution_count": 2
        }
      ]
    },
    {
      "cell_type": "code",
      "metadata": {
        "id": "5vCNJZ2mEOdu",
        "outputId": "00871460-750a-42a1-ce72-29a58705cb55",
        "colab": {
          "base_uri": "https://localhost:8080/",
          "height": 222
        }
      },
      "source": [
        "#View the tail of our data. \n",
        "flight_data.tail()\n",
        "\n",
        "  "
      ],
      "execution_count": 3,
      "outputs": [
        {
          "output_type": "execute_result",
          "data": {
            "text/html": [
              "<div>\n",
              "<style scoped>\n",
              "    .dataframe tbody tr th:only-of-type {\n",
              "        vertical-align: middle;\n",
              "    }\n",
              "\n",
              "    .dataframe tbody tr th {\n",
              "        vertical-align: top;\n",
              "    }\n",
              "\n",
              "    .dataframe thead th {\n",
              "        text-align: right;\n",
              "    }\n",
              "</style>\n",
              "<table border=\"1\" class=\"dataframe\">\n",
              "  <thead>\n",
              "    <tr style=\"text-align: right;\">\n",
              "      <th></th>\n",
              "      <th>Year</th>\n",
              "      <th>Month</th>\n",
              "      <th>DayofMonth</th>\n",
              "      <th>DayOfWeek</th>\n",
              "      <th>DepTime</th>\n",
              "      <th>ArrTime</th>\n",
              "      <th>UniqueCarrier</th>\n",
              "      <th>FlightNum</th>\n",
              "      <th>TailNum</th>\n",
              "      <th>ActualElapsedTime</th>\n",
              "      <th>AirTime</th>\n",
              "      <th>ArrDelay</th>\n",
              "      <th>DepDelay</th>\n",
              "      <th>Origin</th>\n",
              "      <th>Dest</th>\n",
              "      <th>Distance</th>\n",
              "      <th>TaxiIn</th>\n",
              "      <th>TaxiOut</th>\n",
              "      <th>Cancelled</th>\n",
              "      <th>CancellationCode</th>\n",
              "      <th>Diverted</th>\n",
              "    </tr>\n",
              "  </thead>\n",
              "  <tbody>\n",
              "    <tr>\n",
              "      <th>19995</th>\n",
              "      <td>2011</td>\n",
              "      <td>2</td>\n",
              "      <td>25</td>\n",
              "      <td>5</td>\n",
              "      <td>1126.0</td>\n",
              "      <td>1333.0</td>\n",
              "      <td>CO</td>\n",
              "      <td>1719</td>\n",
              "      <td>N19621</td>\n",
              "      <td>187.0</td>\n",
              "      <td>152.0</td>\n",
              "      <td>8.0</td>\n",
              "      <td>-4.0</td>\n",
              "      <td>IAH</td>\n",
              "      <td>MTJ</td>\n",
              "      <td>926</td>\n",
              "      <td>5.0</td>\n",
              "      <td>30.0</td>\n",
              "      <td>0</td>\n",
              "      <td>NaN</td>\n",
              "      <td>0</td>\n",
              "    </tr>\n",
              "    <tr>\n",
              "      <th>19996</th>\n",
              "      <td>2011</td>\n",
              "      <td>2</td>\n",
              "      <td>25</td>\n",
              "      <td>5</td>\n",
              "      <td>941.0</td>\n",
              "      <td>1111.0</td>\n",
              "      <td>CO</td>\n",
              "      <td>1723</td>\n",
              "      <td>N37298</td>\n",
              "      <td>210.0</td>\n",
              "      <td>193.0</td>\n",
              "      <td>0.0</td>\n",
              "      <td>11.0</td>\n",
              "      <td>IAH</td>\n",
              "      <td>ONT</td>\n",
              "      <td>1334</td>\n",
              "      <td>5.0</td>\n",
              "      <td>12.0</td>\n",
              "      <td>0</td>\n",
              "      <td>NaN</td>\n",
              "      <td>0</td>\n",
              "    </tr>\n",
              "    <tr>\n",
              "      <th>19997</th>\n",
              "      <td>2011</td>\n",
              "      <td>2</td>\n",
              "      <td>25</td>\n",
              "      <td>5</td>\n",
              "      <td>722.0</td>\n",
              "      <td>948.0</td>\n",
              "      <td>CO</td>\n",
              "      <td>1746</td>\n",
              "      <td>N37408</td>\n",
              "      <td>146.0</td>\n",
              "      <td>115.0</td>\n",
              "      <td>-17.0</td>\n",
              "      <td>-3.0</td>\n",
              "      <td>IAH</td>\n",
              "      <td>ORD</td>\n",
              "      <td>925</td>\n",
              "      <td>17.0</td>\n",
              "      <td>14.0</td>\n",
              "      <td>0</td>\n",
              "      <td>NaN</td>\n",
              "      <td>0</td>\n",
              "    </tr>\n",
              "    <tr>\n",
              "      <th>19998</th>\n",
              "      <td>2011</td>\n",
              "      <td>2</td>\n",
              "      <td>25</td>\n",
              "      <td>5</td>\n",
              "      <td>1909.0</td>\n",
              "      <td>2216.0</td>\n",
              "      <td>CO</td>\n",
              "      <td>1748</td>\n",
              "      <td>N27239</td>\n",
              "      <td>127.0</td>\n",
              "      <td>106.0</td>\n",
              "      <td>-10.0</td>\n",
              "      <td>12.0</td>\n",
              "      <td>IAH</td>\n",
              "      <td>FLL</td>\n",
              "      <td>965</td>\n",
              "      <td>6.0</td>\n",
              "      <td>15.0</td>\n",
              "      <td>0</td>\n",
              "      <td>NaN</td>\n",
              "      <td>0</td>\n",
              "    </tr>\n",
              "    <tr>\n",
              "      <th>19999</th>\n",
              "      <td>2011</td>\n",
              "      <td>2</td>\n",
              "      <td>25</td>\n",
              "      <td>5</td>\n",
              "      <td>1255.0</td>\n",
              "      <td>1553.0</td>\n",
              "      <td>CO</td>\n",
              "      <td>1757</td>\n",
              "      <td>N14604</td>\n",
              "      <td>118.0</td>\n",
              "      <td>83.0</td>\n",
              "      <td>-3.0</td>\n",
              "      <td>5.0</td>\n",
              "      <td>IAH</td>\n",
              "      <td>ATL</td>\n",
              "      <td>689</td>\n",
              "      <td>13.0</td>\n",
              "      <td>22.0</td>\n",
              "      <td>0</td>\n",
              "      <td>NaN</td>\n",
              "      <td>0</td>\n",
              "    </tr>\n",
              "  </tbody>\n",
              "</table>\n",
              "</div>"
            ],
            "text/plain": [
              "       Year  Month  DayofMonth  ...  Cancelled  CancellationCode  Diverted\n",
              "19995  2011      2          25  ...          0               NaN         0\n",
              "19996  2011      2          25  ...          0               NaN         0\n",
              "19997  2011      2          25  ...          0               NaN         0\n",
              "19998  2011      2          25  ...          0               NaN         0\n",
              "19999  2011      2          25  ...          0               NaN         0\n",
              "\n",
              "[5 rows x 21 columns]"
            ]
          },
          "metadata": {
            "tags": []
          },
          "execution_count": 3
        }
      ]
    },
    {
      "cell_type": "code",
      "metadata": {
        "id": "Gar4aYo85XhE",
        "outputId": "a267700a-1f24-4a35-9a60-d1826b8107a5",
        "colab": {
          "base_uri": "https://localhost:8080/",
          "height": 314
        }
      },
      "source": [
        "#View the description of our data. \n",
        "flight_data.describe()"
      ],
      "execution_count": 4,
      "outputs": [
        {
          "output_type": "execute_result",
          "data": {
            "text/html": [
              "<div>\n",
              "<style scoped>\n",
              "    .dataframe tbody tr th:only-of-type {\n",
              "        vertical-align: middle;\n",
              "    }\n",
              "\n",
              "    .dataframe tbody tr th {\n",
              "        vertical-align: top;\n",
              "    }\n",
              "\n",
              "    .dataframe thead th {\n",
              "        text-align: right;\n",
              "    }\n",
              "</style>\n",
              "<table border=\"1\" class=\"dataframe\">\n",
              "  <thead>\n",
              "    <tr style=\"text-align: right;\">\n",
              "      <th></th>\n",
              "      <th>Year</th>\n",
              "      <th>Month</th>\n",
              "      <th>DayofMonth</th>\n",
              "      <th>DayOfWeek</th>\n",
              "      <th>DepTime</th>\n",
              "      <th>ArrTime</th>\n",
              "      <th>FlightNum</th>\n",
              "      <th>ActualElapsedTime</th>\n",
              "      <th>AirTime</th>\n",
              "      <th>ArrDelay</th>\n",
              "      <th>DepDelay</th>\n",
              "      <th>Distance</th>\n",
              "      <th>TaxiIn</th>\n",
              "      <th>TaxiOut</th>\n",
              "      <th>Cancelled</th>\n",
              "      <th>Diverted</th>\n",
              "    </tr>\n",
              "  </thead>\n",
              "  <tbody>\n",
              "    <tr>\n",
              "      <th>count</th>\n",
              "      <td>20000.0</td>\n",
              "      <td>20000.000000</td>\n",
              "      <td>20000.000000</td>\n",
              "      <td>20000.000000</td>\n",
              "      <td>19785.000000</td>\n",
              "      <td>19766.000000</td>\n",
              "      <td>20000.000000</td>\n",
              "      <td>19738.000000</td>\n",
              "      <td>19738.000000</td>\n",
              "      <td>19738.000000</td>\n",
              "      <td>19785.000000</td>\n",
              "      <td>20000.000000</td>\n",
              "      <td>19766.000000</td>\n",
              "      <td>19780.000000</td>\n",
              "      <td>20000.000000</td>\n",
              "      <td>20000.000000</td>\n",
              "    </tr>\n",
              "    <tr>\n",
              "      <th>mean</th>\n",
              "      <td>2011.0</td>\n",
              "      <td>1.054500</td>\n",
              "      <td>16.319000</td>\n",
              "      <td>4.020300</td>\n",
              "      <td>1396.328228</td>\n",
              "      <td>1586.669382</td>\n",
              "      <td>1626.416900</td>\n",
              "      <td>126.795319</td>\n",
              "      <td>105.584355</td>\n",
              "      <td>5.205340</td>\n",
              "      <td>8.297700</td>\n",
              "      <td>772.899550</td>\n",
              "      <td>6.076546</td>\n",
              "      <td>15.134328</td>\n",
              "      <td>0.011200</td>\n",
              "      <td>0.001900</td>\n",
              "    </tr>\n",
              "    <tr>\n",
              "      <th>std</th>\n",
              "      <td>0.0</td>\n",
              "      <td>0.227007</td>\n",
              "      <td>9.025692</td>\n",
              "      <td>2.096904</td>\n",
              "      <td>441.598739</td>\n",
              "      <td>458.489922</td>\n",
              "      <td>1142.067143</td>\n",
              "      <td>60.158125</td>\n",
              "      <td>57.655970</td>\n",
              "      <td>25.383494</td>\n",
              "      <td>23.934218</td>\n",
              "      <td>458.640531</td>\n",
              "      <td>4.085732</td>\n",
              "      <td>7.046056</td>\n",
              "      <td>0.105238</td>\n",
              "      <td>0.043549</td>\n",
              "    </tr>\n",
              "    <tr>\n",
              "      <th>min</th>\n",
              "      <td>2011.0</td>\n",
              "      <td>1.000000</td>\n",
              "      <td>1.000000</td>\n",
              "      <td>1.000000</td>\n",
              "      <td>1.000000</td>\n",
              "      <td>1.000000</td>\n",
              "      <td>1.000000</td>\n",
              "      <td>35.000000</td>\n",
              "      <td>23.000000</td>\n",
              "      <td>-49.000000</td>\n",
              "      <td>-18.000000</td>\n",
              "      <td>127.000000</td>\n",
              "      <td>1.000000</td>\n",
              "      <td>4.000000</td>\n",
              "      <td>0.000000</td>\n",
              "      <td>0.000000</td>\n",
              "    </tr>\n",
              "    <tr>\n",
              "      <th>25%</th>\n",
              "      <td>2011.0</td>\n",
              "      <td>1.000000</td>\n",
              "      <td>8.000000</td>\n",
              "      <td>2.000000</td>\n",
              "      <td>1026.000000</td>\n",
              "      <td>1224.250000</td>\n",
              "      <td>582.000000</td>\n",
              "      <td>74.000000</td>\n",
              "      <td>54.000000</td>\n",
              "      <td>-8.000000</td>\n",
              "      <td>-3.000000</td>\n",
              "      <td>351.000000</td>\n",
              "      <td>4.000000</td>\n",
              "      <td>10.000000</td>\n",
              "      <td>0.000000</td>\n",
              "      <td>0.000000</td>\n",
              "    </tr>\n",
              "    <tr>\n",
              "      <th>50%</th>\n",
              "      <td>2011.0</td>\n",
              "      <td>1.000000</td>\n",
              "      <td>17.000000</td>\n",
              "      <td>4.000000</td>\n",
              "      <td>1416.000000</td>\n",
              "      <td>1620.000000</td>\n",
              "      <td>1644.000000</td>\n",
              "      <td>123.000000</td>\n",
              "      <td>102.000000</td>\n",
              "      <td>0.000000</td>\n",
              "      <td>1.000000</td>\n",
              "      <td>787.000000</td>\n",
              "      <td>5.000000</td>\n",
              "      <td>14.000000</td>\n",
              "      <td>0.000000</td>\n",
              "      <td>0.000000</td>\n",
              "    </tr>\n",
              "    <tr>\n",
              "      <th>75%</th>\n",
              "      <td>2011.0</td>\n",
              "      <td>1.000000</td>\n",
              "      <td>25.000000</td>\n",
              "      <td>6.000000</td>\n",
              "      <td>1801.000000</td>\n",
              "      <td>1955.000000</td>\n",
              "      <td>2536.000000</td>\n",
              "      <td>162.000000</td>\n",
              "      <td>138.000000</td>\n",
              "      <td>11.000000</td>\n",
              "      <td>10.000000</td>\n",
              "      <td>1034.000000</td>\n",
              "      <td>7.000000</td>\n",
              "      <td>18.000000</td>\n",
              "      <td>0.000000</td>\n",
              "      <td>0.000000</td>\n",
              "    </tr>\n",
              "    <tr>\n",
              "      <th>max</th>\n",
              "      <td>2011.0</td>\n",
              "      <td>2.000000</td>\n",
              "      <td>31.000000</td>\n",
              "      <td>7.000000</td>\n",
              "      <td>2335.000000</td>\n",
              "      <td>2400.000000</td>\n",
              "      <td>7037.000000</td>\n",
              "      <td>539.000000</td>\n",
              "      <td>499.000000</td>\n",
              "      <td>775.000000</td>\n",
              "      <td>780.000000</td>\n",
              "      <td>3904.000000</td>\n",
              "      <td>140.000000</td>\n",
              "      <td>78.000000</td>\n",
              "      <td>1.000000</td>\n",
              "      <td>1.000000</td>\n",
              "    </tr>\n",
              "  </tbody>\n",
              "</table>\n",
              "</div>"
            ],
            "text/plain": [
              "          Year         Month  ...     Cancelled      Diverted\n",
              "count  20000.0  20000.000000  ...  20000.000000  20000.000000\n",
              "mean    2011.0      1.054500  ...      0.011200      0.001900\n",
              "std        0.0      0.227007  ...      0.105238      0.043549\n",
              "min     2011.0      1.000000  ...      0.000000      0.000000\n",
              "25%     2011.0      1.000000  ...      0.000000      0.000000\n",
              "50%     2011.0      1.000000  ...      0.000000      0.000000\n",
              "75%     2011.0      1.000000  ...      0.000000      0.000000\n",
              "max     2011.0      2.000000  ...      1.000000      1.000000\n",
              "\n",
              "[8 rows x 16 columns]"
            ]
          },
          "metadata": {
            "tags": []
          },
          "execution_count": 4
        }
      ]
    },
    {
      "cell_type": "code",
      "metadata": {
        "id": "RbcYZXIf5kP8",
        "outputId": "5effd461-19fd-4217-a513-afa2a43d02c4",
        "colab": {
          "base_uri": "https://localhost:8080/",
          "height": 503
        }
      },
      "source": [
        "#View the info of our data. \n",
        "flight_data.info()"
      ],
      "execution_count": 5,
      "outputs": [
        {
          "output_type": "stream",
          "text": [
            "<class 'pandas.core.frame.DataFrame'>\n",
            "RangeIndex: 20000 entries, 0 to 19999\n",
            "Data columns (total 21 columns):\n",
            " #   Column             Non-Null Count  Dtype  \n",
            "---  ------             --------------  -----  \n",
            " 0   Year               20000 non-null  int64  \n",
            " 1   Month              20000 non-null  int64  \n",
            " 2   DayofMonth         20000 non-null  int64  \n",
            " 3   DayOfWeek          20000 non-null  int64  \n",
            " 4   DepTime            19785 non-null  float64\n",
            " 5   ArrTime            19766 non-null  float64\n",
            " 6   UniqueCarrier      20000 non-null  object \n",
            " 7   FlightNum          20000 non-null  int64  \n",
            " 8   TailNum            19892 non-null  object \n",
            " 9   ActualElapsedTime  19738 non-null  float64\n",
            " 10  AirTime            19738 non-null  float64\n",
            " 11  ArrDelay           19738 non-null  float64\n",
            " 12  DepDelay           19785 non-null  float64\n",
            " 13  Origin             20000 non-null  object \n",
            " 14  Dest               20000 non-null  object \n",
            " 15  Distance           20000 non-null  int64  \n",
            " 16  TaxiIn             19766 non-null  float64\n",
            " 17  TaxiOut            19780 non-null  float64\n",
            " 18  Cancelled          20000 non-null  int64  \n",
            " 19  CancellationCode   224 non-null    object \n",
            " 20  Diverted           20000 non-null  int64  \n",
            "dtypes: float64(8), int64(8), object(5)\n",
            "memory usage: 3.2+ MB\n"
          ],
          "name": "stdout"
        }
      ]
    },
    {
      "cell_type": "code",
      "metadata": {
        "id": "T8GLbiTx6D3K",
        "outputId": "739908c8-49cb-4acd-afc9-157029649c95",
        "colab": {
          "base_uri": "https://localhost:8080/",
          "height": 104
        }
      },
      "source": [
        "#View all the columns of our data. \n",
        "flight_data.columns"
      ],
      "execution_count": 6,
      "outputs": [
        {
          "output_type": "execute_result",
          "data": {
            "text/plain": [
              "Index(['Year', 'Month', 'DayofMonth', 'DayOfWeek', 'DepTime', 'ArrTime',\n",
              "       'UniqueCarrier', 'FlightNum', 'TailNum', 'ActualElapsedTime', 'AirTime',\n",
              "       'ArrDelay', 'DepDelay', 'Origin', 'Dest', 'Distance', 'TaxiIn',\n",
              "       'TaxiOut', 'Cancelled', 'CancellationCode', 'Diverted'],\n",
              "      dtype='object')"
            ]
          },
          "metadata": {
            "tags": []
          },
          "execution_count": 6
        }
      ]
    },
    {
      "cell_type": "code",
      "metadata": {
        "id": "tl3cW7Et6VKa",
        "outputId": "347321a7-1111-44b3-913d-bb7660cff6e3",
        "colab": {
          "base_uri": "https://localhost:8080/",
          "height": 35
        }
      },
      "source": [
        "#View the shape of our data. \n",
        "flight_data.shape"
      ],
      "execution_count": 7,
      "outputs": [
        {
          "output_type": "execute_result",
          "data": {
            "text/plain": [
              "(20000, 21)"
            ]
          },
          "metadata": {
            "tags": []
          },
          "execution_count": 7
        }
      ]
    },
    {
      "cell_type": "markdown",
      "metadata": {
        "id": "110DIOWZ7oPd"
      },
      "source": [
        "Introduction: "
      ]
    },
    {
      "cell_type": "markdown",
      "metadata": {
        "id": "bs72XQyT-m4R"
      },
      "source": [
        "**Research question 1:** What percentage of planes(TailNum) arrive more than 15 min late? This information is important because regular arrival delays might indicate the inefficiency of an airplane covering the distance between point \"A\" and Point \"B\" of a flight. This is important for airline carriers as they may need to make changes if certain planes are consistently late.\n",
        "\n",
        "I will create a new data frame that includes TailNum and ArrDelay. I will drop any rows that have missing values. I will check the maximum and minimum arrival delay as a sanity check. It should be common for planes to arrive at their gate late but uncommon for them to arrive too early. I will use graphs to help visualize the percentages of planes arriving late. Last I will use the .quantile() function to determine at what percentage do planes start arriving more than 15 minutes late.\n",
        "\n",
        "**Research question 2:** Which airplane carrier contributes the most to departure delays. This is important because customers may begin looking for other airline providers if one of them is more frequently departing late. This is important to the airline in consideration as they will need to make the changes to reduce delays.\n",
        "\n",
        "I will create a new data frame that includes UniqueCarrier and DepDelay? I will drop any rows that have missing values. I will check the maximum and minimum departure delay as a sanity check.  It should be common for planes to leave their gate late but uncommon for them to leave too early. I will use graphs and return the data frame with the fifty highest delays first. Then count the number of each UniqueCarrier in the top fifty to determine which carrier contributes most to delays.\n",
        "\n",
        "**Research question 3:** Does the day of the week influence the distance of the flight? Do people fly further during the week or on weekends? This is important for scheduling flights. If people fly further on weekends. It would pay for carriers to provide more long-range flights on the weekends.\n",
        "\n",
        "I will create a new data frame that includes DayOfWeek and Distance. I will drop any rows that have missing values. I will rename DayOfWeek to Day_Number. I will create a new column Day that will correspond with the day number. It will have the days of the week as an object for each of the values in the now renamed Day_Number column. This is mostly for readability's sake. It's hard to determine which day is which day at a glance when they are all represented by numbers. I will check the maximum distance traveled and the minimum as a sanity check. Flight distance can not be negative. Nor should flights be more than 9,534miles which is the world's current longest flight(according to google). I will use a scatter plot to try and determine if there is an obvious visual difference in flight distance throughout the week. Then I will determine the exact correlation between the days of the week and distance traveled."
      ]
    },
    {
      "cell_type": "markdown",
      "metadata": {
        "id": "n5CAPp4N72O7"
      },
      "source": [
        "Data Preparation: "
      ]
    },
    {
      "cell_type": "markdown",
      "metadata": {
        "id": "vhcYrwhPgYyZ"
      },
      "source": [
        "The first step in our process is to remove the obvious fat. Most of the columns in this data set are unnecessary for our research questions. As such they are dropped and the remaining columns are saved as a new data frame."
      ]
    },
    {
      "cell_type": "code",
      "metadata": {
        "id": "DucZFcJKH2Gl"
      },
      "source": [
        "#Drop all unnecessary columns\n",
        "new_flight_data= flight_data.drop(['Year', 'Month','DayofMonth','DepTime','ArrTime','FlightNum','ActualElapsedTime','AirTime','Origin','Dest','TaxiIn','TaxiOut','Cancelled','CancellationCode','Diverted'], axis=1)"
      ],
      "execution_count": 8,
      "outputs": []
    },
    {
      "cell_type": "markdown",
      "metadata": {
        "id": "fwDIZSgGg-hq"
      },
      "source": [
        "Print the head of our new data frame to make sure the drop was successful."
      ]
    },
    {
      "cell_type": "code",
      "metadata": {
        "id": "M-rm1_9HIMcZ",
        "outputId": "02ed8cfd-6e05-4f63-a1b7-0bd15143108d",
        "colab": {
          "base_uri": "https://localhost:8080/",
          "height": 202
        }
      },
      "source": [
        "#View the head of our new data frame. \n",
        "new_flight_data.head()"
      ],
      "execution_count": 9,
      "outputs": [
        {
          "output_type": "execute_result",
          "data": {
            "text/html": [
              "<div>\n",
              "<style scoped>\n",
              "    .dataframe tbody tr th:only-of-type {\n",
              "        vertical-align: middle;\n",
              "    }\n",
              "\n",
              "    .dataframe tbody tr th {\n",
              "        vertical-align: top;\n",
              "    }\n",
              "\n",
              "    .dataframe thead th {\n",
              "        text-align: right;\n",
              "    }\n",
              "</style>\n",
              "<table border=\"1\" class=\"dataframe\">\n",
              "  <thead>\n",
              "    <tr style=\"text-align: right;\">\n",
              "      <th></th>\n",
              "      <th>DayOfWeek</th>\n",
              "      <th>UniqueCarrier</th>\n",
              "      <th>TailNum</th>\n",
              "      <th>ArrDelay</th>\n",
              "      <th>DepDelay</th>\n",
              "      <th>Distance</th>\n",
              "    </tr>\n",
              "  </thead>\n",
              "  <tbody>\n",
              "    <tr>\n",
              "      <th>0</th>\n",
              "      <td>6</td>\n",
              "      <td>AA</td>\n",
              "      <td>N576AA</td>\n",
              "      <td>-10.0</td>\n",
              "      <td>0.0</td>\n",
              "      <td>224</td>\n",
              "    </tr>\n",
              "    <tr>\n",
              "      <th>1</th>\n",
              "      <td>7</td>\n",
              "      <td>AA</td>\n",
              "      <td>N557AA</td>\n",
              "      <td>-9.0</td>\n",
              "      <td>1.0</td>\n",
              "      <td>224</td>\n",
              "    </tr>\n",
              "    <tr>\n",
              "      <th>2</th>\n",
              "      <td>1</td>\n",
              "      <td>AA</td>\n",
              "      <td>N541AA</td>\n",
              "      <td>-8.0</td>\n",
              "      <td>-8.0</td>\n",
              "      <td>224</td>\n",
              "    </tr>\n",
              "    <tr>\n",
              "      <th>3</th>\n",
              "      <td>2</td>\n",
              "      <td>AA</td>\n",
              "      <td>N403AA</td>\n",
              "      <td>3.0</td>\n",
              "      <td>3.0</td>\n",
              "      <td>224</td>\n",
              "    </tr>\n",
              "    <tr>\n",
              "      <th>4</th>\n",
              "      <td>3</td>\n",
              "      <td>AA</td>\n",
              "      <td>N492AA</td>\n",
              "      <td>-3.0</td>\n",
              "      <td>5.0</td>\n",
              "      <td>224</td>\n",
              "    </tr>\n",
              "  </tbody>\n",
              "</table>\n",
              "</div>"
            ],
            "text/plain": [
              "   DayOfWeek UniqueCarrier TailNum  ArrDelay  DepDelay  Distance\n",
              "0          6            AA  N576AA     -10.0       0.0       224\n",
              "1          7            AA  N557AA      -9.0       1.0       224\n",
              "2          1            AA  N541AA      -8.0      -8.0       224\n",
              "3          2            AA  N403AA       3.0       3.0       224\n",
              "4          3            AA  N492AA      -3.0       5.0       224"
            ]
          },
          "metadata": {
            "tags": []
          },
          "execution_count": 9
        }
      ]
    },
    {
      "cell_type": "markdown",
      "metadata": {
        "id": "BeMqwWu_hOYZ"
      },
      "source": [
        "Retrieve the .info of the data frame to determine if there are any columns with missing values that need to be dealt with."
      ]
    },
    {
      "cell_type": "code",
      "metadata": {
        "id": "AEjTK0WfOnIR",
        "outputId": "eec5a27e-b52e-4f30-998f-91e733a916fa",
        "colab": {
          "base_uri": "https://localhost:8080/",
          "height": 243
        }
      },
      "source": [
        "#View the info of our new data frame. \n",
        "new_flight_data.info()"
      ],
      "execution_count": 10,
      "outputs": [
        {
          "output_type": "stream",
          "text": [
            "<class 'pandas.core.frame.DataFrame'>\n",
            "RangeIndex: 20000 entries, 0 to 19999\n",
            "Data columns (total 6 columns):\n",
            " #   Column         Non-Null Count  Dtype  \n",
            "---  ------         --------------  -----  \n",
            " 0   DayOfWeek      20000 non-null  int64  \n",
            " 1   UniqueCarrier  20000 non-null  object \n",
            " 2   TailNum        19892 non-null  object \n",
            " 3   ArrDelay       19738 non-null  float64\n",
            " 4   DepDelay       19785 non-null  float64\n",
            " 5   Distance       20000 non-null  int64  \n",
            "dtypes: float64(2), int64(2), object(2)\n",
            "memory usage: 937.6+ KB\n"
          ],
          "name": "stdout"
        }
      ]
    },
    {
      "cell_type": "markdown",
      "metadata": {
        "id": "Dfxl04gohf6g"
      },
      "source": [
        "Yes, TailNum, ArrDelay, and DepDelay all seem to have missing values in their respective columns. Fortunately, the amount of data missing is negligible for our purposes. So we can simply drop the rows with missing data. Allowing us to avoiding more complex data imputation.\n",
        "\n",
        "After we drop the rows with missing values confirm the drop was successful with .info."
      ]
    },
    {
      "cell_type": "code",
      "metadata": {
        "id": "39_YUKQzO3af",
        "outputId": "18aa10d4-cf30-4315-d8aa-d89bac9a84c4",
        "colab": {
          "base_uri": "https://localhost:8080/",
          "height": 243
        }
      },
      "source": [
        "#Drop rows with missing values from our new data frame.\n",
        "new_flight_dropna= new_flight_data.dropna(subset=['TailNum', 'ArrDelay','DepDelay'])\n",
        "#View the info of our new data frame after having dropped rows with missing values.\n",
        "new_flight_dropna.info()"
      ],
      "execution_count": 11,
      "outputs": [
        {
          "output_type": "stream",
          "text": [
            "<class 'pandas.core.frame.DataFrame'>\n",
            "Int64Index: 19738 entries, 0 to 19999\n",
            "Data columns (total 6 columns):\n",
            " #   Column         Non-Null Count  Dtype  \n",
            "---  ------         --------------  -----  \n",
            " 0   DayOfWeek      19738 non-null  int64  \n",
            " 1   UniqueCarrier  19738 non-null  object \n",
            " 2   TailNum        19738 non-null  object \n",
            " 3   ArrDelay       19738 non-null  float64\n",
            " 4   DepDelay       19738 non-null  float64\n",
            " 5   Distance       19738 non-null  int64  \n",
            "dtypes: float64(2), int64(2), object(2)\n",
            "memory usage: 1.1+ MB\n"
          ],
          "name": "stdout"
        }
      ]
    },
    {
      "cell_type": "markdown",
      "metadata": {
        "id": "O3ATgzzKiUFm"
      },
      "source": [
        "Rename DayOfWeek into Day_Number. We will be creating a new day column with the actual days of the week listed in it to help with readability. So we need to be able to differentiate between the two columns."
      ]
    },
    {
      "cell_type": "code",
      "metadata": {
        "id": "mKd1_8fZQ2VM"
      },
      "source": [
        "#rename the DayOfWeek column to Day_Number\n",
        "new_flight_n_d=new_flight_dropna.rename(columns={'DayOfWeek': 'Day_Number'})\n"
      ],
      "execution_count": 12,
      "outputs": []
    },
    {
      "cell_type": "markdown",
      "metadata": {
        "id": "2-URAusgir6H"
      },
      "source": [
        "Print the columns to make sure that DayOfWeek has successfully been relabelled Day_Number."
      ]
    },
    {
      "cell_type": "code",
      "metadata": {
        "id": "P3gP_naaSlSk",
        "outputId": "92e69ff2-2852-4c36-c1db-4b32f900ea29",
        "colab": {
          "base_uri": "https://localhost:8080/",
          "height": 69
        }
      },
      "source": [
        "#View the column names again to make sure that that DayOfWeek has been changed\n",
        "new_flight_n_d.columns"
      ],
      "execution_count": 13,
      "outputs": [
        {
          "output_type": "execute_result",
          "data": {
            "text/plain": [
              "Index(['Day_Number', 'UniqueCarrier', 'TailNum', 'ArrDelay', 'DepDelay',\n",
              "       'Distance'],\n",
              "      dtype='object')"
            ]
          },
          "metadata": {
            "tags": []
          },
          "execution_count": 13
        }
      ]
    },
    {
      "cell_type": "markdown",
      "metadata": {
        "id": "zZCjhckhjAhV"
      },
      "source": [
        "Create your new day column. Make sure each value in Day corresponds correctly with the appropriate number value in Day_Number by printing it."
      ]
    },
    {
      "cell_type": "code",
      "metadata": {
        "id": "oyT7nGFWTsFn"
      },
      "source": [
        "#Add a new column Day That has all the days of the week in it. \n",
        "new_flight_n_d['Day'] = new_flight_n_d['Day_Number'].replace([1,2,3,4,5,6,7],['Monday','Tuseday','Wendsday','Thursday','Friday','Saturday','Sunday'])\n"
      ],
      "execution_count": 14,
      "outputs": []
    },
    {
      "cell_type": "code",
      "metadata": {
        "id": "yZtVy8A63UQz",
        "outputId": "6395e433-aad9-4b78-e489-4274f5723ffa",
        "colab": {
          "base_uri": "https://localhost:8080/",
          "height": 260
        }
      },
      "source": [
        "#Print the modified data frame\n",
        "print(new_flight_n_d)"
      ],
      "execution_count": 15,
      "outputs": [
        {
          "output_type": "stream",
          "text": [
            "       Day_Number UniqueCarrier TailNum  ArrDelay  DepDelay  Distance       Day\n",
            "0               6            AA  N576AA     -10.0       0.0       224  Saturday\n",
            "1               7            AA  N557AA      -9.0       1.0       224    Sunday\n",
            "2               1            AA  N541AA      -8.0      -8.0       224    Monday\n",
            "3               2            AA  N403AA       3.0       3.0       224   Tuseday\n",
            "4               3            AA  N492AA      -3.0       5.0       224  Wendsday\n",
            "...           ...           ...     ...       ...       ...       ...       ...\n",
            "19995           5            CO  N19621       8.0      -4.0       926    Friday\n",
            "19996           5            CO  N37298       0.0      11.0      1334    Friday\n",
            "19997           5            CO  N37408     -17.0      -3.0       925    Friday\n",
            "19998           5            CO  N27239     -10.0      12.0       965    Friday\n",
            "19999           5            CO  N14604      -3.0       5.0       689    Friday\n",
            "\n",
            "[19738 rows x 7 columns]\n"
          ],
          "name": "stdout"
        }
      ]
    },
    {
      "cell_type": "markdown",
      "metadata": {
        "id": "fP57iEhs8iuj"
      },
      "source": [
        "Exploratory Data Analysis: "
      ]
    },
    {
      "cell_type": "markdown",
      "metadata": {
        "id": "a1eWZ1khj3oi"
      },
      "source": [
        "Print the maximum and minimum flight distance as a sanity check. The distance of the longest commercial passenger jet is 9,534 miles. Therefore we must show that we have no maximum values above that. Also, We want to ensure that we have no negative values for our minimum. As flights don't fly negative distance."
      ]
    },
    {
      "cell_type": "code",
      "metadata": {
        "id": "sYAwA8OzXQmt",
        "outputId": "46d7b20a-ad9e-4200-a490-b61b3f2323e6",
        "colab": {
          "base_uri": "https://localhost:8080/",
          "height": 35
        }
      },
      "source": [
        "#View the Maximum flight distance in our data set.\n",
        "new_flight_n_d['Distance'].max()"
      ],
      "execution_count": 16,
      "outputs": [
        {
          "output_type": "execute_result",
          "data": {
            "text/plain": [
              "3904"
            ]
          },
          "metadata": {
            "tags": []
          },
          "execution_count": 16
        }
      ]
    },
    {
      "cell_type": "code",
      "metadata": {
        "id": "YzUnY-neXwdR",
        "outputId": "b7312615-ad0e-46bc-f234-1d0a4adebb18",
        "colab": {
          "base_uri": "https://localhost:8080/",
          "height": 35
        }
      },
      "source": [
        "#View the Minimum flight distance in our data set.\n",
        "new_flight_n_d['Distance'].min()"
      ],
      "execution_count": 17,
      "outputs": [
        {
          "output_type": "execute_result",
          "data": {
            "text/plain": [
              "127"
            ]
          },
          "metadata": {
            "tags": []
          },
          "execution_count": 17
        }
      ]
    },
    {
      "cell_type": "markdown",
      "metadata": {
        "id": "1ylMnQuvkh8-"
      },
      "source": [
        "Print the Maximum and minimum arrival delay as a sanity check. Planes may occasionally arrive early due to favorable wind conditions. But no plane should arrive hours early. As such our negative values seem to be accurate as we see no plane has been more than 49 minutes early. We have more leeway for arrival delays as there is any number of reasons for planes arriving late (most likely a take-off delay). As such the positive value indicating our highest late value being over eight hours is not surprising."
      ]
    },
    {
      "cell_type": "code",
      "metadata": {
        "id": "m6iZ7b5fXogS",
        "outputId": "1a248bf1-1807-4d74-c7f8-921e0ec8f91a",
        "colab": {
          "base_uri": "https://localhost:8080/",
          "height": 35
        }
      },
      "source": [
        "#View the Maximum arrival delay in our data set.\n",
        "new_flight_n_d['ArrDelay'].max()"
      ],
      "execution_count": 18,
      "outputs": [
        {
          "output_type": "execute_result",
          "data": {
            "text/plain": [
              "775.0"
            ]
          },
          "metadata": {
            "tags": []
          },
          "execution_count": 18
        }
      ]
    },
    {
      "cell_type": "code",
      "metadata": {
        "id": "2ULME115YH1v",
        "outputId": "c972ecdb-2c48-4ca2-d35d-287d46306063",
        "colab": {
          "base_uri": "https://localhost:8080/",
          "height": 35
        }
      },
      "source": [
        "#View the Minimum arrival delay in our data set.\n",
        "new_flight_n_d['ArrDelay'].min()"
      ],
      "execution_count": 19,
      "outputs": [
        {
          "output_type": "execute_result",
          "data": {
            "text/plain": [
              "-49.0"
            ]
          },
          "metadata": {
            "tags": []
          },
          "execution_count": 19
        }
      ]
    },
    {
      "cell_type": "markdown",
      "metadata": {
        "id": "xdGgU1NAl8Xa"
      },
      "source": [
        "It is unlikely for planes to take off too early before their departure time. As such our highest early departure of 18 minutes seems accurate. Our highest late departure of over eight hours also seems accurate as there is any number of reasons for late departures. Including mechanical or weather-related issues."
      ]
    },
    {
      "cell_type": "code",
      "metadata": {
        "id": "_7O-gb8gYSgF",
        "outputId": "dd55af47-3ab2-4011-96ce-9edeef4ecdcc",
        "colab": {
          "base_uri": "https://localhost:8080/",
          "height": 35
        }
      },
      "source": [
        "#View the Maximum Departure delay in our data set.\n",
        "new_flight_n_d['DepDelay'].max()"
      ],
      "execution_count": 20,
      "outputs": [
        {
          "output_type": "execute_result",
          "data": {
            "text/plain": [
              "780.0"
            ]
          },
          "metadata": {
            "tags": []
          },
          "execution_count": 20
        }
      ]
    },
    {
      "cell_type": "code",
      "metadata": {
        "id": "CMh7gnrsYeVY",
        "outputId": "0c8b66f3-1f1f-4536-bfb7-db7e0850daf1",
        "colab": {
          "base_uri": "https://localhost:8080/",
          "height": 35
        }
      },
      "source": [
        "#View the Minimum Departure delay in our data set.\n",
        "new_flight_n_d['DepDelay'].min()"
      ],
      "execution_count": 21,
      "outputs": [
        {
          "output_type": "execute_result",
          "data": {
            "text/plain": [
              "-18.0"
            ]
          },
          "metadata": {
            "tags": []
          },
          "execution_count": 21
        }
      ]
    },
    {
      "cell_type": "markdown",
      "metadata": {
        "id": "EhNjK1Gqmmle"
      },
      "source": [
        "For our last sanity check just make sure our new day column has every day of the week in it."
      ]
    },
    {
      "cell_type": "code",
      "metadata": {
        "id": "Dm22xWZWYt_w",
        "outputId": "b08eac04-209c-446d-d0ff-f5e64efd63e8",
        "colab": {
          "base_uri": "https://localhost:8080/",
          "height": 52
        }
      },
      "source": [
        "#View all Unique values in the newly created day column\n",
        "new_flight_n_d['Day'].unique()"
      ],
      "execution_count": 22,
      "outputs": [
        {
          "output_type": "execute_result",
          "data": {
            "text/plain": [
              "array(['Saturday', 'Sunday', 'Monday', 'Tuseday', 'Wendsday', 'Thursday',\n",
              "       'Friday'], dtype=object)"
            ]
          },
          "metadata": {
            "tags": []
          },
          "execution_count": 22
        }
      ]
    },
    {
      "cell_type": "markdown",
      "metadata": {
        "id": "DXzm7qnZm2lH"
      },
      "source": [
        "Print the data's head again before we start graphing to make sure everything is as we want it."
      ]
    },
    {
      "cell_type": "code",
      "metadata": {
        "id": "ZS_ddxluZCQh",
        "outputId": "e6d53779-4e93-4c92-b202-315299e722c2",
        "colab": {
          "base_uri": "https://localhost:8080/",
          "height": 202
        }
      },
      "source": [
        "#View the head of our data frame to make sure all changes have been made correctly.\n",
        "new_flight_n_d.head()"
      ],
      "execution_count": 23,
      "outputs": [
        {
          "output_type": "execute_result",
          "data": {
            "text/html": [
              "<div>\n",
              "<style scoped>\n",
              "    .dataframe tbody tr th:only-of-type {\n",
              "        vertical-align: middle;\n",
              "    }\n",
              "\n",
              "    .dataframe tbody tr th {\n",
              "        vertical-align: top;\n",
              "    }\n",
              "\n",
              "    .dataframe thead th {\n",
              "        text-align: right;\n",
              "    }\n",
              "</style>\n",
              "<table border=\"1\" class=\"dataframe\">\n",
              "  <thead>\n",
              "    <tr style=\"text-align: right;\">\n",
              "      <th></th>\n",
              "      <th>Day_Number</th>\n",
              "      <th>UniqueCarrier</th>\n",
              "      <th>TailNum</th>\n",
              "      <th>ArrDelay</th>\n",
              "      <th>DepDelay</th>\n",
              "      <th>Distance</th>\n",
              "      <th>Day</th>\n",
              "    </tr>\n",
              "  </thead>\n",
              "  <tbody>\n",
              "    <tr>\n",
              "      <th>0</th>\n",
              "      <td>6</td>\n",
              "      <td>AA</td>\n",
              "      <td>N576AA</td>\n",
              "      <td>-10.0</td>\n",
              "      <td>0.0</td>\n",
              "      <td>224</td>\n",
              "      <td>Saturday</td>\n",
              "    </tr>\n",
              "    <tr>\n",
              "      <th>1</th>\n",
              "      <td>7</td>\n",
              "      <td>AA</td>\n",
              "      <td>N557AA</td>\n",
              "      <td>-9.0</td>\n",
              "      <td>1.0</td>\n",
              "      <td>224</td>\n",
              "      <td>Sunday</td>\n",
              "    </tr>\n",
              "    <tr>\n",
              "      <th>2</th>\n",
              "      <td>1</td>\n",
              "      <td>AA</td>\n",
              "      <td>N541AA</td>\n",
              "      <td>-8.0</td>\n",
              "      <td>-8.0</td>\n",
              "      <td>224</td>\n",
              "      <td>Monday</td>\n",
              "    </tr>\n",
              "    <tr>\n",
              "      <th>3</th>\n",
              "      <td>2</td>\n",
              "      <td>AA</td>\n",
              "      <td>N403AA</td>\n",
              "      <td>3.0</td>\n",
              "      <td>3.0</td>\n",
              "      <td>224</td>\n",
              "      <td>Tuseday</td>\n",
              "    </tr>\n",
              "    <tr>\n",
              "      <th>4</th>\n",
              "      <td>3</td>\n",
              "      <td>AA</td>\n",
              "      <td>N492AA</td>\n",
              "      <td>-3.0</td>\n",
              "      <td>5.0</td>\n",
              "      <td>224</td>\n",
              "      <td>Wendsday</td>\n",
              "    </tr>\n",
              "  </tbody>\n",
              "</table>\n",
              "</div>"
            ],
            "text/plain": [
              "   Day_Number UniqueCarrier TailNum  ArrDelay  DepDelay  Distance       Day\n",
              "0           6            AA  N576AA     -10.0       0.0       224  Saturday\n",
              "1           7            AA  N557AA      -9.0       1.0       224    Sunday\n",
              "2           1            AA  N541AA      -8.0      -8.0       224    Monday\n",
              "3           2            AA  N403AA       3.0       3.0       224   Tuseday\n",
              "4           3            AA  N492AA      -3.0       5.0       224  Wendsday"
            ]
          },
          "metadata": {
            "tags": []
          },
          "execution_count": 23
        }
      ]
    },
    {
      "cell_type": "markdown",
      "metadata": {
        "id": "-JC8vATPnGZT"
      },
      "source": [
        "Use seaborn to print a few graphs to help us get a better understanding of our data at a glance and see if we can derive any valuable insights from it.\n",
        "\n",
        "We see that Departure Delay and Arrival Delay have a positive correlation but aside from that there is no valuable insights for our research goals. But always best to check."
      ]
    },
    {
      "cell_type": "code",
      "metadata": {
        "id": "Yz5wHnI9zmIu",
        "outputId": "c80e6156-d77b-4c68-f566-a3369235b230",
        "colab": {
          "base_uri": "https://localhost:8080/",
          "height": 743
        }
      },
      "source": [
        "#import seaborn as sns\n",
        "import seaborn as sns\n",
        "#Generate some graphs using seaborn to help us gain insight\n",
        "sns.pairplot(new_flight_n_d)"
      ],
      "execution_count": 24,
      "outputs": [
        {
          "output_type": "execute_result",
          "data": {
            "text/plain": [
              "<seaborn.axisgrid.PairGrid at 0x7f3b09127d68>"
            ]
          },
          "metadata": {
            "tags": []
          },
          "execution_count": 24
        },
        {
          "output_type": "display_data",
          "data": {
            "image/png": "[encoded data removed]",
            "text/plain": [
              "<Figure size 720x720 with 20 Axes>"
            ]
          },
          "metadata": {
            "tags": [],
            "needs_background": "light"
          }
        }
      ]
    },
    {
      "cell_type": "markdown",
      "metadata": {
        "id": "1LNZB8I9tcxx"
      },
      "source": [
        "Explorotory Data Anlysis for Reaserch question 1."
      ]
    },
    {
      "cell_type": "markdown",
      "metadata": {
        "id": "09gwQq8knDDp"
      },
      "source": [
        "Try to get a visual of the distribution of the number of flights that arrive more than 15 minutes late.\n",
        "\n",
        "We see in this graph that there are two distinct sections. The thick band at the bottom where we have most of our data. As well as the outliers that seem to indicate exceptionally long arrival delays.\n",
        "\n",
        "Unfortunately, as there are several hundred tailnumbers in this data set we cant use a scatter plot or bar plot to get an actual count via a graph easily. "
      ]
    },
    {
      "cell_type": "code",
      "metadata": {
        "id": "4CaLFGULlT3L",
        "outputId": "7b2fe161-03b0-424b-cdf8-9abf8509a4c7",
        "colab": {
          "base_uri": "https://localhost:8080/",
          "height": 312
        }
      },
      "source": [
        "# import matplotlib.pyplot as plt\n",
        "import matplotlib.pyplot as plt\n",
        "#Create a line plot of arrival delay by flight number\n",
        "new_flight_n_d.plot(kind='line', x='TailNum', y='ArrDelay')\n",
        "#Rotate the xlabels 90 degrees\n",
        "plt.xticks(rotation=90)\n",
        "#Show the Data\n",
        "plt.show()"
      ],
      "execution_count": 25,
      "outputs": [
        {
          "output_type": "display_data",
          "data": {
            "image/png": "[encoded data removed]",
            "text/plain": [
              "<Figure size 432x288 with 1 Axes>"
            ]
          },
          "metadata": {
            "tags": [],
            "needs_background": "light"
          }
        }
      ]
    },
    {
      "cell_type": "markdown",
      "metadata": {
        "id": "m3O5mmI2ow-t"
      },
      "source": [
        "Fortunately, we can get a visual of our general distribution using a box plot.\n",
        "\n",
        "We can see that our data indicates that most of the delays are usually less than 200 minutes."
      ]
    },
    {
      "cell_type": "code",
      "metadata": {
        "id": "25RhNqLntlRf",
        "outputId": "3d9b3ddf-8b8e-4ff1-9e87-02ccc8030b96",
        "colab": {
          "base_uri": "https://localhost:8080/",
          "height": 299
        }
      },
      "source": [
        "#Create a box plot of our data arrival delay by flight number\n",
        "new_flight_n_d.plot(kind='box', x='TailNum', y='ArrDelay')\n",
        "#Rotate the xlabels 90 degrees\n",
        "plt.xticks(rotation=90)\n",
        "#Show the Data\n",
        "plt.show()"
      ],
      "execution_count": 26,
      "outputs": [
        {
          "output_type": "display_data",
          "data": {
            "image/png": "[encoded data removed]",
            "text/plain": [
              "<Figure size 432x288 with 1 Axes>"
            ]
          },
          "metadata": {
            "tags": [],
            "needs_background": "light"
          }
        }
      ]
    },
    {
      "cell_type": "markdown",
      "metadata": {
        "id": "7GE8odE1tsxd"
      },
      "source": [
        "Explorotory Data Anlysis for Reaserch question 2."
      ]
    },
    {
      "cell_type": "markdown",
      "metadata": {
        "id": "CfRWbAvbpK4i"
      },
      "source": [
        "Here we use a scatter plot to visualize how many delays and how long are the delays for each of the different airline carriers.\n",
        "\n",
        "We see immediately that airline carrier F9 has the shortest delays and CO has the longest. But we need more data to determine who contributes to delayed departures the most."
      ]
    },
    {
      "cell_type": "code",
      "metadata": {
        "id": "syfozh5Jqws8",
        "outputId": "ba7209b7-f3d1-4598-e299-d14ce14d6344",
        "colab": {
          "base_uri": "https://localhost:8080/",
          "height": 297
        }
      },
      "source": [
        "#Create a scatter of plot of our departure delay by unique carrier\n",
        "new_flight_n_d.plot(kind='scatter', x='UniqueCarrier', y='DepDelay')"
      ],
      "execution_count": 27,
      "outputs": [
        {
          "output_type": "execute_result",
          "data": {
            "text/plain": [
              "<matplotlib.axes._subplots.AxesSubplot at 0x7f3afa0be2b0>"
            ]
          },
          "metadata": {
            "tags": []
          },
          "execution_count": 27
        },
        {
          "output_type": "display_data",
          "data": {
            "image/png": "[encoded data removed]",
            "text/plain": [
              "<Figure size 432x288 with 1 Axes>"
            ]
          },
          "metadata": {
            "tags": [],
            "needs_background": "light"
          }
        }
      ]
    },
    {
      "cell_type": "markdown",
      "metadata": {
        "id": "07Bqsry-qEsl"
      },
      "source": [
        "Here we print the data frame with our top fifty delayed values printed in descending order. We then save this as its own data frame for later."
      ]
    },
    {
      "cell_type": "code",
      "metadata": {
        "id": "p1u5R_1949vB",
        "outputId": "58217fbc-e660-4789-9efa-59e332c598ed",
        "colab": {
          "base_uri": "https://localhost:8080/",
          "height": 901
        }
      },
      "source": [
        "#Order the first 50 rows of our data frame with departure delay in descending order \n",
        "Contributes_delay=new_flight_n_d.sort_values(['DepDelay','UniqueCarrier'], ascending = (False, True))\n",
        "#Save the top 50 rows as its own data frame\n",
        "top_50_delays=Contributes_delay.head(50)\n",
        "#Print the new data frame\n",
        "print(top_50_delays)"
      ],
      "execution_count": 28,
      "outputs": [
        {
          "output_type": "stream",
          "text": [
            "       Day_Number UniqueCarrier TailNum  ArrDelay  DepDelay  Distance       Day\n",
            "2502            4            CO  N74856     775.0     780.0       862  Thursday\n",
            "6532            6            DL  N762NC     487.0     488.0       689  Saturday\n",
            "8256            3            EV  N137EV     445.0     465.0       689  Wendsday\n",
            "936             5            CO  N77066     326.0     351.0      3904    Friday\n",
            "12994           4            XE  N11127     298.0     306.0       817  Thursday\n",
            "8266            1            EV  N723EV     311.0     302.0       689    Monday\n",
            "8305            1            EV  N708EV     276.0     275.0      1076    Monday\n",
            "19888           5            CO  N15710     264.0     262.0      1091    Friday\n",
            "3169            1            CO  N78511     249.0     258.0       925    Monday\n",
            "4383            2            CO  N30401     264.0     252.0       925   Tuseday\n",
            "19215           7            B6  N766JB     240.0     247.0      1428    Sunday\n",
            "19187           4            B6  N552JB     221.0     243.0      1428  Thursday\n",
            "1156            4            CO  N73278     219.0     242.0      1334  Thursday\n",
            "8842            2            MQ  N502MQ     233.0     240.0       925   Tuseday\n",
            "6529            6            DL  N366NB     223.0     236.0       689  Saturday\n",
            "1154            4            CO  N77295     210.0     234.0      1379  Thursday\n",
            "6876            7            OO  N728SK     241.0     234.0       925    Sunday\n",
            "1308            4            CO  N16632     216.0     231.0      1416  Thursday\n",
            "1171            4            CO  N39726     208.0     227.0      1043  Thursday\n",
            "4328            2            CO  N76529     220.0     225.0       925   Tuseday\n",
            "3033            2            CO  N87512     222.0     223.0      1324   Tuseday\n",
            "3077            1            CO  N57864     225.0     219.0       925    Monday\n",
            "6507            3            DL  N934DL     210.0     218.0       689  Wendsday\n",
            "11507           3            WN  N723SW     203.0     218.0       937  Wendsday\n",
            "4251            2            CO  N77865     213.0     213.0       925   Tuseday\n",
            "19903           5            CO  N27724     186.0     211.0      1416    Friday\n",
            "15394           7            XE  N14158     217.0     211.0      1042    Sunday\n",
            "18615           7            XE  N14953     193.0     211.0       201    Sunday\n",
            "18626           7            XE  N14952     230.0     211.0       562    Sunday\n",
            "6618            1            OO  N745SK     194.0     208.0      1076    Monday\n",
            "12949           5            XE  N11535     204.0     206.0       140    Friday\n",
            "3069            1            CO  N29124     193.0     203.0      1379    Monday\n",
            "18311           1            XE  N14177     200.0     202.0       853    Monday\n",
            "3140            1            CO  N76522     204.0     196.0       925    Monday\n",
            "8711            7            MQ  N679MQ     205.0     194.0       247    Sunday\n",
            "19294           1            CO  N11641     183.0     193.0      1416    Monday\n",
            "6174            7            CO  N57862     164.0     192.0       925    Sunday\n",
            "9350            6            WN  N292WN     196.0     192.0      1335  Saturday\n",
            "8824            1            MQ  N506MQ     178.0     190.0       925    Monday\n",
            "9444            7            WN  N912WN     163.0     189.0       937    Sunday\n",
            "8811            2            MQ  N9EAMQ     288.0     188.0       925   Tuseday\n",
            "13145           4            XE  N11565     202.0     185.0       781  Thursday\n",
            "16103           4            XE  N14925     181.0     181.0       429  Thursday\n",
            "6797            2            OO  N745SK     171.0     180.0       224   Tuseday\n",
            "11560           4            WN  N660SW     179.0     179.0       148  Thursday\n",
            "2962            2            CO  N33203     213.0     178.0      1416   Tuseday\n",
            "19703           6            CO  N16648     172.0     178.0       925  Saturday\n",
            "19836           5            CO  N33262     162.0     177.0      1091    Friday\n",
            "3942            4            CO  N34131     148.0     175.0       935  Thursday\n",
            "19942           5            CO  N73278     153.0     175.0       853    Friday\n"
          ],
          "name": "stdout"
        }
      ]
    },
    {
      "cell_type": "markdown",
      "metadata": {
        "id": "luDJq0D0txU6"
      },
      "source": [
        "Explorotory Data Anlysis for Reaserch question 3."
      ]
    },
    {
      "cell_type": "markdown",
      "metadata": {
        "id": "WfV8YVwuqdri"
      },
      "source": [
        "Here we show a scatter plot of the Distance traveled by day to see if there is a difference between the flight distance on weekends vs other days of the week.\n",
        "\n",
        "We can see that our hypothesis is wrong. The flight distance is practically uniform for all days of the week."
      ]
    },
    {
      "cell_type": "code",
      "metadata": {
        "id": "vaYjgUMOstID",
        "outputId": "a6e02719-06d3-4625-ebe3-a7440345555a",
        "colab": {
          "base_uri": "https://localhost:8080/",
          "height": 297
        }
      },
      "source": [
        "#Generate a scatter plot of Distance traveled by Day\n",
        "new_flight_n_d.plot(kind='scatter', x='Day', y='Distance')"
      ],
      "execution_count": 29,
      "outputs": [
        {
          "output_type": "execute_result",
          "data": {
            "text/plain": [
              "<matplotlib.axes._subplots.AxesSubplot at 0x7f3af824f048>"
            ]
          },
          "metadata": {
            "tags": []
          },
          "execution_count": 29
        },
        {
          "output_type": "display_data",
          "data": {
            "image/png": "[encoded data removed]",
            "text/plain": [
              "<Figure size 432x288 with 1 Axes>"
            ]
          },
          "metadata": {
            "tags": [],
            "needs_background": "light"
          }
        }
      ]
    },
    {
      "cell_type": "markdown",
      "metadata": {
        "id": "J_iMrkN48uqY"
      },
      "source": [
        "Research Results:"
      ]
    },
    {
      "cell_type": "markdown",
      "metadata": {
        "id": "2iDY7kbTrV4V"
      },
      "source": [
        "Results for Research Question 1:\n",
        "\n",
        "Use the .quantile() function to print the values at different percentages of the data and determine at what percentage are flights 15 minutes late.\n",
        "\n",
        "We see that at roughly the 80th percentile we reach a value of 15 minutes late. As such everything over the 80th percentile will be more than 15 minutes late.\n",
        "\n",
        "Answer to research question 1:So the answer to our research question is that just under 20% of flights are over 15 minutes late."
      ]
    },
    {
      "cell_type": "code",
      "metadata": {
        "id": "iGwcSd3axVx2",
        "outputId": "5e9fd267-a642-479d-ed28-5b42aa220821",
        "colab": {
          "base_uri": "https://localhost:8080/",
          "height": 121
        }
      },
      "source": [
        "#Retrieve the values for different percentiles of the data\n",
        "print(new_flight_n_d['ArrDelay'].quantile(0.0))\n",
        "print(new_flight_n_d['ArrDelay'].quantile(0.25))\n",
        "print(new_flight_n_d['ArrDelay'].quantile(0.50))\n",
        "print(new_flight_n_d['ArrDelay'].quantile(0.75))\n",
        "print(new_flight_n_d['ArrDelay'].quantile(0.805))\n",
        "print(new_flight_n_d['ArrDelay'].quantile(1.0))"
      ],
      "execution_count": 30,
      "outputs": [
        {
          "output_type": "stream",
          "text": [
            "-49.0\n",
            "-8.0\n",
            "0.0\n",
            "11.0\n",
            "15.0\n",
            "775.0\n"
          ],
          "name": "stdout"
        }
      ]
    },
    {
      "cell_type": "markdown",
      "metadata": {
        "id": "O3gl2sYwrPHC"
      },
      "source": [
        "Results for Research Question 2:\n",
        "\n",
        "We take our previously saved data frame of the top fifty departure delays and we count the number of each value in the 'UniqueCarrier' column to determine which carriers have contributed most to airline delays.\n",
        "\n",
        "Answer to research question 2: The result is that airline carrier CO has contributed 23 of the fifty delays in the top fifty delays. This makes it the biggest contributor to delayed flights among all the airline carriers."
      ]
    },
    {
      "cell_type": "code",
      "metadata": {
        "id": "HkKIc1PuARAv",
        "outputId": "8e404ad1-fba1-4500-eb51-da604fad17a6",
        "colab": {
          "base_uri": "https://localhost:8080/",
          "height": 173
        }
      },
      "source": [
        "#Count the values in the new top_50_delays data frame\n",
        "top_50_delays['UniqueCarrier'].value_counts()"
      ],
      "execution_count": 31,
      "outputs": [
        {
          "output_type": "execute_result",
          "data": {
            "text/plain": [
              "CO    23\n",
              "XE     8\n",
              "WN     4\n",
              "MQ     4\n",
              "DL     3\n",
              "OO     3\n",
              "EV     3\n",
              "B6     2\n",
              "Name: UniqueCarrier, dtype: int64"
            ]
          },
          "metadata": {
            "tags": []
          },
          "execution_count": 31
        }
      ]
    },
    {
      "cell_type": "markdown",
      "metadata": {
        "id": "EqwKDu5ZrSgB"
      },
      "source": [
        "Results for Research Question 3:\n",
        "\n",
        "Here we print the correlation between the  Day_Number column and the Distance column to determine if there is any relationship between distance traveled and any of the days of the week.\n",
        "\n",
        "Answer to research question 3: Our correlation is a measly 0.031 indicating almost no relationship between distance traveled and the day of the week. Meaning the day of the week does not influence the distance of the flight."
      ]
    },
    {
      "cell_type": "code",
      "metadata": {
        "id": "AL9zzLHaEeCs",
        "outputId": "a2902b04-ffbe-46d6-bf65-1ae10ce4a785",
        "colab": {
          "base_uri": "https://localhost:8080/",
          "height": 35
        }
      },
      "source": [
        "#Save the column \"Day_Number\" as column_1\n",
        "column_1 = new_flight_n_d['Day_Number']\n",
        "#Save the column \"Distance\" as column_2\n",
        "column_2 = new_flight_n_d['Distance']\n",
        "#Find the correlation between the two columns\n",
        "correlation = column_1.corr(column_2)\n",
        "#Print the results\n",
        "print(correlation)"
      ],
      "execution_count": 32,
      "outputs": [
        {
          "output_type": "stream",
          "text": [
            "0.031053267904717175\n"
          ],
          "name": "stdout"
        }
      ]
    },
    {
      "cell_type": "markdown",
      "metadata": {
        "id": "LDY5qlLQ943I"
      },
      "source": [
        "Conclusions \n"
      ]
    },
    {
      "cell_type": "markdown",
      "metadata": {
        "id": "WsUuUScwut6E"
      },
      "source": [
        "In summary, we have successfully answered all three of our research questions.\n",
        "\n",
        "For question one \"What percentage of planes(TailNum) arrive more than 15 min late?\" We determined that just under 20% of flights are over 15 minutes late. Meaning over 80% of flights arrived on time, early, or are less than 15 minutes late.\n",
        "\n",
        "For question two \"Which airplane carrier contributes the most to departure delays?\" We determined that the airline carrier CO was the heaviest contributor to departure delays. As they made up 23 of the top fifty delayed departures.\n",
        "\n",
        "For question three \"Does the day of the week influence the distance of the flight?\" We determined that there is no relationship between the distance traveled and the day of the week. In fact, flight distance is roughly uniform across all days of the week."
      ]
    }
  ]
}