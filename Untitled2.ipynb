{
  "nbformat": 4,
  "nbformat_minor": 0,
  "metadata": {
    "colab": {
      "name": "Untitled2.ipynb",
      "provenance": [],
      "authorship_tag": "ABX9TyOYLvzpMY4tsRHXmkGxYSzO",
      "include_colab_link": true
    },
    "kernelspec": {
      "name": "python3",
      "display_name": "Python 3"
    }
  },
  "cells": [
    {
      "cell_type": "markdown",
      "metadata": {
        "id": "view-in-github",
        "colab_type": "text"
      },
      "source": [
        "<a href=\"https://colab.research.google.com/github/Danjstr/AIM-5001/blob/master/Untitled2.ipynb\" target=\"_parent\"><img src=\"https://colab.research.google.com/assets/colab-badge.svg\" alt=\"Open In Colab\"/></a>"
      ]
    },
    {
      "cell_type": "markdown",
      "metadata": {
        "id": "vpKiueId8b0Y"
      },
      "source": [
        "Import your data into Colab and visualize it"
      ]
    },
    {
      "cell_type": "code",
      "metadata": {
        "id": "PGxaK8Wz57fo",
        "outputId": "6cbd5dc9-76bd-40ed-ab85-1010ad15cdc6",
        "colab": {
          "resources": {
            "http://localhost:8080/nbextensions/google.colab/files.js": {
              "data": "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",
              "ok": true,
              "headers": [
                [
                  "content-type",
                  "application/javascript"
                ]
              ],
              "status": 200,
              "status_text": ""
            }
          },
          "base_uri": "https://localhost:8080/",
          "height": 73
        }
      },
      "source": [
        "from google.colab import files\n",
        "uploaded = files.upload()"
      ],
      "execution_count": 1,
      "outputs": [
        {
          "output_type": "display_data",
          "data": {
            "text/html": [
              "\n",
              "     <input type=\"file\" id=\"files-5bc53bfb-2976-4f73-9037-1e93ac5ae2af\" name=\"files[]\" multiple disabled\n",
              "        style=\"border:none\" />\n",
              "     <output id=\"result-5bc53bfb-2976-4f73-9037-1e93ac5ae2af\">\n",
              "      Upload widget is only available when the cell has been executed in the\n",
              "      current browser session. Please rerun this cell to enable.\n",
              "      </output>\n",
              "      <script src=\"/nbextensions/google.colab/files.js\"></script> "
            ],
            "text/plain": [
              "<IPython.core.display.HTML object>"
            ]
          },
          "metadata": {
            "tags": []
          }
        },
        {
          "output_type": "stream",
          "text": [
            "Saving cars-sample35 (1).txt to cars-sample35 (1) (5).txt\n"
          ],
          "name": "stdout"
        }
      ]
    },
    {
      "cell_type": "code",
      "metadata": {
        "id": "InQdmiRH6RSj",
        "outputId": "2751f59d-b008-439c-f59f-ef5a1c2334c7",
        "colab": {
          "base_uri": "https://localhost:8080/",
          "height": 624
        }
      },
      "source": [
        "import pandas as pd\n",
        "df = pd.read_csv('cars-sample35 (1).txt')\n",
        "print (df)"
      ],
      "execution_count": 2,
      "outputs": [
        {
          "output_type": "stream",
          "text": [
            "     high high.1      2     4    med   low  unacc\n",
            "0    high   high      4  more  small  high    acc\n",
            "1    high   high      4  more    big   low  unacc\n",
            "2    high    low      2  more    big  high    acc\n",
            "3   vhigh    low      3     2    med   med  unacc\n",
            "4     low   high      2     2  small   low  unacc\n",
            "5     med    med      4  more    med  high  vgood\n",
            "6     low    low      3     2    big   med  unacc\n",
            "7   vhigh    low      2     2  small   low  unacc\n",
            "8   vhigh   high      4     4    med   low  unacc\n",
            "9     low    low      2     2    med   med  unacc\n",
            "10  vhigh    low      4  more  small  high    acc\n",
            "11   high    low      2     4    big   med    acc\n",
            "12    low  vhigh      3  more    big   low  unacc\n",
            "13   high    low  5more     2    big   med  unacc\n",
            "14  vhigh   high      2  more    med  high  unacc\n",
            "15    med    med      2     2  small   low  unacc\n",
            "16   high    low  5more     4    med  high    acc\n",
            "17    low    low      3  more    med  high  vgood\n",
            "18    low    low      2     2    big   med  unacc\n",
            "19    med   high      4     2    big  high  unacc\n",
            "20    low    low      2     2  small  high  unacc\n",
            "21  vhigh   high  5more     4    med   med  unacc\n",
            "22    med  vhigh      2     2    big   low  unacc\n",
            "23    low  vhigh      4     4    big   low  unacc\n",
            "24  vhigh    low      3  more    big   low  unacc\n",
            "25    med  vhigh      3     4  small   low  unacc\n",
            "26   high   high      3     4    med   med  unacc\n",
            "27    low   high  5more     2    big   low  unacc\n",
            "28    med   high  5more     2    med   med  unacc\n",
            "29   high    low      3     4    med  high    acc\n",
            "30   high  vhigh  5more     4    med   med  unacc\n",
            "31    low    low  5more     2    med   low  unacc\n",
            "32  vhigh  vhigh      4     2    big  high  unacc\n",
            "33   high    low      3     2    big  high  unacc\n"
          ],
          "name": "stdout"
        }
      ]
    },
    {
      "cell_type": "markdown",
      "metadata": {
        "id": "6bBGWaOm0ok1"
      },
      "source": [
        "Problem 1:(5 Points) Your first task is to read the file again and extract these seven attributes from each line of the file and\n",
        "create seven distinct Python list objects comprised solely of the values you extracted for a given attribute. "
      ]
    },
    {
      "cell_type": "markdown",
      "metadata": {
        "id": "pCFHpkljPOEM"
      },
      "source": [
        ""
      ]
    },
    {
      "cell_type": "code",
      "metadata": {
        "id": "UvGiH36SsmSU"
      },
      "source": [
        "# Create a list for each of the seven columns and save the coresponding columns data to each list.\n",
        "Price = list(df.iloc[:, 0])\n",
        "Maintenance_cost = list(df.iloc[:, 1])\n",
        "Number_of_doors = list(df.iloc[:, 2])\n",
        "Number_of_passengers = list(df.iloc[:, 3])\n",
        "Luggage_capacity = list(df.iloc[:, 4])\n",
        "Safety_rating = list(df.iloc[:, 5])\n",
        "Classification_of_vehicle = (df.iloc[:, 6])\n"
      ],
      "execution_count": 3,
      "outputs": []
    },
    {
      "cell_type": "markdown",
      "metadata": {
        "id": "GsjWSBTXGJe7"
      },
      "source": [
        "(5 Points) Your first task is to find the list index values of each automobile having a price rating of \"med\". However,\n",
        "you are required to do this using a list comprehension instead of a basic for or while loop. The list comprehension\n",
        "should create a new list containing your result. Be sure to print your results to the screen.\n",
        "\n",
        "numbers = [1, 2, 3, 4, 5]\n",
        "squares = [number**2 for number in numbers if number > 2]\n",
        "print(squares)"
      ]
    },
    {
      "cell_type": "code",
      "metadata": {
        "id": "AbJ-20VILUZz",
        "outputId": "fc813fdd-d1f6-4ba5-ecb8-697d51f18563",
        "colab": {
          "base_uri": "https://localhost:8080/",
          "height": 55
        }
      },
      "source": [
        "print(Price)"
      ],
      "execution_count": 4,
      "outputs": [
        {
          "output_type": "stream",
          "text": [
            "['high', 'high', 'high', 'vhigh', 'low', 'med', 'low', 'vhigh', 'vhigh', 'low', 'vhigh', 'high', 'low', 'high', 'vhigh', 'med', 'high', 'low', 'low', 'med', 'low', 'vhigh', 'med', 'low', 'vhigh', 'med', 'high', 'low', 'med', 'high', 'high', 'low', 'vhigh', 'high']\n"
          ],
          "name": "stdout"
        }
      ]
    },
    {
      "cell_type": "code",
      "metadata": {
        "id": "ECLilBt-GI4w",
        "outputId": "dd222d7e-17a0-4baa-ff8a-06a247eb2d34",
        "colab": {
          "base_uri": "https://localhost:8080/",
          "height": 35
        }
      },
      "source": [
        "#We assign our output as 'Answer' no complexity we are looking for a simple index value of the \"Price\" list\n",
        "#iterate over the new list \"Price\" using - for Answer, value in enumerate(Price)\n",
        "#limmit your returned values using - for Answer using if value == \"med\" - to make sure our output only includes values equal to med.\n",
        "price_is_med=[Answer for Answer, value in enumerate(Price) if value == \"med\"]\n",
        "#Visualize your results with print\n",
        "print(price_is_med)"
      ],
      "execution_count": 5,
      "outputs": [
        {
          "output_type": "stream",
          "text": [
            "[5, 15, 19, 22, 25, 28]\n"
          ],
          "name": "stdout"
        }
      ]
    },
    {
      "cell_type": "markdown",
      "metadata": {
        "id": "QK_3ePfBPR_Y"
      },
      "source": [
        "(5 Points) Your second task is to find the \"number of passengers\" value for each auto having a \"price\" value of\n",
        "\"med\" using a list comprehension instead of a basic for or while loop. The list comprehension should create a new\n",
        "list containing your findings. Be sure to print your results to the screen."
      ]
    },
    {
      "cell_type": "code",
      "metadata": {
        "id": "5E2d_KBOPWWN",
        "outputId": "f86d4a91-0a13-4a7b-8242-22382127c0dd",
        "colab": {
          "base_uri": "https://localhost:8080/",
          "height": 35
        }
      },
      "source": [
        "#We assign our output as Number_of_passengers[Answer] we are looking for the values in the list \"Number_of_passengers\"\n",
        "#iterate over the list \"Price\" using - for Answer, value in enumerate(Price)\n",
        "#limmit your returned values using - for Answer using if value == \"med\" - to make sure our output only includes the number of passengers where the price values equal to med.\n",
        "num_passengers=[Number_of_passengers[Answer] for Answer, value in enumerate(Price) if value == \"med\"]\n",
        "#Visualize your results with print\n",
        "print(num_passengers)"
      ],
      "execution_count": 6,
      "outputs": [
        {
          "output_type": "stream",
          "text": [
            "['more', '2', '2', '2', '4', '2']\n"
          ],
          "name": "stdout"
        }
      ]
    },
    {
      "cell_type": "markdown",
      "metadata": {
        "id": "zOHn3DqvRU-U"
      },
      "source": [
        "(5 Points) Your third task is to find the index value for each automobile having a price value of \"high\" and a\n",
        "maintenance value that is not \"low\" using a list comprehension. The list comprehension should create a new list\n",
        "containing your findings. Be sure to print your results to the screen"
      ]
    },
    {
      "cell_type": "code",
      "metadata": {
        "id": "kk1uGLp-RaYt",
        "outputId": "fc01da28-e77e-490b-d769-0199a372d802",
        "colab": {
          "base_uri": "https://localhost:8080/",
          "height": 35
        }
      },
      "source": [
        "#We assign our output as 'Answer' no complexity we are looking for a simple index value of the \"Price\" and mainance value lists\n",
        "#iterate over the length of the price list using - for Answer in range(33)\n",
        "#limmit your returned values using both -  if Price[Answer]  == \"high\" and Maintenance_cost[Answer] != \"low\" - to make sure our output only includes the index value for each automobile having a price value of \"high\" and a maintenance value that is not \"low\"\n",
        "price_is_high_main_not_low= [Answer for Answer in range(33) if Price[Answer]  == \"high\" and Maintenance_cost[Answer] != \"low\"]\n",
        "#Visualize your results with print\n",
        "print(price_is_high_main_not_low)"
      ],
      "execution_count": 7,
      "outputs": [
        {
          "output_type": "stream",
          "text": [
            "[0, 1, 26, 30]\n"
          ],
          "name": "stdout"
        }
      ]
    },
    {
      "cell_type": "markdown",
      "metadata": {
        "id": "_UVWLlD2Wu3U"
      },
      "source": [
        "Consider the following list of lists:\n",
        "nlist = [ [1, 2, 3], [‘A’, ‘B’, ‘C’], [4, 5], [‘D’, ‘E’] ]\n",
        "If we wanted to extract each individual element of the component lists contained within nlist and add them to a new\n",
        "list, we could use a nested for loop similar to this:\n",
        "--------\n",
        "flist = []\n",
        "for x in nlist:\n",
        " for y in x:\n",
        " flist.append(y)\n",
        "print(flist)"
      ]
    },
    {
      "cell_type": "markdown",
      "metadata": {
        "id": "yPBHeU-cWTSw"
      },
      "source": [
        "(5 Points) For your fourth task, implement this same logic using a list comprehension. Apply your list\n",
        "comprehension to the nlist list of lists shown above. Be sure to print your newly created list to the screen."
      ]
    },
    {
      "cell_type": "code",
      "metadata": {
        "id": "KK99UaKhXEra",
        "outputId": "43553b04-22f1-4707-8915-dfe442c96986",
        "colab": {
          "base_uri": "https://localhost:8080/",
          "height": 35
        }
      },
      "source": [
        "'''flist = []\n",
        "for x in nlist:\n",
        " for y in x:\n",
        " flist.append(y)\n",
        "print(flist)'''\n",
        "#Create a list of list named \"nlist\".\n",
        "#nlist will contain 4 values each its own list with its own values.\n",
        "nlist = [ [1, 2, 3], ['A', 'B', 'C'], [4, 5], ['D', 'E'] ]\n",
        "#We assign our output as 'Answer'\n",
        "#iterate over the nlist using - for lists in nlist to access the individual lists in nlist\n",
        "#iterate over the individual lists in nlist using - for Answer in lists\n",
        "flist=[Answer for lists in nlist for Answer in lists]\n",
        "#Visualize your results with print\n",
        "print(flist)"
      ],
      "execution_count": 8,
      "outputs": [
        {
          "output_type": "stream",
          "text": [
            "[1, 2, 3, 'A', 'B', 'C', 4, 5, 'D', 'E']\n"
          ],
          "name": "stdout"
        }
      ]
    },
    {
      "cell_type": "markdown",
      "metadata": {
        "id": "9wYFnWqKaCrJ"
      },
      "source": [
        "(5 Points) Your fifth task is to create a user defined function that accepts as input one of the seven automobile\n",
        "attribute lists as well as an integer value and returns a Python dict object. Remember: a Python dict object is\n",
        "comprised of ‘key/value’ pairs. The integer value accepted as a parameter by your function will represent the exact\n",
        "number of items you are to use from the list for purposes of creating the new dict object. So for example, if your\n",
        "function was defined as:\n"
      ]
    },
    {
      "cell_type": "code",
      "metadata": {
        "id": "ZZPDO8j9aDet",
        "outputId": "3f79e829-4136-42cd-c5b1-250283d4d5b4",
        "colab": {
          "base_uri": "https://localhost:8080/",
          "height": 35
        }
      },
      "source": [
        "# define a function makedict\n",
        "def makedict(mylist, x):\n",
        "# create a new empty dictinary.\n",
        "  newdict = {}\n",
        "#create a new empty list for the keys.\n",
        "  keys=[]\n",
        "# Iterate over the range x which is one of the inputs of the function mydict.\n",
        "#This allows you to select the leangth of your returned dictinary so you don't have to iterate over an entire list.\n",
        "  for i in range(x):\n",
        "# Append the keys values to the \"keys\" list starting all of them with \"A\". \n",
        "    keys.append(\"A\"+str(i))\n",
        "#Assign our empty dictinary its key value pairs.\n",
        "# This is done by zipping the list of keys with corresponding value in the list you are passing in.\n",
        "  newdict=dict(zip(keys,mylist[:x]))\n",
        "#return our newdict\n",
        "  return (newdict)\n",
        "#show that makedict functions as intended by performing a test pring of it in action.\n",
        "print(makedict(Price,7))\n",
        "    \n",
        "\n",
        "\n"
      ],
      "execution_count": 9,
      "outputs": [
        {
          "output_type": "stream",
          "text": [
            "{'A0': 'high', 'A1': 'high', 'A2': 'high', 'A3': 'vhigh', 'A4': 'low', 'A5': 'med', 'A6': 'low'}\n"
          ],
          "name": "stdout"
        }
      ]
    },
    {
      "cell_type": "markdown",
      "metadata": {
        "id": "Ejp-Opnn0ME6"
      },
      "source": [
        "(5 Points) Now that you have your reusable user-defined function, use it to create two new dict objects containing\n",
        "the first seven elements of the ‘Price’ and ‘Luggage’ lists, respectively. Then, use these dict objects to tell us the\n",
        "price and luggage capacity of the auto identified by the ‘A4’ key value."
      ]
    },
    {
      "cell_type": "code",
      "metadata": {
        "id": "Y9OC_giO0N9g",
        "outputId": "fbdb0a34-340c-4939-e7d3-2fbbd7b00816",
        "colab": {
          "base_uri": "https://localhost:8080/",
          "height": 35
        }
      },
      "source": [
        "#Use the Makedict funtion on the first seven values of the \"Price\" list.\n",
        "price_dict=makedict(Price,7)\n",
        "#Use the Makedict funtion on the first seven values of the \"Luggage_capacity\" list.\n",
        "luggage_dict=makedict(Luggage_capacity,7)\n",
        "#show the fifth elements of the \"price\" list and the \"Luggage_Capacity\" list\n",
        "print(\"Price is\",price_dict['A4'],\" - Luggage is\", luggage_dict['A4'])"
      ],
      "execution_count": 10,
      "outputs": [
        {
          "output_type": "stream",
          "text": [
            "Price is low  - Luggage is small\n"
          ],
          "name": "stdout"
        }
      ]
    }
  ]
}