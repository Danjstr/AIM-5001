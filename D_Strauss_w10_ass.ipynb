{
  "nbformat": 4,
  "nbformat_minor": 0,
  "metadata": {
    "colab": {
      "name": "D_Strauss_w10_ass",
      "provenance": [],
      "authorship_tag": "ABX9TyNJhzfHKpXNlWfpuE79nzkT",
      "include_colab_link": true
    },
    "kernelspec": {
      "name": "python3",
      "display_name": "Python 3"
    }
  },
  "cells": [
    {
      "cell_type": "markdown",
      "metadata": {
        "id": "view-in-github",
        "colab_type": "text"
      },
      "source": [
        "<a href=\"https://colab.research.google.com/github/Danjstr/AIM-5001/blob/master/D_Strauss_w10_ass.ipynb\" target=\"_parent\"><img src=\"https://colab.research.google.com/assets/colab-badge.svg\" alt=\"Open In Colab\"/></a>"
      ]
    },
    {
      "cell_type": "markdown",
      "metadata": {
        "id": "mu9NacOp4Iwf"
      },
      "source": [
        "Import the libraries we will be using to tidy and transform our data."
      ]
    },
    {
      "cell_type": "code",
      "metadata": {
        "id": "2XcAERw9zBBE"
      },
      "source": [
        "# Import NumPy library\n",
        "import numpy as np\n",
        "# Import Pandas library\n",
        "import pandas as pd\n",
        "# Load the pyplot function from the matplotlib library\n",
        "import matplotlib.pyplot as plt\n",
        "#import Seaborn\n",
        "import seaborn as sns\n"
      ],
      "execution_count": 1,
      "outputs": []
    },
    {
      "cell_type": "markdown",
      "metadata": {
        "id": "GwUuliqV4iAM"
      },
      "source": [
        "Import the csv file that we uploaded from to github and show the results on the screen."
      ]
    },
    {
      "cell_type": "markdown",
      "metadata": {
        "id": "rVW9pMDI6ISH"
      },
      "source": [
        "Part 1:"
      ]
    },
    {
      "cell_type": "code",
      "metadata": {
        "colab": {
          "base_uri": "https://localhost:8080/",
          "height": 202
        },
        "id": "s2pKwixEzFMB",
        "outputId": "9ce14bce-3071-408f-b6a6-27290b08bb59"
      },
      "source": [
        "\n",
        "#Import the CSV with data and assign it to the name Airlines\n",
        "Airlines = pd.read_csv('https://raw.githubusercontent.com/Danjstr/AIM-5001/master/airlines.csv') \n",
        "\n",
        "#Show the result\n",
        "Airlines"
      ],
      "execution_count": 3,
      "outputs": [
        {
          "output_type": "execute_result",
          "data": {
            "text/html": [
              "<div>\n",
              "<style scoped>\n",
              "    .dataframe tbody tr th:only-of-type {\n",
              "        vertical-align: middle;\n",
              "    }\n",
              "\n",
              "    .dataframe tbody tr th {\n",
              "        vertical-align: top;\n",
              "    }\n",
              "\n",
              "    .dataframe thead th {\n",
              "        text-align: right;\n",
              "    }\n",
              "</style>\n",
              "<table border=\"1\" class=\"dataframe\">\n",
              "  <thead>\n",
              "    <tr style=\"text-align: right;\">\n",
              "      <th></th>\n",
              "      <th>Unnamed: 0</th>\n",
              "      <th>Unnamed: 1</th>\n",
              "      <th>Los Angeles</th>\n",
              "      <th>Phoenix</th>\n",
              "      <th>San Diego</th>\n",
              "      <th>San Francisco</th>\n",
              "      <th>Seattle</th>\n",
              "    </tr>\n",
              "  </thead>\n",
              "  <tbody>\n",
              "    <tr>\n",
              "      <th>0</th>\n",
              "      <td>ALASKA</td>\n",
              "      <td>on time</td>\n",
              "      <td>497.0</td>\n",
              "      <td>221.0</td>\n",
              "      <td>212.0</td>\n",
              "      <td>503.0</td>\n",
              "      <td>1841.0</td>\n",
              "    </tr>\n",
              "    <tr>\n",
              "      <th>1</th>\n",
              "      <td>NaN</td>\n",
              "      <td>delayed</td>\n",
              "      <td>62.0</td>\n",
              "      <td>12.0</td>\n",
              "      <td>20.0</td>\n",
              "      <td>102.0</td>\n",
              "      <td>305.0</td>\n",
              "    </tr>\n",
              "    <tr>\n",
              "      <th>2</th>\n",
              "      <td>NaN</td>\n",
              "      <td>NaN</td>\n",
              "      <td>NaN</td>\n",
              "      <td>NaN</td>\n",
              "      <td>NaN</td>\n",
              "      <td>NaN</td>\n",
              "      <td>NaN</td>\n",
              "    </tr>\n",
              "    <tr>\n",
              "      <th>3</th>\n",
              "      <td>AM WEST</td>\n",
              "      <td>on time</td>\n",
              "      <td>694.0</td>\n",
              "      <td>4840.0</td>\n",
              "      <td>383.0</td>\n",
              "      <td>320.0</td>\n",
              "      <td>201.0</td>\n",
              "    </tr>\n",
              "    <tr>\n",
              "      <th>4</th>\n",
              "      <td>NaN</td>\n",
              "      <td>delayed</td>\n",
              "      <td>117.0</td>\n",
              "      <td>415.0</td>\n",
              "      <td>65.0</td>\n",
              "      <td>129.0</td>\n",
              "      <td>61.0</td>\n",
              "    </tr>\n",
              "  </tbody>\n",
              "</table>\n",
              "</div>"
            ],
            "text/plain": [
              "  Unnamed: 0 Unnamed: 1  Los Angeles  ...  San Diego  San Francisco  Seattle \n",
              "0     ALASKA    on time        497.0  ...      212.0          503.0    1841.0\n",
              "1        NaN    delayed         62.0  ...       20.0          102.0     305.0\n",
              "2        NaN        NaN          NaN  ...        NaN            NaN       NaN\n",
              "3    AM WEST    on time        694.0  ...      383.0          320.0     201.0\n",
              "4        NaN    delayed        117.0  ...       65.0          129.0      61.0\n",
              "\n",
              "[5 rows x 7 columns]"
            ]
          },
          "metadata": {
            "tags": []
          },
          "execution_count": 3
        }
      ]
    },
    {
      "cell_type": "markdown",
      "metadata": {
        "id": "PGYguKO66Eki"
      },
      "source": [
        "Part 2:"
      ]
    },
    {
      "cell_type": "markdown",
      "metadata": {
        "id": "dCJM8BNT4rdL"
      },
      "source": [
        "Rename our two unnamed columns as States and on_Time_or_delayed respectively. So we can replace the Unnamed: 0 and Unnamed: 1."
      ]
    },
    {
      "cell_type": "code",
      "metadata": {
        "colab": {
          "base_uri": "https://localhost:8080/",
          "height": 202
        },
        "id": "SfRgJ_iX1fMn",
        "outputId": "981240a4-9535-4fe8-8490-fd6d13b15156"
      },
      "source": [
        "#Rename our two unnamed columns as States and on_Time_or_delayed respectively\n",
        "Airlines=Airlines.rename(columns={\"Unnamed: 0\": \"States\", \"Unnamed: 1\": \"on_Time_or_delayed\"})\n",
        "#Show the result\n",
        "Airlines"
      ],
      "execution_count": 4,
      "outputs": [
        {
          "output_type": "execute_result",
          "data": {
            "text/html": [
              "<div>\n",
              "<style scoped>\n",
              "    .dataframe tbody tr th:only-of-type {\n",
              "        vertical-align: middle;\n",
              "    }\n",
              "\n",
              "    .dataframe tbody tr th {\n",
              "        vertical-align: top;\n",
              "    }\n",
              "\n",
              "    .dataframe thead th {\n",
              "        text-align: right;\n",
              "    }\n",
              "</style>\n",
              "<table border=\"1\" class=\"dataframe\">\n",
              "  <thead>\n",
              "    <tr style=\"text-align: right;\">\n",
              "      <th></th>\n",
              "      <th>States</th>\n",
              "      <th>on_Time_or_delayed</th>\n",
              "      <th>Los Angeles</th>\n",
              "      <th>Phoenix</th>\n",
              "      <th>San Diego</th>\n",
              "      <th>San Francisco</th>\n",
              "      <th>Seattle</th>\n",
              "    </tr>\n",
              "  </thead>\n",
              "  <tbody>\n",
              "    <tr>\n",
              "      <th>0</th>\n",
              "      <td>ALASKA</td>\n",
              "      <td>on time</td>\n",
              "      <td>497.0</td>\n",
              "      <td>221.0</td>\n",
              "      <td>212.0</td>\n",
              "      <td>503.0</td>\n",
              "      <td>1841.0</td>\n",
              "    </tr>\n",
              "    <tr>\n",
              "      <th>1</th>\n",
              "      <td>NaN</td>\n",
              "      <td>delayed</td>\n",
              "      <td>62.0</td>\n",
              "      <td>12.0</td>\n",
              "      <td>20.0</td>\n",
              "      <td>102.0</td>\n",
              "      <td>305.0</td>\n",
              "    </tr>\n",
              "    <tr>\n",
              "      <th>2</th>\n",
              "      <td>NaN</td>\n",
              "      <td>NaN</td>\n",
              "      <td>NaN</td>\n",
              "      <td>NaN</td>\n",
              "      <td>NaN</td>\n",
              "      <td>NaN</td>\n",
              "      <td>NaN</td>\n",
              "    </tr>\n",
              "    <tr>\n",
              "      <th>3</th>\n",
              "      <td>AM WEST</td>\n",
              "      <td>on time</td>\n",
              "      <td>694.0</td>\n",
              "      <td>4840.0</td>\n",
              "      <td>383.0</td>\n",
              "      <td>320.0</td>\n",
              "      <td>201.0</td>\n",
              "    </tr>\n",
              "    <tr>\n",
              "      <th>4</th>\n",
              "      <td>NaN</td>\n",
              "      <td>delayed</td>\n",
              "      <td>117.0</td>\n",
              "      <td>415.0</td>\n",
              "      <td>65.0</td>\n",
              "      <td>129.0</td>\n",
              "      <td>61.0</td>\n",
              "    </tr>\n",
              "  </tbody>\n",
              "</table>\n",
              "</div>"
            ],
            "text/plain": [
              "    States on_Time_or_delayed  Los Angeles  ...  San Diego  San Francisco  Seattle \n",
              "0   ALASKA            on time        497.0  ...      212.0          503.0    1841.0\n",
              "1      NaN            delayed         62.0  ...       20.0          102.0     305.0\n",
              "2      NaN                NaN          NaN  ...        NaN            NaN       NaN\n",
              "3  AM WEST            on time        694.0  ...      383.0          320.0     201.0\n",
              "4      NaN            delayed        117.0  ...       65.0          129.0      61.0\n",
              "\n",
              "[5 rows x 7 columns]"
            ]
          },
          "metadata": {
            "tags": []
          },
          "execution_count": 4
        }
      ]
    },
    {
      "cell_type": "markdown",
      "metadata": {
        "id": "tOkjkuBj5DHn"
      },
      "source": [
        "Remove the second row by dropping any row will all values in the row equal to NAN."
      ]
    },
    {
      "cell_type": "code",
      "metadata": {
        "colab": {
          "base_uri": "https://localhost:8080/",
          "height": 171
        },
        "id": "w5rpMYOS6Sun",
        "outputId": "964b7826-1b04-4474-8dcd-6b6a0bcc34d0"
      },
      "source": [
        "#Drop the row coresponding to index two using dropna(how = 'all')\n",
        "Airlines=Airlines.dropna(how='all') \n",
        "#Show the result\n",
        "Airlines"
      ],
      "execution_count": 5,
      "outputs": [
        {
          "output_type": "execute_result",
          "data": {
            "text/html": [
              "<div>\n",
              "<style scoped>\n",
              "    .dataframe tbody tr th:only-of-type {\n",
              "        vertical-align: middle;\n",
              "    }\n",
              "\n",
              "    .dataframe tbody tr th {\n",
              "        vertical-align: top;\n",
              "    }\n",
              "\n",
              "    .dataframe thead th {\n",
              "        text-align: right;\n",
              "    }\n",
              "</style>\n",
              "<table border=\"1\" class=\"dataframe\">\n",
              "  <thead>\n",
              "    <tr style=\"text-align: right;\">\n",
              "      <th></th>\n",
              "      <th>States</th>\n",
              "      <th>on_Time_or_delayed</th>\n",
              "      <th>Los Angeles</th>\n",
              "      <th>Phoenix</th>\n",
              "      <th>San Diego</th>\n",
              "      <th>San Francisco</th>\n",
              "      <th>Seattle</th>\n",
              "    </tr>\n",
              "  </thead>\n",
              "  <tbody>\n",
              "    <tr>\n",
              "      <th>0</th>\n",
              "      <td>ALASKA</td>\n",
              "      <td>on time</td>\n",
              "      <td>497.0</td>\n",
              "      <td>221.0</td>\n",
              "      <td>212.0</td>\n",
              "      <td>503.0</td>\n",
              "      <td>1841.0</td>\n",
              "    </tr>\n",
              "    <tr>\n",
              "      <th>1</th>\n",
              "      <td>NaN</td>\n",
              "      <td>delayed</td>\n",
              "      <td>62.0</td>\n",
              "      <td>12.0</td>\n",
              "      <td>20.0</td>\n",
              "      <td>102.0</td>\n",
              "      <td>305.0</td>\n",
              "    </tr>\n",
              "    <tr>\n",
              "      <th>3</th>\n",
              "      <td>AM WEST</td>\n",
              "      <td>on time</td>\n",
              "      <td>694.0</td>\n",
              "      <td>4840.0</td>\n",
              "      <td>383.0</td>\n",
              "      <td>320.0</td>\n",
              "      <td>201.0</td>\n",
              "    </tr>\n",
              "    <tr>\n",
              "      <th>4</th>\n",
              "      <td>NaN</td>\n",
              "      <td>delayed</td>\n",
              "      <td>117.0</td>\n",
              "      <td>415.0</td>\n",
              "      <td>65.0</td>\n",
              "      <td>129.0</td>\n",
              "      <td>61.0</td>\n",
              "    </tr>\n",
              "  </tbody>\n",
              "</table>\n",
              "</div>"
            ],
            "text/plain": [
              "    States on_Time_or_delayed  Los Angeles  ...  San Diego  San Francisco  Seattle \n",
              "0   ALASKA            on time        497.0  ...      212.0          503.0    1841.0\n",
              "1      NaN            delayed         62.0  ...       20.0          102.0     305.0\n",
              "3  AM WEST            on time        694.0  ...      383.0          320.0     201.0\n",
              "4      NaN            delayed        117.0  ...       65.0          129.0      61.0\n",
              "\n",
              "[4 rows x 7 columns]"
            ]
          },
          "metadata": {
            "tags": []
          },
          "execution_count": 5
        }
      ]
    },
    {
      "cell_type": "markdown",
      "metadata": {
        "id": "1cJ5ZF0F5OwP"
      },
      "source": [
        "Foreward fill the States row to replace the NAN values with the corresponding state."
      ]
    },
    {
      "cell_type": "code",
      "metadata": {
        "colab": {
          "base_uri": "https://localhost:8080/",
          "height": 171
        },
        "id": "mvJ1Shz46_EY",
        "outputId": "88d7243d-0b43-45fb-c40f-1052ef19f335"
      },
      "source": [
        "#Foreward fill the Na values in the State column\n",
        "Airelines=Airlines.ffill()\n",
        "#Show the result\n",
        "Airelines"
      ],
      "execution_count": 6,
      "outputs": [
        {
          "output_type": "execute_result",
          "data": {
            "text/html": [
              "<div>\n",
              "<style scoped>\n",
              "    .dataframe tbody tr th:only-of-type {\n",
              "        vertical-align: middle;\n",
              "    }\n",
              "\n",
              "    .dataframe tbody tr th {\n",
              "        vertical-align: top;\n",
              "    }\n",
              "\n",
              "    .dataframe thead th {\n",
              "        text-align: right;\n",
              "    }\n",
              "</style>\n",
              "<table border=\"1\" class=\"dataframe\">\n",
              "  <thead>\n",
              "    <tr style=\"text-align: right;\">\n",
              "      <th></th>\n",
              "      <th>States</th>\n",
              "      <th>on_Time_or_delayed</th>\n",
              "      <th>Los Angeles</th>\n",
              "      <th>Phoenix</th>\n",
              "      <th>San Diego</th>\n",
              "      <th>San Francisco</th>\n",
              "      <th>Seattle</th>\n",
              "    </tr>\n",
              "  </thead>\n",
              "  <tbody>\n",
              "    <tr>\n",
              "      <th>0</th>\n",
              "      <td>ALASKA</td>\n",
              "      <td>on time</td>\n",
              "      <td>497.0</td>\n",
              "      <td>221.0</td>\n",
              "      <td>212.0</td>\n",
              "      <td>503.0</td>\n",
              "      <td>1841.0</td>\n",
              "    </tr>\n",
              "    <tr>\n",
              "      <th>1</th>\n",
              "      <td>ALASKA</td>\n",
              "      <td>delayed</td>\n",
              "      <td>62.0</td>\n",
              "      <td>12.0</td>\n",
              "      <td>20.0</td>\n",
              "      <td>102.0</td>\n",
              "      <td>305.0</td>\n",
              "    </tr>\n",
              "    <tr>\n",
              "      <th>3</th>\n",
              "      <td>AM WEST</td>\n",
              "      <td>on time</td>\n",
              "      <td>694.0</td>\n",
              "      <td>4840.0</td>\n",
              "      <td>383.0</td>\n",
              "      <td>320.0</td>\n",
              "      <td>201.0</td>\n",
              "    </tr>\n",
              "    <tr>\n",
              "      <th>4</th>\n",
              "      <td>AM WEST</td>\n",
              "      <td>delayed</td>\n",
              "      <td>117.0</td>\n",
              "      <td>415.0</td>\n",
              "      <td>65.0</td>\n",
              "      <td>129.0</td>\n",
              "      <td>61.0</td>\n",
              "    </tr>\n",
              "  </tbody>\n",
              "</table>\n",
              "</div>"
            ],
            "text/plain": [
              "    States on_Time_or_delayed  Los Angeles  ...  San Diego  San Francisco  Seattle \n",
              "0   ALASKA            on time        497.0  ...      212.0          503.0    1841.0\n",
              "1   ALASKA            delayed         62.0  ...       20.0          102.0     305.0\n",
              "3  AM WEST            on time        694.0  ...      383.0          320.0     201.0\n",
              "4  AM WEST            delayed        117.0  ...       65.0          129.0      61.0\n",
              "\n",
              "[4 rows x 7 columns]"
            ]
          },
          "metadata": {
            "tags": []
          },
          "execution_count": 6
        }
      ]
    },
    {
      "cell_type": "markdown",
      "metadata": {
        "id": "fl-vSIjW5ZPm"
      },
      "source": [
        "Melt the dataframe on States and on_Time_or_delayed to shift the data into long format."
      ]
    },
    {
      "cell_type": "code",
      "metadata": {
        "colab": {
          "base_uri": "https://localhost:8080/",
          "height": 662
        },
        "id": "8B4w-x3n8fku",
        "outputId": "10ab9275-c42e-4345-b077-526e5aab08ad"
      },
      "source": [
        "#Covert to long format by melting on States and on_Time_or_delayed\n",
        "melted = pd.melt(Airelines, ['States','on_Time_or_delayed'])\n",
        "#Show the result\n",
        "melted"
      ],
      "execution_count": 7,
      "outputs": [
        {
          "output_type": "execute_result",
          "data": {
            "text/html": [
              "<div>\n",
              "<style scoped>\n",
              "    .dataframe tbody tr th:only-of-type {\n",
              "        vertical-align: middle;\n",
              "    }\n",
              "\n",
              "    .dataframe tbody tr th {\n",
              "        vertical-align: top;\n",
              "    }\n",
              "\n",
              "    .dataframe thead th {\n",
              "        text-align: right;\n",
              "    }\n",
              "</style>\n",
              "<table border=\"1\" class=\"dataframe\">\n",
              "  <thead>\n",
              "    <tr style=\"text-align: right;\">\n",
              "      <th></th>\n",
              "      <th>States</th>\n",
              "      <th>on_Time_or_delayed</th>\n",
              "      <th>variable</th>\n",
              "      <th>value</th>\n",
              "    </tr>\n",
              "  </thead>\n",
              "  <tbody>\n",
              "    <tr>\n",
              "      <th>0</th>\n",
              "      <td>ALASKA</td>\n",
              "      <td>on time</td>\n",
              "      <td>Los Angeles</td>\n",
              "      <td>497.0</td>\n",
              "    </tr>\n",
              "    <tr>\n",
              "      <th>1</th>\n",
              "      <td>ALASKA</td>\n",
              "      <td>delayed</td>\n",
              "      <td>Los Angeles</td>\n",
              "      <td>62.0</td>\n",
              "    </tr>\n",
              "    <tr>\n",
              "      <th>2</th>\n",
              "      <td>AM WEST</td>\n",
              "      <td>on time</td>\n",
              "      <td>Los Angeles</td>\n",
              "      <td>694.0</td>\n",
              "    </tr>\n",
              "    <tr>\n",
              "      <th>3</th>\n",
              "      <td>AM WEST</td>\n",
              "      <td>delayed</td>\n",
              "      <td>Los Angeles</td>\n",
              "      <td>117.0</td>\n",
              "    </tr>\n",
              "    <tr>\n",
              "      <th>4</th>\n",
              "      <td>ALASKA</td>\n",
              "      <td>on time</td>\n",
              "      <td>Phoenix</td>\n",
              "      <td>221.0</td>\n",
              "    </tr>\n",
              "    <tr>\n",
              "      <th>5</th>\n",
              "      <td>ALASKA</td>\n",
              "      <td>delayed</td>\n",
              "      <td>Phoenix</td>\n",
              "      <td>12.0</td>\n",
              "    </tr>\n",
              "    <tr>\n",
              "      <th>6</th>\n",
              "      <td>AM WEST</td>\n",
              "      <td>on time</td>\n",
              "      <td>Phoenix</td>\n",
              "      <td>4840.0</td>\n",
              "    </tr>\n",
              "    <tr>\n",
              "      <th>7</th>\n",
              "      <td>AM WEST</td>\n",
              "      <td>delayed</td>\n",
              "      <td>Phoenix</td>\n",
              "      <td>415.0</td>\n",
              "    </tr>\n",
              "    <tr>\n",
              "      <th>8</th>\n",
              "      <td>ALASKA</td>\n",
              "      <td>on time</td>\n",
              "      <td>San Diego</td>\n",
              "      <td>212.0</td>\n",
              "    </tr>\n",
              "    <tr>\n",
              "      <th>9</th>\n",
              "      <td>ALASKA</td>\n",
              "      <td>delayed</td>\n",
              "      <td>San Diego</td>\n",
              "      <td>20.0</td>\n",
              "    </tr>\n",
              "    <tr>\n",
              "      <th>10</th>\n",
              "      <td>AM WEST</td>\n",
              "      <td>on time</td>\n",
              "      <td>San Diego</td>\n",
              "      <td>383.0</td>\n",
              "    </tr>\n",
              "    <tr>\n",
              "      <th>11</th>\n",
              "      <td>AM WEST</td>\n",
              "      <td>delayed</td>\n",
              "      <td>San Diego</td>\n",
              "      <td>65.0</td>\n",
              "    </tr>\n",
              "    <tr>\n",
              "      <th>12</th>\n",
              "      <td>ALASKA</td>\n",
              "      <td>on time</td>\n",
              "      <td>San Francisco</td>\n",
              "      <td>503.0</td>\n",
              "    </tr>\n",
              "    <tr>\n",
              "      <th>13</th>\n",
              "      <td>ALASKA</td>\n",
              "      <td>delayed</td>\n",
              "      <td>San Francisco</td>\n",
              "      <td>102.0</td>\n",
              "    </tr>\n",
              "    <tr>\n",
              "      <th>14</th>\n",
              "      <td>AM WEST</td>\n",
              "      <td>on time</td>\n",
              "      <td>San Francisco</td>\n",
              "      <td>320.0</td>\n",
              "    </tr>\n",
              "    <tr>\n",
              "      <th>15</th>\n",
              "      <td>AM WEST</td>\n",
              "      <td>delayed</td>\n",
              "      <td>San Francisco</td>\n",
              "      <td>129.0</td>\n",
              "    </tr>\n",
              "    <tr>\n",
              "      <th>16</th>\n",
              "      <td>ALASKA</td>\n",
              "      <td>on time</td>\n",
              "      <td>Seattle</td>\n",
              "      <td>1841.0</td>\n",
              "    </tr>\n",
              "    <tr>\n",
              "      <th>17</th>\n",
              "      <td>ALASKA</td>\n",
              "      <td>delayed</td>\n",
              "      <td>Seattle</td>\n",
              "      <td>305.0</td>\n",
              "    </tr>\n",
              "    <tr>\n",
              "      <th>18</th>\n",
              "      <td>AM WEST</td>\n",
              "      <td>on time</td>\n",
              "      <td>Seattle</td>\n",
              "      <td>201.0</td>\n",
              "    </tr>\n",
              "    <tr>\n",
              "      <th>19</th>\n",
              "      <td>AM WEST</td>\n",
              "      <td>delayed</td>\n",
              "      <td>Seattle</td>\n",
              "      <td>61.0</td>\n",
              "    </tr>\n",
              "  </tbody>\n",
              "</table>\n",
              "</div>"
            ],
            "text/plain": [
              "     States on_Time_or_delayed       variable   value\n",
              "0    ALASKA            on time    Los Angeles   497.0\n",
              "1    ALASKA            delayed    Los Angeles    62.0\n",
              "2   AM WEST            on time    Los Angeles   694.0\n",
              "3   AM WEST            delayed    Los Angeles   117.0\n",
              "4    ALASKA            on time        Phoenix   221.0\n",
              "5    ALASKA            delayed        Phoenix    12.0\n",
              "6   AM WEST            on time        Phoenix  4840.0\n",
              "7   AM WEST            delayed        Phoenix   415.0\n",
              "8    ALASKA            on time      San Diego   212.0\n",
              "9    ALASKA            delayed      San Diego    20.0\n",
              "10  AM WEST            on time      San Diego   383.0\n",
              "11  AM WEST            delayed      San Diego    65.0\n",
              "12   ALASKA            on time  San Francisco   503.0\n",
              "13   ALASKA            delayed  San Francisco   102.0\n",
              "14  AM WEST            on time  San Francisco   320.0\n",
              "15  AM WEST            delayed  San Francisco   129.0\n",
              "16   ALASKA            on time       Seattle   1841.0\n",
              "17   ALASKA            delayed       Seattle    305.0\n",
              "18  AM WEST            on time       Seattle    201.0\n",
              "19  AM WEST            delayed       Seattle     61.0"
            ]
          },
          "metadata": {
            "tags": []
          },
          "execution_count": 7
        }
      ]
    },
    {
      "cell_type": "markdown",
      "metadata": {
        "id": "EJA08zNm5nQD"
      },
      "source": [
        "Rename our variable and value columns as City and Number_of_flights respectively so that the column name more directly reflects the values in the columns."
      ]
    },
    {
      "cell_type": "code",
      "metadata": {
        "colab": {
          "base_uri": "https://localhost:8080/",
          "height": 662
        },
        "id": "IO91tY9v_VHr",
        "outputId": "0bc06e56-fccf-491f-ee54-54076c07ec8e"
      },
      "source": [
        "#Rename our Variable and Value columns as City and Number_of_flights respectively\n",
        "melted=melted.rename(columns={'variable':'City'\t,'value':'Number_of_flights'})\n",
        "#Show the result\n",
        "melted"
      ],
      "execution_count": 8,
      "outputs": [
        {
          "output_type": "execute_result",
          "data": {
            "text/html": [
              "<div>\n",
              "<style scoped>\n",
              "    .dataframe tbody tr th:only-of-type {\n",
              "        vertical-align: middle;\n",
              "    }\n",
              "\n",
              "    .dataframe tbody tr th {\n",
              "        vertical-align: top;\n",
              "    }\n",
              "\n",
              "    .dataframe thead th {\n",
              "        text-align: right;\n",
              "    }\n",
              "</style>\n",
              "<table border=\"1\" class=\"dataframe\">\n",
              "  <thead>\n",
              "    <tr style=\"text-align: right;\">\n",
              "      <th></th>\n",
              "      <th>States</th>\n",
              "      <th>on_Time_or_delayed</th>\n",
              "      <th>City</th>\n",
              "      <th>Number_of_flights</th>\n",
              "    </tr>\n",
              "  </thead>\n",
              "  <tbody>\n",
              "    <tr>\n",
              "      <th>0</th>\n",
              "      <td>ALASKA</td>\n",
              "      <td>on time</td>\n",
              "      <td>Los Angeles</td>\n",
              "      <td>497.0</td>\n",
              "    </tr>\n",
              "    <tr>\n",
              "      <th>1</th>\n",
              "      <td>ALASKA</td>\n",
              "      <td>delayed</td>\n",
              "      <td>Los Angeles</td>\n",
              "      <td>62.0</td>\n",
              "    </tr>\n",
              "    <tr>\n",
              "      <th>2</th>\n",
              "      <td>AM WEST</td>\n",
              "      <td>on time</td>\n",
              "      <td>Los Angeles</td>\n",
              "      <td>694.0</td>\n",
              "    </tr>\n",
              "    <tr>\n",
              "      <th>3</th>\n",
              "      <td>AM WEST</td>\n",
              "      <td>delayed</td>\n",
              "      <td>Los Angeles</td>\n",
              "      <td>117.0</td>\n",
              "    </tr>\n",
              "    <tr>\n",
              "      <th>4</th>\n",
              "      <td>ALASKA</td>\n",
              "      <td>on time</td>\n",
              "      <td>Phoenix</td>\n",
              "      <td>221.0</td>\n",
              "    </tr>\n",
              "    <tr>\n",
              "      <th>5</th>\n",
              "      <td>ALASKA</td>\n",
              "      <td>delayed</td>\n",
              "      <td>Phoenix</td>\n",
              "      <td>12.0</td>\n",
              "    </tr>\n",
              "    <tr>\n",
              "      <th>6</th>\n",
              "      <td>AM WEST</td>\n",
              "      <td>on time</td>\n",
              "      <td>Phoenix</td>\n",
              "      <td>4840.0</td>\n",
              "    </tr>\n",
              "    <tr>\n",
              "      <th>7</th>\n",
              "      <td>AM WEST</td>\n",
              "      <td>delayed</td>\n",
              "      <td>Phoenix</td>\n",
              "      <td>415.0</td>\n",
              "    </tr>\n",
              "    <tr>\n",
              "      <th>8</th>\n",
              "      <td>ALASKA</td>\n",
              "      <td>on time</td>\n",
              "      <td>San Diego</td>\n",
              "      <td>212.0</td>\n",
              "    </tr>\n",
              "    <tr>\n",
              "      <th>9</th>\n",
              "      <td>ALASKA</td>\n",
              "      <td>delayed</td>\n",
              "      <td>San Diego</td>\n",
              "      <td>20.0</td>\n",
              "    </tr>\n",
              "    <tr>\n",
              "      <th>10</th>\n",
              "      <td>AM WEST</td>\n",
              "      <td>on time</td>\n",
              "      <td>San Diego</td>\n",
              "      <td>383.0</td>\n",
              "    </tr>\n",
              "    <tr>\n",
              "      <th>11</th>\n",
              "      <td>AM WEST</td>\n",
              "      <td>delayed</td>\n",
              "      <td>San Diego</td>\n",
              "      <td>65.0</td>\n",
              "    </tr>\n",
              "    <tr>\n",
              "      <th>12</th>\n",
              "      <td>ALASKA</td>\n",
              "      <td>on time</td>\n",
              "      <td>San Francisco</td>\n",
              "      <td>503.0</td>\n",
              "    </tr>\n",
              "    <tr>\n",
              "      <th>13</th>\n",
              "      <td>ALASKA</td>\n",
              "      <td>delayed</td>\n",
              "      <td>San Francisco</td>\n",
              "      <td>102.0</td>\n",
              "    </tr>\n",
              "    <tr>\n",
              "      <th>14</th>\n",
              "      <td>AM WEST</td>\n",
              "      <td>on time</td>\n",
              "      <td>San Francisco</td>\n",
              "      <td>320.0</td>\n",
              "    </tr>\n",
              "    <tr>\n",
              "      <th>15</th>\n",
              "      <td>AM WEST</td>\n",
              "      <td>delayed</td>\n",
              "      <td>San Francisco</td>\n",
              "      <td>129.0</td>\n",
              "    </tr>\n",
              "    <tr>\n",
              "      <th>16</th>\n",
              "      <td>ALASKA</td>\n",
              "      <td>on time</td>\n",
              "      <td>Seattle</td>\n",
              "      <td>1841.0</td>\n",
              "    </tr>\n",
              "    <tr>\n",
              "      <th>17</th>\n",
              "      <td>ALASKA</td>\n",
              "      <td>delayed</td>\n",
              "      <td>Seattle</td>\n",
              "      <td>305.0</td>\n",
              "    </tr>\n",
              "    <tr>\n",
              "      <th>18</th>\n",
              "      <td>AM WEST</td>\n",
              "      <td>on time</td>\n",
              "      <td>Seattle</td>\n",
              "      <td>201.0</td>\n",
              "    </tr>\n",
              "    <tr>\n",
              "      <th>19</th>\n",
              "      <td>AM WEST</td>\n",
              "      <td>delayed</td>\n",
              "      <td>Seattle</td>\n",
              "      <td>61.0</td>\n",
              "    </tr>\n",
              "  </tbody>\n",
              "</table>\n",
              "</div>"
            ],
            "text/plain": [
              "     States on_Time_or_delayed           City  Number_of_flights\n",
              "0    ALASKA            on time    Los Angeles              497.0\n",
              "1    ALASKA            delayed    Los Angeles               62.0\n",
              "2   AM WEST            on time    Los Angeles              694.0\n",
              "3   AM WEST            delayed    Los Angeles              117.0\n",
              "4    ALASKA            on time        Phoenix              221.0\n",
              "5    ALASKA            delayed        Phoenix               12.0\n",
              "6   AM WEST            on time        Phoenix             4840.0\n",
              "7   AM WEST            delayed        Phoenix              415.0\n",
              "8    ALASKA            on time      San Diego              212.0\n",
              "9    ALASKA            delayed      San Diego               20.0\n",
              "10  AM WEST            on time      San Diego              383.0\n",
              "11  AM WEST            delayed      San Diego               65.0\n",
              "12   ALASKA            on time  San Francisco              503.0\n",
              "13   ALASKA            delayed  San Francisco              102.0\n",
              "14  AM WEST            on time  San Francisco              320.0\n",
              "15  AM WEST            delayed  San Francisco              129.0\n",
              "16   ALASKA            on time       Seattle              1841.0\n",
              "17   ALASKA            delayed       Seattle               305.0\n",
              "18  AM WEST            on time       Seattle               201.0\n",
              "19  AM WEST            delayed       Seattle                61.0"
            ]
          },
          "metadata": {
            "tags": []
          },
          "execution_count": 8
        }
      ]
    },
    {
      "cell_type": "markdown",
      "metadata": {
        "id": "rlHN9fg56Zgi"
      },
      "source": [
        "Part 3:"
      ]
    },
    {
      "cell_type": "markdown",
      "metadata": {
        "id": "NhR7omLQ636-"
      },
      "source": [
        "Create a pivot table that uses a hierarchical index with states and City as the two indexes. This will provide us a dataframe with our delayed data in a separate column from the on time data."
      ]
    },
    {
      "cell_type": "code",
      "metadata": {
        "colab": {
          "base_uri": "https://localhost:8080/",
          "height": 386
        },
        "id": "i6ARj4VyVVBL",
        "outputId": "ed2b60b2-6e04-4c1e-a315-2a277269bc79"
      },
      "source": [
        "#pivot the table and create a hierarchical index with states and city as the two indexes\n",
        "Pivot = melted.pivot_table(index=['States','City'],\n",
        "                             columns='on_Time_or_delayed',\n",
        "                             values='Number_of_flights')\n",
        "#Show the result\n",
        "Pivot"
      ],
      "execution_count": 9,
      "outputs": [
        {
          "output_type": "execute_result",
          "data": {
            "text/html": [
              "<div>\n",
              "<style scoped>\n",
              "    .dataframe tbody tr th:only-of-type {\n",
              "        vertical-align: middle;\n",
              "    }\n",
              "\n",
              "    .dataframe tbody tr th {\n",
              "        vertical-align: top;\n",
              "    }\n",
              "\n",
              "    .dataframe thead th {\n",
              "        text-align: right;\n",
              "    }\n",
              "</style>\n",
              "<table border=\"1\" class=\"dataframe\">\n",
              "  <thead>\n",
              "    <tr style=\"text-align: right;\">\n",
              "      <th></th>\n",
              "      <th>on_Time_or_delayed</th>\n",
              "      <th>delayed</th>\n",
              "      <th>on time</th>\n",
              "    </tr>\n",
              "    <tr>\n",
              "      <th>States</th>\n",
              "      <th>City</th>\n",
              "      <th></th>\n",
              "      <th></th>\n",
              "    </tr>\n",
              "  </thead>\n",
              "  <tbody>\n",
              "    <tr>\n",
              "      <th rowspan=\"5\" valign=\"top\">ALASKA</th>\n",
              "      <th>Los Angeles</th>\n",
              "      <td>62.0</td>\n",
              "      <td>497.0</td>\n",
              "    </tr>\n",
              "    <tr>\n",
              "      <th>Phoenix</th>\n",
              "      <td>12.0</td>\n",
              "      <td>221.0</td>\n",
              "    </tr>\n",
              "    <tr>\n",
              "      <th>San Diego</th>\n",
              "      <td>20.0</td>\n",
              "      <td>212.0</td>\n",
              "    </tr>\n",
              "    <tr>\n",
              "      <th>San Francisco</th>\n",
              "      <td>102.0</td>\n",
              "      <td>503.0</td>\n",
              "    </tr>\n",
              "    <tr>\n",
              "      <th>Seattle</th>\n",
              "      <td>305.0</td>\n",
              "      <td>1841.0</td>\n",
              "    </tr>\n",
              "    <tr>\n",
              "      <th rowspan=\"5\" valign=\"top\">AM WEST</th>\n",
              "      <th>Los Angeles</th>\n",
              "      <td>117.0</td>\n",
              "      <td>694.0</td>\n",
              "    </tr>\n",
              "    <tr>\n",
              "      <th>Phoenix</th>\n",
              "      <td>415.0</td>\n",
              "      <td>4840.0</td>\n",
              "    </tr>\n",
              "    <tr>\n",
              "      <th>San Diego</th>\n",
              "      <td>65.0</td>\n",
              "      <td>383.0</td>\n",
              "    </tr>\n",
              "    <tr>\n",
              "      <th>San Francisco</th>\n",
              "      <td>129.0</td>\n",
              "      <td>320.0</td>\n",
              "    </tr>\n",
              "    <tr>\n",
              "      <th>Seattle</th>\n",
              "      <td>61.0</td>\n",
              "      <td>201.0</td>\n",
              "    </tr>\n",
              "  </tbody>\n",
              "</table>\n",
              "</div>"
            ],
            "text/plain": [
              "on_Time_or_delayed     delayed  on time\n",
              "States  City                           \n",
              "ALASKA  Los Angeles       62.0    497.0\n",
              "        Phoenix           12.0    221.0\n",
              "        San Diego         20.0    212.0\n",
              "        San Francisco    102.0    503.0\n",
              "        Seattle          305.0   1841.0\n",
              "AM WEST Los Angeles      117.0    694.0\n",
              "        Phoenix          415.0   4840.0\n",
              "        San Diego         65.0    383.0\n",
              "        San Francisco    129.0    320.0\n",
              "        Seattle           61.0    201.0"
            ]
          },
          "metadata": {
            "tags": []
          },
          "execution_count": 9
        }
      ]
    },
    {
      "cell_type": "markdown",
      "metadata": {
        "id": "CRL_XXqH7W_M"
      },
      "source": [
        "Sort the results by City so that Competing airlines are arranged next to each other by city. This is mostly for readability."
      ]
    },
    {
      "cell_type": "code",
      "metadata": {
        "colab": {
          "base_uri": "https://localhost:8080/",
          "height": 386
        },
        "id": "lSvF8GGmXGQS",
        "outputId": "2eaf48f7-d04b-4710-8d3a-cb87dff6395d"
      },
      "source": [
        "#Sort the values by City so that it is more readable\n",
        "pivot=Pivot.sort_values('City')\n",
        "#Show the result\n",
        "pivot"
      ],
      "execution_count": 10,
      "outputs": [
        {
          "output_type": "execute_result",
          "data": {
            "text/html": [
              "<div>\n",
              "<style scoped>\n",
              "    .dataframe tbody tr th:only-of-type {\n",
              "        vertical-align: middle;\n",
              "    }\n",
              "\n",
              "    .dataframe tbody tr th {\n",
              "        vertical-align: top;\n",
              "    }\n",
              "\n",
              "    .dataframe thead th {\n",
              "        text-align: right;\n",
              "    }\n",
              "</style>\n",
              "<table border=\"1\" class=\"dataframe\">\n",
              "  <thead>\n",
              "    <tr style=\"text-align: right;\">\n",
              "      <th></th>\n",
              "      <th>on_Time_or_delayed</th>\n",
              "      <th>delayed</th>\n",
              "      <th>on time</th>\n",
              "    </tr>\n",
              "    <tr>\n",
              "      <th>States</th>\n",
              "      <th>City</th>\n",
              "      <th></th>\n",
              "      <th></th>\n",
              "    </tr>\n",
              "  </thead>\n",
              "  <tbody>\n",
              "    <tr>\n",
              "      <th>ALASKA</th>\n",
              "      <th>Los Angeles</th>\n",
              "      <td>62.0</td>\n",
              "      <td>497.0</td>\n",
              "    </tr>\n",
              "    <tr>\n",
              "      <th>AM WEST</th>\n",
              "      <th>Los Angeles</th>\n",
              "      <td>117.0</td>\n",
              "      <td>694.0</td>\n",
              "    </tr>\n",
              "    <tr>\n",
              "      <th>ALASKA</th>\n",
              "      <th>Phoenix</th>\n",
              "      <td>12.0</td>\n",
              "      <td>221.0</td>\n",
              "    </tr>\n",
              "    <tr>\n",
              "      <th>AM WEST</th>\n",
              "      <th>Phoenix</th>\n",
              "      <td>415.0</td>\n",
              "      <td>4840.0</td>\n",
              "    </tr>\n",
              "    <tr>\n",
              "      <th>ALASKA</th>\n",
              "      <th>San Diego</th>\n",
              "      <td>20.0</td>\n",
              "      <td>212.0</td>\n",
              "    </tr>\n",
              "    <tr>\n",
              "      <th>AM WEST</th>\n",
              "      <th>San Diego</th>\n",
              "      <td>65.0</td>\n",
              "      <td>383.0</td>\n",
              "    </tr>\n",
              "    <tr>\n",
              "      <th>ALASKA</th>\n",
              "      <th>San Francisco</th>\n",
              "      <td>102.0</td>\n",
              "      <td>503.0</td>\n",
              "    </tr>\n",
              "    <tr>\n",
              "      <th>AM WEST</th>\n",
              "      <th>San Francisco</th>\n",
              "      <td>129.0</td>\n",
              "      <td>320.0</td>\n",
              "    </tr>\n",
              "    <tr>\n",
              "      <th>ALASKA</th>\n",
              "      <th>Seattle</th>\n",
              "      <td>305.0</td>\n",
              "      <td>1841.0</td>\n",
              "    </tr>\n",
              "    <tr>\n",
              "      <th>AM WEST</th>\n",
              "      <th>Seattle</th>\n",
              "      <td>61.0</td>\n",
              "      <td>201.0</td>\n",
              "    </tr>\n",
              "  </tbody>\n",
              "</table>\n",
              "</div>"
            ],
            "text/plain": [
              "on_Time_or_delayed     delayed  on time\n",
              "States  City                           \n",
              "ALASKA  Los Angeles       62.0    497.0\n",
              "AM WEST Los Angeles      117.0    694.0\n",
              "ALASKA  Phoenix           12.0    221.0\n",
              "AM WEST Phoenix          415.0   4840.0\n",
              "ALASKA  San Diego         20.0    212.0\n",
              "AM WEST San Diego         65.0    383.0\n",
              "ALASKA  San Francisco    102.0    503.0\n",
              "AM WEST San Francisco    129.0    320.0\n",
              "ALASKA  Seattle          305.0   1841.0\n",
              "AM WEST Seattle           61.0    201.0"
            ]
          },
          "metadata": {
            "tags": []
          },
          "execution_count": 10
        }
      ]
    },
    {
      "cell_type": "markdown",
      "metadata": {
        "id": "wsDS8yz47nnS"
      },
      "source": [
        "Reset the index. This will make plotting much easier as we will have turned states and City back into columns. "
      ]
    },
    {
      "cell_type": "code",
      "metadata": {
        "colab": {
          "base_uri": "https://localhost:8080/",
          "height": 355
        },
        "id": "2aB9qI6ShUI5",
        "outputId": "9c3aed3e-a208-4a26-8bd5-bf36def94242"
      },
      "source": [
        "#Reset the index to turn States and city back into column values\n",
        "pivot.reset_index( inplace=True)\n",
        "#Show the result\n",
        "pivot\n"
      ],
      "execution_count": 11,
      "outputs": [
        {
          "output_type": "execute_result",
          "data": {
            "text/html": [
              "<div>\n",
              "<style scoped>\n",
              "    .dataframe tbody tr th:only-of-type {\n",
              "        vertical-align: middle;\n",
              "    }\n",
              "\n",
              "    .dataframe tbody tr th {\n",
              "        vertical-align: top;\n",
              "    }\n",
              "\n",
              "    .dataframe thead th {\n",
              "        text-align: right;\n",
              "    }\n",
              "</style>\n",
              "<table border=\"1\" class=\"dataframe\">\n",
              "  <thead>\n",
              "    <tr style=\"text-align: right;\">\n",
              "      <th>on_Time_or_delayed</th>\n",
              "      <th>States</th>\n",
              "      <th>City</th>\n",
              "      <th>delayed</th>\n",
              "      <th>on time</th>\n",
              "    </tr>\n",
              "  </thead>\n",
              "  <tbody>\n",
              "    <tr>\n",
              "      <th>0</th>\n",
              "      <td>ALASKA</td>\n",
              "      <td>Los Angeles</td>\n",
              "      <td>62.0</td>\n",
              "      <td>497.0</td>\n",
              "    </tr>\n",
              "    <tr>\n",
              "      <th>1</th>\n",
              "      <td>AM WEST</td>\n",
              "      <td>Los Angeles</td>\n",
              "      <td>117.0</td>\n",
              "      <td>694.0</td>\n",
              "    </tr>\n",
              "    <tr>\n",
              "      <th>2</th>\n",
              "      <td>ALASKA</td>\n",
              "      <td>Phoenix</td>\n",
              "      <td>12.0</td>\n",
              "      <td>221.0</td>\n",
              "    </tr>\n",
              "    <tr>\n",
              "      <th>3</th>\n",
              "      <td>AM WEST</td>\n",
              "      <td>Phoenix</td>\n",
              "      <td>415.0</td>\n",
              "      <td>4840.0</td>\n",
              "    </tr>\n",
              "    <tr>\n",
              "      <th>4</th>\n",
              "      <td>ALASKA</td>\n",
              "      <td>San Diego</td>\n",
              "      <td>20.0</td>\n",
              "      <td>212.0</td>\n",
              "    </tr>\n",
              "    <tr>\n",
              "      <th>5</th>\n",
              "      <td>AM WEST</td>\n",
              "      <td>San Diego</td>\n",
              "      <td>65.0</td>\n",
              "      <td>383.0</td>\n",
              "    </tr>\n",
              "    <tr>\n",
              "      <th>6</th>\n",
              "      <td>ALASKA</td>\n",
              "      <td>San Francisco</td>\n",
              "      <td>102.0</td>\n",
              "      <td>503.0</td>\n",
              "    </tr>\n",
              "    <tr>\n",
              "      <th>7</th>\n",
              "      <td>AM WEST</td>\n",
              "      <td>San Francisco</td>\n",
              "      <td>129.0</td>\n",
              "      <td>320.0</td>\n",
              "    </tr>\n",
              "    <tr>\n",
              "      <th>8</th>\n",
              "      <td>ALASKA</td>\n",
              "      <td>Seattle</td>\n",
              "      <td>305.0</td>\n",
              "      <td>1841.0</td>\n",
              "    </tr>\n",
              "    <tr>\n",
              "      <th>9</th>\n",
              "      <td>AM WEST</td>\n",
              "      <td>Seattle</td>\n",
              "      <td>61.0</td>\n",
              "      <td>201.0</td>\n",
              "    </tr>\n",
              "  </tbody>\n",
              "</table>\n",
              "</div>"
            ],
            "text/plain": [
              "on_Time_or_delayed   States           City  delayed  on time\n",
              "0                    ALASKA    Los Angeles     62.0    497.0\n",
              "1                   AM WEST    Los Angeles    117.0    694.0\n",
              "2                    ALASKA        Phoenix     12.0    221.0\n",
              "3                   AM WEST        Phoenix    415.0   4840.0\n",
              "4                    ALASKA      San Diego     20.0    212.0\n",
              "5                   AM WEST      San Diego     65.0    383.0\n",
              "6                    ALASKA  San Francisco    102.0    503.0\n",
              "7                   AM WEST  San Francisco    129.0    320.0\n",
              "8                    ALASKA       Seattle     305.0   1841.0\n",
              "9                   AM WEST       Seattle      61.0    201.0"
            ]
          },
          "metadata": {
            "tags": []
          },
          "execution_count": 11
        }
      ]
    },
    {
      "cell_type": "markdown",
      "metadata": {
        "id": "GRTPHGtk8DzO"
      },
      "source": [
        "Create a new column that sums up the on time and delayed columns. We will use this to calculate the percentage of on time flights."
      ]
    },
    {
      "cell_type": "code",
      "metadata": {
        "colab": {
          "base_uri": "https://localhost:8080/",
          "height": 355
        },
        "id": "xA5bVIkgb1qN",
        "outputId": "cd5be8a0-5e1a-4f20-8e25-de68ef22bfaf"
      },
      "source": [
        "#Create Pivot_1 and pass pivot into it.\n",
        "pivot_1=pivot\n",
        "#Create a new column sum that contains the sum of delayed and on time\n",
        "pivot_1['sum'] = pivot_1[\"on time\"] + pivot_1[\"delayed\"]\n",
        "#Show the result\n",
        "pivot_1"
      ],
      "execution_count": 12,
      "outputs": [
        {
          "output_type": "execute_result",
          "data": {
            "text/html": [
              "<div>\n",
              "<style scoped>\n",
              "    .dataframe tbody tr th:only-of-type {\n",
              "        vertical-align: middle;\n",
              "    }\n",
              "\n",
              "    .dataframe tbody tr th {\n",
              "        vertical-align: top;\n",
              "    }\n",
              "\n",
              "    .dataframe thead th {\n",
              "        text-align: right;\n",
              "    }\n",
              "</style>\n",
              "<table border=\"1\" class=\"dataframe\">\n",
              "  <thead>\n",
              "    <tr style=\"text-align: right;\">\n",
              "      <th>on_Time_or_delayed</th>\n",
              "      <th>States</th>\n",
              "      <th>City</th>\n",
              "      <th>delayed</th>\n",
              "      <th>on time</th>\n",
              "      <th>sum</th>\n",
              "    </tr>\n",
              "  </thead>\n",
              "  <tbody>\n",
              "    <tr>\n",
              "      <th>0</th>\n",
              "      <td>ALASKA</td>\n",
              "      <td>Los Angeles</td>\n",
              "      <td>62.0</td>\n",
              "      <td>497.0</td>\n",
              "      <td>559.0</td>\n",
              "    </tr>\n",
              "    <tr>\n",
              "      <th>1</th>\n",
              "      <td>AM WEST</td>\n",
              "      <td>Los Angeles</td>\n",
              "      <td>117.0</td>\n",
              "      <td>694.0</td>\n",
              "      <td>811.0</td>\n",
              "    </tr>\n",
              "    <tr>\n",
              "      <th>2</th>\n",
              "      <td>ALASKA</td>\n",
              "      <td>Phoenix</td>\n",
              "      <td>12.0</td>\n",
              "      <td>221.0</td>\n",
              "      <td>233.0</td>\n",
              "    </tr>\n",
              "    <tr>\n",
              "      <th>3</th>\n",
              "      <td>AM WEST</td>\n",
              "      <td>Phoenix</td>\n",
              "      <td>415.0</td>\n",
              "      <td>4840.0</td>\n",
              "      <td>5255.0</td>\n",
              "    </tr>\n",
              "    <tr>\n",
              "      <th>4</th>\n",
              "      <td>ALASKA</td>\n",
              "      <td>San Diego</td>\n",
              "      <td>20.0</td>\n",
              "      <td>212.0</td>\n",
              "      <td>232.0</td>\n",
              "    </tr>\n",
              "    <tr>\n",
              "      <th>5</th>\n",
              "      <td>AM WEST</td>\n",
              "      <td>San Diego</td>\n",
              "      <td>65.0</td>\n",
              "      <td>383.0</td>\n",
              "      <td>448.0</td>\n",
              "    </tr>\n",
              "    <tr>\n",
              "      <th>6</th>\n",
              "      <td>ALASKA</td>\n",
              "      <td>San Francisco</td>\n",
              "      <td>102.0</td>\n",
              "      <td>503.0</td>\n",
              "      <td>605.0</td>\n",
              "    </tr>\n",
              "    <tr>\n",
              "      <th>7</th>\n",
              "      <td>AM WEST</td>\n",
              "      <td>San Francisco</td>\n",
              "      <td>129.0</td>\n",
              "      <td>320.0</td>\n",
              "      <td>449.0</td>\n",
              "    </tr>\n",
              "    <tr>\n",
              "      <th>8</th>\n",
              "      <td>ALASKA</td>\n",
              "      <td>Seattle</td>\n",
              "      <td>305.0</td>\n",
              "      <td>1841.0</td>\n",
              "      <td>2146.0</td>\n",
              "    </tr>\n",
              "    <tr>\n",
              "      <th>9</th>\n",
              "      <td>AM WEST</td>\n",
              "      <td>Seattle</td>\n",
              "      <td>61.0</td>\n",
              "      <td>201.0</td>\n",
              "      <td>262.0</td>\n",
              "    </tr>\n",
              "  </tbody>\n",
              "</table>\n",
              "</div>"
            ],
            "text/plain": [
              "on_Time_or_delayed   States           City  delayed  on time     sum\n",
              "0                    ALASKA    Los Angeles     62.0    497.0   559.0\n",
              "1                   AM WEST    Los Angeles    117.0    694.0   811.0\n",
              "2                    ALASKA        Phoenix     12.0    221.0   233.0\n",
              "3                   AM WEST        Phoenix    415.0   4840.0  5255.0\n",
              "4                    ALASKA      San Diego     20.0    212.0   232.0\n",
              "5                   AM WEST      San Diego     65.0    383.0   448.0\n",
              "6                    ALASKA  San Francisco    102.0    503.0   605.0\n",
              "7                   AM WEST  San Francisco    129.0    320.0   449.0\n",
              "8                    ALASKA       Seattle     305.0   1841.0  2146.0\n",
              "9                   AM WEST       Seattle      61.0    201.0   262.0"
            ]
          },
          "metadata": {
            "tags": []
          },
          "execution_count": 12
        }
      ]
    },
    {
      "cell_type": "markdown",
      "metadata": {
        "id": "X774vwEp8Omp"
      },
      "source": [
        "Create a new column Percent_on_time by dividing our on time column by the sum column. This will give us the percentage of the number of flights that were on time. Pass this all into a new datframe pivot_1."
      ]
    },
    {
      "cell_type": "code",
      "metadata": {
        "colab": {
          "base_uri": "https://localhost:8080/",
          "height": 355
        },
        "id": "fg1CqRXGW6g9",
        "outputId": "5c336049-2b83-4ef2-aae9-494ef14747f3"
      },
      "source": [
        "#Create a new column Percent_on_time by dividing our on time column by the sum column\n",
        "pivot_1['Percent_on_time'] = pivot_1['on time']/pivot_1[\"sum\"]\n",
        "#Show the result\n",
        "pivot_1"
      ],
      "execution_count": 13,
      "outputs": [
        {
          "output_type": "execute_result",
          "data": {
            "text/html": [
              "<div>\n",
              "<style scoped>\n",
              "    .dataframe tbody tr th:only-of-type {\n",
              "        vertical-align: middle;\n",
              "    }\n",
              "\n",
              "    .dataframe tbody tr th {\n",
              "        vertical-align: top;\n",
              "    }\n",
              "\n",
              "    .dataframe thead th {\n",
              "        text-align: right;\n",
              "    }\n",
              "</style>\n",
              "<table border=\"1\" class=\"dataframe\">\n",
              "  <thead>\n",
              "    <tr style=\"text-align: right;\">\n",
              "      <th>on_Time_or_delayed</th>\n",
              "      <th>States</th>\n",
              "      <th>City</th>\n",
              "      <th>delayed</th>\n",
              "      <th>on time</th>\n",
              "      <th>sum</th>\n",
              "      <th>Percent_on_time</th>\n",
              "    </tr>\n",
              "  </thead>\n",
              "  <tbody>\n",
              "    <tr>\n",
              "      <th>0</th>\n",
              "      <td>ALASKA</td>\n",
              "      <td>Los Angeles</td>\n",
              "      <td>62.0</td>\n",
              "      <td>497.0</td>\n",
              "      <td>559.0</td>\n",
              "      <td>0.889088</td>\n",
              "    </tr>\n",
              "    <tr>\n",
              "      <th>1</th>\n",
              "      <td>AM WEST</td>\n",
              "      <td>Los Angeles</td>\n",
              "      <td>117.0</td>\n",
              "      <td>694.0</td>\n",
              "      <td>811.0</td>\n",
              "      <td>0.855734</td>\n",
              "    </tr>\n",
              "    <tr>\n",
              "      <th>2</th>\n",
              "      <td>ALASKA</td>\n",
              "      <td>Phoenix</td>\n",
              "      <td>12.0</td>\n",
              "      <td>221.0</td>\n",
              "      <td>233.0</td>\n",
              "      <td>0.948498</td>\n",
              "    </tr>\n",
              "    <tr>\n",
              "      <th>3</th>\n",
              "      <td>AM WEST</td>\n",
              "      <td>Phoenix</td>\n",
              "      <td>415.0</td>\n",
              "      <td>4840.0</td>\n",
              "      <td>5255.0</td>\n",
              "      <td>0.921028</td>\n",
              "    </tr>\n",
              "    <tr>\n",
              "      <th>4</th>\n",
              "      <td>ALASKA</td>\n",
              "      <td>San Diego</td>\n",
              "      <td>20.0</td>\n",
              "      <td>212.0</td>\n",
              "      <td>232.0</td>\n",
              "      <td>0.913793</td>\n",
              "    </tr>\n",
              "    <tr>\n",
              "      <th>5</th>\n",
              "      <td>AM WEST</td>\n",
              "      <td>San Diego</td>\n",
              "      <td>65.0</td>\n",
              "      <td>383.0</td>\n",
              "      <td>448.0</td>\n",
              "      <td>0.854911</td>\n",
              "    </tr>\n",
              "    <tr>\n",
              "      <th>6</th>\n",
              "      <td>ALASKA</td>\n",
              "      <td>San Francisco</td>\n",
              "      <td>102.0</td>\n",
              "      <td>503.0</td>\n",
              "      <td>605.0</td>\n",
              "      <td>0.831405</td>\n",
              "    </tr>\n",
              "    <tr>\n",
              "      <th>7</th>\n",
              "      <td>AM WEST</td>\n",
              "      <td>San Francisco</td>\n",
              "      <td>129.0</td>\n",
              "      <td>320.0</td>\n",
              "      <td>449.0</td>\n",
              "      <td>0.712695</td>\n",
              "    </tr>\n",
              "    <tr>\n",
              "      <th>8</th>\n",
              "      <td>ALASKA</td>\n",
              "      <td>Seattle</td>\n",
              "      <td>305.0</td>\n",
              "      <td>1841.0</td>\n",
              "      <td>2146.0</td>\n",
              "      <td>0.857875</td>\n",
              "    </tr>\n",
              "    <tr>\n",
              "      <th>9</th>\n",
              "      <td>AM WEST</td>\n",
              "      <td>Seattle</td>\n",
              "      <td>61.0</td>\n",
              "      <td>201.0</td>\n",
              "      <td>262.0</td>\n",
              "      <td>0.767176</td>\n",
              "    </tr>\n",
              "  </tbody>\n",
              "</table>\n",
              "</div>"
            ],
            "text/plain": [
              "on_Time_or_delayed   States           City  ...     sum  Percent_on_time\n",
              "0                    ALASKA    Los Angeles  ...   559.0         0.889088\n",
              "1                   AM WEST    Los Angeles  ...   811.0         0.855734\n",
              "2                    ALASKA        Phoenix  ...   233.0         0.948498\n",
              "3                   AM WEST        Phoenix  ...  5255.0         0.921028\n",
              "4                    ALASKA      San Diego  ...   232.0         0.913793\n",
              "5                   AM WEST      San Diego  ...   448.0         0.854911\n",
              "6                    ALASKA  San Francisco  ...   605.0         0.831405\n",
              "7                   AM WEST  San Francisco  ...   449.0         0.712695\n",
              "8                    ALASKA       Seattle   ...  2146.0         0.857875\n",
              "9                   AM WEST       Seattle   ...   262.0         0.767176\n",
              "\n",
              "[10 rows x 6 columns]"
            ]
          },
          "metadata": {
            "tags": []
          },
          "execution_count": 13
        }
      ]
    },
    {
      "cell_type": "markdown",
      "metadata": {
        "id": "y2OxJgrB80_L"
      },
      "source": [
        "Plot percent_on_time on the y-axis and City on the x-axis with the results colored by State."
      ]
    },
    {
      "cell_type": "code",
      "metadata": {
        "colab": {
          "base_uri": "https://localhost:8080/",
          "height": 355
        },
        "id": "_VpZflZaCL2Y",
        "outputId": "df6e1a36-da83-43db-d338-530eb4410d11"
      },
      "source": [
        "#Plot  percent_on_time on the y-axis by City, and color the result by State\n",
        "sns.barplot(data= pivot_1,x='City', y='Percent_on_time', hue = 'States') \n",
        "plt.xticks(rotation=90)\n",
        "\n"
      ],
      "execution_count": 14,
      "outputs": [
        {
          "output_type": "execute_result",
          "data": {
            "text/plain": [
              "(array([0, 1, 2, 3, 4]), <a list of 5 Text major ticklabel objects>)"
            ]
          },
          "metadata": {
            "tags": []
          },
          "execution_count": 14
        },
        {
          "output_type": "display_data",
          "data": {
            "image/png": "[encoded data removed]",
            "text/plain": [
              "<Figure size 432x288 with 1 Axes>"
            ]
          },
          "metadata": {
            "tags": [],
            "needs_background": "light"
          }
        }
      ]
    },
    {
      "cell_type": "markdown",
      "metadata": {
        "id": "L18-9WazAryF"
      },
      "source": [
        "Question 1: For each city, which airline had the best on-time performance? \n",
        "Answer 1: For every city in the dataframe Alaskan airlines outperformed AM West in the percentage of flights that were on time. \n",
        "\n",
        "Question 2: Which airline had the best overall on-time performance?\n",
        "Answer 2: As Alaskan airlines outperformed AM West in every city it is clear that Alaskan airlines had the best overall performance.\n"
      ]
    },
    {
      "cell_type": "markdown",
      "metadata": {
        "id": "4oj90EcnAjmh"
      },
      "source": [
        "Part 4:"
      ]
    },
    {
      "cell_type": "markdown",
      "metadata": {
        "id": "sj7Ve8MBLjvE"
      },
      "source": [
        "Below are two examples of the same dataframe in a more readable wide format. The first is my proposed wide format as viewed with a simple print. The second one, the image, is an example of the same dataframe when viewed as a csv on github."
      ]
    },
    {
      "cell_type": "code",
      "metadata": {
        "colab": {
          "base_uri": "https://localhost:8080/",
          "height": 171
        },
        "id": "Yq79vW0PAlOv",
        "outputId": "98956915-817a-493b-f705-00f9458c314e"
      },
      "source": [
        "New_wide=Pivot.unstack()\n",
        "New_wide\n"
      ],
      "execution_count": 18,
      "outputs": [
        {
          "output_type": "execute_result",
          "data": {
            "text/html": [
              "<div>\n",
              "<style scoped>\n",
              "    .dataframe tbody tr th:only-of-type {\n",
              "        vertical-align: middle;\n",
              "    }\n",
              "\n",
              "    .dataframe tbody tr th {\n",
              "        vertical-align: top;\n",
              "    }\n",
              "\n",
              "    .dataframe thead tr th {\n",
              "        text-align: left;\n",
              "    }\n",
              "\n",
              "    .dataframe thead tr:last-of-type th {\n",
              "        text-align: right;\n",
              "    }\n",
              "</style>\n",
              "<table border=\"1\" class=\"dataframe\">\n",
              "  <thead>\n",
              "    <tr>\n",
              "      <th>on_Time_or_delayed</th>\n",
              "      <th colspan=\"5\" halign=\"left\">delayed</th>\n",
              "      <th colspan=\"5\" halign=\"left\">on time</th>\n",
              "    </tr>\n",
              "    <tr>\n",
              "      <th>City</th>\n",
              "      <th>Los Angeles</th>\n",
              "      <th>Phoenix</th>\n",
              "      <th>San Diego</th>\n",
              "      <th>San Francisco</th>\n",
              "      <th>Seattle</th>\n",
              "      <th>Los Angeles</th>\n",
              "      <th>Phoenix</th>\n",
              "      <th>San Diego</th>\n",
              "      <th>San Francisco</th>\n",
              "      <th>Seattle</th>\n",
              "    </tr>\n",
              "    <tr>\n",
              "      <th>States</th>\n",
              "      <th></th>\n",
              "      <th></th>\n",
              "      <th></th>\n",
              "      <th></th>\n",
              "      <th></th>\n",
              "      <th></th>\n",
              "      <th></th>\n",
              "      <th></th>\n",
              "      <th></th>\n",
              "      <th></th>\n",
              "    </tr>\n",
              "  </thead>\n",
              "  <tbody>\n",
              "    <tr>\n",
              "      <th>ALASKA</th>\n",
              "      <td>62.0</td>\n",
              "      <td>12.0</td>\n",
              "      <td>20.0</td>\n",
              "      <td>102.0</td>\n",
              "      <td>305.0</td>\n",
              "      <td>497.0</td>\n",
              "      <td>221.0</td>\n",
              "      <td>212.0</td>\n",
              "      <td>503.0</td>\n",
              "      <td>1841.0</td>\n",
              "    </tr>\n",
              "    <tr>\n",
              "      <th>AM WEST</th>\n",
              "      <td>117.0</td>\n",
              "      <td>415.0</td>\n",
              "      <td>65.0</td>\n",
              "      <td>129.0</td>\n",
              "      <td>61.0</td>\n",
              "      <td>694.0</td>\n",
              "      <td>4840.0</td>\n",
              "      <td>383.0</td>\n",
              "      <td>320.0</td>\n",
              "      <td>201.0</td>\n",
              "    </tr>\n",
              "  </tbody>\n",
              "</table>\n",
              "</div>"
            ],
            "text/plain": [
              "on_Time_or_delayed     delayed          ...       on time         \n",
              "City               Los Angeles Phoenix  ... San Francisco Seattle \n",
              "States                                  ...                       \n",
              "ALASKA                    62.0    12.0  ...         503.0   1841.0\n",
              "AM WEST                  117.0   415.0  ...         320.0    201.0\n",
              "\n",
              "[2 rows x 10 columns]"
            ]
          },
          "metadata": {
            "tags": []
          },
          "execution_count": 18
        }
      ]
    },
    {
      "cell_type": "markdown",
      "metadata": {
        "id": "Egf4qdupRMuB"
      },
      "source": [
        "![Screenshot (92).png](data:image/png;base64,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)"
      ]
    }
  ]
}