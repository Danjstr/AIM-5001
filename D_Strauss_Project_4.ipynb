{
  "nbformat": 4,
  "nbformat_minor": 0,
  "metadata": {
    "colab": {
      "name": "D_Strauss_Project_4.ipynb",
      "provenance": [],
      "collapsed_sections": [],
      "authorship_tag": "ABX9TyP4nh4/hb1qI1Hiyvc5PiVN",
      "include_colab_link": true
    },
    "kernelspec": {
      "name": "python3",
      "display_name": "Python 3"
    }
  },
  "cells": [
    {
      "cell_type": "markdown",
      "metadata": {
        "id": "view-in-github",
        "colab_type": "text"
      },
      "source": [
        "<a href=\"https://colab.research.google.com/github/Danjstr/AIM-5001/blob/master/D_Strauss_Project_4.ipynb\" target=\"_parent\"><img src=\"https://colab.research.google.com/assets/colab-badge.svg\" alt=\"Open In Colab\"/></a>"
      ]
    },
    {
      "cell_type": "markdown",
      "metadata": {
        "id": "I6XBuXZ4IWWm"
      },
      "source": [
        "Import all the necessary libraries need for our analysis."
      ]
    },
    {
      "cell_type": "code",
      "metadata": {
        "id": "mz02ZBQU4xzB"
      },
      "source": [
        "#import pandas as pd\n",
        "import pandas as pd\n",
        "#import matplotlib as plt\n",
        "import matplotlib.pyplot as plt\n",
        "#import seaborn as sns\n",
        "import seaborn as sns\n",
        "#import LogisticRegression from sklearn\n",
        "from sklearn.linear_model import LogisticRegression\n",
        "#import train test split from sklearn\n",
        "from sklearn.model_selection import train_test_split\n",
        "#import metrics from sklearn\n",
        "from sklearn import metrics\n",
        "#import cross_val_score from sklearn\n",
        "from sklearn.model_selection import cross_val_score"
      ],
      "execution_count": 1,
      "outputs": []
    },
    {
      "cell_type": "markdown",
      "metadata": {
        "id": "AaKG9BJi-R0I"
      },
      "source": [
        "**Part 1: Data Aqusition**"
      ]
    },
    {
      "cell_type": "markdown",
      "metadata": {
        "id": "vt2hL9s4IfIJ"
      },
      "source": [
        "Download the data from github and assign it column names by passing a list into the pd.read function."
      ]
    },
    {
      "cell_type": "code",
      "metadata": {
        "id": "8R60OkjloPCf"
      },
      "source": [
        "#Create a list of column names.\n",
        "col_names = ['Edible_or_Poisin', 'd1', 'd2', 'd3', 'd4','odor', 'd5', 'd6', 'd7', 'gill-color', 'd8', 'd9', 'd10', 'd11', 'd12', 'd13', 'd14','d15', 'd16', 'd17', 'spore-print-color','d18', 'd19']\n",
        "#Save the url of our data into the variable mushroom\n",
        "mushrom = \"https://raw.githubusercontent.com/Danjstr/AIM-5001/master/mushroom_data\"\n",
        "#Read the data from mushroom into a dataframe and assign it the column names.\n",
        "df = pd.read_csv(mushrom, names=col_names)"
      ],
      "execution_count": 2,
      "outputs": []
    },
    {
      "cell_type": "markdown",
      "metadata": {
        "id": "-UTtKAus0Mo_"
      },
      "source": [
        "**Part 2: Data Preperation**"
      ]
    },
    {
      "cell_type": "markdown",
      "metadata": {
        "id": "xYAs7qhDM1lD"
      },
      "source": [
        "View the head of the data to see what we are working with."
      ]
    },
    {
      "cell_type": "code",
      "metadata": {
        "colab": {
          "base_uri": "https://localhost:8080/",
          "height": 202
        },
        "id": "pvjG0fuK_XCj",
        "outputId": "38c2547c-314d-476e-c5b4-af75d95f9107"
      },
      "source": [
        "#view the head of data\r\n",
        "df.head(5)"
      ],
      "execution_count": 3,
      "outputs": [
        {
          "output_type": "execute_result",
          "data": {
            "text/html": [
              "<div>\n",
              "<style scoped>\n",
              "    .dataframe tbody tr th:only-of-type {\n",
              "        vertical-align: middle;\n",
              "    }\n",
              "\n",
              "    .dataframe tbody tr th {\n",
              "        vertical-align: top;\n",
              "    }\n",
              "\n",
              "    .dataframe thead th {\n",
              "        text-align: right;\n",
              "    }\n",
              "</style>\n",
              "<table border=\"1\" class=\"dataframe\">\n",
              "  <thead>\n",
              "    <tr style=\"text-align: right;\">\n",
              "      <th></th>\n",
              "      <th>Edible_or_Poisin</th>\n",
              "      <th>d1</th>\n",
              "      <th>d2</th>\n",
              "      <th>d3</th>\n",
              "      <th>d4</th>\n",
              "      <th>odor</th>\n",
              "      <th>d5</th>\n",
              "      <th>d6</th>\n",
              "      <th>d7</th>\n",
              "      <th>gill-color</th>\n",
              "      <th>d8</th>\n",
              "      <th>d9</th>\n",
              "      <th>d10</th>\n",
              "      <th>d11</th>\n",
              "      <th>d12</th>\n",
              "      <th>d13</th>\n",
              "      <th>d14</th>\n",
              "      <th>d15</th>\n",
              "      <th>d16</th>\n",
              "      <th>d17</th>\n",
              "      <th>spore-print-color</th>\n",
              "      <th>d18</th>\n",
              "      <th>d19</th>\n",
              "    </tr>\n",
              "  </thead>\n",
              "  <tbody>\n",
              "    <tr>\n",
              "      <th>0</th>\n",
              "      <td>p</td>\n",
              "      <td>x</td>\n",
              "      <td>s</td>\n",
              "      <td>n</td>\n",
              "      <td>t</td>\n",
              "      <td>p</td>\n",
              "      <td>f</td>\n",
              "      <td>c</td>\n",
              "      <td>n</td>\n",
              "      <td>k</td>\n",
              "      <td>e</td>\n",
              "      <td>e</td>\n",
              "      <td>s</td>\n",
              "      <td>s</td>\n",
              "      <td>w</td>\n",
              "      <td>w</td>\n",
              "      <td>p</td>\n",
              "      <td>w</td>\n",
              "      <td>o</td>\n",
              "      <td>p</td>\n",
              "      <td>k</td>\n",
              "      <td>s</td>\n",
              "      <td>u</td>\n",
              "    </tr>\n",
              "    <tr>\n",
              "      <th>1</th>\n",
              "      <td>e</td>\n",
              "      <td>x</td>\n",
              "      <td>s</td>\n",
              "      <td>y</td>\n",
              "      <td>t</td>\n",
              "      <td>a</td>\n",
              "      <td>f</td>\n",
              "      <td>c</td>\n",
              "      <td>b</td>\n",
              "      <td>k</td>\n",
              "      <td>e</td>\n",
              "      <td>c</td>\n",
              "      <td>s</td>\n",
              "      <td>s</td>\n",
              "      <td>w</td>\n",
              "      <td>w</td>\n",
              "      <td>p</td>\n",
              "      <td>w</td>\n",
              "      <td>o</td>\n",
              "      <td>p</td>\n",
              "      <td>n</td>\n",
              "      <td>n</td>\n",
              "      <td>g</td>\n",
              "    </tr>\n",
              "    <tr>\n",
              "      <th>2</th>\n",
              "      <td>e</td>\n",
              "      <td>b</td>\n",
              "      <td>s</td>\n",
              "      <td>w</td>\n",
              "      <td>t</td>\n",
              "      <td>l</td>\n",
              "      <td>f</td>\n",
              "      <td>c</td>\n",
              "      <td>b</td>\n",
              "      <td>n</td>\n",
              "      <td>e</td>\n",
              "      <td>c</td>\n",
              "      <td>s</td>\n",
              "      <td>s</td>\n",
              "      <td>w</td>\n",
              "      <td>w</td>\n",
              "      <td>p</td>\n",
              "      <td>w</td>\n",
              "      <td>o</td>\n",
              "      <td>p</td>\n",
              "      <td>n</td>\n",
              "      <td>n</td>\n",
              "      <td>m</td>\n",
              "    </tr>\n",
              "    <tr>\n",
              "      <th>3</th>\n",
              "      <td>p</td>\n",
              "      <td>x</td>\n",
              "      <td>y</td>\n",
              "      <td>w</td>\n",
              "      <td>t</td>\n",
              "      <td>p</td>\n",
              "      <td>f</td>\n",
              "      <td>c</td>\n",
              "      <td>n</td>\n",
              "      <td>n</td>\n",
              "      <td>e</td>\n",
              "      <td>e</td>\n",
              "      <td>s</td>\n",
              "      <td>s</td>\n",
              "      <td>w</td>\n",
              "      <td>w</td>\n",
              "      <td>p</td>\n",
              "      <td>w</td>\n",
              "      <td>o</td>\n",
              "      <td>p</td>\n",
              "      <td>k</td>\n",
              "      <td>s</td>\n",
              "      <td>u</td>\n",
              "    </tr>\n",
              "    <tr>\n",
              "      <th>4</th>\n",
              "      <td>e</td>\n",
              "      <td>x</td>\n",
              "      <td>s</td>\n",
              "      <td>g</td>\n",
              "      <td>f</td>\n",
              "      <td>n</td>\n",
              "      <td>f</td>\n",
              "      <td>w</td>\n",
              "      <td>b</td>\n",
              "      <td>k</td>\n",
              "      <td>t</td>\n",
              "      <td>e</td>\n",
              "      <td>s</td>\n",
              "      <td>s</td>\n",
              "      <td>w</td>\n",
              "      <td>w</td>\n",
              "      <td>p</td>\n",
              "      <td>w</td>\n",
              "      <td>o</td>\n",
              "      <td>e</td>\n",
              "      <td>n</td>\n",
              "      <td>a</td>\n",
              "      <td>g</td>\n",
              "    </tr>\n",
              "  </tbody>\n",
              "</table>\n",
              "</div>"
            ],
            "text/plain": [
              "  Edible_or_Poisin d1 d2 d3 d4 odor  ... d15 d16 d17 spore-print-color d18 d19\n",
              "0                p  x  s  n  t    p  ...   w   o   p                 k   s   u\n",
              "1                e  x  s  y  t    a  ...   w   o   p                 n   n   g\n",
              "2                e  b  s  w  t    l  ...   w   o   p                 n   n   m\n",
              "3                p  x  y  w  t    p  ...   w   o   p                 k   s   u\n",
              "4                e  x  s  g  f    n  ...   w   o   e                 n   a   g\n",
              "\n",
              "[5 rows x 23 columns]"
            ]
          },
          "metadata": {
            "tags": []
          },
          "execution_count": 3
        }
      ]
    },
    {
      "cell_type": "markdown",
      "metadata": {
        "id": "OTxiwrGkNFDk"
      },
      "source": [
        "Drop any columns that we will not be using in our analysis. We will only be keeping four columns 'Edible_or_Poisin','odor','gill_color','spore_print_color'."
      ]
    },
    {
      "cell_type": "code",
      "metadata": {
        "id": "Lh1N0TkSCQHl"
      },
      "source": [
        "#Drop all columns we will not be using - save it as df1\r\n",
        "df1 = df.drop(df.columns[[1, 2,3,4,6,7,8,10,11,12,13,14,15,16,17,18,19,21,22]], axis=1)"
      ],
      "execution_count": 4,
      "outputs": []
    },
    {
      "cell_type": "markdown",
      "metadata": {
        "id": "5TwQY0VhNhZE"
      },
      "source": [
        "View the head and tail of the data again to make sure that the drop was done correctly."
      ]
    },
    {
      "cell_type": "code",
      "metadata": {
        "colab": {
          "base_uri": "https://localhost:8080/",
          "height": 202
        },
        "id": "cR-JlJIHCxGJ",
        "outputId": "1fd427c7-cc32-467b-b351-3cb51b898b8e"
      },
      "source": [
        "#view the head of the new dataframe df1\r\n",
        "df1.head()"
      ],
      "execution_count": 5,
      "outputs": [
        {
          "output_type": "execute_result",
          "data": {
            "text/html": [
              "<div>\n",
              "<style scoped>\n",
              "    .dataframe tbody tr th:only-of-type {\n",
              "        vertical-align: middle;\n",
              "    }\n",
              "\n",
              "    .dataframe tbody tr th {\n",
              "        vertical-align: top;\n",
              "    }\n",
              "\n",
              "    .dataframe thead th {\n",
              "        text-align: right;\n",
              "    }\n",
              "</style>\n",
              "<table border=\"1\" class=\"dataframe\">\n",
              "  <thead>\n",
              "    <tr style=\"text-align: right;\">\n",
              "      <th></th>\n",
              "      <th>Edible_or_Poisin</th>\n",
              "      <th>odor</th>\n",
              "      <th>gill-color</th>\n",
              "      <th>spore-print-color</th>\n",
              "    </tr>\n",
              "  </thead>\n",
              "  <tbody>\n",
              "    <tr>\n",
              "      <th>0</th>\n",
              "      <td>p</td>\n",
              "      <td>p</td>\n",
              "      <td>k</td>\n",
              "      <td>k</td>\n",
              "    </tr>\n",
              "    <tr>\n",
              "      <th>1</th>\n",
              "      <td>e</td>\n",
              "      <td>a</td>\n",
              "      <td>k</td>\n",
              "      <td>n</td>\n",
              "    </tr>\n",
              "    <tr>\n",
              "      <th>2</th>\n",
              "      <td>e</td>\n",
              "      <td>l</td>\n",
              "      <td>n</td>\n",
              "      <td>n</td>\n",
              "    </tr>\n",
              "    <tr>\n",
              "      <th>3</th>\n",
              "      <td>p</td>\n",
              "      <td>p</td>\n",
              "      <td>n</td>\n",
              "      <td>k</td>\n",
              "    </tr>\n",
              "    <tr>\n",
              "      <th>4</th>\n",
              "      <td>e</td>\n",
              "      <td>n</td>\n",
              "      <td>k</td>\n",
              "      <td>n</td>\n",
              "    </tr>\n",
              "  </tbody>\n",
              "</table>\n",
              "</div>"
            ],
            "text/plain": [
              "  Edible_or_Poisin odor gill-color spore-print-color\n",
              "0                p    p          k                 k\n",
              "1                e    a          k                 n\n",
              "2                e    l          n                 n\n",
              "3                p    p          n                 k\n",
              "4                e    n          k                 n"
            ]
          },
          "metadata": {
            "tags": []
          },
          "execution_count": 5
        }
      ]
    },
    {
      "cell_type": "code",
      "metadata": {
        "id": "rdoIT-sSokMn",
        "colab": {
          "base_uri": "https://localhost:8080/",
          "height": 355
        },
        "outputId": "f0714f89-7c3d-406d-9701-ea93eb08186b"
      },
      "source": [
        "#view the tail of the data\n",
        "df1.tail()"
      ],
      "execution_count": 6,
      "outputs": [
        {
          "output_type": "execute_result",
          "data": {
            "text/html": [
              "<div>\n",
              "<style scoped>\n",
              "    .dataframe tbody tr th:only-of-type {\n",
              "        vertical-align: middle;\n",
              "    }\n",
              "\n",
              "    .dataframe tbody tr th {\n",
              "        vertical-align: top;\n",
              "    }\n",
              "\n",
              "    .dataframe thead th {\n",
              "        text-align: right;\n",
              "    }\n",
              "</style>\n",
              "<table border=\"1\" class=\"dataframe\">\n",
              "  <thead>\n",
              "    <tr style=\"text-align: right;\">\n",
              "      <th></th>\n",
              "      <th>Edible_or_Poisin</th>\n",
              "      <th>odor</th>\n",
              "      <th>gill-color</th>\n",
              "      <th>spore-print-color</th>\n",
              "    </tr>\n",
              "  </thead>\n",
              "  <tbody>\n",
              "    <tr>\n",
              "      <th>8114</th>\n",
              "      <td>p</td>\n",
              "      <td>m</td>\n",
              "      <td>y</td>\n",
              "      <td>w</td>\n",
              "    </tr>\n",
              "    <tr>\n",
              "      <th>8115</th>\n",
              "      <td>e</td>\n",
              "      <td>n</td>\n",
              "      <td>y</td>\n",
              "      <td>o</td>\n",
              "    </tr>\n",
              "    <tr>\n",
              "      <th>8116</th>\n",
              "      <td>p</td>\n",
              "      <td>s</td>\n",
              "      <td>b</td>\n",
              "      <td>w</td>\n",
              "    </tr>\n",
              "    <tr>\n",
              "      <th>8117</th>\n",
              "      <td>p</td>\n",
              "      <td>y</td>\n",
              "      <td>b</td>\n",
              "      <td>w</td>\n",
              "    </tr>\n",
              "    <tr>\n",
              "      <th>8118</th>\n",
              "      <td>p</td>\n",
              "      <td>f</td>\n",
              "      <td>b</td>\n",
              "      <td>w</td>\n",
              "    </tr>\n",
              "    <tr>\n",
              "      <th>8119</th>\n",
              "      <td>e</td>\n",
              "      <td>n</td>\n",
              "      <td>y</td>\n",
              "      <td>b</td>\n",
              "    </tr>\n",
              "    <tr>\n",
              "      <th>8120</th>\n",
              "      <td>e</td>\n",
              "      <td>n</td>\n",
              "      <td>y</td>\n",
              "      <td>b</td>\n",
              "    </tr>\n",
              "    <tr>\n",
              "      <th>8121</th>\n",
              "      <td>e</td>\n",
              "      <td>n</td>\n",
              "      <td>n</td>\n",
              "      <td>b</td>\n",
              "    </tr>\n",
              "    <tr>\n",
              "      <th>8122</th>\n",
              "      <td>p</td>\n",
              "      <td>y</td>\n",
              "      <td>b</td>\n",
              "      <td>w</td>\n",
              "    </tr>\n",
              "    <tr>\n",
              "      <th>8123</th>\n",
              "      <td>e</td>\n",
              "      <td>n</td>\n",
              "      <td>y</td>\n",
              "      <td>o</td>\n",
              "    </tr>\n",
              "  </tbody>\n",
              "</table>\n",
              "</div>"
            ],
            "text/plain": [
              "     Edible_or_Poisin odor gill-color spore-print-color\n",
              "8114                p    m          y                 w\n",
              "8115                e    n          y                 o\n",
              "8116                p    s          b                 w\n",
              "8117                p    y          b                 w\n",
              "8118                p    f          b                 w\n",
              "8119                e    n          y                 b\n",
              "8120                e    n          y                 b\n",
              "8121                e    n          n                 b\n",
              "8122                p    y          b                 w\n",
              "8123                e    n          y                 o"
            ]
          },
          "metadata": {
            "tags": []
          },
          "execution_count": 6
        }
      ]
    },
    {
      "cell_type": "markdown",
      "metadata": {
        "id": "GqFND-DvNw7J"
      },
      "source": [
        "Confirm that we have kept all the columns that we wanted to keep."
      ]
    },
    {
      "cell_type": "code",
      "metadata": {
        "id": "jYZOBpONof7_",
        "colab": {
          "base_uri": "https://localhost:8080/"
        },
        "outputId": "13165fa3-9fe7-457c-93d8-acf3a4543334"
      },
      "source": [
        "#View all columns in df1\n",
        "df1.columns"
      ],
      "execution_count": 7,
      "outputs": [
        {
          "output_type": "execute_result",
          "data": {
            "text/plain": [
              "Index(['Edible_or_Poisin', 'odor', 'gill-color', 'spore-print-color'], dtype='object')"
            ]
          },
          "metadata": {
            "tags": []
          },
          "execution_count": 7
        }
      ]
    },
    {
      "cell_type": "markdown",
      "metadata": {
        "id": "wB8XqFnVN3jQ"
      },
      "source": [
        "View the Shape of the data to know how many rows and columns we are working with."
      ]
    },
    {
      "cell_type": "code",
      "metadata": {
        "colab": {
          "base_uri": "https://localhost:8080/"
        },
        "id": "jb8bfzeK-7xH",
        "outputId": "eb0776ec-2dd7-4f52-d2d9-1def97e41808"
      },
      "source": [
        "#view the shape of df1\r\n",
        "df1.shape"
      ],
      "execution_count": 8,
      "outputs": [
        {
          "output_type": "execute_result",
          "data": {
            "text/plain": [
              "(8124, 4)"
            ]
          },
          "metadata": {
            "tags": []
          },
          "execution_count": 8
        }
      ]
    },
    {
      "cell_type": "markdown",
      "metadata": {
        "id": "TPEuyJ6BOCZE"
      },
      "source": [
        "View the data types to know if we have to change any of the data types before we get started.\r\n",
        "\r\n",
        "It looks good we don't have to make any changes."
      ]
    },
    {
      "cell_type": "code",
      "metadata": {
        "colab": {
          "base_uri": "https://localhost:8080/"
        },
        "id": "CJOCl4Fq_Ee8",
        "outputId": "e377a351-7a25-4eb2-d219-522b47bf4718"
      },
      "source": [
        "#view the data types of df1\r\n",
        "df1.dtypes"
      ],
      "execution_count": 9,
      "outputs": [
        {
          "output_type": "execute_result",
          "data": {
            "text/plain": [
              "Edible_or_Poisin     object\n",
              "odor                 object\n",
              "gill-color           object\n",
              "spore-print-color    object\n",
              "dtype: object"
            ]
          },
          "metadata": {
            "tags": []
          },
          "execution_count": 9
        }
      ]
    },
    {
      "cell_type": "markdown",
      "metadata": {
        "id": "uvgrxM55OTNQ"
      },
      "source": [
        "Use the describe method to determine the count of the number of values in each column, the number of unique values in each column and more."
      ]
    },
    {
      "cell_type": "code",
      "metadata": {
        "id": "Gar4aYo85XhE",
        "colab": {
          "base_uri": "https://localhost:8080/",
          "height": 171
        },
        "outputId": "afd94f04-9923-4e74-81a4-5d4d88003cd7"
      },
      "source": [
        "#View the description of our data. \n",
        "df1.describe()"
      ],
      "execution_count": 10,
      "outputs": [
        {
          "output_type": "execute_result",
          "data": {
            "text/html": [
              "<div>\n",
              "<style scoped>\n",
              "    .dataframe tbody tr th:only-of-type {\n",
              "        vertical-align: middle;\n",
              "    }\n",
              "\n",
              "    .dataframe tbody tr th {\n",
              "        vertical-align: top;\n",
              "    }\n",
              "\n",
              "    .dataframe thead th {\n",
              "        text-align: right;\n",
              "    }\n",
              "</style>\n",
              "<table border=\"1\" class=\"dataframe\">\n",
              "  <thead>\n",
              "    <tr style=\"text-align: right;\">\n",
              "      <th></th>\n",
              "      <th>Edible_or_Poisin</th>\n",
              "      <th>odor</th>\n",
              "      <th>gill-color</th>\n",
              "      <th>spore-print-color</th>\n",
              "    </tr>\n",
              "  </thead>\n",
              "  <tbody>\n",
              "    <tr>\n",
              "      <th>count</th>\n",
              "      <td>8124</td>\n",
              "      <td>8124</td>\n",
              "      <td>8124</td>\n",
              "      <td>8124</td>\n",
              "    </tr>\n",
              "    <tr>\n",
              "      <th>unique</th>\n",
              "      <td>2</td>\n",
              "      <td>9</td>\n",
              "      <td>12</td>\n",
              "      <td>9</td>\n",
              "    </tr>\n",
              "    <tr>\n",
              "      <th>top</th>\n",
              "      <td>e</td>\n",
              "      <td>n</td>\n",
              "      <td>b</td>\n",
              "      <td>w</td>\n",
              "    </tr>\n",
              "    <tr>\n",
              "      <th>freq</th>\n",
              "      <td>4208</td>\n",
              "      <td>3528</td>\n",
              "      <td>1728</td>\n",
              "      <td>2388</td>\n",
              "    </tr>\n",
              "  </tbody>\n",
              "</table>\n",
              "</div>"
            ],
            "text/plain": [
              "       Edible_or_Poisin  odor gill-color spore-print-color\n",
              "count              8124  8124       8124              8124\n",
              "unique                2     9         12                 9\n",
              "top                   e     n          b                 w\n",
              "freq               4208  3528       1728              2388"
            ]
          },
          "metadata": {
            "tags": []
          },
          "execution_count": 10
        }
      ]
    },
    {
      "cell_type": "markdown",
      "metadata": {
        "id": "nj3z3IG9JUvN"
      },
      "source": [
        "Show the info of the data to see if we are missing any null values we need to fill."
      ]
    },
    {
      "cell_type": "code",
      "metadata": {
        "id": "RbcYZXIf5kP8",
        "colab": {
          "base_uri": "https://localhost:8080/"
        },
        "outputId": "0b98941f-d569-43de-dfc4-e2a7817fc9e3"
      },
      "source": [
        "#View the info of our data. \n",
        "df1.info()"
      ],
      "execution_count": 11,
      "outputs": [
        {
          "output_type": "stream",
          "text": [
            "<class 'pandas.core.frame.DataFrame'>\n",
            "RangeIndex: 8124 entries, 0 to 8123\n",
            "Data columns (total 4 columns):\n",
            " #   Column             Non-Null Count  Dtype \n",
            "---  ------             --------------  ----- \n",
            " 0   Edible_or_Poisin   8124 non-null   object\n",
            " 1   odor               8124 non-null   object\n",
            " 2   gill-color         8124 non-null   object\n",
            " 3   spore-print-color  8124 non-null   object\n",
            "dtypes: object(4)\n",
            "memory usage: 254.0+ KB\n"
          ],
          "name": "stdout"
        }
      ]
    },
    {
      "cell_type": "markdown",
      "metadata": {
        "id": "fP57iEhs8iuj"
      },
      "source": [
        "**Part 3: Exploratory Data Analysis**"
      ]
    },
    {
      "cell_type": "markdown",
      "metadata": {
        "id": "pZlYs8Y8PCzC"
      },
      "source": [
        "Bellow is the necessary attribute information to more easily read the graphs below."
      ]
    },
    {
      "cell_type": "markdown",
      "metadata": {
        "id": "CsKzzfBbPQjA"
      },
      "source": [
        "Show the count of the number of edible and poisoned mushrooms.\r\n",
        "\r\n",
        "We can see that our dataframe has slightly more edible values than poison values. But overall the dataframe is fairly well balanced."
      ]
    },
    {
      "cell_type": "markdown",
      "metadata": {
        "id": "9cq9STdjA4uv"
      },
      "source": [
        "Edible_or_Poison:\r\n",
        "\r\n",
        "Edible = e\r\n",
        "\r\n",
        "Poison = p"
      ]
    },
    {
      "cell_type": "code",
      "metadata": {
        "colab": {
          "base_uri": "https://localhost:8080/",
          "height": 262
        },
        "id": "vZ8f9LAyKNs2",
        "outputId": "978e3e32-63dd-4901-f1dc-6cafd495270e"
      },
      "source": [
        "#Create a bar blot of the value_count of 'Edible_or_Poisin'\r\n",
        "df1['Edible_or_Poisin'].value_counts().plot.bar()\r\n",
        "#Show the result\r\n",
        "plt.show()"
      ],
      "execution_count": 12,
      "outputs": [
        {
          "output_type": "display_data",
          "data": {
            "image/png": "[encoded data removed]",
            "text/plain": [
              "<Figure size 432x288 with 1 Axes>"
            ]
          },
          "metadata": {
            "tags": [],
            "needs_background": "light"
          }
        }
      ]
    },
    {
      "cell_type": "markdown",
      "metadata": {
        "id": "2rYPxd8dPxbF"
      },
      "source": [
        "Show the count of the number of mushrooms organized by odor.\r\n",
        "\r\n",
        "We can see that our dataframe has many values that either do not have a smell or smell foul."
      ]
    },
    {
      "cell_type": "markdown",
      "metadata": {
        "id": "oLLQUzGZQnUA"
      },
      "source": [
        "Odor: \r\n",
        "\r\n",
        "Almond=a\r\n",
        "\r\n",
        "Anise=l\r\n",
        "\r\n",
        "Creosote=c\r\n",
        "\r\n",
        "Fishy=y\r\n",
        "\r\n",
        "Foul=f\r\n",
        "\r\n",
        "Musty=m\r\n",
        "\r\n",
        "None=n\r\n",
        "\r\n",
        "Pungent=p\r\n",
        "\r\n",
        "Spicy=s"
      ]
    },
    {
      "cell_type": "code",
      "metadata": {
        "colab": {
          "base_uri": "https://localhost:8080/",
          "height": 265
        },
        "id": "b9sl5FBiKTZe",
        "outputId": "d0baac0c-7d71-48d1-e19c-1a9527025134"
      },
      "source": [
        "#Create a bar blot of the value_count of 'Odor'\r\n",
        "df1['odor'].value_counts().plot.bar()\r\n",
        "#show the result\r\n",
        "plt.show()"
      ],
      "execution_count": 13,
      "outputs": [
        {
          "output_type": "display_data",
          "data": {
            "image/png": "[encoded data removed]",
            "text/plain": [
              "<Figure size 432x288 with 1 Axes>"
            ]
          },
          "metadata": {
            "tags": [],
            "needs_background": "light"
          }
        }
      ]
    },
    {
      "cell_type": "markdown",
      "metadata": {
        "id": "qHFwnUD3Sdp_"
      },
      "source": [
        "We show a graph of the count of the odor column as above this time colored by if the mushrooms are poisoned or not.\r\n",
        "\r\n",
        "We can glean the following data from our graph on odors.\r\n",
        "\r\n",
        "Almond-Edible\r\n",
        "\r\n",
        "Anise-Edible\r\n",
        "\r\n",
        "creosote-Poisined\r\n",
        "\r\n",
        "fishy-Poisined\r\n",
        "\r\n",
        "foul-Poisined\r\n",
        "\r\n",
        "musty-Poisined\r\n",
        "\r\n",
        "none=Mospoisinedtly Edible\r\n",
        "\r\n",
        "pungent-Poisined\r\n",
        "\r\n",
        "spicy-Poisined"
      ]
    },
    {
      "cell_type": "code",
      "metadata": {
        "colab": {
          "base_uri": "https://localhost:8080/",
          "height": 297
        },
        "id": "zyRR9qethMcA",
        "outputId": "22787512-422f-44f6-eaa3-d153b5b8acc3"
      },
      "source": [
        "#Create a plot of the count of the number of poisoned and not poisoned mushrooms by odor.\r\n",
        "sns.countplot(x='odor', hue='Edible_or_Poisin', data=df1)"
      ],
      "execution_count": 14,
      "outputs": [
        {
          "output_type": "execute_result",
          "data": {
            "text/plain": [
              "<matplotlib.axes._subplots.AxesSubplot at 0x7fa3c31c2f98>"
            ]
          },
          "metadata": {
            "tags": []
          },
          "execution_count": 14
        },
        {
          "output_type": "display_data",
          "data": {
            "image/png": "[encoded data removed]",
            "text/plain": [
              "<Figure size 432x288 with 1 Axes>"
            ]
          },
          "metadata": {
            "tags": [],
            "needs_background": "light"
          }
        }
      ]
    },
    {
      "cell_type": "markdown",
      "metadata": {
        "id": "l2KCsPsWRHCP"
      },
      "source": [
        "Show the count of the number of mushrooms organized by gill color.\r\n",
        "\r\n",
        "We can see that our mushrooms are often buff and pink."
      ]
    },
    {
      "cell_type": "markdown",
      "metadata": {
        "id": "d5Vhbn3FQuGH"
      },
      "source": [
        "Gill-Color: \r\n",
        "\r\n",
        "Black=k\r\n",
        "\r\n",
        "Brown=n\r\n",
        "\r\n",
        "Buff=b\r\n",
        "\r\n",
        "Chocolate=h\r\n",
        "\r\n",
        "Gray=g\r\n",
        "\r\n",
        "Green=r\r\n",
        "\r\n",
        "Orange=o\r\n",
        "\r\n",
        "Pink=p\r\n",
        "\r\n",
        "Purple=u\r\n",
        "\r\n",
        "Red=e\r\n",
        "\r\n",
        "White=w \r\n",
        "\r\n",
        "Yellow=y"
      ]
    },
    {
      "cell_type": "code",
      "metadata": {
        "colab": {
          "base_uri": "https://localhost:8080/",
          "height": 263
        },
        "id": "oBf1J8AfKUZw",
        "outputId": "e434af2b-5c59-42b9-dbf8-366b4fc5e58f"
      },
      "source": [
        "#Create a bar blot of the value_count of 'gill_color'\r\n",
        "df1['gill-color'].value_counts().plot.bar()\r\n",
        "#show the result\r\n",
        "plt.show()"
      ],
      "execution_count": 15,
      "outputs": [
        {
          "output_type": "display_data",
          "data": {
            "image/png": "[encoded data removed]",
            "text/plain": [
              "<Figure size 432x288 with 1 Axes>"
            ]
          },
          "metadata": {
            "tags": [],
            "needs_background": "light"
          }
        }
      ]
    },
    {
      "cell_type": "markdown",
      "metadata": {
        "id": "Kg0NFjiEUO6Q"
      },
      "source": [
        "We show a graph of the count of the gill color column as above this time colored by if the mushrooms are poisoned or not.\r\n",
        "\r\n",
        "We can glean the following data from our graph on gill colors.\r\n",
        "Most of the data seems to be pretty mixed. At a glance, it almost seems gill color has less of an impact on if a mushroom is poisoned or not. Though mushrooms colored 'buff' seem to be a strong indication that a mushroom is poisonous."
      ]
    },
    {
      "cell_type": "code",
      "metadata": {
        "colab": {
          "base_uri": "https://localhost:8080/",
          "height": 297
        },
        "id": "r1dSHm7DhWFn",
        "outputId": "f43cbfbd-ff73-45fe-f383-3a302ce9df6c"
      },
      "source": [
        "#Create a plot of the count of the number of poisoned and not poisoned mushrooms by gill color.\r\n",
        "sns.countplot(x='gill-color', hue='Edible_or_Poisin', data=df1)"
      ],
      "execution_count": 16,
      "outputs": [
        {
          "output_type": "execute_result",
          "data": {
            "text/plain": [
              "<matplotlib.axes._subplots.AxesSubplot at 0x7fa3c3087240>"
            ]
          },
          "metadata": {
            "tags": []
          },
          "execution_count": 16
        },
        {
          "output_type": "display_data",
          "data": {
            "image/png": "[encoded data removed]",
            "text/plain": [
              "<Figure size 432x288 with 1 Axes>"
            ]
          },
          "metadata": {
            "tags": [],
            "needs_background": "light"
          }
        }
      ]
    },
    {
      "cell_type": "markdown",
      "metadata": {
        "id": "j9uReKyURmym"
      },
      "source": [
        "Show the count of the number of mushrooms organized by spore print color.\r\n",
        "\r\n",
        "We can see that most of our mushrooms are colored white, brown, black, and chocolate.\r\n",
        "\r\n"
      ]
    },
    {
      "cell_type": "markdown",
      "metadata": {
        "id": "GOzT0-xOQx3J"
      },
      "source": [
        "spore-print-color: \r\n",
        "\r\n",
        "Black=k\r\n",
        "\r\n",
        "Brown=n\r\n",
        "\r\n",
        "Buff=b\r\n",
        "\r\n",
        "Chocolate=h\r\n",
        "\r\n",
        "Green=r\r\n",
        "\r\n",
        "Orange=o\r\n",
        "\r\n",
        "Purple=u\r\n",
        "\r\n",
        "White=w\r\n",
        "\r\n",
        "Yellow=y"
      ]
    },
    {
      "cell_type": "code",
      "metadata": {
        "colab": {
          "base_uri": "https://localhost:8080/",
          "height": 267
        },
        "id": "FnJMyAGNKUQX",
        "outputId": "99b3f372-08a8-4309-c437-facd5501ac6d"
      },
      "source": [
        "#Create a bar blot of the value_count of 'spore_print_color'\r\n",
        "df1['spore-print-color'].value_counts().plot.bar()\r\n",
        "#show the result\r\n",
        "plt.show()"
      ],
      "execution_count": 17,
      "outputs": [
        {
          "output_type": "display_data",
          "data": {
            "image/png": "[encoded data removed]",
            "text/plain": [
              "<Figure size 432x288 with 1 Axes>"
            ]
          },
          "metadata": {
            "tags": [],
            "needs_background": "light"
          }
        }
      ]
    },
    {
      "cell_type": "markdown",
      "metadata": {
        "id": "1a8pSrBGVEE6"
      },
      "source": [
        "We show a graph of the count of the spore print color column as above this time colored by if the mushrooms are poisoned or not.\r\n",
        "\r\n",
        "We can glean the following data from our graph on spore print colors.\r\n",
        "\r\n",
        "Black-Mostly Edible\r\n",
        "\r\n",
        "Brown-Mostly Edible\r\n",
        "\r\n",
        "Chocolate-Mostly Poisonous\r\n",
        "\r\n",
        "White-Mostly Many Poisonous but some Edible"
      ]
    },
    {
      "cell_type": "code",
      "metadata": {
        "colab": {
          "base_uri": "https://localhost:8080/",
          "height": 297
        },
        "id": "sfKVi8L1iFNn",
        "outputId": "1e6f15f8-51ea-4d69-94b7-113ecc9a4ce5"
      },
      "source": [
        "#Create a plot of the count of the number of poisoned and not poisoned mushrooms by spore print color.\r\n",
        "sns.countplot(x='spore-print-color', hue='Edible_or_Poisin', data=df1)"
      ],
      "execution_count": 18,
      "outputs": [
        {
          "output_type": "execute_result",
          "data": {
            "text/plain": [
              "<matplotlib.axes._subplots.AxesSubplot at 0x7fa3c3100da0>"
            ]
          },
          "metadata": {
            "tags": []
          },
          "execution_count": 18
        },
        {
          "output_type": "display_data",
          "data": {
            "image/png": "[encoded data removed]",
            "text/plain": [
              "<Figure size 432x288 with 1 Axes>"
            ]
          },
          "metadata": {
            "tags": [],
            "needs_background": "light"
          }
        }
      ]
    },
    {
      "cell_type": "markdown",
      "metadata": {
        "id": "TTjiJziiXhSH"
      },
      "source": [
        "View the head of the data so that we know what we are working with. It is time to begin prepping the data for use in a logistic regression model."
      ]
    },
    {
      "cell_type": "code",
      "metadata": {
        "colab": {
          "base_uri": "https://localhost:8080/",
          "height": 202
        },
        "id": "KyZevCF9QXtT",
        "outputId": "e82b2d87-b029-4f94-9ef7-e2bded2cb93b"
      },
      "source": [
        "#View the head of the data\r\n",
        "df1.head()"
      ],
      "execution_count": 19,
      "outputs": [
        {
          "output_type": "execute_result",
          "data": {
            "text/html": [
              "<div>\n",
              "<style scoped>\n",
              "    .dataframe tbody tr th:only-of-type {\n",
              "        vertical-align: middle;\n",
              "    }\n",
              "\n",
              "    .dataframe tbody tr th {\n",
              "        vertical-align: top;\n",
              "    }\n",
              "\n",
              "    .dataframe thead th {\n",
              "        text-align: right;\n",
              "    }\n",
              "</style>\n",
              "<table border=\"1\" class=\"dataframe\">\n",
              "  <thead>\n",
              "    <tr style=\"text-align: right;\">\n",
              "      <th></th>\n",
              "      <th>Edible_or_Poisin</th>\n",
              "      <th>odor</th>\n",
              "      <th>gill-color</th>\n",
              "      <th>spore-print-color</th>\n",
              "    </tr>\n",
              "  </thead>\n",
              "  <tbody>\n",
              "    <tr>\n",
              "      <th>0</th>\n",
              "      <td>p</td>\n",
              "      <td>p</td>\n",
              "      <td>k</td>\n",
              "      <td>k</td>\n",
              "    </tr>\n",
              "    <tr>\n",
              "      <th>1</th>\n",
              "      <td>e</td>\n",
              "      <td>a</td>\n",
              "      <td>k</td>\n",
              "      <td>n</td>\n",
              "    </tr>\n",
              "    <tr>\n",
              "      <th>2</th>\n",
              "      <td>e</td>\n",
              "      <td>l</td>\n",
              "      <td>n</td>\n",
              "      <td>n</td>\n",
              "    </tr>\n",
              "    <tr>\n",
              "      <th>3</th>\n",
              "      <td>p</td>\n",
              "      <td>p</td>\n",
              "      <td>n</td>\n",
              "      <td>k</td>\n",
              "    </tr>\n",
              "    <tr>\n",
              "      <th>4</th>\n",
              "      <td>e</td>\n",
              "      <td>n</td>\n",
              "      <td>k</td>\n",
              "      <td>n</td>\n",
              "    </tr>\n",
              "  </tbody>\n",
              "</table>\n",
              "</div>"
            ],
            "text/plain": [
              "  Edible_or_Poisin odor gill-color spore-print-color\n",
              "0                p    p          k                 k\n",
              "1                e    a          k                 n\n",
              "2                e    l          n                 n\n",
              "3                p    p          n                 k\n",
              "4                e    n          k                 n"
            ]
          },
          "metadata": {
            "tags": []
          },
          "execution_count": 19
        }
      ]
    },
    {
      "cell_type": "markdown",
      "metadata": {
        "id": "IvyxkhCUXxwF"
      },
      "source": [
        "Change our edible and poison values into 0's and 1's.\r\n",
        "We want edible mushrooms to be labeled as 0 and poisoned mushrooms to be labeled 1."
      ]
    },
    {
      "cell_type": "code",
      "metadata": {
        "colab": {
          "base_uri": "https://localhost:8080/",
          "height": 202
        },
        "id": "JLqZPlkjSTM6",
        "outputId": "943e5569-5c29-4f22-81c5-91ee083dede1"
      },
      "source": [
        "#Create a mapping that makes e = 0 and p = 1\r\n",
        "class_mapping = {'e':0,'p':1}\r\n",
        "#Assign the mapping to the Edible_or_poisin column\r\n",
        "df1['Edible_or_Poisin'] = df1['Edible_or_Poisin'].map(class_mapping)\r\n",
        "#Show the head of the data\r\n",
        "df1.head()"
      ],
      "execution_count": 20,
      "outputs": [
        {
          "output_type": "execute_result",
          "data": {
            "text/html": [
              "<div>\n",
              "<style scoped>\n",
              "    .dataframe tbody tr th:only-of-type {\n",
              "        vertical-align: middle;\n",
              "    }\n",
              "\n",
              "    .dataframe tbody tr th {\n",
              "        vertical-align: top;\n",
              "    }\n",
              "\n",
              "    .dataframe thead th {\n",
              "        text-align: right;\n",
              "    }\n",
              "</style>\n",
              "<table border=\"1\" class=\"dataframe\">\n",
              "  <thead>\n",
              "    <tr style=\"text-align: right;\">\n",
              "      <th></th>\n",
              "      <th>Edible_or_Poisin</th>\n",
              "      <th>odor</th>\n",
              "      <th>gill-color</th>\n",
              "      <th>spore-print-color</th>\n",
              "    </tr>\n",
              "  </thead>\n",
              "  <tbody>\n",
              "    <tr>\n",
              "      <th>0</th>\n",
              "      <td>1</td>\n",
              "      <td>p</td>\n",
              "      <td>k</td>\n",
              "      <td>k</td>\n",
              "    </tr>\n",
              "    <tr>\n",
              "      <th>1</th>\n",
              "      <td>0</td>\n",
              "      <td>a</td>\n",
              "      <td>k</td>\n",
              "      <td>n</td>\n",
              "    </tr>\n",
              "    <tr>\n",
              "      <th>2</th>\n",
              "      <td>0</td>\n",
              "      <td>l</td>\n",
              "      <td>n</td>\n",
              "      <td>n</td>\n",
              "    </tr>\n",
              "    <tr>\n",
              "      <th>3</th>\n",
              "      <td>1</td>\n",
              "      <td>p</td>\n",
              "      <td>n</td>\n",
              "      <td>k</td>\n",
              "    </tr>\n",
              "    <tr>\n",
              "      <th>4</th>\n",
              "      <td>0</td>\n",
              "      <td>n</td>\n",
              "      <td>k</td>\n",
              "      <td>n</td>\n",
              "    </tr>\n",
              "  </tbody>\n",
              "</table>\n",
              "</div>"
            ],
            "text/plain": [
              "   Edible_or_Poisin odor gill-color spore-print-color\n",
              "0                 1    p          k                 k\n",
              "1                 0    a          k                 n\n",
              "2                 0    l          n                 n\n",
              "3                 1    p          n                 k\n",
              "4                 0    n          k                 n"
            ]
          },
          "metadata": {
            "tags": []
          },
          "execution_count": 20
        }
      ]
    },
    {
      "cell_type": "markdown",
      "metadata": {
        "id": "9XQI1aD_YJlt"
      },
      "source": [
        "Use the get dummies function to create new columns for each of the unique values in the data frame. These new columns will be in the right format to train a logistic regression model."
      ]
    },
    {
      "cell_type": "code",
      "metadata": {
        "colab": {
          "base_uri": "https://localhost:8080/",
          "height": 470
        },
        "id": "lnxz48qfQdnl",
        "outputId": "495f778e-6184-4642-edb7-21f45ff6449f"
      },
      "source": [
        "#Use the get dummies function to prep the data for our logistic regression - Save it as df2\r\n",
        "df2=pd.get_dummies(df1)\r\n",
        "#Show the result\r\n",
        "df2"
      ],
      "execution_count": 21,
      "outputs": [
        {
          "output_type": "execute_result",
          "data": {
            "text/html": [
              "<div>\n",
              "<style scoped>\n",
              "    .dataframe tbody tr th:only-of-type {\n",
              "        vertical-align: middle;\n",
              "    }\n",
              "\n",
              "    .dataframe tbody tr th {\n",
              "        vertical-align: top;\n",
              "    }\n",
              "\n",
              "    .dataframe thead th {\n",
              "        text-align: right;\n",
              "    }\n",
              "</style>\n",
              "<table border=\"1\" class=\"dataframe\">\n",
              "  <thead>\n",
              "    <tr style=\"text-align: right;\">\n",
              "      <th></th>\n",
              "      <th>Edible_or_Poisin</th>\n",
              "      <th>odor_a</th>\n",
              "      <th>odor_c</th>\n",
              "      <th>odor_f</th>\n",
              "      <th>odor_l</th>\n",
              "      <th>odor_m</th>\n",
              "      <th>odor_n</th>\n",
              "      <th>odor_p</th>\n",
              "      <th>odor_s</th>\n",
              "      <th>odor_y</th>\n",
              "      <th>gill-color_b</th>\n",
              "      <th>gill-color_e</th>\n",
              "      <th>gill-color_g</th>\n",
              "      <th>gill-color_h</th>\n",
              "      <th>gill-color_k</th>\n",
              "      <th>gill-color_n</th>\n",
              "      <th>gill-color_o</th>\n",
              "      <th>gill-color_p</th>\n",
              "      <th>gill-color_r</th>\n",
              "      <th>gill-color_u</th>\n",
              "      <th>gill-color_w</th>\n",
              "      <th>gill-color_y</th>\n",
              "      <th>spore-print-color_b</th>\n",
              "      <th>spore-print-color_h</th>\n",
              "      <th>spore-print-color_k</th>\n",
              "      <th>spore-print-color_n</th>\n",
              "      <th>spore-print-color_o</th>\n",
              "      <th>spore-print-color_r</th>\n",
              "      <th>spore-print-color_u</th>\n",
              "      <th>spore-print-color_w</th>\n",
              "      <th>spore-print-color_y</th>\n",
              "    </tr>\n",
              "  </thead>\n",
              "  <tbody>\n",
              "    <tr>\n",
              "      <th>0</th>\n",
              "      <td>1</td>\n",
              "      <td>0</td>\n",
              "      <td>0</td>\n",
              "      <td>0</td>\n",
              "      <td>0</td>\n",
              "      <td>0</td>\n",
              "      <td>0</td>\n",
              "      <td>1</td>\n",
              "      <td>0</td>\n",
              "      <td>0</td>\n",
              "      <td>0</td>\n",
              "      <td>0</td>\n",
              "      <td>0</td>\n",
              "      <td>0</td>\n",
              "      <td>1</td>\n",
              "      <td>0</td>\n",
              "      <td>0</td>\n",
              "      <td>0</td>\n",
              "      <td>0</td>\n",
              "      <td>0</td>\n",
              "      <td>0</td>\n",
              "      <td>0</td>\n",
              "      <td>0</td>\n",
              "      <td>0</td>\n",
              "      <td>1</td>\n",
              "      <td>0</td>\n",
              "      <td>0</td>\n",
              "      <td>0</td>\n",
              "      <td>0</td>\n",
              "      <td>0</td>\n",
              "      <td>0</td>\n",
              "    </tr>\n",
              "    <tr>\n",
              "      <th>1</th>\n",
              "      <td>0</td>\n",
              "      <td>1</td>\n",
              "      <td>0</td>\n",
              "      <td>0</td>\n",
              "      <td>0</td>\n",
              "      <td>0</td>\n",
              "      <td>0</td>\n",
              "      <td>0</td>\n",
              "      <td>0</td>\n",
              "      <td>0</td>\n",
              "      <td>0</td>\n",
              "      <td>0</td>\n",
              "      <td>0</td>\n",
              "      <td>0</td>\n",
              "      <td>1</td>\n",
              "      <td>0</td>\n",
              "      <td>0</td>\n",
              "      <td>0</td>\n",
              "      <td>0</td>\n",
              "      <td>0</td>\n",
              "      <td>0</td>\n",
              "      <td>0</td>\n",
              "      <td>0</td>\n",
              "      <td>0</td>\n",
              "      <td>0</td>\n",
              "      <td>1</td>\n",
              "      <td>0</td>\n",
              "      <td>0</td>\n",
              "      <td>0</td>\n",
              "      <td>0</td>\n",
              "      <td>0</td>\n",
              "    </tr>\n",
              "    <tr>\n",
              "      <th>2</th>\n",
              "      <td>0</td>\n",
              "      <td>0</td>\n",
              "      <td>0</td>\n",
              "      <td>0</td>\n",
              "      <td>1</td>\n",
              "      <td>0</td>\n",
              "      <td>0</td>\n",
              "      <td>0</td>\n",
              "      <td>0</td>\n",
              "      <td>0</td>\n",
              "      <td>0</td>\n",
              "      <td>0</td>\n",
              "      <td>0</td>\n",
              "      <td>0</td>\n",
              "      <td>0</td>\n",
              "      <td>1</td>\n",
              "      <td>0</td>\n",
              "      <td>0</td>\n",
              "      <td>0</td>\n",
              "      <td>0</td>\n",
              "      <td>0</td>\n",
              "      <td>0</td>\n",
              "      <td>0</td>\n",
              "      <td>0</td>\n",
              "      <td>0</td>\n",
              "      <td>1</td>\n",
              "      <td>0</td>\n",
              "      <td>0</td>\n",
              "      <td>0</td>\n",
              "      <td>0</td>\n",
              "      <td>0</td>\n",
              "    </tr>\n",
              "    <tr>\n",
              "      <th>3</th>\n",
              "      <td>1</td>\n",
              "      <td>0</td>\n",
              "      <td>0</td>\n",
              "      <td>0</td>\n",
              "      <td>0</td>\n",
              "      <td>0</td>\n",
              "      <td>0</td>\n",
              "      <td>1</td>\n",
              "      <td>0</td>\n",
              "      <td>0</td>\n",
              "      <td>0</td>\n",
              "      <td>0</td>\n",
              "      <td>0</td>\n",
              "      <td>0</td>\n",
              "      <td>0</td>\n",
              "      <td>1</td>\n",
              "      <td>0</td>\n",
              "      <td>0</td>\n",
              "      <td>0</td>\n",
              "      <td>0</td>\n",
              "      <td>0</td>\n",
              "      <td>0</td>\n",
              "      <td>0</td>\n",
              "      <td>0</td>\n",
              "      <td>1</td>\n",
              "      <td>0</td>\n",
              "      <td>0</td>\n",
              "      <td>0</td>\n",
              "      <td>0</td>\n",
              "      <td>0</td>\n",
              "      <td>0</td>\n",
              "    </tr>\n",
              "    <tr>\n",
              "      <th>4</th>\n",
              "      <td>0</td>\n",
              "      <td>0</td>\n",
              "      <td>0</td>\n",
              "      <td>0</td>\n",
              "      <td>0</td>\n",
              "      <td>0</td>\n",
              "      <td>1</td>\n",
              "      <td>0</td>\n",
              "      <td>0</td>\n",
              "      <td>0</td>\n",
              "      <td>0</td>\n",
              "      <td>0</td>\n",
              "      <td>0</td>\n",
              "      <td>0</td>\n",
              "      <td>1</td>\n",
              "      <td>0</td>\n",
              "      <td>0</td>\n",
              "      <td>0</td>\n",
              "      <td>0</td>\n",
              "      <td>0</td>\n",
              "      <td>0</td>\n",
              "      <td>0</td>\n",
              "      <td>0</td>\n",
              "      <td>0</td>\n",
              "      <td>0</td>\n",
              "      <td>1</td>\n",
              "      <td>0</td>\n",
              "      <td>0</td>\n",
              "      <td>0</td>\n",
              "      <td>0</td>\n",
              "      <td>0</td>\n",
              "    </tr>\n",
              "    <tr>\n",
              "      <th>...</th>\n",
              "      <td>...</td>\n",
              "      <td>...</td>\n",
              "      <td>...</td>\n",
              "      <td>...</td>\n",
              "      <td>...</td>\n",
              "      <td>...</td>\n",
              "      <td>...</td>\n",
              "      <td>...</td>\n",
              "      <td>...</td>\n",
              "      <td>...</td>\n",
              "      <td>...</td>\n",
              "      <td>...</td>\n",
              "      <td>...</td>\n",
              "      <td>...</td>\n",
              "      <td>...</td>\n",
              "      <td>...</td>\n",
              "      <td>...</td>\n",
              "      <td>...</td>\n",
              "      <td>...</td>\n",
              "      <td>...</td>\n",
              "      <td>...</td>\n",
              "      <td>...</td>\n",
              "      <td>...</td>\n",
              "      <td>...</td>\n",
              "      <td>...</td>\n",
              "      <td>...</td>\n",
              "      <td>...</td>\n",
              "      <td>...</td>\n",
              "      <td>...</td>\n",
              "      <td>...</td>\n",
              "      <td>...</td>\n",
              "    </tr>\n",
              "    <tr>\n",
              "      <th>8119</th>\n",
              "      <td>0</td>\n",
              "      <td>0</td>\n",
              "      <td>0</td>\n",
              "      <td>0</td>\n",
              "      <td>0</td>\n",
              "      <td>0</td>\n",
              "      <td>1</td>\n",
              "      <td>0</td>\n",
              "      <td>0</td>\n",
              "      <td>0</td>\n",
              "      <td>0</td>\n",
              "      <td>0</td>\n",
              "      <td>0</td>\n",
              "      <td>0</td>\n",
              "      <td>0</td>\n",
              "      <td>0</td>\n",
              "      <td>0</td>\n",
              "      <td>0</td>\n",
              "      <td>0</td>\n",
              "      <td>0</td>\n",
              "      <td>0</td>\n",
              "      <td>1</td>\n",
              "      <td>1</td>\n",
              "      <td>0</td>\n",
              "      <td>0</td>\n",
              "      <td>0</td>\n",
              "      <td>0</td>\n",
              "      <td>0</td>\n",
              "      <td>0</td>\n",
              "      <td>0</td>\n",
              "      <td>0</td>\n",
              "    </tr>\n",
              "    <tr>\n",
              "      <th>8120</th>\n",
              "      <td>0</td>\n",
              "      <td>0</td>\n",
              "      <td>0</td>\n",
              "      <td>0</td>\n",
              "      <td>0</td>\n",
              "      <td>0</td>\n",
              "      <td>1</td>\n",
              "      <td>0</td>\n",
              "      <td>0</td>\n",
              "      <td>0</td>\n",
              "      <td>0</td>\n",
              "      <td>0</td>\n",
              "      <td>0</td>\n",
              "      <td>0</td>\n",
              "      <td>0</td>\n",
              "      <td>0</td>\n",
              "      <td>0</td>\n",
              "      <td>0</td>\n",
              "      <td>0</td>\n",
              "      <td>0</td>\n",
              "      <td>0</td>\n",
              "      <td>1</td>\n",
              "      <td>1</td>\n",
              "      <td>0</td>\n",
              "      <td>0</td>\n",
              "      <td>0</td>\n",
              "      <td>0</td>\n",
              "      <td>0</td>\n",
              "      <td>0</td>\n",
              "      <td>0</td>\n",
              "      <td>0</td>\n",
              "    </tr>\n",
              "    <tr>\n",
              "      <th>8121</th>\n",
              "      <td>0</td>\n",
              "      <td>0</td>\n",
              "      <td>0</td>\n",
              "      <td>0</td>\n",
              "      <td>0</td>\n",
              "      <td>0</td>\n",
              "      <td>1</td>\n",
              "      <td>0</td>\n",
              "      <td>0</td>\n",
              "      <td>0</td>\n",
              "      <td>0</td>\n",
              "      <td>0</td>\n",
              "      <td>0</td>\n",
              "      <td>0</td>\n",
              "      <td>0</td>\n",
              "      <td>1</td>\n",
              "      <td>0</td>\n",
              "      <td>0</td>\n",
              "      <td>0</td>\n",
              "      <td>0</td>\n",
              "      <td>0</td>\n",
              "      <td>0</td>\n",
              "      <td>1</td>\n",
              "      <td>0</td>\n",
              "      <td>0</td>\n",
              "      <td>0</td>\n",
              "      <td>0</td>\n",
              "      <td>0</td>\n",
              "      <td>0</td>\n",
              "      <td>0</td>\n",
              "      <td>0</td>\n",
              "    </tr>\n",
              "    <tr>\n",
              "      <th>8122</th>\n",
              "      <td>1</td>\n",
              "      <td>0</td>\n",
              "      <td>0</td>\n",
              "      <td>0</td>\n",
              "      <td>0</td>\n",
              "      <td>0</td>\n",
              "      <td>0</td>\n",
              "      <td>0</td>\n",
              "      <td>0</td>\n",
              "      <td>1</td>\n",
              "      <td>1</td>\n",
              "      <td>0</td>\n",
              "      <td>0</td>\n",
              "      <td>0</td>\n",
              "      <td>0</td>\n",
              "      <td>0</td>\n",
              "      <td>0</td>\n",
              "      <td>0</td>\n",
              "      <td>0</td>\n",
              "      <td>0</td>\n",
              "      <td>0</td>\n",
              "      <td>0</td>\n",
              "      <td>0</td>\n",
              "      <td>0</td>\n",
              "      <td>0</td>\n",
              "      <td>0</td>\n",
              "      <td>0</td>\n",
              "      <td>0</td>\n",
              "      <td>0</td>\n",
              "      <td>1</td>\n",
              "      <td>0</td>\n",
              "    </tr>\n",
              "    <tr>\n",
              "      <th>8123</th>\n",
              "      <td>0</td>\n",
              "      <td>0</td>\n",
              "      <td>0</td>\n",
              "      <td>0</td>\n",
              "      <td>0</td>\n",
              "      <td>0</td>\n",
              "      <td>1</td>\n",
              "      <td>0</td>\n",
              "      <td>0</td>\n",
              "      <td>0</td>\n",
              "      <td>0</td>\n",
              "      <td>0</td>\n",
              "      <td>0</td>\n",
              "      <td>0</td>\n",
              "      <td>0</td>\n",
              "      <td>0</td>\n",
              "      <td>0</td>\n",
              "      <td>0</td>\n",
              "      <td>0</td>\n",
              "      <td>0</td>\n",
              "      <td>0</td>\n",
              "      <td>1</td>\n",
              "      <td>0</td>\n",
              "      <td>0</td>\n",
              "      <td>0</td>\n",
              "      <td>0</td>\n",
              "      <td>1</td>\n",
              "      <td>0</td>\n",
              "      <td>0</td>\n",
              "      <td>0</td>\n",
              "      <td>0</td>\n",
              "    </tr>\n",
              "  </tbody>\n",
              "</table>\n",
              "<p>8124 rows × 31 columns</p>\n",
              "</div>"
            ],
            "text/plain": [
              "      Edible_or_Poisin  odor_a  ...  spore-print-color_w  spore-print-color_y\n",
              "0                    1       0  ...                    0                    0\n",
              "1                    0       1  ...                    0                    0\n",
              "2                    0       0  ...                    0                    0\n",
              "3                    1       0  ...                    0                    0\n",
              "4                    0       0  ...                    0                    0\n",
              "...                ...     ...  ...                  ...                  ...\n",
              "8119                 0       0  ...                    0                    0\n",
              "8120                 0       0  ...                    0                    0\n",
              "8121                 0       0  ...                    0                    0\n",
              "8122                 1       0  ...                    1                    0\n",
              "8123                 0       0  ...                    0                    0\n",
              "\n",
              "[8124 rows x 31 columns]"
            ]
          },
          "metadata": {
            "tags": []
          },
          "execution_count": 21
        }
      ]
    },
    {
      "cell_type": "markdown",
      "metadata": {
        "id": "VZYix_Qy2Uq2"
      },
      "source": [
        "**Part 4: Build Predictive Models**"
      ]
    },
    {
      "cell_type": "markdown",
      "metadata": {
        "id": "Z06Xd7ptYnck"
      },
      "source": [
        "We need to know how well we would do if we were guessing at random if a mushroom is edible or poisonous. It seems our odds are roughly 50/50 with a random guess."
      ]
    },
    {
      "cell_type": "code",
      "metadata": {
        "colab": {
          "base_uri": "https://localhost:8080/"
        },
        "id": "FZhBXhGxkOUs",
        "outputId": "acbea0b0-2895-4d49-8eed-2cbb858b741c"
      },
      "source": [
        "#check how well we would perform without traning\r\n",
        "df1['Edible_or_Poisin'].values.sum()/df1.shape[0]"
      ],
      "execution_count": 22,
      "outputs": [
        {
          "output_type": "execute_result",
          "data": {
            "text/plain": [
              "0.48202855736090594"
            ]
          },
          "metadata": {
            "tags": []
          },
          "execution_count": 22
        }
      ]
    },
    {
      "cell_type": "markdown",
      "metadata": {
        "id": "fx2fY03CZYmF"
      },
      "source": [
        "Create three new dataframes. x_odor, x_gill and x_spore. These three dataframes will each have their respective dummy data saved into them. "
      ]
    },
    {
      "cell_type": "code",
      "metadata": {
        "id": "4YiPYJjKpVjA"
      },
      "source": [
        "#Create new datframes that contain the dummies of the Odor, Gill_Color, and Spore_Print_Color\r\n",
        "x_Odor = df2[['odor_a','odor_c','odor_f','odor_l','odor_m','odor_n','odor_p','odor_s','odor_y']]\r\n",
        "x_gill=df2[['gill-color_b',\t'gill-color_e',\t'gill-color_g',\t'gill-color_h',\t'gill-color_k',\t'gill-color_n',\t'gill-color_o',\t'gill-color_p',\t'gill-color_r',\t'gill-color_u',\t'gill-color_w',\t'gill-color_y']]\r\n",
        "x_spore=df2[['spore-print-color_b',\t'spore-print-color_h',\t'spore-print-color_k',\t'spore-print-color_n',\t'spore-print-color_o',\t'spore-print-color_r',\t'spore-print-color_u',\t'spore-print-color_w',\t'spore-print-color_y']]\r\n"
      ],
      "execution_count": 23,
      "outputs": []
    },
    {
      "cell_type": "markdown",
      "metadata": {
        "id": "ncef9Q_hZtoa"
      },
      "source": [
        "View the head of all three of the new dataframes to make sure that they have been made correctly."
      ]
    },
    {
      "cell_type": "code",
      "metadata": {
        "colab": {
          "base_uri": "https://localhost:8080/",
          "height": 202
        },
        "id": "Z3mfVaMErU1a",
        "outputId": "e85efc66-7f9b-4b28-c687-4d423b8ec3f1"
      },
      "source": [
        "#View the head of the new odor dummies\r\n",
        "x_Odor.head(5)"
      ],
      "execution_count": 24,
      "outputs": [
        {
          "output_type": "execute_result",
          "data": {
            "text/html": [
              "<div>\n",
              "<style scoped>\n",
              "    .dataframe tbody tr th:only-of-type {\n",
              "        vertical-align: middle;\n",
              "    }\n",
              "\n",
              "    .dataframe tbody tr th {\n",
              "        vertical-align: top;\n",
              "    }\n",
              "\n",
              "    .dataframe thead th {\n",
              "        text-align: right;\n",
              "    }\n",
              "</style>\n",
              "<table border=\"1\" class=\"dataframe\">\n",
              "  <thead>\n",
              "    <tr style=\"text-align: right;\">\n",
              "      <th></th>\n",
              "      <th>odor_a</th>\n",
              "      <th>odor_c</th>\n",
              "      <th>odor_f</th>\n",
              "      <th>odor_l</th>\n",
              "      <th>odor_m</th>\n",
              "      <th>odor_n</th>\n",
              "      <th>odor_p</th>\n",
              "      <th>odor_s</th>\n",
              "      <th>odor_y</th>\n",
              "    </tr>\n",
              "  </thead>\n",
              "  <tbody>\n",
              "    <tr>\n",
              "      <th>0</th>\n",
              "      <td>0</td>\n",
              "      <td>0</td>\n",
              "      <td>0</td>\n",
              "      <td>0</td>\n",
              "      <td>0</td>\n",
              "      <td>0</td>\n",
              "      <td>1</td>\n",
              "      <td>0</td>\n",
              "      <td>0</td>\n",
              "    </tr>\n",
              "    <tr>\n",
              "      <th>1</th>\n",
              "      <td>1</td>\n",
              "      <td>0</td>\n",
              "      <td>0</td>\n",
              "      <td>0</td>\n",
              "      <td>0</td>\n",
              "      <td>0</td>\n",
              "      <td>0</td>\n",
              "      <td>0</td>\n",
              "      <td>0</td>\n",
              "    </tr>\n",
              "    <tr>\n",
              "      <th>2</th>\n",
              "      <td>0</td>\n",
              "      <td>0</td>\n",
              "      <td>0</td>\n",
              "      <td>1</td>\n",
              "      <td>0</td>\n",
              "      <td>0</td>\n",
              "      <td>0</td>\n",
              "      <td>0</td>\n",
              "      <td>0</td>\n",
              "    </tr>\n",
              "    <tr>\n",
              "      <th>3</th>\n",
              "      <td>0</td>\n",
              "      <td>0</td>\n",
              "      <td>0</td>\n",
              "      <td>0</td>\n",
              "      <td>0</td>\n",
              "      <td>0</td>\n",
              "      <td>1</td>\n",
              "      <td>0</td>\n",
              "      <td>0</td>\n",
              "    </tr>\n",
              "    <tr>\n",
              "      <th>4</th>\n",
              "      <td>0</td>\n",
              "      <td>0</td>\n",
              "      <td>0</td>\n",
              "      <td>0</td>\n",
              "      <td>0</td>\n",
              "      <td>1</td>\n",
              "      <td>0</td>\n",
              "      <td>0</td>\n",
              "      <td>0</td>\n",
              "    </tr>\n",
              "  </tbody>\n",
              "</table>\n",
              "</div>"
            ],
            "text/plain": [
              "   odor_a  odor_c  odor_f  odor_l  odor_m  odor_n  odor_p  odor_s  odor_y\n",
              "0       0       0       0       0       0       0       1       0       0\n",
              "1       1       0       0       0       0       0       0       0       0\n",
              "2       0       0       0       1       0       0       0       0       0\n",
              "3       0       0       0       0       0       0       1       0       0\n",
              "4       0       0       0       0       0       1       0       0       0"
            ]
          },
          "metadata": {
            "tags": []
          },
          "execution_count": 24
        }
      ]
    },
    {
      "cell_type": "code",
      "metadata": {
        "colab": {
          "base_uri": "https://localhost:8080/",
          "height": 219
        },
        "id": "Z-Nm1yqkraFZ",
        "outputId": "1399582d-d2dd-4c47-95c9-d748e82f6b03"
      },
      "source": [
        "#View the head of the new Gill_Color dummies\r\n",
        "x_gill.head(5)"
      ],
      "execution_count": 25,
      "outputs": [
        {
          "output_type": "execute_result",
          "data": {
            "text/html": [
              "<div>\n",
              "<style scoped>\n",
              "    .dataframe tbody tr th:only-of-type {\n",
              "        vertical-align: middle;\n",
              "    }\n",
              "\n",
              "    .dataframe tbody tr th {\n",
              "        vertical-align: top;\n",
              "    }\n",
              "\n",
              "    .dataframe thead th {\n",
              "        text-align: right;\n",
              "    }\n",
              "</style>\n",
              "<table border=\"1\" class=\"dataframe\">\n",
              "  <thead>\n",
              "    <tr style=\"text-align: right;\">\n",
              "      <th></th>\n",
              "      <th>gill-color_b</th>\n",
              "      <th>gill-color_e</th>\n",
              "      <th>gill-color_g</th>\n",
              "      <th>gill-color_h</th>\n",
              "      <th>gill-color_k</th>\n",
              "      <th>gill-color_n</th>\n",
              "      <th>gill-color_o</th>\n",
              "      <th>gill-color_p</th>\n",
              "      <th>gill-color_r</th>\n",
              "      <th>gill-color_u</th>\n",
              "      <th>gill-color_w</th>\n",
              "      <th>gill-color_y</th>\n",
              "    </tr>\n",
              "  </thead>\n",
              "  <tbody>\n",
              "    <tr>\n",
              "      <th>0</th>\n",
              "      <td>0</td>\n",
              "      <td>0</td>\n",
              "      <td>0</td>\n",
              "      <td>0</td>\n",
              "      <td>1</td>\n",
              "      <td>0</td>\n",
              "      <td>0</td>\n",
              "      <td>0</td>\n",
              "      <td>0</td>\n",
              "      <td>0</td>\n",
              "      <td>0</td>\n",
              "      <td>0</td>\n",
              "    </tr>\n",
              "    <tr>\n",
              "      <th>1</th>\n",
              "      <td>0</td>\n",
              "      <td>0</td>\n",
              "      <td>0</td>\n",
              "      <td>0</td>\n",
              "      <td>1</td>\n",
              "      <td>0</td>\n",
              "      <td>0</td>\n",
              "      <td>0</td>\n",
              "      <td>0</td>\n",
              "      <td>0</td>\n",
              "      <td>0</td>\n",
              "      <td>0</td>\n",
              "    </tr>\n",
              "    <tr>\n",
              "      <th>2</th>\n",
              "      <td>0</td>\n",
              "      <td>0</td>\n",
              "      <td>0</td>\n",
              "      <td>0</td>\n",
              "      <td>0</td>\n",
              "      <td>1</td>\n",
              "      <td>0</td>\n",
              "      <td>0</td>\n",
              "      <td>0</td>\n",
              "      <td>0</td>\n",
              "      <td>0</td>\n",
              "      <td>0</td>\n",
              "    </tr>\n",
              "    <tr>\n",
              "      <th>3</th>\n",
              "      <td>0</td>\n",
              "      <td>0</td>\n",
              "      <td>0</td>\n",
              "      <td>0</td>\n",
              "      <td>0</td>\n",
              "      <td>1</td>\n",
              "      <td>0</td>\n",
              "      <td>0</td>\n",
              "      <td>0</td>\n",
              "      <td>0</td>\n",
              "      <td>0</td>\n",
              "      <td>0</td>\n",
              "    </tr>\n",
              "    <tr>\n",
              "      <th>4</th>\n",
              "      <td>0</td>\n",
              "      <td>0</td>\n",
              "      <td>0</td>\n",
              "      <td>0</td>\n",
              "      <td>1</td>\n",
              "      <td>0</td>\n",
              "      <td>0</td>\n",
              "      <td>0</td>\n",
              "      <td>0</td>\n",
              "      <td>0</td>\n",
              "      <td>0</td>\n",
              "      <td>0</td>\n",
              "    </tr>\n",
              "  </tbody>\n",
              "</table>\n",
              "</div>"
            ],
            "text/plain": [
              "   gill-color_b  gill-color_e  ...  gill-color_w  gill-color_y\n",
              "0             0             0  ...             0             0\n",
              "1             0             0  ...             0             0\n",
              "2             0             0  ...             0             0\n",
              "3             0             0  ...             0             0\n",
              "4             0             0  ...             0             0\n",
              "\n",
              "[5 rows x 12 columns]"
            ]
          },
          "metadata": {
            "tags": []
          },
          "execution_count": 25
        }
      ]
    },
    {
      "cell_type": "code",
      "metadata": {
        "colab": {
          "base_uri": "https://localhost:8080/",
          "height": 219
        },
        "id": "PsyQlzXTrgm3",
        "outputId": "3e69a013-e83a-43f3-ec69-f425242efc83"
      },
      "source": [
        "#View the head of the new Spore_Print_Color dummies\r\n",
        "x_spore.head(5)"
      ],
      "execution_count": 26,
      "outputs": [
        {
          "output_type": "execute_result",
          "data": {
            "text/html": [
              "<div>\n",
              "<style scoped>\n",
              "    .dataframe tbody tr th:only-of-type {\n",
              "        vertical-align: middle;\n",
              "    }\n",
              "\n",
              "    .dataframe tbody tr th {\n",
              "        vertical-align: top;\n",
              "    }\n",
              "\n",
              "    .dataframe thead th {\n",
              "        text-align: right;\n",
              "    }\n",
              "</style>\n",
              "<table border=\"1\" class=\"dataframe\">\n",
              "  <thead>\n",
              "    <tr style=\"text-align: right;\">\n",
              "      <th></th>\n",
              "      <th>spore-print-color_b</th>\n",
              "      <th>spore-print-color_h</th>\n",
              "      <th>spore-print-color_k</th>\n",
              "      <th>spore-print-color_n</th>\n",
              "      <th>spore-print-color_o</th>\n",
              "      <th>spore-print-color_r</th>\n",
              "      <th>spore-print-color_u</th>\n",
              "      <th>spore-print-color_w</th>\n",
              "      <th>spore-print-color_y</th>\n",
              "    </tr>\n",
              "  </thead>\n",
              "  <tbody>\n",
              "    <tr>\n",
              "      <th>0</th>\n",
              "      <td>0</td>\n",
              "      <td>0</td>\n",
              "      <td>1</td>\n",
              "      <td>0</td>\n",
              "      <td>0</td>\n",
              "      <td>0</td>\n",
              "      <td>0</td>\n",
              "      <td>0</td>\n",
              "      <td>0</td>\n",
              "    </tr>\n",
              "    <tr>\n",
              "      <th>1</th>\n",
              "      <td>0</td>\n",
              "      <td>0</td>\n",
              "      <td>0</td>\n",
              "      <td>1</td>\n",
              "      <td>0</td>\n",
              "      <td>0</td>\n",
              "      <td>0</td>\n",
              "      <td>0</td>\n",
              "      <td>0</td>\n",
              "    </tr>\n",
              "    <tr>\n",
              "      <th>2</th>\n",
              "      <td>0</td>\n",
              "      <td>0</td>\n",
              "      <td>0</td>\n",
              "      <td>1</td>\n",
              "      <td>0</td>\n",
              "      <td>0</td>\n",
              "      <td>0</td>\n",
              "      <td>0</td>\n",
              "      <td>0</td>\n",
              "    </tr>\n",
              "    <tr>\n",
              "      <th>3</th>\n",
              "      <td>0</td>\n",
              "      <td>0</td>\n",
              "      <td>1</td>\n",
              "      <td>0</td>\n",
              "      <td>0</td>\n",
              "      <td>0</td>\n",
              "      <td>0</td>\n",
              "      <td>0</td>\n",
              "      <td>0</td>\n",
              "    </tr>\n",
              "    <tr>\n",
              "      <th>4</th>\n",
              "      <td>0</td>\n",
              "      <td>0</td>\n",
              "      <td>0</td>\n",
              "      <td>1</td>\n",
              "      <td>0</td>\n",
              "      <td>0</td>\n",
              "      <td>0</td>\n",
              "      <td>0</td>\n",
              "      <td>0</td>\n",
              "    </tr>\n",
              "  </tbody>\n",
              "</table>\n",
              "</div>"
            ],
            "text/plain": [
              "   spore-print-color_b  ...  spore-print-color_y\n",
              "0                    0  ...                    0\n",
              "1                    0  ...                    0\n",
              "2                    0  ...                    0\n",
              "3                    0  ...                    0\n",
              "4                    0  ...                    0\n",
              "\n",
              "[5 rows x 9 columns]"
            ]
          },
          "metadata": {
            "tags": []
          },
          "execution_count": 26
        }
      ]
    },
    {
      "cell_type": "markdown",
      "metadata": {
        "id": "gHUum2sAZ5Jg"
      },
      "source": [
        "Create a new variable y_poisin that containing all the data from the 'Edible_or_Poisin column'."
      ]
    },
    {
      "cell_type": "code",
      "metadata": {
        "colab": {
          "base_uri": "https://localhost:8080/"
        },
        "id": "lK6GmNehrlcf",
        "outputId": "35bb5860-1d26-4bd4-e899-5e94232687a2"
      },
      "source": [
        "#Assign the edible or poison data to the variable y_poisin\r\n",
        "y_Poisin = df2['Edible_or_Poisin']\r\n",
        "#Show the head\r\n",
        "y_Poisin.head(5)"
      ],
      "execution_count": 27,
      "outputs": [
        {
          "output_type": "execute_result",
          "data": {
            "text/plain": [
              "0    1\n",
              "1    0\n",
              "2    0\n",
              "3    1\n",
              "4    0\n",
              "Name: Edible_or_Poisin, dtype: int64"
            ]
          },
          "metadata": {
            "tags": []
          },
          "execution_count": 27
        }
      ]
    },
    {
      "cell_type": "markdown",
      "metadata": {
        "id": "NCCYS1ofaL3U"
      },
      "source": [
        "Create a train test split of the Odor dummies and the poisoned column."
      ]
    },
    {
      "cell_type": "code",
      "metadata": {
        "id": "oV05PEeesVtR"
      },
      "source": [
        "#Create a train test split of the odor dummies\r\n",
        "o_x_train,o_x_test,o_y_train,o_y_test = train_test_split(x_Odor, y_Poisin, random_state=1)\r\n"
      ],
      "execution_count": 29,
      "outputs": []
    },
    {
      "cell_type": "markdown",
      "metadata": {
        "id": "IEIOI5u3aWei"
      },
      "source": [
        "Create a train test split of the gill_color dummies and the poisoned column."
      ]
    },
    {
      "cell_type": "code",
      "metadata": {
        "id": "CiknKjprsmGI"
      },
      "source": [
        "#Create a train test split of the Gill_Color dummies\r\n",
        "g_x_train,g_x_test,g_y_train,g_y_test = train_test_split(x_gill, y_Poisin, random_state=1)"
      ],
      "execution_count": 30,
      "outputs": []
    },
    {
      "cell_type": "markdown",
      "metadata": {
        "id": "1m9qRCeOabGa"
      },
      "source": [
        "Create a train test split of the spore_print_color dummies and the poisoned column."
      ]
    },
    {
      "cell_type": "code",
      "metadata": {
        "id": "vP_7xV17sl58"
      },
      "source": [
        "#Create a train test split of the Spore_Print_Color dummies\r\n",
        "s_x_train,s_x_test,s_y_train,s_y_test = train_test_split(x_spore, y_Poisin, random_state=1)"
      ],
      "execution_count": 31,
      "outputs": []
    },
    {
      "cell_type": "markdown",
      "metadata": {
        "id": "DXUUHR-pahy6"
      },
      "source": [
        "Create a model for the oder data and make it a logistic regression. Fit the model on our training data and run it."
      ]
    },
    {
      "cell_type": "code",
      "metadata": {
        "colab": {
          "base_uri": "https://localhost:8080/"
        },
        "id": "yJvfDFSLvEbx",
        "outputId": "7b15d93b-c16f-45ff-f4ba-6fe8d112fb72"
      },
      "source": [
        "#Create the variable o_model for the odor data and make it a logistic regression model\r\n",
        "o_model = LogisticRegression()\r\n",
        "#Fit the training data to the o_model\r\n",
        "o_model = o_model.fit(g_o_train, g_o_train)\r\n",
        "#Confirm that the model has run correctly\r\n",
        "o_model"
      ],
      "execution_count": 33,
      "outputs": [
        {
          "output_type": "execute_result",
          "data": {
            "text/plain": [
              "LogisticRegression(C=1.0, class_weight=None, dual=False, fit_intercept=True,\n",
              "                   intercept_scaling=1, l1_ratio=None, max_iter=100,\n",
              "                   multi_class='auto', n_jobs=None, penalty='l2',\n",
              "                   random_state=None, solver='lbfgs', tol=0.0001, verbose=0,\n",
              "                   warm_start=False)"
            ]
          },
          "metadata": {
            "tags": []
          },
          "execution_count": 33
        }
      ]
    },
    {
      "cell_type": "markdown",
      "metadata": {
        "id": "vFox_NQXa0WP"
      },
      "source": [
        "Create a model for the gill_collor data and make it a logistic regression. Fit the model on our training data and run it."
      ]
    },
    {
      "cell_type": "code",
      "metadata": {
        "colab": {
          "base_uri": "https://localhost:8080/"
        },
        "id": "aKf12M9dGc4x",
        "outputId": "7b15d93b-c16f-45ff-f4ba-6fe8d112fb72"
      },
      "source": [
        "#Create the variable g_model for the gill_color data and make it a logistic regression model\r\n",
        "g_model = LogisticRegression()\r\n",
        "#Fit the training data to the g_model\r\n",
        "g_model = g_model.fit(g_x_train, g_y_train)\r\n",
        "#Confirm that the model has run correctly\r\n",
        "g_model"
      ],
      "execution_count": null,
      "outputs": [
        {
          "output_type": "execute_result",
          "data": {
            "text/plain": [
              "LogisticRegression(C=1.0, class_weight=None, dual=False, fit_intercept=True,\n",
              "                   intercept_scaling=1, l1_ratio=None, max_iter=100,\n",
              "                   multi_class='auto', n_jobs=None, penalty='l2',\n",
              "                   random_state=None, solver='lbfgs', tol=0.0001, verbose=0,\n",
              "                   warm_start=False)"
            ]
          },
          "metadata": {
            "tags": []
          },
          "execution_count": 33
        }
      ]
    },
    {
      "cell_type": "markdown",
      "metadata": {
        "id": "HA03YT1Aa9Hg"
      },
      "source": [
        "Create a model for the spore print color data and make it a logistic regression. Fit the model on our training data and run it."
      ]
    },
    {
      "cell_type": "code",
      "metadata": {
        "colab": {
          "base_uri": "https://localhost:8080/"
        },
        "id": "uUrhSBHZvFpZ",
        "outputId": "d857286f-70da-4550-d75c-4dd4494cf557"
      },
      "source": [
        "#Create the variable s_model for the spore_print_color data and make it a logistic regression model\r\n",
        "s_model = LogisticRegression()\r\n",
        "#Fit the training data to the s_model\r\n",
        "s_model = s_model.fit(s_x_train, s_y_train)\r\n",
        "#Confirm that the model has run correctly\r\n",
        "s_model"
      ],
      "execution_count": 34,
      "outputs": [
        {
          "output_type": "execute_result",
          "data": {
            "text/plain": [
              "LogisticRegression(C=1.0, class_weight=None, dual=False, fit_intercept=True,\n",
              "                   intercept_scaling=1, l1_ratio=None, max_iter=100,\n",
              "                   multi_class='auto', n_jobs=None, penalty='l2',\n",
              "                   random_state=None, solver='lbfgs', tol=0.0001, verbose=0,\n",
              "                   warm_start=False)"
            ]
          },
          "metadata": {
            "tags": []
          },
          "execution_count": 34
        }
      ]
    },
    {
      "cell_type": "markdown",
      "metadata": {
        "id": "WKOTn2YFbMF_"
      },
      "source": [
        "View the accuracy of our training data and test data for our odor model.\r\n",
        "\r\n",
        "Our training data indicates that it can correctly tell what mushrooms are poisonous 98.6 % of the time. While our test data indicates that we are right 98.2% of the time.\r\n",
        "\r\n"
      ]
    },
    {
      "cell_type": "code",
      "metadata": {
        "colab": {
          "base_uri": "https://localhost:8080/"
        },
        "id": "ONaTXpBcvZVL",
        "outputId": "6ab663da-5487-4065-ef16-0222a779d93e"
      },
      "source": [
        "#check the accuracy of the o_model training set\r\n",
        "o_model.score(o_x_train, o_y_train)"
      ],
      "execution_count": 35,
      "outputs": [
        {
          "output_type": "execute_result",
          "data": {
            "text/plain": [
              "0.9862136878385032"
            ]
          },
          "metadata": {
            "tags": []
          },
          "execution_count": 35
        }
      ]
    },
    {
      "cell_type": "code",
      "metadata": {
        "colab": {
          "base_uri": "https://localhost:8080/"
        },
        "id": "vZhZ5S6EvaXJ",
        "outputId": "51e689cf-381b-4186-c934-c3311d649993"
      },
      "source": [
        "#check the accuracy of the o_model testing set\r\n",
        "o_model.score(o_x_test, o_y_test)"
      ],
      "execution_count": 36,
      "outputs": [
        {
          "output_type": "execute_result",
          "data": {
            "text/plain": [
              "0.982274741506647"
            ]
          },
          "metadata": {
            "tags": []
          },
          "execution_count": 36
        }
      ]
    },
    {
      "cell_type": "markdown",
      "metadata": {
        "id": "RiPYxKlicEu0"
      },
      "source": [
        "View the accuracy of our training data and test data for our gill_color_data model.\r\n",
        "\r\n",
        "Our training data indicates that it can correctly tell what mushrooms are poisonous 80 % of the time. While our test data indicates that we are also right 80% of the time."
      ]
    },
    {
      "cell_type": "code",
      "metadata": {
        "colab": {
          "base_uri": "https://localhost:8080/"
        },
        "id": "siniHBb6v3l0",
        "outputId": "d61ddf79-60b5-40fb-e9a4-463bad1b42dd"
      },
      "source": [
        "#check the accuracy of the g_model training set\r\n",
        "g_model.score(g_x_train, g_y_train)"
      ],
      "execution_count": 37,
      "outputs": [
        {
          "output_type": "execute_result",
          "data": {
            "text/plain": [
              "0.8055145248645987"
            ]
          },
          "metadata": {
            "tags": []
          },
          "execution_count": 37
        }
      ]
    },
    {
      "cell_type": "code",
      "metadata": {
        "colab": {
          "base_uri": "https://localhost:8080/"
        },
        "id": "_X5LvBrwv3l1",
        "outputId": "0cc8c31e-5ed5-4cdd-d4b8-cefc3b92bbaa"
      },
      "source": [
        "#check the accuracy of the g_model testing set\r\n",
        "g_model.score(g_x_test, g_y_test)"
      ],
      "execution_count": 38,
      "outputs": [
        {
          "output_type": "execute_result",
          "data": {
            "text/plain": [
              "0.8035450516986706"
            ]
          },
          "metadata": {
            "tags": []
          },
          "execution_count": 38
        }
      ]
    },
    {
      "cell_type": "markdown",
      "metadata": {
        "id": "_TIhavf-cU93"
      },
      "source": [
        "View the accuracy of our training data and test data for our spore_print_color model.\r\n",
        "\r\n",
        "Our training data indicates that it can correctly tell what mushrooms are poisonous 86.4% of the time. While our test data indicates that we are right 87.7% of the time."
      ]
    },
    {
      "cell_type": "code",
      "metadata": {
        "colab": {
          "base_uri": "https://localhost:8080/"
        },
        "id": "s3t1z2e5v3wM",
        "outputId": "2857bc55-a662-44dd-ff3d-f27c805ff7ef"
      },
      "source": [
        "#check the accuracy of the s_model training set\r\n",
        "s_model.score(s_x_train, s_y_train)"
      ],
      "execution_count": 39,
      "outputs": [
        {
          "output_type": "execute_result",
          "data": {
            "text/plain": [
              "0.8647628426062695"
            ]
          },
          "metadata": {
            "tags": []
          },
          "execution_count": 39
        }
      ]
    },
    {
      "cell_type": "code",
      "metadata": {
        "colab": {
          "base_uri": "https://localhost:8080/"
        },
        "id": "6-NsIA4Dv3wN",
        "outputId": "b266f5f2-cfb9-4592-a86b-d2666db072f8"
      },
      "source": [
        "#check the accuracy of the s_model testing set\r\n",
        "s_model.score(s_x_test, s_y_test)"
      ],
      "execution_count": 40,
      "outputs": [
        {
          "output_type": "execute_result",
          "data": {
            "text/plain": [
              "0.8778926637124569"
            ]
          },
          "metadata": {
            "tags": []
          },
          "execution_count": 40
        }
      ]
    },
    {
      "cell_type": "markdown",
      "metadata": {
        "id": "i-qwzqT5cw0s"
      },
      "source": [
        "In Conclusion: The smell of a mushroom seems to be the best performing indicator of if a mushroom is poisonous or not. This is followed by spore print color and then the gill color.\r\n",
        "\r\n",
        "If I was to recommend further analysis then I would run similar models for each of the columns of our original dataframe. Such models would help us isolate the highest performing data. We could then create a new and improved model with only the highest performing data. A dataset trained with that has a chance of yielding a higher accuracy."
      ]
    }
  ]
}